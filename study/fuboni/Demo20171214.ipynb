{
 "cells": [
  {
   "cell_type": "markdown",
   "metadata": {},
   "source": [
    "## 詞頻矩陣"
   ]
  },
  {
   "cell_type": "code",
   "execution_count": 9,
   "metadata": {
    "collapsed": true
   },
   "outputs": [],
   "source": [
    "import jieba\n",
    "jieba.load_userdict('userdict.txt')\n",
    "ary = ['富邦人壽首創保費1萬就能刷卡',\n",
    "       '富邦人壽不老勇士Go來盃3對3籃賽南北開打',\n",
    "       '富邦人壽不老勇士Go來盃開打']"
   ]
  },
  {
   "cell_type": "code",
   "execution_count": 10,
   "metadata": {
    "collapsed": false
   },
   "outputs": [],
   "source": [
    "corpus = []\n",
    "for title in ary:\n",
    "    corpus.append(' '.join(jieba.cut(title)))"
   ]
  },
  {
   "cell_type": "code",
   "execution_count": 11,
   "metadata": {
    "collapsed": false
   },
   "outputs": [],
   "source": [
    "from sklearn.feature_extraction.text import CountVectorizer\n",
    "vectorizer = CountVectorizer() \n",
    "\n",
    "X = vectorizer.fit_transform(corpus)"
   ]
  },
  {
   "cell_type": "code",
   "execution_count": 12,
   "metadata": {
    "collapsed": false
   },
   "outputs": [
    {
     "data": {
      "text/plain": [
       "(3, 11)"
      ]
     },
     "execution_count": 12,
     "metadata": {},
     "output_type": "execute_result"
    }
   ],
   "source": [
    "X.shape"
   ]
  },
  {
   "cell_type": "code",
   "execution_count": 13,
   "metadata": {
    "collapsed": false
   },
   "outputs": [
    {
     "data": {
      "text/plain": [
       "['go', '不老', '人壽', '保費', '刷卡', '勇士', '南北', '富邦', '籃賽', '開打', '首創']"
      ]
     },
     "execution_count": 13,
     "metadata": {},
     "output_type": "execute_result"
    }
   ],
   "source": [
    "vectorizer.get_feature_names()"
   ]
  },
  {
   "cell_type": "code",
   "execution_count": 14,
   "metadata": {
    "collapsed": false
   },
   "outputs": [
    {
     "data": {
      "text/plain": [
       "array([[0, 0, 1, 1, 1, 0, 0, 1, 0, 0, 1],\n",
       "       [1, 1, 1, 0, 0, 1, 1, 1, 1, 1, 0],\n",
       "       [1, 1, 1, 0, 0, 1, 0, 1, 0, 0, 0]], dtype=int64)"
      ]
     },
     "execution_count": 14,
     "metadata": {},
     "output_type": "execute_result"
    }
   ],
   "source": [
    "X.toarray()"
   ]
  },
  {
   "cell_type": "markdown",
   "metadata": {},
   "source": [
    "## 相似度計算"
   ]
  },
  {
   "cell_type": "code",
   "execution_count": 17,
   "metadata": {
    "collapsed": true
   },
   "outputs": [],
   "source": [
    "a = '柯P 大巨蛋 遠雄'\n",
    "b = '柯P 為了 大巨蛋 一案 找 遠雄 算帳'\n",
    "\n",
    "#   柯P 大巨蛋 遠雄 為了 一案 找 算帳\n",
    "# a  1    1    1    0    0   0   0\n",
    "# b  1    1    1    1    1   1   1"
   ]
  },
  {
   "cell_type": "code",
   "execution_count": 25,
   "metadata": {
    "collapsed": false
   },
   "outputs": [
    {
     "data": {
      "text/plain": [
       "2.0"
      ]
     },
     "execution_count": 25,
     "metadata": {},
     "output_type": "execute_result"
    }
   ],
   "source": [
    "import numpy as np\n",
    "na = np.array([1,1,1,0,0,0,0])\n",
    "nb = np.array([1,1,1,1,1,1,1])\n",
    "\n",
    "np.sqrt(sum((nb - na) ** 2))"
   ]
  },
  {
   "cell_type": "code",
   "execution_count": 27,
   "metadata": {
    "collapsed": false
   },
   "outputs": [
    {
     "data": {
      "text/plain": [
       "0.6546536707079772"
      ]
     },
     "execution_count": 27,
     "metadata": {},
     "output_type": "execute_result"
    }
   ],
   "source": [
    "sum(na * nb) / (np.sqrt(sum(na ** 2)) * np.sqrt(sum(nb ** 2)) )"
   ]
  },
  {
   "cell_type": "code",
   "execution_count": 23,
   "metadata": {
    "collapsed": true
   },
   "outputs": [],
   "source": [
    "a = '柯P 大巨蛋 遠雄'\n",
    "b = '柯P 為了 大巨蛋 一案 找 遠雄 算帳 因為 遠雄 在 這案 中 出爾反爾'\n",
    "\n",
    "#   柯P 大巨蛋 遠雄 為了 一案 找 算帳 因為 在 這案 中 出爾反爾\n",
    "# a  1    1    1    0    0   0   0  0   0   0   0    0\n",
    "# b  1    1    2    1    1   1   1  1   1   1   1    1"
   ]
  },
  {
   "cell_type": "code",
   "execution_count": 28,
   "metadata": {
    "collapsed": false
   },
   "outputs": [
    {
     "data": {
      "text/plain": [
       "3.3166247903553998"
      ]
     },
     "execution_count": 28,
     "metadata": {},
     "output_type": "execute_result"
    }
   ],
   "source": [
    "import numpy as np\n",
    "na = np.array([1,1,1,0,0,0,0,0,0,0,0,0,0])\n",
    "nb = np.array([1,1,2,1,1,1,1,1,1,1,1,1,1])\n",
    "\n",
    "np.sqrt(sum((nb - na) ** 2))"
   ]
  },
  {
   "cell_type": "code",
   "execution_count": 29,
   "metadata": {
    "collapsed": false
   },
   "outputs": [
    {
     "data": {
      "text/plain": [
       "0.57735026918962584"
      ]
     },
     "execution_count": 29,
     "metadata": {},
     "output_type": "execute_result"
    }
   ],
   "source": [
    "sum(na * nb) / (np.sqrt(sum(na ** 2)) * np.sqrt(sum(nb ** 2)) )"
   ]
  },
  {
   "cell_type": "code",
   "execution_count": 31,
   "metadata": {
    "collapsed": false
   },
   "outputs": [
    {
     "data": {
      "text/plain": [
       "array([[0, 0, 1, 1, 1, 0, 0, 1, 0, 0, 1],\n",
       "       [1, 1, 1, 0, 0, 1, 1, 1, 1, 1, 0],\n",
       "       [1, 1, 1, 0, 0, 1, 0, 1, 0, 0, 0]], dtype=int64)"
      ]
     },
     "execution_count": 31,
     "metadata": {},
     "output_type": "execute_result"
    }
   ],
   "source": [
    "import jieba\n",
    "jieba.load_userdict('userdict.txt')\n",
    "ary = ['富邦人壽首創保費1萬就能刷卡',\n",
    "       '富邦人壽不老勇士Go來盃3對3籃賽南北開打',\n",
    "       '富邦人壽不老勇士Go來盃開打']\n",
    "corpus = []\n",
    "for title in ary:\n",
    "    corpus.append(' '.join(jieba.cut(title)))\n",
    "from sklearn.feature_extraction.text import CountVectorizer\n",
    "vectorizer = CountVectorizer() \n",
    "\n",
    "X = vectorizer.fit_transform(corpus)\n",
    "X.toarray()"
   ]
  },
  {
   "cell_type": "code",
   "execution_count": 32,
   "metadata": {
    "collapsed": false
   },
   "outputs": [
    {
     "data": {
      "text/plain": [
       "array([[ 1.        ,  0.31622777,  0.4       ],\n",
       "       [ 0.31622777,  1.        ,  0.79056942],\n",
       "       [ 0.4       ,  0.79056942,  1.        ]])"
      ]
     },
     "execution_count": 32,
     "metadata": {},
     "output_type": "execute_result"
    }
   ],
   "source": [
    "from sklearn.metrics.pairwise import cosine_similarity\n",
    "cosine_similarity(X)"
   ]
  },
  {
   "cell_type": "code",
   "execution_count": 33,
   "metadata": {
    "collapsed": false
   },
   "outputs": [
    {
     "data": {
      "text/plain": [
       "array([[ 0.        ,  0.68377223,  0.6       ],\n",
       "       [ 0.68377223,  0.        ,  0.20943058],\n",
       "       [ 0.6       ,  0.20943058,  0.        ]])"
      ]
     },
     "execution_count": 33,
     "metadata": {},
     "output_type": "execute_result"
    }
   ],
   "source": [
    "from sklearn.metrics.pairwise import cosine_distances\n",
    "cosine_distances(X)"
   ]
  },
  {
   "cell_type": "markdown",
   "metadata": {},
   "source": [
    "## 新聞推薦引擎"
   ]
  },
  {
   "cell_type": "code",
   "execution_count": 45,
   "metadata": {
    "collapsed": false
   },
   "outputs": [
    {
     "name": "stdout",
     "output_type": "stream",
     "text": [
      "1\n",
      "2\n",
      "3\n",
      "4\n",
      "5\n",
      "6\n",
      "7\n",
      "8\n",
      "9\n",
      "10\n",
      "11\n",
      "12\n",
      "13\n",
      "14\n",
      "15\n",
      "16\n",
      "17\n",
      "18\n",
      "19\n",
      "20\n",
      "21\n",
      "22\n",
      "23\n",
      "24\n",
      "25\n",
      "26\n",
      "27\n",
      "28\n",
      "29\n"
     ]
    }
   ],
   "source": [
    "import requests\n",
    "from bs4 import BeautifulSoup\n",
    "news_ary = []\n",
    "for page in range(1,30):\n",
    "    res = requests.get('https://tw.appledaily.com/new/realtime/{}'.format(page))\n",
    "    soup = BeautifulSoup(res.text, 'html.parser')\n",
    "    for rec in soup.select('.rtddt a'):\n",
    "        dic = {}\n",
    "        dic['link'] = rec['href']\n",
    "        res2 = requests.get(dic['link'])\n",
    "        soup2 = BeautifulSoup(res2.text, 'html.parser')\n",
    "        dic['category'] = soup2.select('.current')[2].text\n",
    "        dic['title']    = soup2.select_one('h1').text\n",
    "        dic['content']  = soup2.select_one('.ndArticle_margin p').text\n",
    "        news_ary.append(dic)\n",
    "    print(page)"
   ]
  },
  {
   "cell_type": "code",
   "execution_count": 46,
   "metadata": {
    "collapsed": true
   },
   "outputs": [],
   "source": [
    "import pandas\n",
    "newsdf = pandas.DataFrame(news_ary)\n",
    "newsdf.to_excel('appledaily20171214.xlsx')"
   ]
  },
  {
   "cell_type": "code",
   "execution_count": 48,
   "metadata": {
    "collapsed": false
   },
   "outputs": [],
   "source": [
    "import pandas\n",
    "newsdf = pandas.read_excel('data/appledaily20171214.xlsx')"
   ]
  },
  {
   "cell_type": "code",
   "execution_count": 49,
   "metadata": {
    "collapsed": false
   },
   "outputs": [
    {
     "data": {
      "text/html": [
       "<div>\n",
       "<table border=\"1\" class=\"dataframe\">\n",
       "  <thead>\n",
       "    <tr style=\"text-align: right;\">\n",
       "      <th></th>\n",
       "      <th>category</th>\n",
       "      <th>content</th>\n",
       "      <th>link</th>\n",
       "      <th>title</th>\n",
       "    </tr>\n",
       "  </thead>\n",
       "  <tbody>\n",
       "    <tr>\n",
       "      <th>0</th>\n",
       "      <td>政治</td>\n",
       "      <td>新增：立委說法民進黨立法院黨團預計在明天的院會中，讓改制農田水利會的《農田水利會組織通則》修...</td>\n",
       "      <td>https://tw.news.appledaily.com/politics/realti...</td>\n",
       "      <td>【更新】水利會改官派明闖關　綠委24小時前顧議場大門防藍突襲</td>\n",
       "    </tr>\n",
       "    <tr>\n",
       "      <th>1</th>\n",
       "      <td>論壇</td>\n",
       "      <td>邱俊棠／台中市民、見習醫師；曾任台灣醫學生聯合會對外副會長對於公民參與公眾事務而能得到單位首...</td>\n",
       "      <td>https://tw.news.appledaily.com/forum/realtime/...</td>\n",
       "      <td>請中市府為所當為 加速中火燃煤限制</td>\n",
       "    </tr>\n",
       "    <tr>\n",
       "      <th>2</th>\n",
       "      <td>社會</td>\n",
       "      <td>被控來台涉發展情報組織的中國學生周泓旭，因接觸我方外交部官員而露餡落網，今年9月被台北地院一...</td>\n",
       "      <td>https://tw.news.appledaily.com/local/realtime/...</td>\n",
       "      <td>陸生共諜嗆台司法　「不敢公開審理我」</td>\n",
       "    </tr>\n",
       "    <tr>\n",
       "      <th>3</th>\n",
       "      <td>生活</td>\n",
       "      <td>【廣編特輯】 對於全能神教會在中國所遭受的迫害與在韓國、香港及臺灣所面對的反面宣傳，非政府組...</td>\n",
       "      <td>https://tw.news.appledaily.com/life/realtime/2...</td>\n",
       "      <td>【特企】NGO聯名譴責中共迫害宗教信仰</td>\n",
       "    </tr>\n",
       "    <tr>\n",
       "      <th>4</th>\n",
       "      <td>生活</td>\n",
       "      <td>立法院交通委員會今審查《道路交通管理處罰條例》，通過營業大客車駕駛人行駛一般道路未繫安全帶，...</td>\n",
       "      <td>https://tw.news.appledaily.com/life/realtime/2...</td>\n",
       "      <td>乘客搭大客車不配合繫安全帶　立院初審通過可罰6千元</td>\n",
       "    </tr>\n",
       "  </tbody>\n",
       "</table>\n",
       "</div>"
      ],
      "text/plain": [
       "  category                                            content  \\\n",
       "0       政治  新增：立委說法民進黨立法院黨團預計在明天的院會中，讓改制農田水利會的《農田水利會組織通則》修...   \n",
       "1       論壇  邱俊棠／台中市民、見習醫師；曾任台灣醫學生聯合會對外副會長對於公民參與公眾事務而能得到單位首...   \n",
       "2       社會  被控來台涉發展情報組織的中國學生周泓旭，因接觸我方外交部官員而露餡落網，今年9月被台北地院一...   \n",
       "3       生活  【廣編特輯】 對於全能神教會在中國所遭受的迫害與在韓國、香港及臺灣所面對的反面宣傳，非政府組...   \n",
       "4       生活  立法院交通委員會今審查《道路交通管理處罰條例》，通過營業大客車駕駛人行駛一般道路未繫安全帶，...   \n",
       "\n",
       "                                                link  \\\n",
       "0  https://tw.news.appledaily.com/politics/realti...   \n",
       "1  https://tw.news.appledaily.com/forum/realtime/...   \n",
       "2  https://tw.news.appledaily.com/local/realtime/...   \n",
       "3  https://tw.news.appledaily.com/life/realtime/2...   \n",
       "4  https://tw.news.appledaily.com/life/realtime/2...   \n",
       "\n",
       "                            title  \n",
       "0  【更新】水利會改官派明闖關　綠委24小時前顧議場大門防藍突襲  \n",
       "1               請中市府為所當為 加速中火燃煤限制  \n",
       "2              陸生共諜嗆台司法　「不敢公開審理我」  \n",
       "3             【特企】NGO聯名譴責中共迫害宗教信仰  \n",
       "4       乘客搭大客車不配合繫安全帶　立院初審通過可罰6千元  "
      ]
     },
     "execution_count": 49,
     "metadata": {},
     "output_type": "execute_result"
    }
   ],
   "source": [
    "newsdf.head()"
   ]
  },
  {
   "cell_type": "code",
   "execution_count": 52,
   "metadata": {
    "collapsed": false
   },
   "outputs": [],
   "source": [
    "corpus = []\n",
    "titles = []\n",
    "for news in newsdf.iterrows():\n",
    "    corpus.append(' '.join(jieba.cut(news[1]['content'])))\n",
    "    titles.append(news[1]['title'])"
   ]
  },
  {
   "cell_type": "code",
   "execution_count": 56,
   "metadata": {
    "collapsed": false
   },
   "outputs": [
    {
     "data": {
      "text/plain": [
       "<899x38624 sparse matrix of type '<class 'numpy.int64'>'\n",
       "\twith 128131 stored elements in Compressed Sparse Row format>"
      ]
     },
     "execution_count": 56,
     "metadata": {},
     "output_type": "execute_result"
    }
   ],
   "source": [
    "from sklearn.feature_extraction.text import CountVectorizer\n",
    "vectorizer = CountVectorizer()\n",
    "X = vectorizer.fit_transform(corpus)\n",
    "X"
   ]
  },
  {
   "cell_type": "code",
   "execution_count": 67,
   "metadata": {
    "collapsed": false
   },
   "outputs": [
    {
     "data": {
      "text/plain": [
       "(899, 899)"
      ]
     },
     "execution_count": 67,
     "metadata": {},
     "output_type": "execute_result"
    }
   ],
   "source": [
    "from sklearn.metrics.pairwise import cosine_similarity\n",
    "cs = cosine_similarity(X)\n",
    "cs.shape"
   ]
  },
  {
   "cell_type": "code",
   "execution_count": 65,
   "metadata": {
    "collapsed": false
   },
   "outputs": [
    {
     "data": {
      "text/plain": [
       "array([1, 2, 4, 5, 6, 7, 8, 9])"
      ]
     },
     "execution_count": 65,
     "metadata": {},
     "output_type": "execute_result"
    }
   ],
   "source": [
    "na = np.array([1,9,2,6,8,4,5,7])\n",
    "na.sort()\n",
    "na"
   ]
  },
  {
   "cell_type": "code",
   "execution_count": 66,
   "metadata": {
    "collapsed": false
   },
   "outputs": [
    {
     "data": {
      "text/plain": [
       "array([0, 2, 5, 6, 3, 7, 4, 1], dtype=int64)"
      ]
     },
     "execution_count": 66,
     "metadata": {},
     "output_type": "execute_result"
    }
   ],
   "source": [
    "na = np.array([1,9,2,6,8,4,5,7])\n",
    "na.argsort()"
   ]
  },
  {
   "cell_type": "code",
   "execution_count": 72,
   "metadata": {
    "collapsed": false
   },
   "outputs": [
    {
     "name": "stdout",
     "output_type": "stream",
     "text": [
      "【更新】水利會改官派明闖關　綠委24小時前顧議場大門防藍突襲 1.0\n",
      "反對水利會改制　吳敦義下令：藍委做好夜宿立院抗爭準備 0.367845249572\n",
      "農田水利會改公務機關　蔡英文：這不是綁樁 0.327587152559\n"
     ]
    }
   ],
   "source": [
    "rank = cs[0].argsort()[::-1]\n",
    "for rec in rank[0:10]:\n",
    "    if cs[0][rec] > 0.3:\n",
    "        print(titles[rec], cs[0][rec])"
   ]
  },
  {
   "cell_type": "code",
   "execution_count": 73,
   "metadata": {
    "collapsed": true
   },
   "outputs": [],
   "source": [
    "def getSimiliarArticle(pos):\n",
    "    rank = cs[pos].argsort()[::-1]\n",
    "    for rec in rank[0:10]:\n",
    "        similiarities = cs[pos][rec]\n",
    "        if similiarities > 0.3:\n",
    "            print(titles[rec], similiarities)"
   ]
  },
  {
   "cell_type": "code",
   "execution_count": 79,
   "metadata": {
    "collapsed": false
   },
   "outputs": [
    {
     "name": "stdout",
     "output_type": "stream",
     "text": [
      "喬妹升格宋太太首上工　現身中國見習近平 1.0\n",
      "素顏依舊完美　喬妹升格人妻赴中開工 0.31870904608\n"
     ]
    }
   ],
   "source": [
    "getSimiliarArticle(6)"
   ]
  },
  {
   "cell_type": "markdown",
   "metadata": {},
   "source": [
    "## 同義詞"
   ]
  },
  {
   "cell_type": "code",
   "execution_count": 16,
   "metadata": {
    "collapsed": false
   },
   "outputs": [
    {
     "data": {
      "text/plain": [
       "'柯文哲 為 了 大巨蛋 一案 找遠 雄算帳'"
      ]
     },
     "execution_count": 16,
     "metadata": {},
     "output_type": "execute_result"
    }
   ],
   "source": [
    "synonym_dic = {\n",
    "    '柯P': '柯文哲'\n",
    "}\n",
    "s = '柯P為了大巨蛋一案找遠雄算帳'\n",
    "' '.join([synonym_dic.get(ele, ele) for ele in jieba.cut(s)])\n"
   ]
  },
  {
   "cell_type": "markdown",
   "metadata": {},
   "source": [
    "## 保險常見問題集"
   ]
  },
  {
   "cell_type": "code",
   "execution_count": 81,
   "metadata": {
    "collapsed": false
   },
   "outputs": [],
   "source": [
    "import requests\n",
    "from bs4 import BeautifulSoup\n",
    "res = requests.get('https://my83.com.tw/knowledge/client')\n",
    "soup = BeautifulSoup(res.text, 'html.parser')"
   ]
  },
  {
   "cell_type": "code",
   "execution_count": 91,
   "metadata": {
    "collapsed": false
   },
   "outputs": [],
   "source": [
    "qalist =  soup.select('.accordionList')\n",
    "questions = [qa.select('dt')[0].text for qa in qalist]\n",
    "answers   = [qa.select('dd')[0].text for qa in qalist]\n",
    "qa_ary = []\n",
    "for q, a in zip(questions, answers):\n",
    "    dic = {}\n",
    "    dic['question'] = q\n",
    "    dic['answer']   = a\n",
    "    qa_ary.append(dic)"
   ]
  },
  {
   "cell_type": "code",
   "execution_count": 93,
   "metadata": {
    "collapsed": false
   },
   "outputs": [],
   "source": [
    "import pandas\n",
    "df = pandas.DataFrame(qa_ary)\n",
    "df.to_excel('my83qa.xlsx')"
   ]
  },
  {
   "cell_type": "code",
   "execution_count": 95,
   "metadata": {
    "collapsed": true
   },
   "outputs": [],
   "source": [
    "import pandas\n",
    "issuarance = pandas.read_excel('my83qa.xlsx')"
   ]
  },
  {
   "cell_type": "markdown",
   "metadata": {},
   "source": [
    "## 自動問答"
   ]
  },
  {
   "cell_type": "code",
   "execution_count": 124,
   "metadata": {
    "collapsed": true
   },
   "outputs": [],
   "source": [
    "q = '殘廢險的功用?'\n",
    "q_seg = ' '.join(jieba.cut(q))"
   ]
  },
  {
   "cell_type": "code",
   "execution_count": 125,
   "metadata": {
    "collapsed": false
   },
   "outputs": [],
   "source": [
    "corpus    = [q_seg]\n",
    "questions = [q]\n",
    "answers   = ['NONE']\n",
    "for qa in issuarance.iterrows():\n",
    "    corpus.append(' '.join(jieba.cut(qa[1]['question'])))\n",
    "    questions.append(qa[1]['question'])\n",
    "    answers.append(  qa[1]['answer'])"
   ]
  },
  {
   "cell_type": "code",
   "execution_count": 126,
   "metadata": {
    "collapsed": false
   },
   "outputs": [
    {
     "data": {
      "text/plain": [
       "<16x65 sparse matrix of type '<class 'numpy.int64'>'\n",
       "\twith 82 stored elements in Compressed Sparse Row format>"
      ]
     },
     "execution_count": 126,
     "metadata": {},
     "output_type": "execute_result"
    }
   ],
   "source": [
    "from sklearn.feature_extraction.text import CountVectorizer\n",
    "vectorizer = CountVectorizer()\n",
    "X = vectorizer.fit_transform(corpus)\n",
    "X"
   ]
  },
  {
   "cell_type": "code",
   "execution_count": 127,
   "metadata": {
    "collapsed": false
   },
   "outputs": [],
   "source": [
    "from sklearn.metrics.pairwise import cosine_similarity\n",
    "cs = cosine_similarity(X)"
   ]
  },
  {
   "cell_type": "code",
   "execution_count": 128,
   "metadata": {
    "collapsed": false
   },
   "outputs": [
    {
     "data": {
      "text/plain": [
       "{'answer': '殘廢險能提供完整的殘廢保障，不像意外險只能理賠因意外所造成的殘廢，殘廢險能保障疾病及意外所造成的傷害，並且能避免保險公司對於殘廢原因的認定爭議。事實上，統計有6成的殘廢主因是疾病而非意外。',\n",
       " 'question': 'Q：殘廢險的主要功用是什麼？',\n",
       " 'similarity': 0.70710678118654746}"
      ]
     },
     "execution_count": 128,
     "metadata": {},
     "output_type": "execute_result"
    }
   ],
   "source": [
    "rank = cs[0].argsort()[::-1]\n",
    "qa_dic = {}\n",
    "qa_dic['question'] = questions[rank[1]]\n",
    "qa_dic['answer']   = answers[rank[1]]\n",
    "qa_dic['similarity']   = cs[0][rank[1]]\n",
    "qa_dic"
   ]
  },
  {
   "cell_type": "code",
   "execution_count": 131,
   "metadata": {
    "collapsed": true
   },
   "outputs": [],
   "source": [
    "def getSimiliarAnswer(q):\n",
    "    q_seg = ' '.join(jieba.cut(q))\n",
    "    corpus    = [q_seg]\n",
    "    questions = [q]\n",
    "    answers   = ['NONE']\n",
    "    for qa in issuarance.iterrows():\n",
    "        corpus.append(' '.join(jieba.cut(qa[1]['question'])))\n",
    "        questions.append(qa[1]['question'])\n",
    "        answers.append(  qa[1]['answer'])\n",
    "    vectorizer = CountVectorizer()\n",
    "    X = vectorizer.fit_transform(corpus)\n",
    "    cs = cosine_similarity(X)\n",
    "    rank = cs[0].argsort()[::-1]\n",
    "    qa_dic = {}\n",
    "    qa_dic['question'] = questions[rank[1]]\n",
    "    qa_dic['answer']   = answers[rank[1]]\n",
    "    qa_dic['similarity']   = cs[0][rank[1]]\n",
    "    if qa_dic['similarity'] >= 0.7:\n",
    "        return qa_dic\n",
    "    else:\n",
    "        qa_dic['answer'] = '你的問題現在對我而言有點複雜, 我還要持續學習, 等我以後變聰明以後再回答你'\n",
    "        return qa_dic"
   ]
  },
  {
   "cell_type": "code",
   "execution_count": 137,
   "metadata": {
    "collapsed": false
   },
   "outputs": [
    {
     "data": {
      "text/plain": [
       "{'answer': '你的問題現在對我而言有點複雜, 我還要持續學習, 等我以後變聰明以後再回答你',\n",
       " 'question': 'Q：只要需要長期看護，長期看護險就可以理賠？',\n",
       " 'similarity': 0.0}"
      ]
     },
     "execution_count": 137,
     "metadata": {},
     "output_type": "execute_result"
    }
   ],
   "source": [
    "getSimiliarAnswer('我好帥')"
   ]
  },
  {
   "cell_type": "markdown",
   "metadata": {},
   "source": [
    "## 語音機器人回答"
   ]
  },
  {
   "cell_type": "code",
   "execution_count": 138,
   "metadata": {
    "collapsed": true
   },
   "outputs": [],
   "source": [
    "import speech_recognition\n",
    "\n",
    "def listenToMe():\n",
    "    r = speech_recognition.Recognizer()\n",
    "\n",
    "    with speech_recognition.Microphone() as source:\n",
    "        r.adjust_for_ambient_noise(source)\n",
    "        audio = r.listen(source)\n",
    "    return r.recognize_google(audio, language='zh-TW')"
   ]
  },
  {
   "cell_type": "code",
   "execution_count": 139,
   "metadata": {
    "collapsed": true
   },
   "outputs": [],
   "source": [
    "from gtts import gTTS\n",
    "from pygame import mixer\n",
    "mixer.init()\n",
    "\n",
    "import tempfile\n",
    "def speak(sentence):\n",
    "    with tempfile.NamedTemporaryFile(delete=True) as fp:\n",
    "        tts = gTTS(text=sentence, lang='zh')\n",
    "        tts.save(\"{}.mp3\".format(fp.name))\n",
    "        mixer.music.load('{}.mp3'.format(fp.name))\n",
    "        mixer.music.play()"
   ]
  },
  {
   "cell_type": "code",
   "execution_count": 141,
   "metadata": {
    "collapsed": true
   },
   "outputs": [],
   "source": [
    "speak(getSimiliarAnswer(listenToMe())['answer'])"
   ]
  },
  {
   "cell_type": "markdown",
   "metadata": {},
   "source": [
    "## 抓取富邦網路e方便"
   ]
  },
  {
   "cell_type": "code",
   "execution_count": 169,
   "metadata": {
    "collapsed": false
   },
   "outputs": [],
   "source": [
    "html_sample = '''\n",
    "<select id=\"Qtype\" name=\"Qtype\">\n",
    "                    <option value=\"-10\">不分類</option>\n",
    "                            <option value=\"06\">熱門問題</option>\n",
    "                            <option value=\"01\">保費相關</option>\n",
    "                            <option value=\"02\">保單變更</option>\n",
    "                            <option value=\"03\">保單借款/還款</option>\n",
    "                            <option value=\"04\">理賠</option>\n",
    "                            <option value=\"07\">生存金/滿期金/紅利</option>\n",
    "                            <option value=\"08\">網路會員相關</option>\n",
    "                            <option value=\"09\">旅平險</option>\n",
    "                            <option value=\"10\">電子通知/保單</option>\n",
    "                            <option value=\"05\">其他</option>\n",
    "                </select>\n",
    "'''\n",
    "soup = BeautifulSoup(html_sample, 'lxml')\n",
    "type_dic = {}\n",
    "for ele in soup.select('option'):\n",
    "    type_dic[ele['value']] = ele.text"
   ]
  },
  {
   "cell_type": "code",
   "execution_count": 171,
   "metadata": {
    "collapsed": false
   },
   "outputs": [],
   "source": [
    "type_dic\n",
    "del type_dic['-10']"
   ]
  },
  {
   "cell_type": "code",
   "execution_count": 172,
   "metadata": {
    "collapsed": false
   },
   "outputs": [
    {
     "data": {
      "text/plain": [
       "{'01': '保費相關',\n",
       " '02': '保單變更',\n",
       " '03': '保單借款/還款',\n",
       " '04': '理賠',\n",
       " '05': '其他',\n",
       " '06': '熱門問題',\n",
       " '07': '生存金/滿期金/紅利',\n",
       " '08': '網路會員相關',\n",
       " '09': '旅平險',\n",
       " '10': '電子通知/保單'}"
      ]
     },
     "execution_count": 172,
     "metadata": {},
     "output_type": "execute_result"
    }
   ],
   "source": [
    "type_dic"
   ]
  },
  {
   "cell_type": "code",
   "execution_count": 162,
   "metadata": {
    "collapsed": false
   },
   "outputs": [],
   "source": [
    "def getQA(url):\n",
    "    qa_dic = {}\n",
    "    res = requests.get(url)\n",
    "    soup = BeautifulSoup(res.text, 'html.parser')\n",
    "    question = soup.select_one('title').text\n",
    "    answer   = ' '.join([' '.join(p.text.split()) for p in soup.select('h2')])\n",
    "    qa_dic['question'] = question\n",
    "    qa_dic['answer']   = answer\n",
    "    qa_dic['link']     = url\n",
    "    return qa_dic"
   ]
  },
  {
   "cell_type": "code",
   "execution_count": 183,
   "metadata": {
    "collapsed": false
   },
   "outputs": [],
   "source": [
    "import requests\n",
    "from bs4 import BeautifulSoup\n",
    "import time\n",
    "payload = {\n",
    "#'Qtype':'-10',\n",
    "'allQuery':'N',\n",
    "'toPage':'1',\n",
    "'Count_per_Page':'300'    \n",
    "}\n",
    "qa_ary = []\n",
    "for qtype in type_dic:\n",
    "    payload['Qtype'] = qtype\n",
    "    res = requests.post('https://me.fubonlife.com.tw/C03002000000_FAQ.choice.view', data = payload)\n",
    "    soup = BeautifulSoup(res.text, 'lxml')\n",
    "    domain = 'https://me.fubonlife.com.tw'\n",
    "    \n",
    "    for rec in soup.select('#formqa a'):\n",
    "        if 'FlowID=' in rec['href']:\n",
    "            qadic = getQA(domain + rec['href'])\n",
    "            qadic['type'] = type_dic.get(qtype)\n",
    "            qa_ary.append(qadic)\n",
    "            #time.sleep(1)"
   ]
  },
  {
   "cell_type": "code",
   "execution_count": 185,
   "metadata": {
    "collapsed": false
   },
   "outputs": [],
   "source": [
    "import pandas\n",
    "qa_df = pandas.DataFrame(qa_ary)\n",
    "#qa_df\n",
    "qa_df = qa_df[['type','question', 'answer', 'link']]\n",
    "qa_df.to_excel('fuboneqa.xlsx')"
   ]
  },
  {
   "cell_type": "markdown",
   "metadata": {},
   "source": [
    "## 根據相似度讓電腦自動回答問題"
   ]
  },
  {
   "cell_type": "markdown",
   "metadata": {},
   "source": [
    "### 讀取知識庫"
   ]
  },
  {
   "cell_type": "code",
   "execution_count": 187,
   "metadata": {
    "collapsed": false
   },
   "outputs": [],
   "source": [
    "import pandas\n",
    "qa_df = pandas.read_excel('fuboneqa.xlsx')"
   ]
  },
  {
   "cell_type": "markdown",
   "metadata": {},
   "source": [
    "### 使用者問題"
   ]
  },
  {
   "cell_type": "code",
   "execution_count": 195,
   "metadata": {
    "collapsed": true
   },
   "outputs": [],
   "source": [
    "q = '醫生說我有牙周病的問題，請問是否可以理賠?'\n",
    "q_seg = ' '.join(jieba.cut(q))"
   ]
  },
  {
   "cell_type": "markdown",
   "metadata": {},
   "source": [
    "### 文章斷詞"
   ]
  },
  {
   "cell_type": "code",
   "execution_count": 196,
   "metadata": {
    "collapsed": false
   },
   "outputs": [],
   "source": [
    "\n",
    "corpus    = [q_seg]\n",
    "answers   = ['NONE']\n",
    "questions = [q]\n",
    "for rec in qa_df.iterrows():\n",
    "    corpus.append(' '.join(jieba.cut(rec[1]['question'])))\n",
    "    questions.append(rec[1]['question'])\n",
    "    answers.append(  rec[1]['answer']  )"
   ]
  },
  {
   "cell_type": "markdown",
   "metadata": {},
   "source": [
    "### 建立詞頻矩陣"
   ]
  },
  {
   "cell_type": "code",
   "execution_count": 197,
   "metadata": {
    "collapsed": false
   },
   "outputs": [
    {
     "data": {
      "text/plain": [
       "<210x670 sparse matrix of type '<class 'numpy.int64'>'\n",
       "\twith 2292 stored elements in Compressed Sparse Row format>"
      ]
     },
     "execution_count": 197,
     "metadata": {},
     "output_type": "execute_result"
    }
   ],
   "source": [
    "from sklearn.feature_extraction.text import CountVectorizer\n",
    "vectorizer = CountVectorizer()\n",
    "X = vectorizer.fit_transform(corpus)\n",
    "X"
   ]
  },
  {
   "cell_type": "markdown",
   "metadata": {},
   "source": [
    "### 計算相似度"
   ]
  },
  {
   "cell_type": "code",
   "execution_count": 199,
   "metadata": {
    "collapsed": true
   },
   "outputs": [],
   "source": [
    "from sklearn.metrics.pairwise import cosine_similarity\n",
    "cs = cosine_similarity(X)"
   ]
  },
  {
   "cell_type": "markdown",
   "metadata": {},
   "source": [
    "### 得到回傳答案"
   ]
  },
  {
   "cell_type": "code",
   "execution_count": 200,
   "metadata": {
    "collapsed": false
   },
   "outputs": [
    {
     "data": {
      "text/plain": [
       "{'answer': '由於此類案件常涉及是否為牙齒治療手術及是否為除外責任問題，故提醒您所附的文件多留意以下幾點： 一、診斷證明書建議載明「國際疾病傷害及死因分類標準」編號(ICD code)。 二、診斷證明書建議載明手術名稱內容為何？ 三、建議檢附該次事故就診之完整病歷及X光片。 四、牙齒疾病之診斷工具為X光片，可檢附上述報告內容供理賠審核參考。 五、檢附詳細之醫療費用明細及收據(正本)。',\n",
       " 'question': 'Fubon - 我要問-(Q)請問牙周病治療是否可以申請理賠？ (205)',\n",
       " 'similarity': 0.50395263067896956}"
      ]
     },
     "execution_count": 200,
     "metadata": {},
     "output_type": "execute_result"
    }
   ],
   "source": [
    "rank = cs[0].argsort()[::-1]\n",
    "qa_dic = {}\n",
    "qa_dic['question'] = questions[rank[1]]\n",
    "qa_dic['answer']   = answers[rank[1]]\n",
    "qa_dic['similarity']   = cs[0][rank[1]]\n",
    "qa_dic"
   ]
  },
  {
   "cell_type": "code",
   "execution_count": 202,
   "metadata": {
    "collapsed": true
   },
   "outputs": [],
   "source": [
    "def getSimiliarAnswer(knowledge,q, similarity):\n",
    "    q_seg = ' '.join(jieba.cut(q))\n",
    "    corpus    = [q_seg]\n",
    "    questions = [q]\n",
    "    answers   = ['NONE']\n",
    "    for qa in knowledge.iterrows():\n",
    "        corpus.append(' '.join(jieba.cut(qa[1]['question'])))\n",
    "        questions.append(qa[1]['question'])\n",
    "        answers.append(  qa[1]['answer'])\n",
    "    vectorizer = CountVectorizer()\n",
    "    X = vectorizer.fit_transform(corpus)\n",
    "    cs = cosine_similarity(X)\n",
    "    rank = cs[0].argsort()[::-1]\n",
    "    qa_dic = {}\n",
    "    qa_dic['question'] = questions[rank[1]]\n",
    "    qa_dic['answer']   = answers[rank[1]]\n",
    "    qa_dic['similarity']   = cs[0][rank[1]]\n",
    "    if qa_dic['similarity'] >= similarity:\n",
    "        return qa_dic\n",
    "    else:\n",
    "        qa_dic['answer'] = '你的問題現在對我而言有點複雜, 我還要持續學習, 等我以後變聰明以後再回答你'\n",
    "        return qa_dic"
   ]
  },
  {
   "cell_type": "code",
   "execution_count": 204,
   "metadata": {
    "collapsed": false
   },
   "outputs": [
    {
     "data": {
      "text/plain": [
       "{'answer': '由於此類案件常涉及是否為牙齒治療手術及是否為除外責任問題，故提醒您所附的文件多留意以下幾點： 一、診斷證明書建議載明「國際疾病傷害及死因分類標準」編號(ICD code)。 二、診斷證明書建議載明手術名稱內容為何？ 三、建議檢附該次事故就診之完整病歷及X光片。 四、牙齒疾病之診斷工具為X光片，可檢附上述報告內容供理賠審核參考。 五、檢附詳細之醫療費用明細及收據(正本)。',\n",
       " 'question': 'Fubon - 我要問-(Q)請問牙周病治療是否可以申請理賠？ (205)',\n",
       " 'similarity': 0.50395263067896956}"
      ]
     },
     "execution_count": 204,
     "metadata": {},
     "output_type": "execute_result"
    }
   ],
   "source": [
    "getSimiliarAnswer(qa_df, '醫生說我有牙周病的問題，請問是否可以理賠?', 0.5)"
   ]
  },
  {
   "cell_type": "code",
   "execution_count": 209,
   "metadata": {
    "collapsed": false
   },
   "outputs": [],
   "source": [
    "speak(getSimiliarAnswer(qa_df,listenToMe(), 0.5)['answer'])"
   ]
  },
  {
   "cell_type": "markdown",
   "metadata": {},
   "source": [
    "## 新聞分群"
   ]
  },
  {
   "cell_type": "code",
   "execution_count": 213,
   "metadata": {
    "collapsed": false
   },
   "outputs": [],
   "source": [
    "import requests\n",
    "res = requests.get('https://raw.githubusercontent.com/ywchiu/fuboni/master/data/1435449602.xml')\n",
    "with open('news.xml', 'w', encoding='utf-8') as f:\n",
    "    f.write(res.text)"
   ]
  },
  {
   "cell_type": "code",
   "execution_count": 214,
   "metadata": {
    "collapsed": true
   },
   "outputs": [],
   "source": [
    "with open('news.xml', encoding='utf-8') as f:\n",
    "    news = f.read()"
   ]
  },
  {
   "cell_type": "code",
   "execution_count": 217,
   "metadata": {
    "collapsed": false
   },
   "outputs": [],
   "source": [
    "from xml.dom import minidom\n",
    "from xml.etree import ElementTree\n",
    "import jieba.analyse\n",
    "\n",
    "with open('news.xml', 'r', encoding='utf-8') as f:\n",
    "    events=ElementTree.fromstring(f.read())\n",
    "\n",
    "corpus = []\n",
    "ary= []\n",
    "for elem in events.findall('./channel/item'):\n",
    "    title = elem.find('title').text\n",
    "    description = elem.find('description').text\n",
    "    ary.append(title)\n",
    "    corpus.append(' '.join(jieba.cut(description)))"
   ]
  },
  {
   "cell_type": "code",
   "execution_count": 218,
   "metadata": {
    "collapsed": false
   },
   "outputs": [
    {
     "data": {
      "text/plain": [
       "<147x12838 sparse matrix of type '<class 'numpy.int64'>'\n",
       "\twith 23841 stored elements in Compressed Sparse Row format>"
      ]
     },
     "execution_count": 218,
     "metadata": {},
     "output_type": "execute_result"
    }
   ],
   "source": [
    "from sklearn.feature_extraction.text import CountVectorizer\n",
    "vectorizer = CountVectorizer()\n",
    "X = vectorizer.fit_transform(corpus)\n",
    "X"
   ]
  },
  {
   "cell_type": "code",
   "execution_count": 219,
   "metadata": {
    "collapsed": true
   },
   "outputs": [],
   "source": [
    "from sklearn.metrics.pairwise import cosine_similarity\n",
    "cs = cosine_similarity(X)"
   ]
  },
  {
   "cell_type": "code",
   "execution_count": 220,
   "metadata": {
    "collapsed": false
   },
   "outputs": [
    {
     "data": {
      "text/plain": [
       "(147, 147)"
      ]
     },
     "execution_count": 220,
     "metadata": {},
     "output_type": "execute_result"
    }
   ],
   "source": [
    "cs.shape"
   ]
  },
  {
   "cell_type": "code",
   "execution_count": 232,
   "metadata": {
    "collapsed": false
   },
   "outputs": [],
   "source": [
    "from sklearn import cluster\n",
    "c = cluster.KMeans(n_clusters = 4, init = 'k-means++' )\n",
    "k_data = c.fit_predict(cs)"
   ]
  },
  {
   "cell_type": "code",
   "execution_count": 233,
   "metadata": {
    "collapsed": false
   },
   "outputs": [
    {
     "data": {
      "text/plain": [
       "array([0, 0, 2, 2, 0, 3, 0, 3, 3, 2, 2, 0, 3, 1, 1, 2, 0, 3, 3, 2, 2, 0, 2,\n",
       "       3, 2, 0, 2, 2, 2, 2, 2, 3, 3, 3, 3, 3, 3, 3, 1, 3, 3, 0, 3, 3, 3, 3,\n",
       "       3, 3, 3, 3, 3, 3, 3, 3, 3, 3, 3, 3, 3, 3, 3, 3, 3, 3, 3, 3, 3, 3, 3,\n",
       "       3, 3, 3, 3, 3, 3, 3, 3, 3, 2, 3, 3, 0, 3, 3, 3, 2, 3, 0, 0, 0, 2, 0,\n",
       "       3, 0, 3, 0, 0, 0, 0, 3, 0, 0, 0, 2, 0, 0, 0, 3, 3, 1, 1, 1, 0, 2, 3,\n",
       "       3, 1, 0, 0, 1, 0, 1, 3, 0, 1, 1, 1, 0, 1, 3, 3, 3, 3, 3, 3, 3, 3, 2,\n",
       "       3, 3, 3, 3, 1, 0, 0, 1, 1])"
      ]
     },
     "execution_count": 233,
     "metadata": {},
     "output_type": "execute_result"
    }
   ],
   "source": [
    "k_data"
   ]
  },
  {
   "cell_type": "code",
   "execution_count": 237,
   "metadata": {
    "collapsed": false
   },
   "outputs": [
    {
     "name": "stdout",
     "output_type": "stream",
     "text": [
      "八仙塵爆  五相關人依公共危險重傷害法辦\n",
      "八仙樂園意外 病患持續增加中\n",
      "6月28日各報頭版要聞\n",
      "八仙樂園舞台大火 逾400人輕重傷\n",
      "八仙樂園意外 毛揆取消視察臺東行程\n",
      "八仙樂園貼出暫停營業海報\n",
      "八仙樂園爆炸案 專家認玉米粉危險性高應管制使用\n",
      "八仙樂園粉塵燃爆 400人傷 負責人被移送\n",
      "八仙案  新店慈濟4傷者危急\n",
      "八仙樂園爆炸案 負責人等5人移送\n",
      "侯友宜探視傷者：追究責任\n",
      "八仙樂園火警  國軍加入救援\n",
      "八仙樂園爆炸案災害應變中心　1時30分一級開設\n",
      "彩色派對主辦人：風勢太大，引燃粉塵\n",
      "八仙樂園大火  傷者查詢電話\n",
      "派對彩粉首次釀禍  蔣丙煌：研議管理\n",
      "八仙樂園火警受傷名單一覽表\n",
      "00：35統計　八仙大火重傷97人、輕傷132人\n",
      "衛福部長：北北基醫護人員全力動員\n",
      "八仙樂園粉塵瞬燃　還原失事現場影片曝光\n",
      "八仙意外毛揆取消台東熱氣球活動\n",
      "八仙樂園爆炸案 士檢派3檢察官現場指揮\n",
      "八仙爆炸案   陳國恩：全力支援\n",
      "八仙大火傷患爆量  衛福調度醫院\n",
      "八仙樂園意外 洪秀柱：為傷者祈福\n",
      "陳國恩指示警方全力動員 協助救護交通順暢\n",
      "八仙樂園爆炸意外 朱立倫：立即停園接受調查\n",
      "北榮33名八里傷患  2/3傷重\n",
      "八仙樂園塵爆215傷　朱立倫下令即刻停業\n",
      "八仙樂園爆炸 朱立倫4點指示\n",
      "【八仙意外】馬英九、毛治國第一時間得知　指示全\n",
      "【八仙意外】讓專業的來！柯文哲指示啟動EOC\n",
      "八仙水上樂園爆炸逾百人傷　三軍總醫院收治傷患\n"
     ]
    }
   ],
   "source": [
    "np_titles = np.array(ary)\n",
    "for t in np_titles[k_data ==0, ]:\n",
    "    print(t)"
   ]
  },
  {
   "cell_type": "markdown",
   "metadata": {},
   "source": [
    "## 新聞分群2"
   ]
  },
  {
   "cell_type": "code",
   "execution_count": 239,
   "metadata": {
    "collapsed": true
   },
   "outputs": [],
   "source": [
    "import pandas\n",
    "newsdf = pandas.read_excel('data/appledaily20171214.xlsx')"
   ]
  },
  {
   "cell_type": "code",
   "execution_count": 240,
   "metadata": {
    "collapsed": false
   },
   "outputs": [
    {
     "data": {
      "text/html": [
       "<div>\n",
       "<table border=\"1\" class=\"dataframe\">\n",
       "  <thead>\n",
       "    <tr style=\"text-align: right;\">\n",
       "      <th></th>\n",
       "      <th>category</th>\n",
       "      <th>content</th>\n",
       "      <th>link</th>\n",
       "      <th>title</th>\n",
       "    </tr>\n",
       "  </thead>\n",
       "  <tbody>\n",
       "    <tr>\n",
       "      <th>0</th>\n",
       "      <td>政治</td>\n",
       "      <td>新增：立委說法民進黨立法院黨團預計在明天的院會中，讓改制農田水利會的《農田水利會組織通則》修...</td>\n",
       "      <td>https://tw.news.appledaily.com/politics/realti...</td>\n",
       "      <td>【更新】水利會改官派明闖關　綠委24小時前顧議場大門防藍突襲</td>\n",
       "    </tr>\n",
       "    <tr>\n",
       "      <th>1</th>\n",
       "      <td>論壇</td>\n",
       "      <td>邱俊棠／台中市民、見習醫師；曾任台灣醫學生聯合會對外副會長對於公民參與公眾事務而能得到單位首...</td>\n",
       "      <td>https://tw.news.appledaily.com/forum/realtime/...</td>\n",
       "      <td>請中市府為所當為 加速中火燃煤限制</td>\n",
       "    </tr>\n",
       "    <tr>\n",
       "      <th>2</th>\n",
       "      <td>社會</td>\n",
       "      <td>被控來台涉發展情報組織的中國學生周泓旭，因接觸我方外交部官員而露餡落網，今年9月被台北地院一...</td>\n",
       "      <td>https://tw.news.appledaily.com/local/realtime/...</td>\n",
       "      <td>陸生共諜嗆台司法　「不敢公開審理我」</td>\n",
       "    </tr>\n",
       "    <tr>\n",
       "      <th>3</th>\n",
       "      <td>生活</td>\n",
       "      <td>【廣編特輯】 對於全能神教會在中國所遭受的迫害與在韓國、香港及臺灣所面對的反面宣傳，非政府組...</td>\n",
       "      <td>https://tw.news.appledaily.com/life/realtime/2...</td>\n",
       "      <td>【特企】NGO聯名譴責中共迫害宗教信仰</td>\n",
       "    </tr>\n",
       "    <tr>\n",
       "      <th>4</th>\n",
       "      <td>生活</td>\n",
       "      <td>立法院交通委員會今審查《道路交通管理處罰條例》，通過營業大客車駕駛人行駛一般道路未繫安全帶，...</td>\n",
       "      <td>https://tw.news.appledaily.com/life/realtime/2...</td>\n",
       "      <td>乘客搭大客車不配合繫安全帶　立院初審通過可罰6千元</td>\n",
       "    </tr>\n",
       "  </tbody>\n",
       "</table>\n",
       "</div>"
      ],
      "text/plain": [
       "  category                                            content  \\\n",
       "0       政治  新增：立委說法民進黨立法院黨團預計在明天的院會中，讓改制農田水利會的《農田水利會組織通則》修...   \n",
       "1       論壇  邱俊棠／台中市民、見習醫師；曾任台灣醫學生聯合會對外副會長對於公民參與公眾事務而能得到單位首...   \n",
       "2       社會  被控來台涉發展情報組織的中國學生周泓旭，因接觸我方外交部官員而露餡落網，今年9月被台北地院一...   \n",
       "3       生活  【廣編特輯】 對於全能神教會在中國所遭受的迫害與在韓國、香港及臺灣所面對的反面宣傳，非政府組...   \n",
       "4       生活  立法院交通委員會今審查《道路交通管理處罰條例》，通過營業大客車駕駛人行駛一般道路未繫安全帶，...   \n",
       "\n",
       "                                                link  \\\n",
       "0  https://tw.news.appledaily.com/politics/realti...   \n",
       "1  https://tw.news.appledaily.com/forum/realtime/...   \n",
       "2  https://tw.news.appledaily.com/local/realtime/...   \n",
       "3  https://tw.news.appledaily.com/life/realtime/2...   \n",
       "4  https://tw.news.appledaily.com/life/realtime/2...   \n",
       "\n",
       "                            title  \n",
       "0  【更新】水利會改官派明闖關　綠委24小時前顧議場大門防藍突襲  \n",
       "1               請中市府為所當為 加速中火燃煤限制  \n",
       "2              陸生共諜嗆台司法　「不敢公開審理我」  \n",
       "3             【特企】NGO聯名譴責中共迫害宗教信仰  \n",
       "4       乘客搭大客車不配合繫安全帶　立院初審通過可罰6千元  "
      ]
     },
     "execution_count": 240,
     "metadata": {},
     "output_type": "execute_result"
    }
   ],
   "source": [
    "newsdf.head()"
   ]
  },
  {
   "cell_type": "code",
   "execution_count": 241,
   "metadata": {
    "collapsed": true
   },
   "outputs": [],
   "source": [
    "corpus   = []\n",
    "titles   = []\n",
    "contents = []\n",
    "for elem in newsdf.iterrows():\n",
    "    titles.append(elem[1]['title'])\n",
    "    contents.append(elem[1]['content'])\n",
    "    corpus.append(' '.join(jieba.cut(elem[1]['content'])))"
   ]
  },
  {
   "cell_type": "code",
   "execution_count": 242,
   "metadata": {
    "collapsed": false
   },
   "outputs": [
    {
     "data": {
      "text/plain": [
       "<899x38624 sparse matrix of type '<class 'numpy.int64'>'\n",
       "\twith 128131 stored elements in Compressed Sparse Row format>"
      ]
     },
     "execution_count": 242,
     "metadata": {},
     "output_type": "execute_result"
    }
   ],
   "source": [
    "from sklearn.feature_extraction.text import CountVectorizer\n",
    "vectorizer = CountVectorizer()\n",
    "X = vectorizer.fit_transform(corpus)\n",
    "X"
   ]
  },
  {
   "cell_type": "code",
   "execution_count": 243,
   "metadata": {
    "collapsed": true
   },
   "outputs": [],
   "source": [
    "from sklearn.metrics.pairwise import cosine_similarity\n",
    "cs = cosine_similarity(X)"
   ]
  },
  {
   "cell_type": "markdown",
   "metadata": {},
   "source": [
    "### KMeans 分群"
   ]
  },
  {
   "cell_type": "code",
   "execution_count": 255,
   "metadata": {
    "collapsed": true
   },
   "outputs": [],
   "source": [
    "from sklearn import cluster\n",
    "c = cluster.KMeans(n_clusters = 20, init = 'k-means++' )\n",
    "k_data = c.fit_predict(cs)"
   ]
  },
  {
   "cell_type": "code",
   "execution_count": 256,
   "metadata": {
    "collapsed": false
   },
   "outputs": [],
   "source": [
    "np_titles = np.array(titles)"
   ]
  },
  {
   "cell_type": "code",
   "execution_count": 265,
   "metadata": {
    "collapsed": false
   },
   "outputs": [
    {
     "name": "stdout",
     "output_type": "stream",
     "text": [
      "小嫻婚變冒毒菇　勾于美人「奉茶」夢魘\n",
      "「想抱孫要看天！」　他批小嫻婆婆殘忍強逼\n",
      "【好聚不好散】離婚掏出6千萬　這女星比小嫻還慘\n",
      "【狗仔偷拍】小嫻搬離何守正家租66坪房　月租6萬元\n",
      "許聖梅心疼小嫻被當空氣　爆何守正「有兩個女學員」\n",
      "【動畫解盤】毒菇跳火線譙seafood　小嫻難瘦香菇\n",
      "十二月十四日各報頭條搶先報\n",
      "不捨善良小嫻慘遭婚變　乃哥「命運捉弄人」\n",
      "【獨家】小嫻賣房求子　婆婆竟拒入籍何家\n",
      "小嫻離婚導火線　拉何守正信妙禪\n",
      "【狗仔偷拍】何守正現身！「全台最沒尊嚴的婆婆」也出來了\n",
      "小嫻中分手魔咒！ 同公司4女星全都婚變\n",
      "何守正姐姐神護航！遭網友酸：全台最討人厭大姑\n",
      "小嫻別傻傻被欺負！女律師說「姐寶」就要這樣對付\n",
      "教友小嫻婚姻觸礁　曾之喬談情避不開Seafood\n",
      "小嫻守正結婚在台沒登記　想離婚只有兩條路\n",
      "胡瓜2個月前耳聞小嫻婚變　震驚之餘好心疼\n",
      "昔日搭檔談小嫻婚變　曾國城這樣說\n",
      "何守正兩個姊姊護航扯婆媳　「他」戳破媽寶特色\n",
      "大姑出面護弟！轟小嫻不能生「媽媽是全台最沒有尊嚴的婆婆」\n",
      "小嫻信奉妙禪　關鍵原因與何守正有關！\n",
      "小嫻何守正想離婚　必須先做這件事！\n",
      "女網紅因為這理由挺余祥銓！讓人不知該哭還是笑\n",
      "「小嫻不快樂！」　許聖梅：何守正虧欠她\n",
      "【內幕動畫】小嫻婚變何守正姊反擊　不滿媽煮飯侍奉星媳婦\n",
      "小嫻多信妙禪？　曾見證「師父帶我跳舞」\n",
      "【話當年】被拍和她上賓館　何守正掰了阿妹\n",
      "小嫻婚變無徵兆　男星嘆：兩人向來出雙入對\n",
      "【獨家內幕】太傷！小嫻被分手　何守正當小三面前攤牌\n",
      "【小嫻離婚】何守正稱沒有遺憾　人妻女星超火「一嘴屁話」\n",
      "【小嫻離婚】3大退讓人財兩失　求子花光430萬積蓄\n"
     ]
    }
   ],
   "source": [
    "for title in np_titles[k_data == 0]:\n",
    "    print(title)"
   ]
  },
  {
   "cell_type": "markdown",
   "metadata": {},
   "source": [
    "## 社群偵測"
   ]
  },
  {
   "cell_type": "code",
   "execution_count": 269,
   "metadata": {
    "collapsed": false
   },
   "outputs": [],
   "source": [
    "m = cs > 0.5\n",
    "m = m.astype(int)"
   ]
  },
  {
   "cell_type": "code",
   "execution_count": 270,
   "metadata": {
    "collapsed": false
   },
   "outputs": [
    {
     "data": {
      "text/plain": [
       "array([[1, 0, 0, ..., 0, 0, 0],\n",
       "       [0, 1, 0, ..., 0, 0, 0],\n",
       "       [0, 0, 1, ..., 0, 0, 0],\n",
       "       ..., \n",
       "       [0, 0, 0, ..., 1, 0, 0],\n",
       "       [0, 0, 0, ..., 0, 1, 0],\n",
       "       [0, 0, 0, ..., 0, 0, 1]])"
      ]
     },
     "execution_count": 270,
     "metadata": {},
     "output_type": "execute_result"
    }
   ],
   "source": [
    "m"
   ]
  },
  {
   "cell_type": "markdown",
   "metadata": {},
   "source": [
    "### 安裝 Networkx"
   ]
  },
  {
   "cell_type": "code",
   "execution_count": 271,
   "metadata": {
    "collapsed": false
   },
   "outputs": [
    {
     "name": "stdout",
     "output_type": "stream",
     "text": [
      "Requirement already satisfied: networkx in c:\\programdata\\anaconda3\\lib\\site-packages\n",
      "Requirement already satisfied: decorator>=3.4.0 in c:\\programdata\\anaconda3\\lib\\site-packages (from networkx)\n"
     ]
    }
   ],
   "source": [
    "! pip install networkx"
   ]
  },
  {
   "cell_type": "code",
   "execution_count": 273,
   "metadata": {
    "collapsed": false
   },
   "outputs": [],
   "source": [
    "import networkx as nx\n",
    "from scipy.sparse import csr_matrix\n",
    "G = nx.from_scipy_sparse_matrix(csr_matrix(m))"
   ]
  },
  {
   "cell_type": "markdown",
   "metadata": {},
   "source": [
    "### 使用Python Louvain"
   ]
  },
  {
   "cell_type": "code",
   "execution_count": 278,
   "metadata": {
    "collapsed": false
   },
   "outputs": [
    {
     "name": "stdout",
     "output_type": "stream",
     "text": [
      "Requirement already satisfied: python-louvain in c:\\programdata\\anaconda3\\lib\\site-packages\n",
      "Requirement already satisfied: networkx in c:\\programdata\\anaconda3\\lib\\site-packages (from python-louvain)\n",
      "Requirement already satisfied: decorator>=3.4.0 in c:\\programdata\\anaconda3\\lib\\site-packages (from networkx->python-louvain)\n"
     ]
    }
   ],
   "source": [
    "! pip install python-louvain"
   ]
  },
  {
   "cell_type": "markdown",
   "metadata": {},
   "source": [
    "### 使用社群偵測法"
   ]
  },
  {
   "cell_type": "code",
   "execution_count": 281,
   "metadata": {
    "collapsed": false
   },
   "outputs": [],
   "source": [
    "import community\n",
    "k_data = community.best_partition(G)"
   ]
  },
  {
   "cell_type": "code",
   "execution_count": 346,
   "metadata": {
    "collapsed": false
   },
   "outputs": [
    {
     "data": {
      "text/plain": [
       "[(3, 30),\n",
       " (70, 13),\n",
       " (114, 7),\n",
       " (201, 4),\n",
       " (341, 4),\n",
       " (17, 3),\n",
       " (45, 3),\n",
       " (185, 3),\n",
       " (246, 3),\n",
       " (524, 3)]"
      ]
     },
     "execution_count": 346,
     "metadata": {},
     "output_type": "execute_result"
    }
   ],
   "source": [
    "from collections import Counter\n",
    "c = Counter(k_data.values())\n",
    "c.most_common(10)"
   ]
  },
  {
   "cell_type": "code",
   "execution_count": 305,
   "metadata": {
    "collapsed": false
   },
   "outputs": [
    {
     "data": {
      "text/plain": [
       "791"
      ]
     },
     "execution_count": 305,
     "metadata": {},
     "output_type": "execute_result"
    }
   ],
   "source": [
    "len(set(list(k_data.values())))"
   ]
  },
  {
   "cell_type": "code",
   "execution_count": 345,
   "metadata": {
    "collapsed": false
   },
   "outputs": [
    {
     "name": "stdout",
     "output_type": "stream",
     "text": [
      "【壹週刊】百億貸款將到期　柯P放容積解套京華城\n",
      "560%容積爭議　威京：只是拿回應有的\n",
      "京華城容積率增至560%案　北市都發局同意、待都委會審議\n",
      "及時雨！柯文哲放寬容積　京華城爽納百億\n"
     ]
    }
   ],
   "source": [
    "grp = np.array(list(k_data.values()))\n",
    "for ele in np_titles[grp==341]:\n",
    "    print(ele)"
   ]
  },
  {
   "cell_type": "code",
   "execution_count": 348,
   "metadata": {
    "collapsed": false
   },
   "outputs": [
    {
     "name": "stdout",
     "output_type": "stream",
     "text": [
      "group: 3\n",
      "【特企】NGO聯名譴責中共迫害宗教信仰\n",
      "【特企】NGO聯名譴責中共迫害宗教信仰\n",
      "【特企】NGO聯名譴責中共迫害宗教信仰\n",
      "【特企】NGO聯名譴責中共迫害宗教信仰\n",
      "【特企】NGO聯名譴責中共迫害宗教信仰\n",
      "【特企】NGO聯名譴責中共迫害宗教信仰\n",
      "【特企】NGO聯名譴責中共迫害宗教信仰\n",
      "【特企】NGO聯名譴責中共迫害宗教信仰\n",
      "【特企】NGO聯名譴責中共迫害宗教信仰\n",
      "【特企】NGO聯名譴責中共迫害宗教信仰\n",
      "【特企】NGO聯名譴責中共迫害宗教信仰\n",
      "【特企】NGO聯名譴責中共迫害宗教信仰\n",
      "【特企】NGO聯名譴責中共迫害宗教信仰\n",
      "【特企】NGO聯名譴責中共迫害宗教信仰\n",
      "【特企】NGO聯名譴責中共迫害宗教信仰\n",
      "【特企】NGO聯名譴責中共迫害宗教信仰\n",
      "【特企】NGO聯名譴責中共迫害宗教信仰\n",
      "【特企】NGO聯名譴責中共迫害宗教信仰\n",
      "【特企】NGO聯名譴責中共迫害宗教信仰\n",
      "【特企】NGO聯名譴責中共迫害宗教信仰\n",
      "【特企】NGO聯名譴責中共迫害宗教信仰\n",
      "【特企】NGO聯名譴責中共迫害宗教信仰\n",
      "【特企】NGO聯名譴責中共迫害宗教信仰\n",
      "【特企】NGO聯名譴責中共迫害宗教信仰\n",
      "【特企】NGO聯名譴責中共迫害宗教信仰\n",
      "【特企】NGO聯名譴責中共迫害宗教信仰\n",
      "【特企】NGO聯名譴責中共迫害宗教信仰\n",
      "【特企】NGO聯名譴責中共迫害宗教信仰\n",
      "【特企】NGO聯名譴責中共迫害宗教信仰\n",
      "【特企】NGO聯名譴責中共迫害宗教信仰\n",
      "----------------------\n",
      "group: 70\n",
      "【狗仔偷拍】小嫻搬離何守正家租66坪房　月租6萬元\n",
      "許聖梅心疼小嫻被當空氣　爆何守正「有兩個女學員」\n",
      "【動畫解盤】毒菇跳火線譙seafood　小嫻難瘦香菇\n",
      "【獨家】小嫻賣房求子　婆婆竟拒入籍何家\n",
      "小心！在美結婚台灣沒登記　偷腥照樣能捉姦\n",
      "小嫻離婚導火線　拉何守正信妙禪\n",
      "小嫻守正結婚在台沒登記　想離婚只有兩條路\n",
      "小嫻何守正想離婚　必須先做這件事！\n",
      "【內幕動畫】小嫻婚變何守正姊反擊　不滿媽煮飯侍奉星媳婦\n",
      "小嫻婚變無徵兆　男星嘆：兩人向來出雙入對\n",
      "【獨家內幕】太傷！小嫻被分手　何守正當小三面前攤牌\n",
      "【小嫻離婚】何守正稱沒有遺憾　人妻女星超火「一嘴屁話」\n",
      "【小嫻離婚】3大退讓人財兩失　求子花光430萬積蓄\n",
      "----------------------\n",
      "group: 114\n",
      "驚！　野生捕獲恐龍遛汪星人\n",
      "驚！　野生捕獲恐龍遛汪星人\n",
      "搔癢無尾熊 表情超enjoy\n",
      "【笑翻片】各種抓！動物止癢出奇招\n",
      "【保護片】就是不能下水！狗狗護小主人\n",
      "群狗亂舞開趴　畫面太「美」讓人不敢看\n",
      "超近看螞蟻食蜂蜜　竟感到療癒？\n",
      "----------------------\n",
      "group: 201\n",
      "被爆罵、敲台電　顏寬恒「模糊反空污焦點」\n",
      "【反嗆片】被爆向台電申請補助又罵空污　顏寬恒：不會拿人手短\n",
      "「一手罵台電、一手敲台電」　經委會要台電公布立委補助資料\n",
      "被顏寬恒點名也跟台電要補助　蔡其昌：不應與空污混為一談\n",
      "----------------------\n",
      "group: 341\n",
      "【壹週刊】百億貸款將到期　柯P放容積解套京華城\n",
      "560%容積爭議　威京：只是拿回應有的\n",
      "京華城容積率增至560%案　北市都發局同意、待都委會審議\n",
      "及時雨！柯文哲放寬容積　京華城爽納百億\n",
      "----------------------\n",
      "group: 17\n",
      "【不斷更新】桃園工廠惡火撲滅 6人仍失聯宿舍內發現一堆白骨\n",
      "桃園工廠火勢熄滅　員工宿舍內發現一堆白骨\n",
      "汽車用品大廠「矽卡」燒毀　資本額達2億\n",
      "----------------------\n",
      "group: 45\n",
      "後天入冬最強冷空氣來襲　低溫下探12℃\n",
      "像灑了糖霜！玉山今晨降雪　積雪0.5公分\n",
      "輕颱啟德恐生成　入冬最強冷空氣周末來襲下探11℃（動畫）\n",
      "----------------------\n",
      "group: 185\n",
      "【崩潰動畫】《天堂M》斷線50次　玩家罵聲連連\n",
      "台戰豪砸40萬抽寶一場空　怒批《天堂M》根本錢坑\n",
      "《天堂M》超過116萬人登入　50個伺服器仍塞到爆\n",
      "----------------------\n",
      "group: 246\n",
      "【世界一瞬間】日本扭蛋風潮\n",
      "曾銘宗爆「好大的高雄銀」　高雄銀嗆：保留法律追訴權\n",
      "黃國昌爆高雄銀替慶富不實增資　公司：非事實\n",
      "----------------------\n",
      "group: 524\n",
      "三中案馬英九圖利中時老闆？　北檢：不評論\n",
      "三中案祕錄光碟！恐扳倒馬英九　當年他錄的\n",
      "三中案500萬禮盒照　馬英九一句話成關鍵\n",
      "----------------------\n"
     ]
    }
   ],
   "source": [
    "for k,v in c.most_common(10):\n",
    "    print('group: {}'.format(k) )\n",
    "    for ele in np_titles[grp==k]:\n",
    "        print(ele)\n",
    "    print('----------------------')"
   ]
  },
  {
   "cell_type": "markdown",
   "metadata": {},
   "source": [
    "## 富邦人壽問答集分群"
   ]
  },
  {
   "cell_type": "code",
   "execution_count": 349,
   "metadata": {
    "collapsed": true
   },
   "outputs": [],
   "source": [
    "import pandas\n",
    "qa_df = pandas.read_excel('fuboneqa.xlsx')"
   ]
  },
  {
   "cell_type": "code",
   "execution_count": 350,
   "metadata": {
    "collapsed": false
   },
   "outputs": [
    {
     "data": {
      "text/html": [
       "<div>\n",
       "<table border=\"1\" class=\"dataframe\">\n",
       "  <thead>\n",
       "    <tr style=\"text-align: right;\">\n",
       "      <th></th>\n",
       "      <th>type</th>\n",
       "      <th>question</th>\n",
       "      <th>answer</th>\n",
       "      <th>link</th>\n",
       "    </tr>\n",
       "  </thead>\n",
       "  <tbody>\n",
       "    <tr>\n",
       "      <th>0</th>\n",
       "      <td>熱門問題</td>\n",
       "      <td>Fubon - 我要問-(熱門)什麼是電子通知單？「用行動愛地球」活動內容是什麼？ (207)</td>\n",
       "      <td>一、配合數位化時代來臨，故以電子郵件方式寄送各項送金單或通知單，並取消紙本表單/單據寄送。 ...</td>\n",
       "      <td>https://me.fubonlife.com.tw/C03002000000_FAQ.v...</td>\n",
       "    </tr>\n",
       "    <tr>\n",
       "      <th>1</th>\n",
       "      <td>熱門問題</td>\n",
       "      <td>Fubon - 我要問-(熱門)請問如何申請電子通知單/申請電子收據/电子通知单/申請e帳單...</td>\n",
       "      <td>一、申請時間：保單有效期間內，可隨時辦理。 二、應注意事項： (一)申請電子通知單服務，需同...</td>\n",
       "      <td>https://me.fubonlife.com.tw/C03002000000_FAQ.v...</td>\n",
       "    </tr>\n",
       "    <tr>\n",
       "      <th>2</th>\n",
       "      <td>熱門問題</td>\n",
       "      <td>Fubon - 我要問-(熱門)如何申請/加入網路e方便會員？包含哪些服務？ (204)</td>\n",
       "      <td>【人壽保戶會員網路e方便線上交易專區】中，會員服務及申請有以下兩種，說明如下： 一、查詢會員...</td>\n",
       "      <td>https://me.fubonlife.com.tw/C03002000000_FAQ.v...</td>\n",
       "    </tr>\n",
       "    <tr>\n",
       "      <th>3</th>\n",
       "      <td>熱門問題</td>\n",
       "      <td>Fubon - 我要問-(熱門)請問您要查詢的是車險/強制險/十全大補/產險/汽車險商品嗎？...</td>\n",
       "      <td>因富邦人壽與富邦產險為富邦金控不同之子公司，若您是要查詢： 富邦產物保險/綜合險/意外產險/...</td>\n",
       "      <td>https://me.fubonlife.com.tw/C03002000000_FAQ.v...</td>\n",
       "    </tr>\n",
       "    <tr>\n",
       "      <th>4</th>\n",
       "      <td>熱門問題</td>\n",
       "      <td>Fubon - 我要問-(熱門)如何申請理賠？ (206)</td>\n",
       "      <td>各項保險金自得為請求之日起須於兩年內提出申請，請於保險事故發生後儘速申請以免影響權利。 連結...</td>\n",
       "      <td>https://me.fubonlife.com.tw/C03002000000_FAQ.v...</td>\n",
       "    </tr>\n",
       "  </tbody>\n",
       "</table>\n",
       "</div>"
      ],
      "text/plain": [
       "   type                                           question  \\\n",
       "0  熱門問題    Fubon - 我要問-(熱門)什麼是電子通知單？「用行動愛地球」活動內容是什麼？ (207)   \n",
       "1  熱門問題  Fubon - 我要問-(熱門)請問如何申請電子通知單/申請電子收據/电子通知单/申請e帳單...   \n",
       "2  熱門問題       Fubon - 我要問-(熱門)如何申請/加入網路e方便會員？包含哪些服務？ (204)   \n",
       "3  熱門問題  Fubon - 我要問-(熱門)請問您要查詢的是車險/強制險/十全大補/產險/汽車險商品嗎？...   \n",
       "4  熱門問題                      Fubon - 我要問-(熱門)如何申請理賠？ (206)   \n",
       "\n",
       "                                              answer  \\\n",
       "0  一、配合數位化時代來臨，故以電子郵件方式寄送各項送金單或通知單，並取消紙本表單/單據寄送。 ...   \n",
       "1  一、申請時間：保單有效期間內，可隨時辦理。 二、應注意事項： (一)申請電子通知單服務，需同...   \n",
       "2  【人壽保戶會員網路e方便線上交易專區】中，會員服務及申請有以下兩種，說明如下： 一、查詢會員...   \n",
       "3  因富邦人壽與富邦產險為富邦金控不同之子公司，若您是要查詢： 富邦產物保險/綜合險/意外產險/...   \n",
       "4  各項保險金自得為請求之日起須於兩年內提出申請，請於保險事故發生後儘速申請以免影響權利。 連結...   \n",
       "\n",
       "                                                link  \n",
       "0  https://me.fubonlife.com.tw/C03002000000_FAQ.v...  \n",
       "1  https://me.fubonlife.com.tw/C03002000000_FAQ.v...  \n",
       "2  https://me.fubonlife.com.tw/C03002000000_FAQ.v...  \n",
       "3  https://me.fubonlife.com.tw/C03002000000_FAQ.v...  \n",
       "4  https://me.fubonlife.com.tw/C03002000000_FAQ.v...  "
      ]
     },
     "execution_count": 350,
     "metadata": {},
     "output_type": "execute_result"
    }
   ],
   "source": [
    "qa_df.head()"
   ]
  },
  {
   "cell_type": "code",
   "execution_count": 353,
   "metadata": {
    "collapsed": false
   },
   "outputs": [],
   "source": [
    "corpus   = []\n",
    "questions   = []\n",
    "answers = []\n",
    "for elem in qa_df.iterrows():\n",
    "    questions.append(elem[1]['question'])\n",
    "    answers.append(elem[1]['answer'])\n",
    "    corpus.append(' '.join(jieba.cut(elem[1]['question'])))"
   ]
  },
  {
   "cell_type": "code",
   "execution_count": 364,
   "metadata": {
    "collapsed": false
   },
   "outputs": [
    {
     "data": {
      "text/plain": [
       "<209x669 sparse matrix of type '<class 'numpy.float64'>'\n",
       "\twith 2285 stored elements in Compressed Sparse Row format>"
      ]
     },
     "execution_count": 364,
     "metadata": {},
     "output_type": "execute_result"
    }
   ],
   "source": [
    "from sklearn.feature_extraction.text import TfidfVectorizer\n",
    "vectorizer = TfidfVectorizer()\n",
    "X = vectorizer.fit_transform(corpus)\n",
    "X"
   ]
  },
  {
   "cell_type": "code",
   "execution_count": 365,
   "metadata": {
    "collapsed": true
   },
   "outputs": [],
   "source": [
    "from sklearn.metrics.pairwise import cosine_similarity\n",
    "cs = cosine_similarity(X)"
   ]
  },
  {
   "cell_type": "code",
   "execution_count": 366,
   "metadata": {
    "collapsed": true
   },
   "outputs": [],
   "source": [
    "m = cs > 0.5\n",
    "m = m.astype(int)"
   ]
  },
  {
   "cell_type": "code",
   "execution_count": 367,
   "metadata": {
    "collapsed": true
   },
   "outputs": [],
   "source": [
    "import networkx as nx\n",
    "from scipy.sparse import csr_matrix\n",
    "G = nx.from_scipy_sparse_matrix(csr_matrix(m))"
   ]
  },
  {
   "cell_type": "code",
   "execution_count": 368,
   "metadata": {
    "collapsed": true
   },
   "outputs": [],
   "source": [
    "import community\n",
    "k_data = community.best_partition(G)"
   ]
  },
  {
   "cell_type": "code",
   "execution_count": 369,
   "metadata": {
    "collapsed": false
   },
   "outputs": [
    {
     "data": {
      "text/plain": [
       "[(19, 4),\n",
       " (53, 4),\n",
       " (87, 4),\n",
       " (2, 3),\n",
       " (27, 3),\n",
       " (72, 3),\n",
       " (0, 2),\n",
       " (1, 2),\n",
       " (3, 2),\n",
       " (4, 2)]"
      ]
     },
     "execution_count": 369,
     "metadata": {},
     "output_type": "execute_result"
    }
   ],
   "source": [
    "from collections import Counter\n",
    "c = Counter(k_data.values())\n",
    "c.most_common(10)"
   ]
  },
  {
   "cell_type": "code",
   "execution_count": 370,
   "metadata": {
    "collapsed": true
   },
   "outputs": [],
   "source": [
    "np_questions = np.array(questions)\n",
    "grp = np.array(list(k_data.values()))"
   ]
  },
  {
   "cell_type": "code",
   "execution_count": 371,
   "metadata": {
    "collapsed": false
   },
   "outputs": [
    {
     "name": "stdout",
     "output_type": "stream",
     "text": [
      "group: 19\n",
      "Fubon - 我要問-金融機構轉帳扣款失敗怎麼辦？ (203)\n",
      "Fubon - 我要問-信用卡扣款失敗怎麼辦？ (208)\n",
      "Fubon - 我要問-現在已是金融機構轉帳代繳保費，要如何變更轉帳銀行或扣款帳戶？ (203)\n",
      "Fubon - 我要問-金融機構轉帳或信用卡扣款前，會寄繳費通知單嗎？ (207)\n",
      "----------------------\n",
      "group: 53\n",
      "Fubon - 我要問-(Q)請問您欲還款，需要查詢您的「保單借款金額」嗎？ (205)\n",
      "Fubon - 我要問-(Q)我有保單借款還款/保單還款/保單貸款還款/保單還款記錄/保單還款確認，怎麼查詢? (201)\n",
      "Fubon - 我要問-我有保單借款，如何還款? (201)\n",
      "Fubon - 我要問-請問臨櫃是否可辦理保單借款的還款？如果要以現金方式還款，有沒有金額上的限制？ (202)\n",
      "----------------------\n",
      "group: 87\n",
      "Fubon - 我要問-安泰住院醫療定期保險附約(HSR),於精神病住院是否給付？ (205)\n",
      "Fubon - 我要問-中醫門診看鼻炎,投保\"安泰住院醫療定期保險附約(HSR)\"及\"安泰住院醫療保險附約(THS)\"是否給付？ (206)\n",
      "Fubon - 我要問-安泰住院醫療定期保險附約(HSR)以自費身份就醫如何計算給付？ (208)\n",
      "Fubon - 我要問-門診手術是否能申請\"安泰住院醫療定期保險附約(HSR)\"及\"安泰住院醫療保險附約\"(THS)之理賠給付？ (201)\n",
      "----------------------\n",
      "group: 2\n",
      "Fubon - 我要問-(熱門)如何申請/加入網路e方便會員？包含哪些服務？ (204)\n",
      "Fubon - 我要問-(Q)如何申請加入富邦人壽網路e方便會員? (204)\n",
      "Fubon - 我要問-(Q)如何申請/加入網路e方便會員？包含哪些服務？ (204)\n",
      "----------------------\n",
      "group: 27\n",
      "Fubon - 我要問-自動墊繳是否有保險費繳納證明？ (202)\n",
      "Fubon - 我要問-保險費已繳納，為何又收到保險費提醒繳納通知書？ (203)\n",
      "Fubon - 我要問-什麼是「保險費繳納證明」？ (204)\n",
      "----------------------\n",
      "group: 72\n",
      "Fubon - 我要問-「法定繼承人」是指那些人呢? (201)\n",
      "Fubon - 我要問-受益人是「法定繼承人」時，要準備那些文件? (205)\n",
      "Fubon - 我要問-何謂法定繼承人？ (201)\n",
      "----------------------\n",
      "group: 0\n",
      "Fubon - 我要問-(熱門)什麼是電子通知單？「用行動愛地球」活動內容是什麼？ (207)\n",
      "Fubon - 我要問-(Q)什麼是電子通知單？「用行動愛地球」活動內容是什麼？ (203)\n",
      "----------------------\n",
      "group: 1\n",
      "Fubon - 我要問-(熱門)請問如何申請電子通知單/申請電子收據/电子通知单/申請e帳單服務呢？ (203)\n",
      "Fubon - 我要問-(Q)請問如何申請電子通知單/申請電子收據/电子通知单/申請e帳單服務呢？ (201)\n",
      "----------------------\n",
      "group: 3\n",
      "Fubon - 我要問-(熱門)請問您要查詢的是車險/強制險/十全大補/產險/汽車險商品嗎？ (201)\n",
      "Fubon - 我要問-(Q)請問您要查詢的是車險/強制險/十全大補/產險/汽車險商品嗎? (203)\n",
      "----------------------\n",
      "group: 4\n",
      "Fubon - 我要問-(熱門)如何申請理賠？ (206)\n",
      "Fubon - 我要問-(Q)如何申請理賠？ (206)\n",
      "----------------------\n"
     ]
    }
   ],
   "source": [
    "for k,v in c.most_common(10):\n",
    "    print('group: {}'.format(k) )\n",
    "    for ele in np_questions[grp==k]:\n",
    "        print(ele)\n",
    "    print('----------------------')"
   ]
  },
  {
   "cell_type": "markdown",
   "metadata": {},
   "source": [
    "## 新聞分類"
   ]
  },
  {
   "cell_type": "code",
   "execution_count": 421,
   "metadata": {
    "collapsed": false
   },
   "outputs": [],
   "source": [
    "import pandas\n",
    "newsdf = pandas.read_excel('data/appledaily20171214.xlsx')\n",
    "\n",
    "corpus     = []\n",
    "titles     = []\n",
    "categories = []\n",
    "\n",
    "for rec in newsdf[newsdf['category'].isin(['財經地產', '社會', '國際']) ].iterrows():\n",
    "    corpus.append(' '.join(jieba.cut(rec[1]['content'])))\n",
    "    titles.append(rec[1]['title'])\n",
    "    categories.append(rec[1]['category'])"
   ]
  },
  {
   "cell_type": "code",
   "execution_count": 422,
   "metadata": {
    "collapsed": false
   },
   "outputs": [],
   "source": [
    "from sklearn.feature_extraction.text import CountVectorizer\n",
    "vectorizer = CountVectorizer()\n",
    "X = vectorizer.fit_transform(corpus)"
   ]
  },
  {
   "cell_type": "code",
   "execution_count": 423,
   "metadata": {
    "collapsed": false
   },
   "outputs": [
    {
     "data": {
      "text/plain": [
       "<383x20211 sparse matrix of type '<class 'numpy.int64'>'\n",
       "\twith 50916 stored elements in Compressed Sparse Row format>"
      ]
     },
     "execution_count": 423,
     "metadata": {},
     "output_type": "execute_result"
    }
   ],
   "source": [
    "X"
   ]
  },
  {
   "cell_type": "code",
   "execution_count": 424,
   "metadata": {
    "collapsed": false
   },
   "outputs": [
    {
     "data": {
      "text/plain": [
       "383"
      ]
     },
     "execution_count": 424,
     "metadata": {},
     "output_type": "execute_result"
    }
   ],
   "source": [
    "len(categories)"
   ]
  },
  {
   "cell_type": "code",
   "execution_count": 425,
   "metadata": {
    "collapsed": true
   },
   "outputs": [],
   "source": [
    "from sklearn.cross_validation import train_test_split\n",
    "train_data, test_data, train_tag, test_tag, train_titles, test_titles = train_test_split(X, categories, titles, test_size = 0.33, random_state = 123)"
   ]
  },
  {
   "cell_type": "code",
   "execution_count": 426,
   "metadata": {
    "collapsed": false
   },
   "outputs": [
    {
     "data": {
      "text/plain": [
       "(256, 20211)"
      ]
     },
     "execution_count": 426,
     "metadata": {},
     "output_type": "execute_result"
    }
   ],
   "source": [
    "train_data.shape"
   ]
  },
  {
   "cell_type": "code",
   "execution_count": 427,
   "metadata": {
    "collapsed": false
   },
   "outputs": [
    {
     "data": {
      "text/plain": [
       "(127, 20211)"
      ]
     },
     "execution_count": 427,
     "metadata": {},
     "output_type": "execute_result"
    }
   ],
   "source": [
    "test_data.shape"
   ]
  },
  {
   "cell_type": "code",
   "execution_count": 428,
   "metadata": {
    "collapsed": false
   },
   "outputs": [
    {
     "data": {
      "text/plain": [
       "MultinomialNB(alpha=0.01, class_prior=None, fit_prior=True)"
      ]
     },
     "execution_count": 428,
     "metadata": {},
     "output_type": "execute_result"
    }
   ],
   "source": [
    "from sklearn.naive_bayes import MultinomialNB\n",
    "clf = MultinomialNB(alpha = 0.01)\n",
    "clf.fit(train_data, train_tag)"
   ]
  },
  {
   "cell_type": "code",
   "execution_count": 429,
   "metadata": {
    "collapsed": true
   },
   "outputs": [],
   "source": [
    "predicted = clf.predict(test_data)"
   ]
  },
  {
   "cell_type": "code",
   "execution_count": 430,
   "metadata": {
    "collapsed": false
   },
   "outputs": [
    {
     "data": {
      "text/plain": [
       "0.92125984251968507"
      ]
     },
     "execution_count": 430,
     "metadata": {},
     "output_type": "execute_result"
    }
   ],
   "source": [
    "sum(predicted == test_tag) / len(test_tag)"
   ]
  },
  {
   "cell_type": "code",
   "execution_count": 431,
   "metadata": {
    "collapsed": false
   },
   "outputs": [
    {
     "name": "stdout",
     "output_type": "stream",
     "text": [
      "['國際' '社會' '財經地產']\n"
     ]
    },
    {
     "data": {
      "text/plain": [
       "array([[39,  3,  1],\n",
       "       [ 3, 49,  1],\n",
       "       [ 2,  0, 29]])"
      ]
     },
     "execution_count": 431,
     "metadata": {},
     "output_type": "execute_result"
    }
   ],
   "source": [
    "from sklearn.metrics import confusion_matrix\n",
    "print(clf.classes_)\n",
    "confusion_matrix(test_tag, predicted)"
   ]
  },
  {
   "cell_type": "code",
   "execution_count": 432,
   "metadata": {
    "collapsed": false
   },
   "outputs": [
    {
     "data": {
      "text/plain": [
       "array(['5歲男童被水管絆倒\\u3000右手指遭清潔機皮帶絞斷', '小心！在美結婚台灣沒登記\\u3000偷腥照樣能捉姦',\n",
       "       '女高中生遭霸凌跳樓爆頭\\u3000一張照片令家屬心碎了', '玉山清晨降雪\\u3000陽光露臉融化糖霜潤大地',\n",
       "       '浩鼎案開庭\\u3000翁啟惠：美事一樁被誤會', '【霸氣貼背】「這是我們的夢幻車款」！Kia新車北美試駕超給力',\n",
       "       '老謝：美菲2位狂人兄弟 今年交出不錯成績單\\u3000', '20歲女搭電車時睡著\\u3000男見狀上前強吻',\n",
       "       'friDay影音攜手ELEVEN體育家族\\u3000直播多元賽事', '見義勇為\\u3000青年4度衝進火場救人\\u3000'], \n",
       "      dtype='<U36')"
      ]
     },
     "execution_count": 432,
     "metadata": {},
     "output_type": "execute_result"
    }
   ],
   "source": [
    "np_test_titles = np.array(test_titles)\n",
    "np_test_tags = np.array(test_tag)\n",
    "np_test_tags[test_tag !=  predicted]\n",
    "np_test_titles[test_tag !=  predicted]"
   ]
  },
  {
   "cell_type": "markdown",
   "metadata": {},
   "source": [
    "## 問題分類"
   ]
  },
  {
   "cell_type": "code",
   "execution_count": 433,
   "metadata": {
    "collapsed": true
   },
   "outputs": [],
   "source": [
    "import pandas\n",
    "qa_df = pandas.read_excel('fuboneqa.xlsx')"
   ]
  },
  {
   "cell_type": "code",
   "execution_count": 435,
   "metadata": {
    "collapsed": false
   },
   "outputs": [],
   "source": [
    "qa_df = qa_df[qa_df['type']!= '熱門問題']"
   ]
  },
  {
   "cell_type": "code",
   "execution_count": 444,
   "metadata": {
    "collapsed": false
   },
   "outputs": [
    {
     "data": {
      "text/plain": [
       "理賠            58\n",
       "其他            52\n",
       "保單變更          28\n",
       "保費相關          19\n",
       "網路會員相關        13\n",
       "保單借款/還款       12\n",
       "生存金/滿期金/紅利     5\n",
       "旅平險            4\n",
       "電子通知/保單        3\n",
       "Name: type, dtype: int64"
      ]
     },
     "execution_count": 444,
     "metadata": {},
     "output_type": "execute_result"
    }
   ],
   "source": [
    "qa_df['type'].value_counts()"
   ]
  },
  {
   "cell_type": "code",
   "execution_count": 445,
   "metadata": {
    "collapsed": true
   },
   "outputs": [],
   "source": [
    "corpus    = []\n",
    "questions = []\n",
    "answers   = []\n",
    "types     = []\n",
    "for elem in qa_df[qa_df['type'].isin(['理賠', '保單變更']) ].iterrows():\n",
    "    questions.append(elem[1]['question'])\n",
    "    answers.append(elem[1]['answer'])\n",
    "    corpus.append(' '.join(jieba.cut(elem[1]['question'])))\n",
    "    types.append(elem[1]['type'])"
   ]
  },
  {
   "cell_type": "code",
   "execution_count": 446,
   "metadata": {
    "collapsed": true
   },
   "outputs": [],
   "source": [
    "from sklearn.feature_extraction.text import TfidfVectorizer\n",
    "vectorizer = TfidfVectorizer()\n",
    "X = vectorizer.fit_transform(corpus)"
   ]
  },
  {
   "cell_type": "code",
   "execution_count": 447,
   "metadata": {
    "collapsed": true
   },
   "outputs": [],
   "source": [
    "from sklearn.cross_validation import train_test_split\n",
    "train_data, test_data, train_types, test_types, train_questions, test_questions = train_test_split(X, types, questions, test_size = 0.33, random_state = 123)"
   ]
  },
  {
   "cell_type": "code",
   "execution_count": 448,
   "metadata": {
    "collapsed": false
   },
   "outputs": [
    {
     "data": {
      "text/plain": [
       "(57, 347)"
      ]
     },
     "execution_count": 448,
     "metadata": {},
     "output_type": "execute_result"
    }
   ],
   "source": [
    "train_data.shape"
   ]
  },
  {
   "cell_type": "code",
   "execution_count": 449,
   "metadata": {
    "collapsed": false
   },
   "outputs": [
    {
     "data": {
      "text/plain": [
       "MultinomialNB(alpha=0.01, class_prior=None, fit_prior=True)"
      ]
     },
     "execution_count": 449,
     "metadata": {},
     "output_type": "execute_result"
    }
   ],
   "source": [
    "from sklearn.naive_bayes import MultinomialNB\n",
    "clf = MultinomialNB(alpha = 0.01)\n",
    "clf.fit(train_data, train_types)"
   ]
  },
  {
   "cell_type": "code",
   "execution_count": 450,
   "metadata": {
    "collapsed": true
   },
   "outputs": [],
   "source": [
    "predicted = clf.predict(test_data)"
   ]
  },
  {
   "cell_type": "code",
   "execution_count": 454,
   "metadata": {
    "collapsed": false
   },
   "outputs": [
    {
     "data": {
      "text/plain": [
       "0.89655172413793105"
      ]
     },
     "execution_count": 454,
     "metadata": {},
     "output_type": "execute_result"
    }
   ],
   "source": [
    "from sklearn.metrics import accuracy_score\n",
    "accuracy_score(test_types, predicted)"
   ]
  },
  {
   "cell_type": "code",
   "execution_count": 452,
   "metadata": {
    "collapsed": false
   },
   "outputs": [
    {
     "name": "stdout",
     "output_type": "stream",
     "text": [
      "['保單變更' '理賠']\n"
     ]
    },
    {
     "data": {
      "text/plain": [
       "array([[ 7,  0],\n",
       "       [ 3, 19]])"
      ]
     },
     "execution_count": 452,
     "metadata": {},
     "output_type": "execute_result"
    }
   ],
   "source": [
    "from sklearn.metrics import confusion_matrix\n",
    "print(clf.classes_)\n",
    "confusion_matrix(test_types, predicted)"
   ]
  },
  {
   "cell_type": "code",
   "execution_count": 453,
   "metadata": {
    "collapsed": false
   },
   "outputs": [
    {
     "data": {
      "text/plain": [
       "array(['Fubon - 我要問-收據遺失是否可以副本或補發收據代替申請？ (201)',\n",
       "       'Fubon - 我要問-(Q)請問哪裡可以下載【理賠類】表單/表格/申請書/聲明書？ (204)',\n",
       "       'Fubon - 我要問-(Q)詢問雷射/運動傷害/腰間盤突出手術/殘廢等級/眼睛換水晶球/痔瘡開刀/骨刺/氣管內管置入術/根管治療/胃鏡/前十字韌帶板機指/冷凍/白內障手術/甲狀腺/心臟支架/子宮長水瘤/大腸鏡息肉可否申請? (206)'], \n",
       "      dtype='<U118')"
      ]
     },
     "execution_count": 453,
     "metadata": {},
     "output_type": "execute_result"
    }
   ],
   "source": [
    "np_test_questions = np.array(test_questions)\n",
    "np_test_types = np.array(test_types)\n",
    "#np_test_tags[test_tag !=  predicted]\n",
    "np_test_questions[test_types !=  predicted]"
   ]
  },
  {
   "cell_type": "markdown",
   "metadata": {},
   "source": [
    "## FP Growth\n",
    "-  https://github.com/enaeseth/python-fp-growth"
   ]
  },
  {
   "cell_type": "code",
   "execution_count": null,
   "metadata": {
    "collapsed": true
   },
   "outputs": [],
   "source": [
    "a = [1,3,5,6]\n",
    "b = [2,4,5,6]\n",
    "c = [5,6]\n",
    "\n"
   ]
  }
 ],
 "metadata": {
  "kernelspec": {
   "display_name": "Python 3",
   "language": "python",
   "name": "python3"
  },
  "language_info": {
   "codemirror_mode": {
    "name": "ipython",
    "version": 3
   },
   "file_extension": ".py",
   "mimetype": "text/x-python",
   "name": "python",
   "nbconvert_exporter": "python",
   "pygments_lexer": "ipython3",
   "version": "3.6.0"
  }
 },
 "nbformat": 4,
 "nbformat_minor": 2
}
