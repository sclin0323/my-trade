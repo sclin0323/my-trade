{
 "cells": [
  {
   "cell_type": "markdown",
   "metadata": {},
   "source": [
    "## Python Basic"
   ]
  },
  {
   "cell_type": "code",
   "execution_count": 1,
   "metadata": {},
   "outputs": [
    {
     "data": {
      "text/plain": [
       "5"
      ]
     },
     "execution_count": 1,
     "metadata": {},
     "output_type": "execute_result"
    }
   ],
   "source": [
    "a = 3\n",
    "b = 2\n",
    "a + b"
   ]
  },
  {
   "cell_type": "code",
   "execution_count": 2,
   "metadata": {},
   "outputs": [
    {
     "data": {
      "text/plain": [
       "24"
      ]
     },
     "execution_count": 2,
     "metadata": {},
     "output_type": "execute_result"
    }
   ],
   "source": [
    "a * 8"
   ]
  },
  {
   "cell_type": "markdown",
   "metadata": {},
   "source": [
    "## BItCoin Investment "
   ]
  },
  {
   "cell_type": "code",
   "execution_count": 4,
   "metadata": {},
   "outputs": [],
   "source": [
    "import requests\n",
    "res = requests.get('https://www.coingecko.com/en/price_charts/bitcoin/usd/90_days.json')\n",
    "jd = res.json()"
   ]
  },
  {
   "cell_type": "code",
   "execution_count": 8,
   "metadata": {},
   "outputs": [
    {
     "data": {
      "text/html": [
       "<div>\n",
       "<table border=\"1\" class=\"dataframe\">\n",
       "  <thead>\n",
       "    <tr style=\"text-align: right;\">\n",
       "      <th></th>\n",
       "      <th>time</th>\n",
       "      <th>price</th>\n",
       "    </tr>\n",
       "    <tr>\n",
       "      <th>time</th>\n",
       "      <th></th>\n",
       "      <th></th>\n",
       "    </tr>\n",
       "  </thead>\n",
       "  <tbody>\n",
       "    <tr>\n",
       "      <th>1.502323e+12</th>\n",
       "      <td>1.502323e+12</td>\n",
       "      <td>3367.91</td>\n",
       "    </tr>\n",
       "    <tr>\n",
       "      <th>1.502410e+12</th>\n",
       "      <td>1.502410e+12</td>\n",
       "      <td>3562.59</td>\n",
       "    </tr>\n",
       "    <tr>\n",
       "      <th>1.502496e+12</th>\n",
       "      <td>1.502496e+12</td>\n",
       "      <td>3800.14</td>\n",
       "    </tr>\n",
       "    <tr>\n",
       "      <th>1.502582e+12</th>\n",
       "      <td>1.502582e+12</td>\n",
       "      <td>4023.25</td>\n",
       "    </tr>\n",
       "    <tr>\n",
       "      <th>1.502669e+12</th>\n",
       "      <td>1.502669e+12</td>\n",
       "      <td>4175.70</td>\n",
       "    </tr>\n",
       "  </tbody>\n",
       "</table>\n",
       "</div>"
      ],
      "text/plain": [
       "                      time    price\n",
       "time                               \n",
       "1.502323e+12  1.502323e+12  3367.91\n",
       "1.502410e+12  1.502410e+12  3562.59\n",
       "1.502496e+12  1.502496e+12  3800.14\n",
       "1.502582e+12  1.502582e+12  4023.25\n",
       "1.502669e+12  1.502669e+12  4175.70"
      ]
     },
     "execution_count": 8,
     "metadata": {},
     "output_type": "execute_result"
    }
   ],
   "source": [
    "import pandas\n",
    "df = pandas.DataFrame(jd['stats'])\n",
    "df.columns = ['time', 'price']\n",
    "df.index = df['time']\n",
    "df.head()"
   ]
  },
  {
   "cell_type": "code",
   "execution_count": 9,
   "metadata": {},
   "outputs": [
    {
     "name": "stdout",
     "output_type": "stream",
     "text": [
      "Populating the interactive namespace from numpy and matplotlib\n"
     ]
    },
    {
     "data": {
      "text/plain": [
       "<matplotlib.axes._subplots.AxesSubplot at 0x7f5046447390>"
      ]
     },
     "execution_count": 9,
     "metadata": {},
     "output_type": "execute_result"
    },
    {
     "data": {
      "image/png": "[encoded data removed]",
      "text/plain": [
       "<matplotlib.figure.Figure at 0x7f504829eef0>"
      ]
     },
     "metadata": {},
     "output_type": "display_data"
    }
   ],
   "source": [
    "%pylab inline\n",
    "df['price'].plot(kind = 'line')"
   ]
  },
  {
   "cell_type": "code",
   "execution_count": 12,
   "metadata": {
    "collapsed": true
   },
   "outputs": [],
   "source": [
    "df['mvg30'] = df['price'].rolling(window = 30).mean()"
   ]
  },
  {
   "cell_type": "code",
   "execution_count": 13,
   "metadata": {},
   "outputs": [
    {
     "data": {
      "text/plain": [
       "<matplotlib.axes._subplots.AxesSubplot at 0x7f5046528be0>"
      ]
     },
     "execution_count": 13,
     "metadata": {},
     "output_type": "execute_result"
    },
    {
     "data": {
      "image/png": "[encoded data removed]",
      "text/plain": [
       "<matplotlib.figure.Figure at 0x7f50465484a8>"
      ]
     },
     "metadata": {},
     "output_type": "display_data"
    }
   ],
   "source": [
    "# 只顯示 df 中特定欄位資料\n",
    "df[['mvg30', 'price']].plot(kind = 'line')"
   ]
  },
  {
   "cell_type": "markdown",
   "metadata": {
    "collapsed": true
   },
   "source": [
    "## Number"
   ]
  },
  {
   "cell_type": "code",
   "execution_count": 14,
   "metadata": {},
   "outputs": [
    {
     "data": {
      "text/plain": [
       "19"
      ]
     },
     "execution_count": 14,
     "metadata": {},
     "output_type": "execute_result"
    }
   ],
   "source": [
    "3 + 2 * 8"
   ]
  },
  {
   "cell_type": "code",
   "execution_count": 15,
   "metadata": {},
   "outputs": [
    {
     "data": {
      "text/plain": [
       "-1"
      ]
     },
     "execution_count": 15,
     "metadata": {},
     "output_type": "execute_result"
    }
   ],
   "source": [
    "-1 "
   ]
  },
  {
   "cell_type": "code",
   "execution_count": 16,
   "metadata": {},
   "outputs": [
    {
     "data": {
      "text/plain": [
       "5"
      ]
     },
     "execution_count": 16,
     "metadata": {},
     "output_type": "execute_result"
    }
   ],
   "source": [
    "5"
   ]
  },
  {
   "cell_type": "code",
   "execution_count": 17,
   "metadata": {},
   "outputs": [
    {
     "data": {
      "text/plain": [
       "0.5"
      ]
     },
     "execution_count": 17,
     "metadata": {},
     "output_type": "execute_result"
    }
   ],
   "source": [
    "0.5"
   ]
  },
  {
   "cell_type": "code",
   "execution_count": 19,
   "metadata": {},
   "outputs": [
    {
     "data": {
      "text/plain": [
       "200.0"
      ]
     },
     "execution_count": 19,
     "metadata": {},
     "output_type": "execute_result"
    }
   ],
   "source": [
    "# 2 * 10 ^ 2\n",
    "2e2"
   ]
  },
  {
   "cell_type": "code",
   "execution_count": 21,
   "metadata": {},
   "outputs": [
    {
     "data": {
      "text/plain": [
       "300.0"
      ]
     },
     "execution_count": 21,
     "metadata": {},
     "output_type": "execute_result"
    }
   ],
   "source": [
    "# 3 * 10 ^ 2\n",
    "3E2"
   ]
  },
  {
   "cell_type": "code",
   "execution_count": 22,
   "metadata": {},
   "outputs": [
    {
     "data": {
      "text/plain": [
       "3"
      ]
     },
     "execution_count": 22,
     "metadata": {},
     "output_type": "execute_result"
    }
   ],
   "source": [
    "2 + 1"
   ]
  },
  {
   "cell_type": "code",
   "execution_count": 23,
   "metadata": {},
   "outputs": [
    {
     "data": {
      "text/plain": [
       "1"
      ]
     },
     "execution_count": 23,
     "metadata": {},
     "output_type": "execute_result"
    }
   ],
   "source": [
    "2 - 1"
   ]
  },
  {
   "cell_type": "code",
   "execution_count": 24,
   "metadata": {},
   "outputs": [
    {
     "data": {
      "text/plain": [
       "2"
      ]
     },
     "execution_count": 24,
     "metadata": {},
     "output_type": "execute_result"
    }
   ],
   "source": [
    "2 * 1"
   ]
  },
  {
   "cell_type": "code",
   "execution_count": 25,
   "metadata": {},
   "outputs": [
    {
     "data": {
      "text/plain": [
       "1.5"
      ]
     },
     "execution_count": 25,
     "metadata": {},
     "output_type": "execute_result"
    }
   ],
   "source": [
    "3 / 2"
   ]
  },
  {
   "cell_type": "code",
   "execution_count": 26,
   "metadata": {},
   "outputs": [
    {
     "data": {
      "text/plain": [
       "8"
      ]
     },
     "execution_count": 26,
     "metadata": {},
     "output_type": "execute_result"
    }
   ],
   "source": [
    "2 ** 3"
   ]
  },
  {
   "cell_type": "code",
   "execution_count": 27,
   "metadata": {},
   "outputs": [
    {
     "data": {
      "text/plain": [
       "2.0"
      ]
     },
     "execution_count": 27,
     "metadata": {},
     "output_type": "execute_result"
    }
   ],
   "source": [
    "4 ** 0.5"
   ]
  },
  {
   "cell_type": "code",
   "execution_count": 28,
   "metadata": {},
   "outputs": [
    {
     "data": {
      "text/plain": [
       "105"
      ]
     },
     "execution_count": 28,
     "metadata": {},
     "output_type": "execute_result"
    }
   ],
   "source": [
    "2 + 10 * 10 + 3"
   ]
  },
  {
   "cell_type": "code",
   "execution_count": 29,
   "metadata": {},
   "outputs": [
    {
     "data": {
      "text/plain": [
       "156"
      ]
     },
     "execution_count": 29,
     "metadata": {},
     "output_type": "execute_result"
    }
   ],
   "source": [
    "(2+10) * (10+3)"
   ]
  },
  {
   "cell_type": "code",
   "execution_count": 30,
   "metadata": {},
   "outputs": [
    {
     "data": {
      "text/plain": [
       "5"
      ]
     },
     "execution_count": 30,
     "metadata": {},
     "output_type": "execute_result"
    }
   ],
   "source": [
    "a = 5\n",
    "a"
   ]
  },
  {
   "cell_type": "code",
   "execution_count": 31,
   "metadata": {},
   "outputs": [
    {
     "data": {
      "text/plain": [
       "10"
      ]
     },
     "execution_count": 31,
     "metadata": {},
     "output_type": "execute_result"
    }
   ],
   "source": [
    "a = 10\n",
    "a"
   ]
  },
  {
   "cell_type": "code",
   "execution_count": 32,
   "metadata": {},
   "outputs": [
    {
     "data": {
      "text/plain": [
       "20"
      ]
     },
     "execution_count": 32,
     "metadata": {},
     "output_type": "execute_result"
    }
   ],
   "source": [
    "a = a + a\n",
    "a"
   ]
  },
  {
   "cell_type": "code",
   "execution_count": 34,
   "metadata": {
    "collapsed": true
   },
   "outputs": [],
   "source": [
    "price = 25.66 \n",
    "exchange_rate = 32.33"
   ]
  },
  {
   "cell_type": "code",
   "execution_count": 35,
   "metadata": {},
   "outputs": [
    {
     "data": {
      "text/plain": [
       "829.5878"
      ]
     },
     "execution_count": 35,
     "metadata": {},
     "output_type": "execute_result"
    }
   ],
   "source": [
    "price * exchange_rate"
   ]
  },
  {
   "cell_type": "markdown",
   "metadata": {
    "collapsed": true
   },
   "source": [
    "## String"
   ]
  },
  {
   "cell_type": "code",
   "execution_count": 2,
   "metadata": {},
   "outputs": [
    {
     "data": {
      "text/plain": [
       "int"
      ]
     },
     "execution_count": 2,
     "metadata": {},
     "output_type": "execute_result"
    }
   ],
   "source": [
    "a = 20 \n",
    "type(a)"
   ]
  },
  {
   "cell_type": "code",
   "execution_count": 4,
   "metadata": {},
   "outputs": [
    {
     "data": {
      "text/plain": [
       "float"
      ]
     },
     "execution_count": 4,
     "metadata": {},
     "output_type": "execute_result"
    }
   ],
   "source": [
    "a = 3.5\n",
    "type(a)"
   ]
  },
  {
   "cell_type": "code",
   "execution_count": 5,
   "metadata": {},
   "outputs": [
    {
     "data": {
      "text/plain": [
       "str"
      ]
     },
     "execution_count": 5,
     "metadata": {},
     "output_type": "execute_result"
    }
   ],
   "source": [
    "a = 'hello world'\n",
    "type(a)"
   ]
  },
  {
   "cell_type": "code",
   "execution_count": 6,
   "metadata": {},
   "outputs": [
    {
     "data": {
      "text/plain": [
       "'this is a string'"
      ]
     },
     "execution_count": 6,
     "metadata": {},
     "output_type": "execute_result"
    }
   ],
   "source": [
    "a = 'this is a string'\n",
    "a"
   ]
  },
  {
   "cell_type": "code",
   "execution_count": 7,
   "metadata": {},
   "outputs": [
    {
     "data": {
      "text/plain": [
       "'this is also a string'"
      ]
     },
     "execution_count": 7,
     "metadata": {},
     "output_type": "execute_result"
    }
   ],
   "source": [
    "a = \"this is also a string\"\n",
    "a"
   ]
  },
  {
   "cell_type": "code",
   "execution_count": 8,
   "metadata": {},
   "outputs": [
    {
     "data": {
      "text/plain": [
       "\"I'm thiry year's old\""
      ]
     },
     "execution_count": 8,
     "metadata": {},
     "output_type": "execute_result"
    }
   ],
   "source": [
    "a = \"I'm thiry year's old\"\n",
    "a"
   ]
  },
  {
   "cell_type": "code",
   "execution_count": 9,
   "metadata": {},
   "outputs": [
    {
     "data": {
      "text/plain": [
       "'Hello World'"
      ]
     },
     "execution_count": 9,
     "metadata": {},
     "output_type": "execute_result"
    }
   ],
   "source": [
    "'Hello World'"
   ]
  },
  {
   "cell_type": "code",
   "execution_count": 10,
   "metadata": {},
   "outputs": [
    {
     "data": {
      "text/plain": [
       "'寶寶心裡苦 但寶寶不說'"
      ]
     },
     "execution_count": 10,
     "metadata": {},
     "output_type": "execute_result"
    }
   ],
   "source": [
    "'寶寶心裡苦 但寶寶不說'"
   ]
  },
  {
   "cell_type": "code",
   "execution_count": 11,
   "metadata": {},
   "outputs": [
    {
     "data": {
      "text/plain": [
       "'寶寶心裡苦 但寶寶不說'"
      ]
     },
     "execution_count": 11,
     "metadata": {},
     "output_type": "execute_result"
    }
   ],
   "source": [
    "'Hello World'\n",
    "'寶寶心裡苦 但寶寶不說'"
   ]
  },
  {
   "cell_type": "code",
   "execution_count": 12,
   "metadata": {},
   "outputs": [
    {
     "name": "stdout",
     "output_type": "stream",
     "text": [
      "Hello World1\n",
      "Hello World2\n"
     ]
    }
   ],
   "source": [
    "print('Hello World1')\n",
    "print('Hello World2')"
   ]
  },
  {
   "cell_type": "code",
   "execution_count": 13,
   "metadata": {},
   "outputs": [
    {
     "name": "stdout",
     "output_type": "stream",
     "text": [
      "use \n",
      " to print a new line\n"
     ]
    }
   ],
   "source": [
    "print('use \\n to print a new line')"
   ]
  },
  {
   "cell_type": "code",
   "execution_count": 15,
   "metadata": {},
   "outputs": [
    {
     "name": "stdout",
     "output_type": "stream",
     "text": [
      "\n",
      "\n",
      "see what I mean\n"
     ]
    }
   ],
   "source": [
    "print('\\n')\n",
    "print('see what I mean')"
   ]
  },
  {
   "cell_type": "code",
   "execution_count": 16,
   "metadata": {},
   "outputs": [
    {
     "name": "stdout",
     "output_type": "stream",
     "text": [
      "this is a looooooooooooooooooooooooooooooooooooooooooooooooooooooooooooooooooooooooooong text\n"
     ]
    }
   ],
   "source": [
    "print('this is a loooooooooooooooooooooooooooooooooooooooo\\\n",
    "ooooooooooooooooooooooooooooooooooong text')"
   ]
  },
  {
   "cell_type": "code",
   "execution_count": 17,
   "metadata": {},
   "outputs": [
    {
     "data": {
      "text/plain": [
       "'今天上午8時許，新北市板橋區的第一運動場地下停車場發生火燒車，1輛停放在地下1樓的黑色賓士車不知何故突然起火，所幸現場消防泡沫灑水設備即刻感應啟動，加上警消獲報後到場搶救，火勢不到10分鐘即熄滅，現場無人傷亡，但現場因為消防泡沫灑水設備啟動，讓停在火燒車附近的車輛都被噴灑了許多大量的消防泡沫，整個地下停車場宛如泡泡洗車廠。\\n \\n據現場搶救警消了解，這輛黑色賓士車火燒車初步排除人為縱火的可能，但這輛賓士車為何突然起火燃燒，還待後續詳細調查了解。隨後被通知趕到的車主向警消表示，這台賓士車年份1999年，他每天都有在使用，就只有昨天沒有開出去，剛接到通知才知道火燒車。（突發中心莊淇鈞／新北報導）'"
      ]
     },
     "execution_count": 17,
     "metadata": {},
     "output_type": "execute_result"
    }
   ],
   "source": [
    "article = '''今天上午8時許，新北市板橋區的第一運動場地下停車場發生火燒車，1輛停放在地下1樓的黑色賓士車不知何故突然起火，所幸現場消防泡沫灑水設備即刻感應啟動，加上警消獲報後到場搶救，火勢不到10分鐘即熄滅，現場無人傷亡，但現場因為消防泡沫灑水設備啟動，讓停在火燒車附近的車輛都被噴灑了許多大量的消防泡沫，整個地下停車場宛如泡泡洗車廠。\n",
    " \n",
    "據現場搶救警消了解，這輛黑色賓士車火燒車初步排除人為縱火的可能，但這輛賓士車為何突然起火燃燒，還待後續詳細調查了解。隨後被通知趕到的車主向警消表示，這台賓士車年份1999年，他每天都有在使用，就只有昨天沒有開出去，剛接到通知才知道火燒車。（突發中心莊淇鈞／新北報導）'''\n",
    "article"
   ]
  },
  {
   "cell_type": "code",
   "execution_count": 18,
   "metadata": {},
   "outputs": [
    {
     "name": "stdout",
     "output_type": "stream",
     "text": [
      "今天上午8時許，新北市板橋區的第一運動場地下停車場發生火燒車，1輛停放在地下1樓的黑色賓士車不知何故突然起火，所幸現場消防泡沫灑水設備即刻感應啟動，加上警消獲報後到場搶救，火勢不到10分鐘即熄滅，現場無人傷亡，但現場因為消防泡沫灑水設備啟動，讓停在火燒車附近的車輛都被噴灑了許多大量的消防泡沫，整個地下停車場宛如泡泡洗車廠。\n",
      " \n",
      "據現場搶救警消了解，這輛黑色賓士車火燒車初步排除人為縱火的可能，但這輛賓士車為何突然起火燃燒，還待後續詳細調查了解。隨後被通知趕到的車主向警消表示，這台賓士車年份1999年，他每天都有在使用，就只有昨天沒有開出去，剛接到通知才知道火燒車。（突發中心莊淇鈞／新北報導）\n"
     ]
    }
   ],
   "source": [
    "print(article)"
   ]
  },
  {
   "cell_type": "code",
   "execution_count": 19,
   "metadata": {},
   "outputs": [
    {
     "name": "stdout",
     "output_type": "stream",
     "text": [
      "this is a new line\n",
      "this is the second line\n"
     ]
    }
   ],
   "source": [
    "print('this is a new line\\nthis is the second line')"
   ]
  },
  {
   "cell_type": "code",
   "execution_count": 20,
   "metadata": {},
   "outputs": [
    {
     "name": "stdout",
     "output_type": "stream",
     "text": [
      "a b c\n",
      "1 100 200\n",
      "30 600 50\n"
     ]
    }
   ],
   "source": [
    "print('''a b c\\n1 100 200\\n30 600 50''')"
   ]
  },
  {
   "cell_type": "code",
   "execution_count": 21,
   "metadata": {},
   "outputs": [
    {
     "name": "stdout",
     "output_type": "stream",
     "text": [
      "a\tb\tc\n",
      "1\t100\t200\n",
      "30\t600\t50\n"
     ]
    }
   ],
   "source": [
    "print('''a\\tb\\tc\\n1\\t100\\t200\\n30\\t600\\t50''')"
   ]
  },
  {
   "cell_type": "code",
   "execution_count": 23,
   "metadata": {},
   "outputs": [
    {
     "name": "stdout",
     "output_type": "stream",
     "text": [
      "H\n",
      "e\n"
     ]
    }
   ],
   "source": [
    "s = 'Hello'\n",
    "print(s[0])\n",
    "print(s[1])"
   ]
  },
  {
   "cell_type": "code",
   "execution_count": 25,
   "metadata": {},
   "outputs": [
    {
     "name": "stdout",
     "output_type": "stream",
     "text": [
      "o\n",
      "l\n"
     ]
    }
   ],
   "source": [
    "print(s[-1])\n",
    "print(s[-2])"
   ]
  },
  {
   "cell_type": "code",
   "execution_count": 30,
   "metadata": {},
   "outputs": [
    {
     "name": "stdout",
     "output_type": "stream",
     "text": [
      "Hello\n",
      "Hello\n",
      "ello\n",
      "llo\n",
      "Hello\n"
     ]
    }
   ],
   "source": [
    "print(s)\n",
    "print(s[:])\n",
    "print(s[1:])\n",
    "print(s[2:])\n",
    "print(s)"
   ]
  },
  {
   "cell_type": "code",
   "execution_count": 31,
   "metadata": {},
   "outputs": [
    {
     "data": {
      "text/plain": [
       "'新聞'"
      ]
     },
     "execution_count": 31,
     "metadata": {},
     "output_type": "execute_result"
    }
   ],
   "source": [
    "s = '[新聞] 三貝德Q3獲利登峰，Q4續衝高'\n",
    "s[1:3]"
   ]
  },
  {
   "cell_type": "code",
   "execution_count": 32,
   "metadata": {},
   "outputs": [
    {
     "data": {
      "text/plain": [
       "'A'"
      ]
     },
     "execution_count": 32,
     "metadata": {},
     "output_type": "execute_result"
    }
   ],
   "source": [
    "s = 'A123456789'\n",
    "s[0]"
   ]
  },
  {
   "cell_type": "code",
   "execution_count": 35,
   "metadata": {},
   "outputs": [
    {
     "name": "stdout",
     "output_type": "stream",
     "text": [
      "Hello\n",
      "Hello\n",
      "Hlo\n"
     ]
    }
   ],
   "source": [
    "\n",
    "s = 'Hello'\n",
    "\n",
    "# for(int i = 0 ; i< len(s); i++){\n",
    "#    System.out.println(s[i])\n",
    "#}\n",
    "\n",
    "print(s[0:len(s):1])\n",
    "print(s[::1])\n",
    "\n",
    "# for(int i = 0 ; i< len(s); i+=2){\n",
    "#    System.out.println(s[i])\n",
    "#}\n",
    "print(s[::2])"
   ]
  },
  {
   "cell_type": "code",
   "execution_count": 36,
   "metadata": {},
   "outputs": [
    {
     "name": "stdout",
     "output_type": "stream",
     "text": [
      "olleH\n"
     ]
    }
   ],
   "source": [
    "# for(int i = len(s) ; i > 0 ; i-=1){\n",
    "#    System.out.println(s[i])\n",
    "#}\n",
    "\n",
    "print(s[::-1])"
   ]
  },
  {
   "cell_type": "code",
   "execution_count": 37,
   "metadata": {},
   "outputs": [
    {
     "data": {
      "text/plain": [
       "False"
      ]
     },
     "execution_count": 37,
     "metadata": {},
     "output_type": "execute_result"
    }
   ],
   "source": [
    "s == s[::-1]"
   ]
  },
  {
   "cell_type": "code",
   "execution_count": 38,
   "metadata": {},
   "outputs": [
    {
     "data": {
      "text/plain": [
       "True"
      ]
     },
     "execution_count": 38,
     "metadata": {},
     "output_type": "execute_result"
    }
   ],
   "source": [
    "s = '上海自來水來自海上'\n",
    "# 字串反轉輸出\n",
    "s == s[::-1]"
   ]
  },
  {
   "cell_type": "code",
   "execution_count": 41,
   "metadata": {},
   "outputs": [],
   "source": [
    "s = 'Hello'"
   ]
  },
  {
   "cell_type": "code",
   "execution_count": 42,
   "metadata": {},
   "outputs": [
    {
     "data": {
      "text/plain": [
       "'H'"
      ]
     },
     "execution_count": 42,
     "metadata": {},
     "output_type": "execute_result"
    }
   ],
   "source": [
    "s[0]"
   ]
  },
  {
   "cell_type": "code",
   "execution_count": 43,
   "metadata": {},
   "outputs": [
    {
     "data": {
      "text/plain": [
       "'Xello'"
      ]
     },
     "execution_count": 43,
     "metadata": {},
     "output_type": "execute_result"
    }
   ],
   "source": [
    "s = 'Xello'\n",
    "s"
   ]
  },
  {
   "cell_type": "code",
   "execution_count": 44,
   "metadata": {},
   "outputs": [
    {
     "ename": "TypeError",
     "evalue": "'str' object does not support item assignment",
     "output_type": "error",
     "traceback": [
      "\u001b[0;31m---------------------------------------------------------------------------\u001b[0m",
      "\u001b[0;31mTypeError\u001b[0m                                 Traceback (most recent call last)",
      "\u001b[0;32m<ipython-input-44-812ef2514689>\u001b[0m in \u001b[0;36m<module>\u001b[0;34m()\u001b[0m\n\u001b[0;32m----> 1\u001b[0;31m \u001b[0ms\u001b[0m\u001b[1;33m[\u001b[0m\u001b[1;36m0\u001b[0m\u001b[1;33m]\u001b[0m \u001b[1;33m=\u001b[0m \u001b[1;34m'H'\u001b[0m\u001b[1;33m\u001b[0m\u001b[0m\n\u001b[0m",
      "\u001b[0;31mTypeError\u001b[0m: 'str' object does not support item assignment"
     ]
    }
   ],
   "source": [
    "s[0] = 'H'"
   ]
  },
  {
   "cell_type": "code",
   "execution_count": 45,
   "metadata": {},
   "outputs": [
    {
     "data": {
      "text/plain": [
       "'HelloWorld'"
      ]
     },
     "execution_count": 45,
     "metadata": {},
     "output_type": "execute_result"
    }
   ],
   "source": [
    "s = 'Hello'\n",
    "s + 'World'"
   ]
  },
  {
   "cell_type": "code",
   "execution_count": 46,
   "metadata": {},
   "outputs": [
    {
     "data": {
      "text/plain": [
       "'why? why? why? why? why? why? why? why? why? why? '"
      ]
     },
     "execution_count": 46,
     "metadata": {},
     "output_type": "execute_result"
    }
   ],
   "source": [
    "s = 'why? '\n",
    "s * 10"
   ]
  },
  {
   "cell_type": "code",
   "execution_count": 48,
   "metadata": {},
   "outputs": [
    {
     "name": "stdout",
     "output_type": "stream",
     "text": [
      "['__add__', '__class__', '__contains__', '__delattr__', '__dir__', '__doc__', '__eq__', '__format__', '__ge__', '__getattribute__', '__getitem__', '__getnewargs__', '__gt__', '__hash__', '__init__', '__init_subclass__', '__iter__', '__le__', '__len__', '__lt__', '__mod__', '__mul__', '__ne__', '__new__', '__reduce__', '__reduce_ex__', '__repr__', '__rmod__', '__rmul__', '__setattr__', '__sizeof__', '__str__', '__subclasshook__', 'capitalize', 'casefold', 'center', 'count', 'encode', 'endswith', 'expandtabs', 'find', 'format', 'format_map', 'index', 'isalnum', 'isalpha', 'isdecimal', 'isdigit', 'isidentifier', 'islower', 'isnumeric', 'isprintable', 'isspace', 'istitle', 'isupper', 'join', 'ljust', 'lower', 'lstrip', 'maketrans', 'partition', 'replace', 'rfind', 'rindex', 'rjust', 'rpartition', 'rsplit', 'rstrip', 'split', 'splitlines', 'startswith', 'strip', 'swapcase', 'title', 'translate', 'upper', 'zfill']\n"
     ]
    }
   ],
   "source": [
    "print(dir(s))"
   ]
  },
  {
   "cell_type": "code",
   "execution_count": 68,
   "metadata": {
    "collapsed": true
   },
   "outputs": [],
   "source": [
    "?s.count"
   ]
  },
  {
   "cell_type": "code",
   "execution_count": 52,
   "metadata": {},
   "outputs": [
    {
     "name": "stdout",
     "output_type": "stream",
     "text": [
      "This is a book\n",
      "THIS IS A BOOK\n",
      "this is a book\n",
      "['this', 'is', 'a', 'book']\n"
     ]
    }
   ],
   "source": [
    "s = 'this is a book'\n",
    "print(s.capitalize())\n",
    "print(s.upper())\n",
    "print(s.lower())\n",
    "print(s.split())"
   ]
  },
  {
   "cell_type": "code",
   "execution_count": 53,
   "metadata": {
    "collapsed": true
   },
   "outputs": [],
   "source": [
    "speech = '''\n",
    "同志們，現在，我代表第十八屆中央委員會向大會作報告。\n",
    "\n",
    "中國共産黨第十九次全國代表大會，是在全面建成小康社會決勝階段、中國特色社會主義進入新時代的關鍵時期召開的一次十分重要的大會。\n",
    "\n",
    "大會的主題是：不忘初心，牢記使命，高舉中國特色社會主義偉大旗幟，決勝全面建成小康社會，奪取新時代中國特色社會主義偉大勝利，爲實現中華民族偉大復興的中國夢不懈奮鬥。\n",
    "\n",
    "不忘初心，方得始終。中國共産黨人的初心和使命，就是爲中國人民謀幸福，爲中華民族謀複興。這個初心和使命是激勵中國共産黨人不斷前進的根本動力。全黨同志一定要永遠與人民同呼吸、共命運、心連心，永遠把人民對美好生活的嚮往作爲奮鬥目標，以永不懈怠的精神狀態和一往無前的奮鬥姿態，繼續朝著實現中華民族偉大複興的宏偉目標奮勇前進。\n",
    "\n",
    "當前，國內外形勢正在發生深刻複雜變化，我國發展仍處於重要戰略機遇期，前景十分光明，挑戰也十分嚴峻。全黨同志一定要登高望遠、居安思危，勇於變革、勇於創新，永不僵化、永不停滯，團結帶領全國各族人民決勝全面建成小康社會，奮力奪取新時代中國特色社會主義偉大勝利。\n",
    "\n",
    "一、過去五年的工作和歷史性變革\n",
    "\n",
    "十八大以來的五年，是黨和國家發展進程中極不平凡的五年。面對世界經濟復蘇乏力、局部衝突和動蕩頻發、全球性問題加劇的外部環境，面對我國經濟發展進入新常態等一系列深刻變化，我們堅持穩中求進工作總基調，迎難而上，開拓進取，取得了改革開放和社會主義現代化建設的史性成就。\n",
    "\n",
    "爲貫徹十八大精神，黨中央召開七次全會，分別就政府機構改革和職能轉變、全面深化改革、全面推進依法治國、制定「十三五」規劃、全面從嚴治黨等重大問題作出決定和部署。五年來，我們統籌推進「五位一體」總體布局、協調推進「四個全面」戰略布局，「十二五」規劃勝利完成，「十三五」規劃順利實施，黨和國家事業全面開創新局面。\n",
    "\n",
    "經濟建設取得重大成就。堅定不移貫徹新發展理念，堅決端正發展觀念、轉變發展方式，發展質量和效益不斷提升。經濟保持中高速增長，在世界主要國家中名列前茅，國內生産總值從五十四萬億元增長到八十萬億元，穩居世界第二，對世界經濟增長貢獻率超過百分之三十。供給側結構性改革深入推進，經濟結構不斷優化，數字經濟等新興産業蓬勃發展，高鐵、公路、橋樑、港口、機場等基礎設施建設快速推進。農業現代化穩步推進，糧食生産能力達到一萬二千億斤。城鎮化率年均提高一點二個百分點，八千多萬農業轉移人口成爲城鎮居民。區域發展協調性增強，「一帶一路」建設、京津冀協同發展、長江經濟帶發展成效顯著。創新驅動發展戰略大力實施，創新型國家建設成果豐碩，天宮、蛟龍、天眼、悟空、墨子、大飛機等重大科技成果相繼問世。南海島礁建設積極推進。開放型經濟新體制逐步健全，對外貿易、對外投資、外匯儲備穩居世界前列。\n",
    "\n",
    "全面深化改革取得重大突破。蹄疾步穩推進全面深化改革，堅決破除各方面體制機制弊端。改革全面發力、多點突破、縱深推進，著力增強改革系統性、整體性、協同性，壓茬拓展改革廣度和深度，推出一千五百多項改革舉措，重要領域和關鍵環節改革取得突破性進展，主要領域改革主體框架基本確立。中國特色社會主義制度更加完善，國家治理體系和治理能力現代化水平明顯提高，全社會發展活力和創新活力明顯增強。\n",
    "\n",
    "民主法治建設邁出重大步伐。積極發展社會主義民主政治，推進全面依法治國，黨的領導、人民當家作主、依法治國有機統一的制度建設全面加強，黨的領導體制機制不斷完善，社會主義民主不斷發展，黨內民主更加廣泛，社會主義協商民主全面展開，愛國統一戰線鞏固發展，民族宗教工作創新推進。科學立法、嚴格執法、公正司法、全民守法深入推進，法治國家、法治政府、法治社會建設相互促進，中國特色社會主義法治體系日益完善，全社會法治觀念明顯增強。國家監察體制改革試點取得實效，行政體制改革、司法體制改革、權力運行制約和監督體系建設有效實施。\n",
    "\n",
    "思想文化建設取得重大進展。加強黨對意識形態工作的領導，黨的理論創新全面推進，馬克思主義在意識形態領域的指導地位更加鮮明，中國特色社會主義和中國夢深入人心，社會主義核心價值觀和中華優秀傳統文化廣泛弘揚，群衆性精神文明創建活動紮實開展。公共文化服務水平不斷提高，文藝創作持續繁榮，文化事業和文化産業蓬勃發展，互聯網建設管理運用不斷完善，全民健身和競技體育全面發展。主旋律更加響亮，正能量更加強勁，文化自信得到彰顯，國家文化軟實力和中華文化影響力大幅提升，全黨全社會思想上的團結統一更加鞏固。\n",
    "\n",
    "人民生活不斷改善。深入貫徹以人民爲中心的發展思想，一大批惠民舉措落地實施，人民獲得感顯著增強。脫貧攻堅戰取得決定性進展，六千多萬貧困人口穩定脫貧，貧困發生率從百分之十點二下降到百分之四以下。教育事業全面發展，中西部和農村教育明顯加強。就業狀況持續改善，城鎮新增就業年均一千三百萬人以上。城鄉居民收入增速超過經濟增速，中等收入群體持續擴大。覆蓋城鄉居民的社會保障體系基本建立，人民健康和醫療衛生水平大幅提高，保障性住房建設穩步推進。社會治理體系更加完善，社會大局保持穩定，國家安全全面加強。\n",
    "\n",
    "生態文明建設成效顯著。大力度推進生態文明建設，全黨全國貫徹綠色發展理念的自覺性和主動性顯著增強，忽視生態環境保護的狀況明顯改變。生態文明制度體系加快形成，主體功能區制度逐步健全，國家公園體制試點積極推進。全面節約資源有效推進，能源資源消耗強度大幅下降。重大生態保護和修複工程進展順利，森林覆蓋率持續提高。生態環境治理明顯加強，環境狀況得到改善。引導應對氣候變化國際合作，成爲全球生態文明建設的重要參與者、貢獻者、引領者。\n",
    "\n",
    "強軍興軍開創新局面。著眼於實現中國夢強軍夢，制定新形勢下軍事戰略方針，全力推進國防和軍隊現代化。召開古田全軍政治工作會議，恢復和發揚我黨我軍光榮傳統和優良作風，人民軍隊政治生態得到有效治理。國防和軍隊改革取得歷史性突破，形成軍委管總、戰區主戰、軍種主建新格局，人民軍隊組織架構和力量體系實現革命性重塑。加強練兵備戰，有效遂行海上維權、反恐維穩、搶險救災、國際維和、亞丁灣護航、人道主義救援等重大任務，武器裝備加快發展，軍事鬥爭准備取得重大進展。人民軍隊在中國特色強軍之路上邁出堅定步伐。\n",
    "\n",
    "港澳台工作取得新進展。全面准確貫徹「一國兩制」方針，牢牢掌握憲法和基本法賦予的中央對香港、澳門全面管治權，深化內地和港澳地區交流合作，保持香港、澳門繁榮穩定。堅持一個中國原則和「九二共識」，推動兩岸關系和平發展，加強兩岸經濟文化交流合作，實現兩岸領導人歷史性會晤。妥善應對台灣局勢變化，堅決反對和遏制「台獨」分裂勢力，有力維護台海和平穩定。\n",
    "\n",
    "全方位外交布局深入展開。全面推進中國特色大國外交，形成全方位、多層次、立體化的外交布局，爲我國發展營造了良好外部條件。實施共建「一帶一路」倡議，發起創辦亞洲基礎設施投資銀行，設立絲路基金，舉辦首屆「一帶一路」國際合作高峰論壇、亞太經合組織領導人非正式會議、二十國集團領導人杭州峰會、金磚國家領導人廈門會晤、亞信峰會。倡導構建人類命運共同體，促進全球治理體系變革。我國國際影響力、感召力、塑造力進一步提高，爲世界和平與發展作出新的重大貢獻。\n",
    "\n",
    "全面從嚴治黨成效卓著。全面加強黨的領導和黨的建設，堅決改變管黨治黨寬鬆軟狀況。推動全黨尊崇黨章，增強政治意識、大局意識、核心意識、看齊意識，堅決維護黨中央權威和集中統一領導，嚴明黨的政治紀律和政治規矩，層層落實管黨治黨政治責任。堅持照鏡子、正衣冠、洗洗澡、治治病的要求，開展黨的群衆路線教育實踐活動和「三嚴三實」專題教育，推進「兩學一做」學習教育常態化制度化，全黨理想信念更加堅定、黨性更加堅強。貫徹新時期好幹部標准，選人用人狀況和風氣明顯好轉。黨的建設制度改革深入推進，黨內法規制度體系不斷完善。把紀律挺在前面，著力解決人民群衆反映最強烈、對黨的執政基礎威脅最大的突出問題。出台中央八項規定，嚴厲整治形式主義、官僚主義、享樂主義和奢靡之風，堅決反對特權。巡視利劍作用彰顯，實現中央和省級黨委巡視全覆蓋。堅持反腐敗無禁區、全覆蓋、零容忍，堅定不移「打虎」、「拍蠅」、「獵狐」，不敢腐的目標初步實現，不能腐的籠子越紮越牢，不想腐的堤壩正在構築，反腐敗鬥爭壓倒性態勢已經形成並鞏固發展。\n",
    "\n",
    "五年來的成就是全方位的、開創性的，五年來的變革是深層次的、根本性的。五年來，我們黨以巨大的政治勇氣和強烈的責任擔當，提出一系列新理念新思想新戰略，出台一系列重大方針政策，推出一系列重大舉措，推進一系列重大工作，解決了許多長期想解決而沒有解決的難題，辦成了許多過去想辦而沒有辦成的大事，推動黨和國家事業發生歷史性變革。這些歷史性變革，對黨和國家事業發展具有重大而深遠的影響。\n",
    "\n",
    "五年來，我們勇於面對黨面臨的重大風險考驗和黨內存在的突出問題，以頑強意志品質正風肅紀、反腐懲惡，消除了黨和國家內部存在的嚴重隱患，黨內政治生活氣象更新，黨內政治生態明顯好轉，黨的創造力、凝聚力、戰鬥力顯著增強，黨的團結統一更加鞏固，黨群關系明顯改善，黨在革命性鍛造中更加堅強，煥發出新的強大生機活力，爲黨和國家事業發展提供了堅強政治保證。\n",
    "\n",
    "同時，必須清醒看到，我們的工作還存在許多不足，也面臨不少困難和挑戰。主要是：發展不平衡不充分的一些突出問題尚未解決，發展質量和效益還不高，創新能力不夠強，實體經濟水平有待提高，生態環境保護任重道遠；民生領域還有不少短板，脫貧攻堅任務艱巨，城鄉區域發展和收入分配差距依然較大，群衆在就業、教育、醫療、居住、養老等方面面臨不少難題；社會文明水平尚需提高；社會矛盾和問題交織疊加，全面依法治國任務依然繁重，國家治理體系和治理能力有待加強；意識形態領域鬥爭依然複雜，國家安全面臨新情況；一些改革部署和重大政策措施需要進一步落實；黨的建設方面還存在不少薄弱環節。這些問題，必須著力加以解決。\n",
    "\n",
    "五年來的成就，是黨中央堅強領導的結果，更是全黨全國各族人民共同奮鬥的結果。我代表中共中央，向全國各族人民，向各民主黨派、各人民團體和各界愛國人士，向香港特別行政區同胞、澳門特別行政區同胞和台灣同胞以及廣大僑胞，向關心和支持中國現代化建設的各國朋友，表示衷心的感謝！\n",
    "\n",
    "同志們！改革開放之初，我們黨發出了走自己的路、建設中國特色社會主義的偉大號召。從那時以來，我們黨團結帶領全國各族人民不懈奮鬥，推動我國經濟實力、科技實力、國防實力、綜合國力進入世界前列，推動我國國際地位實現前所未有的提升，黨的面貌、國家的面貌、人民的面貌、軍隊的面貌、中華民族的面貌發生了前所未有的變化，中華民族正以嶄新姿態屹立於世界的東方。\n",
    "\n",
    "經過長期努力，中國特色社會主義進入了新時代，這是我國發展新的歷史方位。\n",
    "\n",
    "中國特色社會主義進入新時代，意味著近代以來久經磨難的中華民族迎來了從站起來、富起來到強起來的偉大飛躍，迎來了實現中華民族偉大復興的光明前景；意味著科學社會主義在二十一世紀的中國煥發出強大生機活力，在世界上高高舉起了中國特色社會主義偉大旗幟；意味著中國特色社會主義道路、理論、制度、文化不斷發展，拓展了發展中國家走向現代化的途徑，給世界上那些既希望加快發展又希望保持自身獨立性的國家和民族提供了全新選擇，爲解決人類問題貢獻了中國智慧和中國方案。\n",
    "\n",
    "這個新時代，是承前啓後、繼往開來、在新的歷史條件下繼續奪取中國特色社會主義偉大勝利的時代，是決勝全面建成小康社會、進而全面建設社會主義現代化強國的時代，是全國各族人民團結奮鬥、不斷創造美好生活、逐步實現全體人民共同富裕的時代，是全體中華兒女勠力同心、奮力實現中華民族偉大復興中國夢的時代，是我國日益走近世界舞台中央、不斷爲人類作出更大貢獻的時代。\n",
    "\n",
    "中國特色社會主義進入新時代，我國社會主要矛盾已經轉化爲人民日益增長的美好生活需要和不平衡不充分的發展之間的矛盾。我國穩定解決了十幾億人的溫飽問題，總體上實現小康，不久將全面建成小康社會，人民美好生活需要日益廣泛，不僅對物質文化生活提出了更高要求，而且在民主、法治、公平、正義、安全、環境等方面的要求日益增長。同時，我國社會生産力水平總體上顯著提高，社會生産能力在很多方面進入世界前列，更加突出的問題是發展不平衡不充分，這已經成爲滿足人民日益增長的美好生活需要的主要制約因素。\n",
    "\n",
    "必須認識到，我國社會主要矛盾的變化是關系全局的歷史性變化，對黨和國家工作提出了許多新要求。我們要在繼續推動發展的基礎上，著力解決好發展不平衡不充分問題，大力提升發展質量和效益，更好滿足人民在經濟、政治、文化、社會、生態等方面日益增長的需要，更好推動人的全面發展、社會全面進步。\n",
    "\n",
    "必須認識到，我國社會主要矛盾的變化，沒有改變我們對我國社會主義所處歷史階段的判斷，我國仍處於並將長期處於社會主義初級階段的基本國情沒有變，我國是世界最大發展中國家的國際地位沒有變。全黨要牢牢把握社會主義初級階段這個基本國情，牢牢立足社會主義初級階段這個最大實際，牢牢堅持黨的基本路線這個黨和國家的生命線、人民的幸福線，領導和團結全國各族人民，以經濟建設爲中心，堅持四項基本原則，堅持改革開放，自力更生，艱苦創業，爲把我國建設成爲富強民主文明和諧美麗的社會主義現代化強國而奮鬥。\n",
    "\n",
    "同志們！中國特色社會主義進入新時代，在中華人民共和國發展史上、中華民族發展史上具有重大意義，在世界社會主義發展史上、人類社會發展史上也具有重大意義。全黨要堅定信心、奮發有爲，讓中國特色社會主義展現出更加強大的生命力！\n",
    "\n",
    "二、新時代中國共産黨的歷史使命\n",
    "\n",
    "一百年前，十月革命一聲炮響，給中國送來了馬克思列甯主義。中國先進分子從馬克思列寧主義的科學真理中看到了解決中國問題的出路。在近代以後中國社會的劇烈運動中，在中國人民反抗封建統治和外來侵略的激烈鬥爭中，在馬克思列甯主義同中國工人運動的結合過程中，一九二一年中國共産黨應運而生。從此，中國人民謀求民族獨立、人民解放和國家富強、人民幸福的鬥爭就有了主心骨，中國人民就從精神上由被動轉爲主動。\n",
    "\n",
    "中華民族有五千多年的文明歷史，創造了燦爛的中華文明，爲人類作出了卓越貢獻，成爲世界上偉大的民族。鴉片戰爭後，中國陷入內憂外患的黑暗境地，中國人民經曆了戰亂頻仍、山河破碎、民不聊生的深重苦難。爲了民族復興，無數仁人志士不屈不撓、前仆後繼，進行了可歌可泣的鬥爭，進行了各式各樣的嘗試，但終究未能改變舊中國的社會性質和中國人民的悲慘命運。\n",
    "\n",
    "實現中華民族偉大復興是近代以來中華民族最偉大的夢想。中國共産黨一經成立，就把實現共産主義作爲黨的最高理想和最終目標，義無反顧肩負起實現中華民族偉大復興的歷史使命，團結帶領人民進行了艱苦卓絕的鬥爭，譜寫了氣吞山河的壯麗史詩。\n",
    "\n",
    "我們黨深刻認識到，實現中華民族偉大復興，必須推翻壓在中國人民頭上的帝國主義、封建主義、官僚資本主義三座大山，實現民族獨立、人民解放、國家統一、社會穩定。我們黨團結帶領人民找到了一條以農村包圍城市、武裝奪取政權的正確革命道路，進行了二十八年浴血奮戰，完成了新民主主義革命，一九四九年建立了中華人民共和國，實現了中國從幾千年封建專制政治向人民民主的偉大飛躍。\n",
    "\n",
    "我們黨深刻認識到，實現中華民族偉大復興，必須建立符合我國實際的先進社會制度。我們黨團結帶領人民完成社會主義革命，確立社會主義基本制度，推進社會主義建設，完成了中華民族有史以來最爲廣泛而深刻的社會變革，爲當代中國一切發展進步奠定了根本政治前提和制度基礎，實現了中華民族由近代不斷衰落到根本扭轉命運、持續走向繁榮富強的偉大飛躍。\n",
    "\n",
    "我們黨深刻認識到，實現中華民族偉大復興，必須合乎時代潮流、順應人民意願，勇於改革開放，讓黨和人民事業始終充滿奮勇前進的強大動力。我們黨團結帶領人民進行改革開放新的偉大革命，破除阻礙國家和民族發展的一切思想和體制障礙，開辟了中國特色社會主義道路，使中國大踏步趕上時代。\n",
    "\n",
    "九十六年來，爲了實現中華民族偉大復興的歷史使命，無論是弱小還是強大，無論是順境還是逆境，我們黨都初心不改、矢志不渝，團結帶領人民曆經千難萬險，付出巨大犧牲，敢於面對曲折，勇於修正錯誤，攻克了一個又一個看似不可攻克的難關，創造了一個又一個彪炳史冊的人間奇迹。\n",
    "\n",
    "同志們！今天，我們比歷史上任何時期都更接近、更有信心和能力實現中華民族偉大復興的目標。\n",
    "\n",
    "行百里者半九十。中華民族偉大復興，絕不是輕輕鬆鬆、敲鑼打鼓就能實現的。全黨必須準備付出更爲艱巨、更爲艱苦的努力。\n",
    "\n",
    "實現偉大夢想，必須進行偉大鬥爭。社會是在矛盾運動中前進的，有矛盾就會有鬥爭。我們黨要團結帶領人民有效應對重大挑戰、抵禦重大風險、克服重大阻力、解決重大矛盾，必須進行具有許多新的歷史特點的偉大鬥爭，任何貪圖享受、消極懈怠、回避矛盾的思想和行爲都是錯誤的。全黨要更加自覺地堅持黨的領導和我國社會主義制度，堅決反對一切削弱、歪曲、否定黨的領導和我國社會主義制度的言行；更加自覺地維護人民利益，堅決反對一切損害人民利益、脫離群衆的行爲；更加自覺地投身改革創新時代潮流，堅決破除一切頑瘴痼疾；更加自覺地維護我國主權、安全、發展利益，堅決反對一切分裂祖國、破壞民族團結和社會和諧穩定的行爲；更加自覺地防範各種風險，堅決戰勝一切在政治、經濟、文化、社會等領域和自然界出現的困難和挑戰。全黨要充分認識這場偉大鬥爭的長期性、複雜性、艱巨性，發揚鬥爭精神，提高鬥爭本領，不斷奪取偉大鬥爭新勝利。\n",
    "\n",
    "實現偉大夢想，必須建設偉大工程。這個偉大工程就是我們黨正在深入推進的黨的建設新的偉大工程。歷史已經並將繼續證明，沒有中國共産黨的領導，民族複興必然是空想。我們黨要始終成爲時代先鋒、民族脊梁，始終成爲馬克思主義執政黨，自身必須始終過硬。全黨要更加自覺地堅定黨性原則，勇於直面問題，敢於刮骨療毒，消除一切損害黨的先進性和純潔性的因素，清除一切侵蝕黨的健康肌體的病毒，不斷增強黨的政治領導力、思想引領力、群衆組織力、社會號召力，確保我們黨永葆旺盛生命力和強大戰鬥力。\n",
    "\n",
    "實現偉大夢想，必須推進偉大事業。中國特色社會主義是改革開放以來黨的全部理論和實踐的主題，是黨和人民曆盡千辛萬苦、付出巨大代價取得的根本成就。中國特色社會主義道路是實現社會主義現代化、創造人民美好生活的必由之路，中國特色社會主義理論體系是指導黨和人民實現中華民族偉大復興的正確理論，中國特色社會主義制度是當代中國發展進步的根本制度保障，中國特色社會主義文化是激勵全黨全國各族人民奮勇前進的強大精神力量。全黨要更加自覺地增強道路自信、理論自信、制度自信、文化自信，既不走封閉僵化的老路，也不走改旗易幟的邪路，保持政治定力，堅持實幹興邦，始終堅持和發展中國特色社會主義。\n",
    "\n",
    "偉大鬥爭，偉大工程，偉大事業，偉大夢想，緊密聯系、相互貫通、相互作用，其中起決定性作用的是黨的建設新的偉大工程。推進偉大工程，要結合偉大鬥爭、偉大事業、偉大夢想的實踐來進行，確保黨在世界形勢深刻變化的歷史進程中始終走在時代前列，在應對國內外各種風險和考驗的歷史進程中始終成爲全國人民的主心骨，在堅持和發展中國特色社會主義的歷史進程中始終成爲堅強領導核心。\n",
    "\n",
    "同志們！使命呼喚擔當，使命引領未來。我們要不負人民重托、無愧歷史選擇，在新時代中國特色社會主義的偉大實踐中，以黨的堅強領導和頑強奮鬥，激勵全體中華兒女不斷奮進，凝聚起同心共築中國夢的磅礴力量！\n",
    "\n",
    "三、新時代中國特色社會主義思想和基本方略\n",
    "\n",
    "十八大以來，國內外形勢變化和我國各項事業發展都給我們提出了一個重大時代課題，這就是必須從理論和實踐結合上系統回答新時代堅持和發展什麽樣的中國特色社會主義、怎樣堅持和發展中國特色社會主義，包括新時代堅持和發展中國特色社會主義的總目標、總任務、總體布局、戰略布局和發展方向、發展方式、發展動力、戰略步驟、外部條件、政治保證等基本問題，並且要根據新的實踐對經濟、政治、法治、科技、文化、教育、民生、民族、宗教、社會、生態文明、國家安全、國防和軍隊、「一國兩制」和祖國統一、統一戰線、外交、黨的建設等各方面作出理論分析和政策指導，以利於更好堅持和發展中國特色社會主義。\n",
    "\n",
    "圍繞這個重大時代課題，我們黨堅持以馬克思列寧主義、毛澤東思想、鄧小平理論、「三個代表」重要思想、科學發展觀爲指導，堅持解放思想、實事求是、與時俱進、求真務實，堅持辯證唯物主義和歷史唯物主義，緊密結合新的時代條件和實踐要求，以全新的視野深化對共産黨執政規律、社會主義建設規律、人類社會發展規律的認識，進行艱辛理論探索，取得重大理論創新成果，形成了新時代中國特色社會主義思想。\n",
    "\n",
    "新時代中國特色社會主義思想，明確堅持和發展中國特色社會主義，總任務是實現社會主義現代化和中華民族偉大複興，在全面建成小康社會的基礎上，分兩步走在本世紀中葉建成富強民主文明和諧美麗的社會主義現代化強國；明確新時代我國社會主要矛盾是人民日益增長的美好生活需要和不平衡不充分的發展之間的矛盾，必須堅持以人民爲中心的發展思想，不斷促進人的全面發展、全體人民共同富裕；明確中國特色社會主義事業總體布局是「五位一體」、戰略布局是「四個全面」，強調堅定道路自信、理論自信、制度自信、文化自信；明確全面深化改革總目標是完善和發展中國特色社會主義制度、推進國家治理體系和治理能力現代化；明確全面推進依法治國總目標是建設中國特色社會主義法治體系、建設社會主義法治國家；明確黨在新時代的強軍目標是建設一支聽黨指揮、能打勝仗、作風優良的人民軍隊，把人民軍隊建設成爲世界一流軍隊；明確中國特色大國外交要推動構建新型國際關系，推動構建人類命運共同體；明確中國特色社會主義最本質的特征是中國共産黨領導，中國特色社會主義制度的最大優勢是中國共産黨領導，黨是最高政治領導力量，提出新時代黨的建設總要求，突出政治建設在黨的建設中的重要地位。\n",
    "\n",
    "新時代中國特色社會主義思想，是對馬克思列甯主義、毛澤東思想、鄧小平理論、「三個代表」重要思想、科學發展觀的繼承和發展，是馬克思主義中國化最新成果，是黨和人民實踐經驗和集體智慧的結晶，是中國特色社會主義理論體系的重要組成部分，是全黨全國人民爲實現中華民族偉大複興而奮鬥的行動指南，必須長期堅持並不斷發展。\n",
    "\n",
    "全黨要深刻領會新時代中國特色社會主義思想的精神實質和豐富內涵，在各項工作中全面准確貫徹落實。\n",
    "\n",
    "（一）堅持黨對一切工作的領導。黨政軍民學，東西南北中，黨是領導一切的。必須增強政治意識、大局意識、核心意識、看齊意識，自覺維護黨中央權威和集中統一領導，自覺在思想上政治上行動上同黨中央保持高度一致，完善堅持黨的領導的體制機制，堅持穩中求進工作總基調，統籌推進「五位一體」總體布局，協調推進「四個全面」戰略布局，提高黨把方向、謀大局、定政策、促改革的能力和定力，確保黨始終總攬全局、協調各方。\n",
    "\n",
    "（二）堅持以人民爲中心。人民是歷史的創造者，是決定黨和國家前途命運的根本力量。必須堅持人民主體地位，堅持立黨爲公、執政爲民，踐行全心全意爲人民服務的根本宗旨，把黨的群衆路線貫徹到治國理政全部活動之中，把人民對美好生活的嚮往作爲奮鬥目標，依靠人民創造歷史偉業。\n",
    "\n",
    "（三）堅持全面深化改革。只有社會主義才能救中國，只有改革開放才能發展中國、發展社會主義、發展馬克思主義。必須堅持和完善中國特色社會主義制度，不斷推進國家治理體系和治理能力現代化，堅決破除一切不合時宜的思想觀念和體制機制弊端，突破利益固化的藩籬，吸收人類文明有益成果，構建系統完備、科學規範、運行有效的制度體系，充分發揮我國社會主義制度優越性。\n",
    "\n",
    "（四）堅持新發展理念。發展是解決我國一切問題的基礎和關鍵，發展必須是科學發展，必須堅定不移貫徹創新、協調、綠色、開放、共享的發展理念。必須堅持和完善我國社會主義基本經濟制度和分配制度，毫不動搖鞏固和發展公有制經濟，毫不動搖鼓勵、支持、引導非公有制經濟發展，使市場在資源配置中起決定性作用，更好發揮政府作用，推動新型工業化、信息化、城鎮化、農業現代化同步發展，主動參與和推動經濟全球化進程，發展更高層次的開放型經濟，不斷壯大我國經濟實力和綜合國力。\n",
    "\n",
    "（五）堅持人民當家作主。堅持黨的領導、人民當家作主、依法治國有機統一是社會主義政治發展的必然要求。必須堅持中國特色社會主義政治發展道路，堅持和完善人民代表大會制度、中國共産黨領導的多黨合作和政治協商制度、民族區域自治制度、基層群衆自治制度，鞏固和發展最廣泛的愛國統一戰線，發展社會主義協商民主，健全民主制度，豐富民主形式，拓寬民主渠道，保證人民當家作主落實到國家政治生活和社會生活之中。\n",
    "\n",
    "（六）堅持全面依法治國。全面依法治國是中國特色社會主義的本質要求和重要保障。必須把黨的領導貫徹落實到依法治國全過程和各方面，堅定不移走中國特色社會主義法治道路，完善以憲法爲核心的中國特色社會主義法律體系，建設中國特色社會主義法治體系，建設社會主義法治國家，發展中國特色社會主義法治理論，堅持依法治國、依法執政、依法行政共同推進，堅持法治國家、法治政府、法治社會一體建設，堅持依法治國和以德治國相結合，依法治國和依規治黨有機統一，深化司法體制改革，提高全民族法治素養和道德素質。\n",
    "\n",
    "（七）堅持社會主義核心價值體系。文化自信是一個國家、一個民族發展中更基本、更深沉、更持久的力量。必須堅持馬克思主義，牢固樹立共産主義遠大理想和中國特色社會主義共同理想，培育和踐行社會主義核心價值觀，不斷增強意識形態領域主導權和話語權，推動中華優秀傳統文化創造性轉化、創新性發展，繼承革命文化，發展社會主義先進文化，不忘本來、吸收外來、面向未來，更好構築中國精神、中國價值、中國力量，爲人民提供精神指引。\n",
    "\n",
    "（八）堅持在發展中保障和改善民生。增進民生福祉是發展的根本目的。必須多謀民生之利、多解民生之憂，在發展中補齊民生短板、促進社會公平正義，在幼有所育、學有所教、勞有所得、病有所醫、老有所養、住有所居、弱有所扶上不斷取得新進展，深入開展脫貧攻堅，保證全體人民在共建共享發展中有更多獲得感，不斷促進人的全面發展、全體人民共同富裕。建設平安中國，加強和創新社會治理，維護社會和諧穩定，確保國家長治久安、人民安居樂業。\n",
    "\n",
    "（九）堅持人與自然和諧共生。建設生態文明是中華民族永續發展的千年大計。必須樹立和踐行綠水青山就是金山銀山的理念，堅持節約資源和保護環境的基本國策，像對待生命一樣對待生態環境，統籌山水林田湖草系統治理，實行最嚴格的生態環境保護制度，形成綠色發展方式和生活方式，堅定走生産發展、生活富裕、生態良好的文明發展道路，建設美麗中國，爲人民創造良好生産生活環境，爲全球生態安全作出貢獻。\n",
    "\n",
    "（十）堅持總體國家安全觀。統籌發展和安全，增強憂患意識，做到居安思危，是我們黨治國理政的一個重大原則。必須堅持國家利益至上，以人民安全爲宗旨，以政治安全爲根本，統籌外部安全和內部安全、國土安全和國民安全、傳統安全和非傳統安全、自身安全和共同安全，完善國家安全制度體系，加強國家安全能力建設，堅決維護國家主權、安全、發展利益。\n",
    "\n",
    "（十一）堅持黨對人民軍隊的絕對領導。建設一支聽黨指揮、能打勝仗、作風優良的人民軍隊，是實現「兩個一百年」奮鬥目標、實現中華民族偉大複興的戰略支撐。必須全面貫徹黨領導人民軍隊的一系列根本原則和制度，確立新時代黨的強軍思想在國防和軍隊建設中的指導地位，堅持政治建軍、改革強軍、科技興軍、依法治軍，更加注重聚焦實戰，更加注重創新驅動，更加注重體系建設，更加注重集約高效，更加注重軍民融合，實現黨在新時代的強軍目標。\n",
    "\n",
    "（十二）堅持「一國兩制」和推進祖國統一。保持香港、澳門長期繁榮穩定，實現祖國完全統一，是實現中華民族偉大複興的必然要求。必須把維護中央對香港、澳門特別行政區全面管治權和保障特別行政區高度自治權有機結合起來，確保「一國兩制」方針不會變、不動搖，確保「一國兩制」實踐不變形、不走樣。必須堅持一個中國原則，堅持「九二共識」，推動兩岸關系和平發展，深化兩岸經濟合作和文化往來，推動兩岸同胞共同反對一切分裂國家的活動，共同爲實現中華民族偉大複興而奮鬥。\n",
    "\n",
    "（十三）堅持推動構建人類命運共同體。中國人民的夢想同各國人民的夢想息息相通，實現中國夢離不開和平的國際環境和穩定的國際秩序。必須統籌國內國際兩個大局，始終不渝走和平發展道路、奉行互利共贏的開放戰略，堅持正確義利觀，樹立共同、綜合、合作、可持續的新安全觀，謀求開放創新、包容互惠的發展前景，促進和而不同、兼收並蓄的文明交流，構築尊崇自然、綠色發展的生態體系，始終做世界和平的建設者、全球發展的貢獻者、國際秩序的維護者。\n",
    "\n",
    "（十四）堅持全面從嚴治黨。勇於自我革命，從嚴管黨治黨，是我們黨最鮮明的品格。必須以黨章爲根本遵循，把黨的政治建設擺在首位，思想建黨和制度治黨同向發力，統籌推進黨的各項建設，抓住「關鍵少數」，堅持「三嚴三實」，堅持民主集中制，嚴肅黨內政治生活，嚴明黨的紀律，強化黨內監督，發展積極健康的黨內政治文化，全面淨化黨內政治生態，堅決糾正各種不正之風，以零容忍態度懲治腐敗，不斷增強黨自我淨化、自我完善、自我革新、自我提高的能力，始終保持黨同人民群衆的血肉聯繫。\n",
    "\n",
    "以上十四條，構成新時代堅持和發展中國特色社會主義的基本方略。全黨同志必須全面貫徹黨的基本理論、基本路線、基本方略，更好引領黨和人民事業發展。\n",
    "\n",
    "實踐沒有止境，理論創新也沒有止境。世界每時每刻都在發生變化，中國也每時每刻都在發生變化，我們必須在理論上跟上時代，不斷認識規律，不斷推進理論創新、實踐創新、制度創新、文化創新以及其他各方面創新。\n",
    "\n",
    "同志們！時代是思想之母，實踐是理論之源。只要我們善於聆聽時代聲音，勇於堅持真理、修正錯誤，二十一世紀中國的馬克思主義一定能夠展現出更強大、更有說服力的真理力量！\n",
    "\n",
    "四、決勝全面建成小康社會，開啓全面建設社會主義現代化國家新征程\n",
    "\n",
    "改革開放之後，我們黨對我國社會主義現代化建設作出戰略安排，提出「三步走」戰略目標。解決人民溫飽問題、人民生活總體上達到小康水平這兩個目標已提前實現。在這個基礎上，我們黨提出，到建黨一百年時建成經濟更加發展、民主更加健全、科教更加進步、文化更加繁榮、社會更加和諧、人民生活更加殷實的小康社會，然後再奮鬥三十年，到新中國成立一百年時，基本實現現代化，把我國建成社會主義現代化國家。\n",
    "\n",
    "從現在到二〇二〇年，是全面建成小康社會決勝期。要按照十六大、十七大、十八大提出的全面建成小康社會各項要求，緊扣我國社會主要矛盾變化，統籌推進經濟建設、政治建設、文化建設、社會建設、生態文明建設，堅定實施科教興國戰略、人才強國戰略、創新驅動發展戰略、鄉村振興戰略、區域協調發展戰略、可持續發展戰略、軍民融合發展戰略，突出抓重點、補短板、強弱項，特別是要堅決打好防範化解重大風險、精准脫貧、汙染防治的攻堅戰，使全面建成小康社會得到人民認可、經得起歷史檢驗。\n",
    "\n",
    "從十九大到二十大，是「兩個一百年」奮鬥目標的歷史交彙期。我們既要全面建成小康社會、實現第一個百年奮鬥目標，又要乘勢而上開啓全面建設社會主義現代化國家新征程，向第二個百年奮鬥目標進軍。\n",
    "\n",
    "綜合分析國際國內形勢和我國發展條件，從二〇二〇年到本世紀中葉可以分兩個階段來安排。\n",
    "\n",
    "第一個階段，從二〇二〇年到二〇三五年，在全面建成小康社會的基礎上，再奮鬥十五年，基本實現社會主義現代化。到那時，我國經濟實力、科技實力將大幅躍升，躋身創新型國家前列；人民平等參與、平等發展權利得到充分保障，法治國家、法治政府、法治社會基本建成，各方面制度更加完善，國家治理體系和治理能力現代化基本實現；社會文明程度達到新的高度，國家文化軟實力顯著增強，中華文化影響更加廣泛深入；人民生活更爲寬裕，中等收入群體比例明顯提高，城鄉區域發展差距和居民生活水平差距顯著縮小，基本公共服務均等化基本實現，全體人民共同富裕邁出堅實步伐；現代社會治理格局基本形成，社會充滿活力又和諧有序；生態環境根本好轉，美麗中國目標基本實現。\n",
    "\n",
    "第二個階段，從二〇三五年到本世紀中葉，在基本實現現代化的基礎上，再奮鬥十五年，把我國建成富強民主文明和諧美麗的社會主義現代化強國。到那時，我國物質文明、政治文明、精神文明、社會文明、生態文明將全面提升，實現國家治理體系和治理能力現代化，成爲綜合國力和國際影響力領先的國家，全體人民共同富裕基本實現，我國人民將享有更加幸福安康的生活，中華民族將以更加昂揚的姿態屹立於世界民族之林。\n",
    "\n",
    "同志們！從全面建成小康社會到基本實現現代化，再到全面建成社會主義現代化強國，是新時代中國特色社會主義發展的戰略安排。我們要堅忍不拔、鍥而不舍，奮力譜寫社會主義現代化新征程的壯麗篇章！\n",
    "\n",
    "五、貫徹新發展理念，建設現代化經濟體系\n",
    "\n",
    "實現「兩個一百年」奮鬥目標、實現中華民族偉大復興的中國夢，不斷提高人民生活水平，必須堅定不移把發展作爲黨執政興國的第一要務，堅持解放和發展社會生産力，堅持社會主義市場經濟改革方向，推動經濟持續健康發展。\n",
    "\n",
    "我國經濟已由高速增長階段轉向高質量發展階段，正處在轉變發展方式、優化經濟結構、轉換增長動力的攻關期，建設現代化經濟體系是跨越關口的迫切要求和我國發展的戰略目標。必須堅持質量第一、效益優先，以供給側結構性改革爲主線，推動經濟發展質量變革、效率變革、動力變革，提高全要素生産率，著力加快建設實體經濟、科技創新、現代金融、人力資源協同發展的産業體系，著力構建市場機制有效、微觀主體有活力、宏觀調控有度的經濟體制，不斷增強我國經濟創新力和競爭力。\n",
    "\n",
    "（一）深化供給側結構性改革。建設現代化經濟體系，必須把發展經濟的著力點放在實體經濟上，把提高供給體系質量作爲主攻方向，顯著增強我國經濟質量優勢。加快建設制造強國，加快發展先進製造業，推動互聯網、大數據、人工智能和實體經濟深度融合，在中高端消費、創新引領、綠色低碳、共享經濟、現代供應鏈、人力資本服務等領域培育新增長點、形成新動能。支持傳統産業優化升級，加快發展現代服務業，瞄准國際標准提高水平。促進我國産業邁向全球價值鏈中高端，培育若干世界級先進製造業集群。加強水利、鐵路、公路、水運、航空、管道、電網、信息、物流等基礎設施網絡建設。堅持去産能、去庫存、去槓桿、降成本、補短板，優化存量資源配置，擴大優質增量供給，實現供需動態平衡。激發和保護企業家精神，鼓勵更多社會主體投身創新創業。建設知識型、技能型、創新型勞動者大軍，弘揚勞模精神和工匠精神，營造勞動光榮的社會風尚和精益求精的敬業風氣。\n",
    "\n",
    "（二）加快建設創新型國家。創新是引領發展的第一動力，是建設現代化經濟體系的戰略支撐。要瞄准世界科技前沿，強化基礎研究，實現前瞻性基礎研究、引領性原創成果重大突破。加強應用基礎研究，拓展實施國家重大科技項目，突出關鍵共性技術、前沿引領技術、現代工程技術、顛覆性技術創新，爲建設科技強國、質量強國、航天強國、網絡強國、交通強國、數字中國、智慧社會提供有力支撐。加強國家創新體系建設，強化戰略科技力量。深化科技體制改革，建立以企業爲主體、市場爲導向、産學研深度融合的技術創新體系，加強對中小企業創新的支持，促進科技成果轉化。倡導創新文化，強化知識産權創造、保護、運用。培養造就一大批具有國際水平的戰略科技人才、科技領軍人才、青年科技人才和高水平創新團隊。\n",
    "\n",
    "（三）實施鄉村振興戰略。農業農村農民問題是關系國計民生的根本性問題，必須始終把解決好「三農」問題作爲全黨工作重中之重。要堅持農業農村優先發展，按照産業興旺、生態宜居、鄉風文明、治理有效、生活富裕的總要求，建立健全城鄉融合發展體制機制和政策體系，加快推進農業農村現代化。鞏固和完善農村基本經營制度，深化農村土地制度改革，完善承包地「三權」分置制度。保持土地承包關系穩定並長久不變，第二輪土地承包到期後再延長三十年。深化農村集體産權制度改革，保障農民財産權益，壯大集體經濟。確保國家糧食安全，把中國人的飯碗牢牢端在自己手中。構建現代農業産業體系、生産體系、經營體系，完善農業支持保護制度，發展多種形式適度規模經營，培育新型農業經營主體，健全農業社會化服務體系，實現小農戶和現代農業發展有機銜接。促進農村一二三産業融合發展，支持和鼓勵農民就業創業，拓寬增收渠道。加強農村基層基礎工作，健全自治、法治、德治相結合的鄉村治理體系。培養造就一支懂農業、愛農村、愛農民的「三農」工作隊伍。\n",
    "\n",
    "（四）實施區域協調發展戰略。加大力度支持革命老區、民族地區、邊疆地區、貧困地區加快發展，強化舉措推進西部大開發形成新格局，深化改革加快東北等老工業基地振興，發揮優勢推動中部地區崛起，創新引領率先實現東部地區優化發展，建立更加有效的區域協調發展新機制。以城市群爲主體構建大中小城市和小城鎮協調發展的城鎮格局，加快農業轉移人口市民化。以疏解北京非首都功能爲「牛鼻子」推動京津冀協同發展，高起點規劃、高標准建設雄安新區。以共抓大保護、不搞大開發爲導向推動長江經濟帶發展。支持資源型地區經濟轉型發展。加快邊疆發展，確保邊疆鞏固、邊境安全。堅持陸海統籌，加快建設海洋強國。\n",
    "\n",
    "（五）加快完善社會主義市場經濟體制。經濟體制改革必須以完善産權制度和要素市場化配置爲重點，實現産權有效激勵、要素自由流動、價格反應靈活、競爭公平有序、企業優勝劣汰。要完善各類國有資産管理體制，改革國有資本授權經營體制，加快國有經濟布局優化、結構調整、戰略性重組，促進國有資産保值增值，推動國有資本做強做優做大，有效防止國有資産流失。深化國有企業改革，發展混合所有制經濟，培育具有全球競爭力的世界一流企業。全面實施市場准入負面清單制度，清理廢除妨礙統一市場和公平競爭的各種規定和做法，支持民營企業發展，激發各類市場主體活力。深化商事制度改革，打破行政性壟斷，防止市場壟斷，加快要素價格市場化改革，放寬服務業准入限制，完善市場監管體制。創新和完善宏觀調控，發揮國家發展規劃的戰略導向作用，健全財政、貨幣、産業、區域等經濟政策協調機制。完善促進消費的體制機制，增強消費對經濟發展的基礎性作用。深化投融資體制改革，發揮投資對優化供給結構的關鍵性作用。加快建立現代財政制度，建立權責清晰、財力協調、區域均衡的中央和地方財政關系。建立全面規範透明、標准科學、約束有力的預算制度，全面實施績效管理。深化稅收制度改革，健全地方稅體系。深化金融體制改革，增強金融服務實體經濟能力，提高直接融資比重，促進多層次資本市場健康發展。健全貨幣政策和宏觀審慎政策雙支柱調控框架，深化利率和彙率市場化改革。健全金融監管體系，守住不發生系統性金融風險的底線。\n",
    "\n",
    "（六）推動形成全面開放新格局。開放帶來進步，封閉必然落後。中國開放的大門不會關閉，只會越開越大。要以「一帶一路」建設爲重點，堅持引進來和走出去並重，遵循共商共建共享原則，加強創新能力開放合作，形成陸海內外聯動、東西雙向互濟的開放格局。拓展對外貿易，培育貿易新業態新模式，推進貿易強國建設。實行高水平的貿易和投資自由化便利化政策，全面實行准入前國民待遇加負面清單管理制度，大幅度放寬市場准入，擴大服務業對外開放，保護外商投資合法權益。凡是在我國境內注冊的企業，都要一視同仁、平等對待。優化區域開放布局，加大西部開放力度。賦予自由貿易試驗區更大改革自主權，探索建設自由貿易港。創新對外投資方式，促進國際産能合作，形成面向全球的貿易、投融資、生産、服務網絡，加快培育國際經濟合作和競爭新優勢。\n",
    "\n",
    "同志們！解放和發展社會生産力，是社會主義的本質要求。我們要激發全社會創造力和發展活力，努力實現更高質量、更有效率、更加公平、更可持續的發展！\n",
    "\n",
    "六、健全人民當家作主制度體系，發展社會主義民主政治\n",
    "\n",
    "我國是工人階級領導的、以工農聯盟爲基礎的人民民主專政的社會主義國家，國家一切權力屬於人民。我國社會主義民主是維護人民根本利益的最廣泛、最真實、最管用的民主。發展社會主義民主政治就是要體現人民意志、保障人民權益、激發人民創造活力，用制度體系保證人民當家作主。\n",
    "\n",
    "中國特色社會主義政治發展道路，是近代以來中國人民長期奮鬥歷史邏輯、理論邏輯、實踐邏輯的必然結果，是堅持黨的本質屬性、踐行黨的根本宗旨的必然要求。世界上沒有完全相同的政治制度模式，政治制度不能脫離特定社會政治條件和歷史文化傳統來抽象評判，不能定於一尊，不能生搬硬套外國政治制度模式。要長期堅持、不斷發展我國社會主義民主政治，積極穩妥推進政治體制改革，推進社會主義民主政治制度化、規範化、法治化、程序化，保證人民依法通過各種途徑和形式管理國家事務，管理經濟文化事業，管理社會事務，鞏固和發展生動活潑、安定團結的政治局面。\n",
    "\n",
    "（一）堅持黨的領導、人民當家作主、依法治國有機統一。黨的領導是人民當家作主和依法治國的根本保證，人民當家作主是社會主義民主政治的本質特征，依法治國是黨領導人民治理國家的基本方式，三者統一於我國社會主義民主政治偉大實踐。在我國政治生活中，黨是居於領導地位的，加強黨的集中統一領導，支持人大、政府、政協和法院、檢察院依法依章程履行職能、開展工作、發揮作用，這兩個方面是統一的。要改進黨的領導方式和執政方式，保證黨領導人民有效治理國家；擴大人民有序政治參與，保證人民依法實行民主選舉、民主協商、民主決策、民主管理、民主監督；維護國家法制統一、尊嚴、權威，加強人權法治保障，保證人民依法享有廣泛權利和自由。鞏固基層政權，完善基層民主制度，保障人民知情權、參與權、表達權、監督權。健全依法決策機制，構建決策科學、執行堅決、監督有力的權力運行機制。各級領導幹部要增強民主意識，發揚民主作風，接受人民監督，當好人民公僕。\n",
    "\n",
    "（二）加強人民當家作主制度保障。人民代表大會制度是堅持黨的領導、人民當家作主、依法治國有機統一的根本政治制度安排，必須長期堅持、不斷完善。要支持和保證人民通過人民代表大會行使國家權力。發揮人大及其常委會在立法工作中的主導作用，健全人大組織制度和工作制度，支持和保證人大依法行使立法權、監督權、決定權、任免權，更好發揮人大代表作用，使各級人大及其常委會成爲全面擔負起憲法法律賦予的各項職責的工作機關，成爲同人民群衆保持密切聯系的代表機關。完善人大專門委員會設置，優化人大常委會和專門委員會組成人員結構。\n",
    "\n",
    "（三）發揮社會主義協商民主重要作用。有事好商量，衆人的事情由衆人商量，是人民民主的真谛。協商民主是實現黨的領導的重要方式，是我國社會主義民主政治的特有形式和獨特優勢。要推動協商民主廣泛、多層、制度化發展，統籌推進政黨協商、人大協商、政府協商、政協協商、人民團體協商、基層協商以及社會組織協商。加強協商民主制度建設，形成完整的制度程序和參與實踐，保證人民在日常政治生活中有廣泛持續深入參與的權利。\n",
    "\n",
    "人民政協是具有中國特色的制度安排，是社會主義協商民主的重要渠道和專門協商機構。人民政協工作要聚焦黨和國家中心任務，圍繞團結和民主兩大主題，把協商民主貫穿政治協商、民主監督、參政議政全過程，完善協商議政內容和形式，著力增進共識、促進團結。加強人民政協民主監督，重點監督黨和國家重大方針政策和重要決策部署的貫徹落實。增強人民政協界別的代表性，加強委員隊伍建設。\n",
    "\n",
    "（四）深化依法治國實踐。全面依法治國是國家治理的一場深刻革命，必須堅持厲行法治，推進科學立法、嚴格執法、公正司法、全民守法。成立中央全面依法治國領導小組，加強對法治中國建設的統一領導。加強憲法實施和監督，推進合憲性審查工作，維護憲法權威。推進科學立法、民主立法、依法立法，以良法促進發展、保障善治。建設法治政府，推進依法行政，嚴格規範公正文明執法。深化司法體制綜合配套改革，全面落實司法責任制，努力讓人民群衆在每一個司法案件中感受到公平正義。加大全民普法力度，建設社會主義法治文化，樹立憲法法律至上、法律面前人人平等的法治理念。各級黨組織和全體黨員要帶頭尊法學法守法用法，任何組織和個人都不得有超越憲法法律的特權，絕不允許以言代法、以權壓法、逐利違法、徇私枉法。\n",
    "\n",
    "（五）深化機構和行政體制改革。統籌考慮各類機構設置，科學配置黨政部門及內設機構權力、明確職責。統籌使用各類編制資源，形成科學合理的管理體制，完善國家機構組織法。轉變政府職能，深化簡政放權，創新監管方式，增強政府公信力和執行力，建設人民滿意的服務型政府。賦予省級及以下政府更多自主權。在省市縣對職能相近的黨政機關探索合並設立或合署辦公。深化事業單位改革，強化公益屬性，推進政事分開、事企分開、管辦分離。\n",
    "\n",
    "（六）鞏固和發展愛國統一戰線。統一戰線是黨的事業取得勝利的重要法寶，必須長期堅持。要高舉愛國主義、社會主義旗幟，牢牢把握大團結大聯合的主題，堅持一致性和多樣性統一，找到最大公約數，畫出最大同心圓。堅持長期共存、互相監督、肝膽相照、榮辱與共，支持民主黨派按照中國特色社會主義參政黨要求更好履行職能。深化民族團結進步教育，鑄牢中華民族共同體意識，加強各民族交往交流交融，促進各民族像石榴籽一樣緊緊抱在一起，共同團結奮鬥、共同繁榮發展。全面貫徹黨的宗教工作基本方針，堅持我國宗教的中國化方向，積極引導宗教與社會主義社會相適應。加強黨外知識分子工作，做好新的社會階層人士工作，發揮他們在中國特色社會主義事業中的重要作用。構建親清新型政商關系，促進非公有制經濟健康發展和非公有制經濟人士健康成長。廣泛團結聯系海外僑胞和歸僑僑眷，共同致力於中華民族偉大復興。\n",
    "\n",
    "同志們！中國特色社會主義政治制度是中國共産黨和中國人民的偉大創造。我們完全有信心、有能力把我國社會主義民主政治的優勢和特點充分發揮出來，爲人類政治文明進步作出充滿中國智慧的貢獻！\n",
    "\n",
    "七、堅定文化自信，推動社會主義文化繁榮興盛\n",
    "\n",
    "文化是一個國家、一個民族的靈魂。文化興國運興，文化強民族強。沒有高度的文化自信，沒有文化的繁榮興盛，就沒有中華民族偉大複興。要堅持中國特色社會主義文化發展道路，激發全民族文化創新創造活力，建設社會主義文化強國。\n",
    "\n",
    "中國特色社會主義文化，源自於中華民族五千多年文明歷史所孕育的中華優秀傳統文化，熔鑄于黨領導人民在革命、建設、改革中創造的革命文化和社會主義先進文化，植根於中國特色社會主義偉大實踐。發展中國特色社會主義文化，就是以馬克思主義爲指導，堅守中華文化立場，立足當代中國現實，結合當今時代條件，發展面向現代化、面向世界、面向未來的，民族的科學的大衆的社會主義文化，推動社會主義精神文明和物質文明協調發展。要堅持爲人民服務、爲社會主義服務，堅持百花齊放、百家爭鳴，堅持創造性轉化、創新性發展，不斷鑄就中華文化新輝煌。\n",
    "\n",
    "（一）牢牢掌握意識形態工作領導權。意識形態決定文化前進方向和發展道路。必須推進馬克思主義中國化時代化大衆化，建設具有強大凝聚力和引領力的社會主義意識形態，使全體人民在理想信念、價值理念、道德觀念上緊緊團結在一起。要加強理論武裝，推動新時代中國特色社會主義思想深入人心。深化馬克思主義理論研究和建設，加快構建中國特色哲學社會科學，加強中國特色新型智庫建設。高度重視傳播手段建設和創新，提高新聞輿論傳播力、引導力、影響力、公信力。加強互聯網內容建設，建立網絡綜合治理體系，營造清朗的網絡空間。落實意識形態工作責任制，加強陣地建設和管理，注意區分政治原則問題、思想認識問題、學術觀點問題，旗幟鮮明反對和抵制各種錯誤觀點。\n",
    "\n",
    "（二）培育和踐行社會主義核心價值觀。社會主義核心價值觀是當代中國精神的集中體現，凝結著全體人民共同的價值追求。要以培養擔當民族複興大任的時代新人爲著眼點，強化教育引導、實踐養成、制度保障，發揮社會主義核心價值觀對國民教育、精神文明創建、精神文化産品創作生産傳播的引領作用，把社會主義核心價值觀融入社會發展各方面，轉化爲人們的情感認同和行爲習慣。堅持全民行動、幹部帶頭，從家庭做起，從娃娃抓起。深入挖掘中華優秀傳統文化蘊含的思想觀念、人文精神、道德規範，結合時代要求繼承創新，讓中華文化展現出永久魅力和時代風采。\n",
    "\n",
    "（三）加強思想道德建設。人民有信仰，國家有力量，民族有希望。要提高人民思想覺悟、道德水准、文明素養，提高全社會文明程度。廣泛開展理想信念教育，深化中國特色社會主義和中國夢宣傳教育，弘揚民族精神和時代精神，加強愛國主義、集體主義、社會主義教育，引導人們樹立正確的歷史觀、民族觀、國家觀、文化觀。深入實施公民道德建設工程，推進社會公德、職業道德、家庭美德、個人品德建設，激勵人們向上向善、孝老於親，忠於祖國、忠于人民。加強和改進思想政治工作，深化群衆性精神文明創建活動。弘揚科學精神，普及科學知識，開展移風易俗、弘揚時代新風行動，抵制腐朽落後文化侵蝕。推進誠信建設和志願服務制度化，強化社會責任意識、規則意識、奉獻意識。\n",
    "\n",
    "（四）繁榮發展社會主義文藝。社會主義文藝是人民的文藝，必須堅持以人民爲中心的創作導向，在深入生活、紮根人民中進行無愧於時代的文藝創造。要繁榮文藝創作，堅持思想精深、藝術精湛、制作精良相統一，加強現實題材創作，不斷推出謳歌黨、謳歌祖國、謳歌人民、謳歌英雄的精品力作。發揚學術民主、藝術民主，提升文藝原創力，推動文藝創新。倡導講品位、講格調、講責任，抵制低俗、庸俗、媚俗。加強文藝隊伍建設，造就一大批德藝雙馨名家大師，培育一大批高水平創作人才。\n",
    "\n",
    "（五）推動文化事業和文化産業發展。滿足人民過上美好生活的新期待，必須提供豐富的精神食糧。要深化文化體制改革，完善文化管理體制，加快構建把社會效益放在首位、社會效益和經濟效益相統一的體制機制。完善公共文化服務體系，深入實施文化惠民工程，豐富群衆性文化活動。加強文物保護利用和文化遺産保護傳承。健全現代文化産業體系和市場體系，創新生産經營機制，完善文化經濟政策，培育新型文化業態。廣泛開展全民健身活動，加快推進體育強國建設，籌辦好北京冬奧會、冬殘奧會。加強中外人文交流，以我爲主、兼收並蓄。推進國際傳播能力建設，講好中國故事，展現真實、立體、全面的中國，提高國家文化軟實力。\n",
    "\n",
    "同志們！中國共産黨從成立之日起，既是中國先進文化的積極引領者和踐行者，又是中華優秀傳統文化的忠實傳承者和弘揚者。當代中國共産黨人和中國人民應該而且一定能夠擔負起新的文化使命，在實踐創造中進行文化創造，在歷史進步中實現文化進步！\n",
    "\n",
    "八、提高保障和改善民生水平，加強和創新社會治理\n",
    "\n",
    "全黨必須牢記，爲什麽人的問題，是檢驗一個政黨、一個政權性質的試金石。帶領人民創造美好生活，是我們黨始終不渝的奮鬥目標。必須始終把人民利益擺在至高無上的地位，讓改革發展成果更多更公平惠及全體人民，朝著實現全體人民共同富裕不斷邁進。\n",
    "\n",
    "保障和改善民生要抓住人民最關心最直接最現實的利益問題，既盡力而爲，又量力而行，一件事情接著一件事情辦，一年接著一年幹。堅持人人盡責、人人享有，堅守底線、突出重點、完善制度、引導預期，完善公共服務體系，保障群衆基本生活，不斷滿足人民日益增長的美好生活需要，不斷促進社會公平正義，形成有效的社會治理、良好的社會秩序，使人民獲得感、幸福感、安全感更加充實、更有保障、更可持續。\n",
    "\n",
    "（一）優先發展教育事業。建設教育強國是中華民族偉大複興的基礎工程，必須把教育事業放在優先位置，加快教育現代化，辦好人民滿意的教育。要全面貫徹黨的教育方針，落實立德樹人根本任務，發展素質教育，推進教育公平，培養德智體美全面發展的社會主義建設者和接班人。推動城鄉義務教育一體化發展，高度重視農村義務教育，辦好學前教育、特殊教育和網絡教育，普及高中階段教育，努力讓每個孩子都能享有公平而有質量的教育。完善職業教育和培訓體系，深化産教融合、校企合作。加快一流大學和一流學科建設，實現高等教育內涵式發展。健全學生資助制度，使絕大多數城鄉新增勞動力接受高中階段教育、更多接受高等教育。支持和規範社會力量興辦教育。加強師德師風建設，培養高素質教師隊伍，倡導全社會尊師重教。辦好繼續教育，加快建設學習型社會，大力提高國民素質。\n",
    "\n",
    "（二）提高就業質量和人民收入水平。就業是最大的民生。要堅持就業優先戰略和積極就業政策，實現更高質量和更充分就業。大規模開展職業技能培訓，注重解決結構性就業矛盾，鼓勵創業帶動就業。提供全方位公共就業服務，促進高校畢業生等青年群體、農民工多渠道就業創業。破除妨礙勞動力、人才社會性流動的體制機制弊端，使人人都有通過辛勤勞動實現自身發展的機會。完善政府、工會、企業共同參與的協商協調機制，構建和諧勞動關系。堅持按勞分配原則，完善按要素分配的體制機制，促進收入分配更合理、更有序。鼓勵勤勞守法致富，擴大中等收入群體，增加低收入者收入，調節過高收入，取締非法收入。堅持在經濟增長的同時實現居民收入同步增長、在勞動生産率提高的同時實現勞動報酬同步提高。拓寬居民勞動收入和財産性收入渠道。履行好政府再分配調節職能，加快推進基本公共服務均等化，縮小收入分配差距。\n",
    "\n",
    "（三）加強社會保障體系建設。按照兜底線、織密網、建機制的要求，全面建成覆蓋全民、城鄉統籌、權責清晰、保障適度、可持續的多層次社會保障體系。全面實施全民參保計劃。完善城鎮職工基本養老保險和城鄉居民基本養老保險制度，盡快實現養老保險全國統籌。完善統一的城鄉居民基本醫療保險制度和大病保險制度。完善失業、工傷保險制度。建立全國統一的社會保險公共服務平台。統籌城鄉社會救助體系，完善最低生活保障制度。堅持男女平等基本國策，保障婦女兒童合法權益。完善社會救助、社會福利、慈善事業、優撫安置等制度，健全農村留守兒童和婦女、老年人關愛服務體系。發展殘疾人事業，加強殘疾康複服務。堅持房子是用來住的、不是用來炒的定位，加快建立多主體供給、多渠道保障、租購並舉的住房制度，讓全體人民住有所居。\n",
    "\n",
    "（四）堅決打贏脫貧攻堅戰。讓貧困人口和貧困地區同全國一道進入全面小康社會是我們黨的莊嚴承諾。要動員全黨全國全社會力量，堅持精准扶貧、精准脫貧，堅持中央統籌省負總責市縣抓落實的工作機制，強化黨政一把手負總責的責任制，堅持大扶貧格局，注重扶貧同扶志、扶智相結合，深入實施東西部扶貧協作，重點攻克深度貧困地區脫貧任務，確保到二〇二〇年我國現行標准下農村貧困人口實現脫貧，貧困縣全部摘帽，解決區域性整體貧困，做到脫真貧、真脫貧。\n",
    "\n",
    "（五）實施健康中國戰略。人民健康是民族昌盛和國家富強的重要標誌。要完善國民健康政策，爲人民群衆提供全方位全周期健康服務。深化醫藥衛生體制改革，全面建立中國特色基本醫療衛生制度、醫療保障制度和優質高效的醫療衛生服務體系，健全現代醫院管理制度。加強基層醫療衛生服務體系和全科醫生隊伍建設。全面取消以藥養醫，健全藥品供應保障制度。堅持預防爲主，深入開展愛國衛生運動，倡導健康文明生活方式，預防控制重大疾病。實施食品安全戰略，讓人民吃得放心。堅持中西醫並重，傳承發展中醫藥事業。支持社會辦醫，發展健康産業。促進生育政策和相關經濟社會政策配套銜接，加強人口發展戰略研究。積極應對人口老齡化，構建養老、孝老、敬老政策體系和社會環境，推進醫養結合，加快老齡事業和産業發展。\n",
    "\n",
    "（六）打造共建共治共享的社會治理格局。加強社會治理制度建設，完善黨委領導、政府負責、社會協同、公衆參與、法治保障的社會治理體制，提高社會治理社會化、法治化、智能化、專業化水平。加強預防和化解社會矛盾機制建設，正確處理人民內部矛盾。樹立安全發展理念，弘揚生命至上、安全第一的思想，健全公共安全體系，完善安全生産責任制，堅決遏制重特大安全事故，提升防災減災救災能力。加快社會治安防控體系建設，依法打擊和懲治黃賭毒黑拐騙等違法犯罪活動，保護人民人身權、財産權、人格權。加強社會心理服務體系建設，培育自尊自信、理性平和、積極向上的社會心態。加強社區治理體系建設，推動社會治理重心向基層下移，發揮社會組織作用，實現政府治理和社會調節、居民自治良性互動。\n",
    "\n",
    "（七）有效維護國家安全。國家安全是安邦定國的重要基石，維護國家安全是全國各族人民根本利益所在。要完善國家安全戰略和國家安全政策，堅決維護國家政治安全，統籌推進各項安全工作。健全國家安全體系，加強國家安全法治保障，提高防範和抵禦安全風險能力。嚴密防範和堅決打擊各種滲透顛覆破壞活動、暴力恐怖活動、民族分裂活動、宗教極端活動。加強國家安全教育，增強全黨全國人民國家安全意識，推動全社會形成維護國家安全的強大合力。\n",
    "\n",
    "同志們！黨的一切工作必須以最廣大人民根本利益爲最高標准。我們要堅持把人民群衆的小事當作自己的大事，從人民群衆關心的事情做起，從讓人民群衆滿意的事情做起，帶領人民不斷創造美好生活！\n",
    "\n",
    "九、加快生態文明體制改革，建設美麗中國\n",
    "\n",
    "人與自然是生命共同體，人類必須尊重自然、順應自然、保護自然。人類只有遵循自然規律才能有效防止在開發利用自然上走彎路，人類對大自然的傷害最終會傷及人類自身，這是無法抗拒的規律。\n",
    "\n",
    "我們要建設的現代化是人與自然和諧共生的現代化，既要創造更多物質財富和精神財富以滿足人民日益增長的美好生活需要，也要提供更多優質生態産品以滿足人民日益增長的優美生態環境需要。必須堅持節約優先、保護優先、自然恢復爲主的方針，形成節約資源和保護環境的空間格局、産業結構、生産方式、生活方式，還自然以甯靜、和諧、美麗。\n",
    "\n",
    "（一）推進綠色發展。加快建立綠色生産和消費的法律制度和政策導向，建立健全綠色低碳循環發展的經濟體系。構建市場導向的綠色技術創新體系，發展綠色金融，壯大節能環保産業、清潔生産産業、清潔能源産業。推進能源生産和消費革命，構建清潔低碳、安全高效的能源體系。推進資源全面節約和循環利用，實施國家節水行動，降低能耗、物耗，實現生産系統和生活系統循環鏈接。倡導簡約適度、綠色低碳的生活方式，反對奢侈浪費和不合理消費，開展創建節約型機關、綠色家庭、綠色學校、綠色社區和綠色出行等行動。\n",
    "\n",
    "（二）著力解決突出環境問題。堅持全民共治、源頭防治，持續實施大氣汙染防治行動，打贏藍天保衛戰。加快水汙染防治，實施流域環境和近岸海域綜合治理。強化土壤汙染管控和修複，加強農業面源汙染防治，開展農村人居環境整治行動。加強固體廢棄物和垃圾處置。提高汙染排放標准，強化排汙者責任，健全環保信用評價、信息強制性披露、嚴懲重罰等制度。構建政府爲主導、企業爲主體、社會組織和公衆共同參與的環境治理體系。積極參與全球環境治理，落實減排承諾。\n",
    "\n",
    "（三）加大生態系統保護力度。實施重要生態系統保護和修複重大工程，優化生態安全屏障體系，構建生態廊道和生物多樣性保護網絡，提升生態系統質量和穩定性。完成生態保護紅線、永久基本農田、城鎮開發邊界三條控制線劃定工作。開展國土綠化行動，推進荒漠化、石漠化、水土流失綜合治理，強化濕地保護和恢復，加強地質災害防治。完善天然林保護制度，擴大退耕還林還草。嚴格保護耕地，擴大輪作休耕試點，健全耕地草原森林河流湖泊休養生息制度，建立市場化、多元化生態補償機制。\n",
    "\n",
    "（四）改革生態環境監管體制。加強對生態文明建設的總體設計和組織領導，設立國有自然資源資産管理和自然生態監管機構，完善生態環境管理制度，統一行使全民所有自然資源資産所有者職責，統一行使所有國土空間用途管制和生態保護修複職責，統一行使監管城鄉各類汙染排放和行政執法職責。構建國土空間開發保護制度，完善主體功能區配套政策，建立以國家公園爲主體的自然保護地體系。堅決制止和懲處破壞生態環境行爲。\n",
    "\n",
    "同志們！生態文明建設功在當代、利在千秋。我們要牢固樹立社會主義生態文明觀，推動形成人與自然和諧發展現代化建設新格局，爲保護生態環境作出我們這代人的努力！\n",
    "\n",
    "十、堅持走中國特色強軍之路，全面推進國防和軍隊現代化\n",
    "\n",
    "國防和軍隊建設正站在新的歷史起點上。面對國家安全環境的深刻變化，面對強國強軍的時代要求，必須全面貫徹新時代黨的強軍思想，貫徹新形勢下軍事戰略方針，建設強大的現代化陸軍、海軍、空軍、火箭軍和戰略支援部隊，打造堅強高效的戰區聯合作戰指揮機構，構建中國特色現代作戰體系，擔當起黨和人民賦予的新時代使命任務。\n",
    "\n",
    "適應世界新軍事革命發展趨勢和國家安全需求，提高建設質量和效益，確保到二〇二〇年基本實現機械化，信息化建設取得重大進展，戰略能力有大的提升。同國家現代化進程相一致，全面推進軍事理論現代化、軍隊組織形態現代化、軍事人員現代化、武器裝備現代化，力爭到二〇三五年基本實現國防和軍隊現代化，到本世紀中葉把人民軍隊全面建成世界一流軍隊。\n",
    "\n",
    "加強軍隊黨的建設，開展「傳承紅色基因、擔當強軍重任」主題教育，推進軍人榮譽體系建設，培養有靈魂、有本事、有血性、有品德的新時代革命軍人，永葆人民軍隊性質、宗旨、本色。繼續深化國防和軍隊改革，深化軍官職業化制度、文職人員制度等重大政策制度改革，推進軍事管理革命，完善和發展中國特色社會主義軍事制度。樹立科技是核心戰鬥力的思想，推進重大技術創新、自主創新，加強軍事人才培養體系建設，建設創新型人民軍隊。全面從嚴治軍，推動治軍方式根本性轉變，提高國防和軍隊建設法治化水平。\n",
    "\n",
    "軍隊是要準備打仗的，一切工作都必須堅持戰鬥力標準，向能打仗、打勝仗聚焦。紮實做好各戰略方向軍事鬥爭准備，統籌推進傳統安全領域和新型安全領域軍事鬥爭准備，發展新型作戰力量和保障力量，開展實戰化軍事訓練，加強軍事力量運用，加快軍事智能化發展，提基於網絡信息體系的聯合作戰能力、全域作戰能力，有效塑造態勢、管控危機、遏制戰爭、打贏戰爭。\n",
    "\n",
    "堅持富國和強軍相統一，強化統一領導、頂層設計、改革創新和重大項目落實，深化國防科技工業改革，形成軍民融合深度發展格局，構建一體化的國家戰略體系和能力。完善國防動員體系，建設強大穩固的現代邊海空防。組建退役軍人管理保障機構，維護軍人軍屬合法權益，讓軍人成爲全社會尊崇的職業。深化武警部隊改革，建設現代化武裝警察部隊。\n",
    "\n",
    "同志們！我們的軍隊是人民軍隊，我們的國防是全民國防。我們要加強全民國防教育，鞏固軍政軍民團結，爲實現中國夢強軍夢凝聚強大力量！\n",
    "\n",
    "十一、堅持「一國兩制」，推進祖國統一\n",
    "\n",
    "香港、澳門回歸祖國以來，「一國兩制」實踐取得舉世公認的成功。事實證明，「一國兩制」是解決歷史遺留的香港、澳門問題的最佳方案，也是香港、澳門回歸後保持長期繁榮穩定的最佳制度。\n",
    "\n",
    "保持香港、澳門長期繁榮穩定，必須全面准確貫徹「一國兩制」、「港人治港」、「澳人治澳」、高度自治的方針，嚴格依照憲法和基本法辦事，完善與基本法實施相關的制度和機制。要支持特別行政區政府和行政長官依法施政、積極作爲，團結帶領香港、澳門各界人士齊心協力謀發展、促和諧，保障和改善民生，有序推進民主，維護社會穩定，履行維護國家主權、安全、發展利益的憲制責任。\n",
    "\n",
    "香港、澳門發展同內地發展緊密相連。要支持香港、澳門融入國家發展大局，以粵港澳大灣區建設、粵港澳合作、泛珠三角區域合作等爲重點，全面推進內地同香港、澳門互利合作，制定完善便利香港、澳門居民在內地發展的政策措施。\n",
    "\n",
    "我們堅持愛國者爲主體的「港人治港」、「澳人治澳」，發展壯大愛國愛港愛澳力量，增強香港、澳門同胞的國家意識和愛國精神，讓香港、澳門同胞同祖國人民共擔民族復興的歷史責任、共享祖國繁榮富強的偉大榮光。\n",
    "\n",
    "解決台灣問題、實現祖國完全統一，是全體中華兒女共同願望，是中華民族根本利益所在。必須繼續堅持「和平統一、一國兩制」方針，推動兩岸關係和平發展，推進祖國和平統一進程。\n",
    "\n",
    "一個中國原則是兩岸關系的政治基礎。體現一個中國原則的「九二共識」明確界定了兩岸關系的根本性質，是確保兩岸關系和平發展的關鍵。承認「九二共識」的歷史事實，認同兩岸同屬一個中國，兩岸雙方就能開展對話，協商解決兩岸同胞關心的問題，台灣任何政黨和團體同大陸交往也不會存在障礙。\n",
    "\n",
    "兩岸同胞是命運與共的骨肉兄弟，是血濃於水的一家人。我們秉持「兩岸一家親」理念，尊重台灣現有的社會制度和台灣同胞生活方式，願意率先同台灣同胞分享大陸發展的機遇。我們將擴大兩岸經濟文化交流合作，實現互利互惠，逐步爲台灣同胞在大陸學習、創業、就業、生活提供與大陸同胞同等的待遇，增進台灣同胞福祉。我們將推動兩岸同胞共同弘揚中華文化，促進心靈契合。\n",
    "\n",
    "我們堅決維護國家主權和領土完整，絕不容忍國家分裂的歷史悲劇重演。一切分裂祖國的活動都必將遭到全體中國人堅決反對。我們有堅定的意志、充分的信心、足夠的能力挫敗任何形式的「台獨」分裂圖謀。我們絕不允許任何人、任何組織、任何政黨、在任何時候、以任何形式、把任何一塊中國領土從中國分裂出去！\n",
    "\n",
    "同志們！實現中華民族偉大復興，是全體中國人共同的夢想。我們堅信，只要包括港澳台同胞在內的全體中華兒女順應歷史大勢、共擔民族大義，把民族命運牢牢掌握在自己手中，就一定能夠共創中華民族偉大復興的美好未來！\n",
    "\n",
    "十二、堅持和平發展道路，推動構建人類命運共同體\n",
    "\n",
    "中國共産黨是爲中國人民謀幸福的政黨，也是爲人類進步事業而奮鬥的政黨。中國共産黨始終把爲人類作出新的更大的貢獻作爲自己的使命。\n",
    "\n",
    "中國將高舉和平、發展、合作、共贏的旗幟，恪守維護世界和平、促進共同發展的外交政策宗旨，堅定不移在和平共處五項原則基礎上發展同各國的友好合作，推動建設相互尊重、公平正義、合作共贏的新型國際關系。\n",
    "\n",
    "世界正處於大發展大變革大調整時期，和平與發展仍然是時代主題。世界多極化、經濟全球化、社會信息化、文化多樣化深入發展，全球治理體系和國際秩序變革加速推進，各國相互聯系和依存日益加深，國際力量對比更趨平衡，和平發展大勢不可逆轉。同時，世界面臨的不穩定性不確定性突出，世界經濟增長動能不足，貧富分化日益嚴重，地區熱點問題此起彼伏，恐怖主義、網絡安全、重大傳染性疾病、氣候變化等非傳統安全威脅持續蔓延，人類面臨許多共同挑戰。\n",
    "\n",
    "我們生活的世界充滿希望，也充滿挑戰。我們不能因現實複雜而放棄夢想，不能因理想遙遠而放棄追求。沒有哪個國家能夠獨自應對人類面臨的各種挑戰，也沒有哪個國家能夠退回到自我封閉的孤島。\n",
    "\n",
    "我們呼籲，各國人民同心協力，構建人類命運共同體，建設持久和平、普遍安全、共同繁榮、開放包容、清潔美麗的世界。要相互尊重、平等協商，堅決摒棄冷戰思維和強權政治，走對話而不對抗、結伴而不結盟的國與國交往新路。要堅持以對話解決爭端、以協商化解分歧，統籌應對傳統和非傳統安全威脅，反對一切形式的恐怖主義。要同舟共濟，促進貿易和投資自由化便利化，推動經濟全球化朝著更加開放、包容、普惠、平衡、共贏的方向發展。要尊重世界文明多樣性，以文明交流超越文明隔閡、文明互鑒超越文明衝突、文明共存超越文明優越。要堅持環境友好，合作應對氣候變化，保護好人類賴以生存的地球家園。\n",
    "\n",
    "中國堅定奉行獨立自主的和平外交政策，尊重各國人民自主選擇發展道路的權利，維護國際公平正義，反對把自己的意志強加於人，反對干涉別國內政，反對以強淩弱。中國決不會以犧牲別國利益爲代價來發展自己，也決不放棄自己的正當權益，任何人不要幻想讓中國吞下損害自身利益的苦果。中國奉行防禦性的國防政策。中國發展不對任何國家構成威脅。中國無論發展到什麽程度，永遠不稱霸，永遠不搞擴張。\n",
    "\n",
    "中國積極發展全球夥伴關系，擴大同各國的利益交匯點，推進大國協調和合作，構建總體穩定、均衡發展的大國關系框架，按照親誠惠容理念和與鄰爲善、以鄰爲伴周邊外交方針深化同周邊國家關系，秉持正確義利觀和真實親誠理念加強同發展中國家團結合作。加強同各國政黨和政治組織的交流合作，推進人大、政協、軍隊、地方、人民團體等的對外交往。\n",
    "\n",
    "中國堅持對外開放的基本國策，堅持打開國門搞建設，積極促進「一帶一路」國際合作，努力實現政策溝通、設施聯通、貿易暢通、資金融通、民心相通，打造國際合作新平台，增添共同發展新動力。加大對發展中國家特別是最不發達國家援助力度，促進縮小南北發展差距。中國支持多邊貿易體制，促進自由貿易區建設，推動建設開放型世界經濟。\n",
    "\n",
    "中國秉持共商共建共享的全球治理觀，倡導國際關系民主化，堅持國家不分大小、強弱、貧富一律平等，支持聯合國發揮積極作用，支持擴大發展中國家在國際事務中的代表性和發言權。中國將繼續發揮負責任大國作用，積極參與全球治理體系改革和建設，不斷貢獻中國智慧和力量。\n",
    "\n",
    "同志們！世界命運握在各國人民手中，人類前途繫於各國人民的抉擇。中國人民願同各國人民一道，推動人類命運共同體建設，共同創造人類的美好未來！\n",
    "\n",
    "十三、堅定不移全面從嚴治黨，不斷提高黨的執政能力和領導水平\n",
    "\n",
    "中國特色社會主義進入新時代，我們黨一定要有新氣象新作爲。打鐵必須自身硬。黨要團結帶領人民進行偉大鬥爭、推進偉大事業、實現偉大夢想，必須毫不動搖堅持和完善黨的領導，毫不動搖把黨建設得更加堅強有力。\n",
    "\n",
    "全面從嚴治黨永遠在路上。一個政黨，一個政權，其前途命運取決于人心向背。人民群衆反對什麽、痛恨什麽，我們就要堅決防範和糾正什麽。全黨要清醒認識到，我們黨面臨的執政環境是複雜的，影響黨的先進性、弱化黨的純潔性的因素也是複雜的，黨內存在的思想不純、組織不純、作風不純等突出問題尚未得到根本解決。要深刻認識黨面臨的執政考驗、改革開放考驗、市場經濟考驗、外部環境考驗的長期性和複雜性，深刻認識黨面臨的精神懈怠危險、能力不足危險、脫離群衆危險、消極腐敗危險的尖銳性和嚴峻性，堅持問題導向，保持戰略定力，推動全面從嚴治黨向縱深發展。\n",
    "\n",
    "新時代黨的建設總要求是：堅持和加強黨的全面領導，堅持黨要管黨、全面從嚴治黨，以加強黨的長期執政能力建設、先進性和純潔性建設爲主線，以黨的政治建設爲統領，以堅定理想信念宗旨爲根基，以調動全黨積極性、主動性、創造性爲著力點，全面推進黨的政治建設、思想建設、組織建設、作風建設、紀律建設，把制度建設貫穿其中，深入推進反腐敗鬥爭，不斷提高黨的建設質量，把黨建設成爲始終走在時代前列、人民衷心擁護、勇于自我革命、經得起各種風浪考驗、朝氣蓬勃的馬克思主義執政黨。\n",
    "\n",
    "（一）把黨的政治建設擺在首位。旗幟鮮明講政治是我們黨作爲馬克思主義政黨的根本要求。黨的政治建設是黨的根本性建設，決定黨的建設方向和效果。保證全黨服從中央，堅持黨中央權威和集中統一領導，是黨的政治建設的首要任務。全黨要堅定執行黨的政治路線，嚴格遵守政治紀律和政治規矩，在政治立場、政治方向、政治原則、政治道路上同黨中央保持高度一致。要尊崇黨章，嚴格執行新形勢下黨內政治生活若干准則，增強黨內政治生活的政治性、時代性、原則性、戰鬥性，自覺抵制商品交換原則對黨內生活的侵蝕，營造風清氣正的良好政治生態。完善和落實民主集中制的各項制度，堅持民主基礎上的集中和集中指導下的民主相結合，既充分發揚民主，又善于集中統一。弘揚忠誠老實、公道正派、實事求是、清正廉潔等價值觀，堅決防止和反對個人主義、分散主義、自由主義、本位主義、好人主義，堅決防止和反對宗派主義、圈子文化、碼頭文化，堅決反對搞兩面派、做兩面人。全黨同志特別是高級幹部要加強黨性鍛煉，不斷提高政治覺悟和政治能力，把對黨忠誠、爲黨分憂、爲黨盡職、爲民造福作爲根本政治擔當，永葆共産黨人政治本色。\n",
    "\n",
    "（二）用新時代中國特色社會主義思想武裝全黨。思想建設是黨的基礎性建設。革命理想高于天。共産主義遠大理想和中國特色社會主義共同理想，是中國共産黨人的精神支柱和政治靈魂，也是保持黨的團結統一的思想基礎。要把堅定理想信念作爲黨的思想建設的首要任務，教育引導全黨牢記黨的宗旨，挺起共産黨人的精神脊梁，解決好世界觀、人生觀、價值觀這個「總開關」問題，自覺做共産主義遠大理想和中國特色社會主義共同理想的堅定信仰者和忠實實踐者。弘揚馬克思主義學風，推進「兩學一做」學習教育常態化制度化，以縣處級以上領導幹部爲重點，在全黨開展「不忘初心、牢記使命」主題教育，用黨的創新理論武裝頭腦，推動全黨更加自覺地爲實現新時代黨的歷史使命不懈奮鬥。\n",
    "\n",
    "（三）建設高素質專業化幹部隊伍。黨的幹部是黨和國家事業的中堅力量。要堅持黨管幹部原則，堅持德才兼備、以德爲先，堅持五湖四海、任人唯賢，堅持事業爲上、公道正派，把好幹部標准落到實處。堅持正確選人用人導向，匡正選人用人風氣，突出政治標准，提拔重用牢固樹立「四個意識」和「四個自信」、堅決維護黨中央權威、全面貫徹執行黨的理論和路線方針政策、忠誠乾淨擔當的幹部，選優配強各級領導班子。注重培養專業能力、專業精神，增強幹部隊伍適應新時代中國特色社會主義發展要求的能力。大力發現儲備年輕幹部，注重在基層一線和困難艱苦的地方培養鍛煉年輕幹部，源源不斷選拔使用經過實踐考驗的優秀年輕幹部。統籌做好培養選拔女幹部、少數民族幹部和黨外幹部工作。認真做好離退休幹部工作。堅持嚴管和厚愛結合、激勵和約束並重，完善幹部考核評價機制，建立激勵機制和容錯糾錯機制，旗幟鮮明爲那些敢于擔當、踏實做事、不謀私利的幹部撐腰鼓勁。各級黨組織要關心愛護基層幹部，主動爲他們排憂解難。\n",
    "\n",
    "人才是實現民族振興、贏得國際競爭主動的戰略資源。要堅持黨管人才原則，聚天下英才而用之，加快建設人才強國。實行更加積極、更加開放、更加有效的人才政策，以識才的慧眼、愛才的誠意、用才的膽識、容才的雅量、聚才的良方，把黨內和黨外、國內和國外各方面優秀人才集聚到黨和人民的偉大奮鬥中來，鼓勵引導人才向邊遠貧困地區、邊疆民族地區、革命老區和基層一線流動，努力形成人人渴望成才、人人努力成才、人人皆可成才、人人盡展其才的良好局面，讓各類人才的創造活力競相迸發、聰明才智充分湧流。\n",
    "\n",
    "（四）加強基層組織建設。黨的基層組織是確保黨的路線方針政策和決策部署貫徹落實的基礎。要以提升組織力爲重點，突出政治功能，把企業、農村、機關、學校、科研院所、街道社區、社會組織等基層黨組織建設成爲宣傳黨的主張、貫徹黨的決定、領導基層治理、團結動員群衆、推動改革發展的堅強戰鬥堡壘。黨支部要擔負好直接教育黨員、管理黨員、監督黨員和組織群衆、宣傳群衆、凝聚群衆、服務群衆的職責，引導廣大黨員發揮先鋒模範作用。堅持「三會一課」制度，推進黨的基層組織設置和活動方式創新，加強基層黨組織帶頭人隊伍建設，擴大基層黨組織覆蓋面，著力解決一些基層黨組織弱化、虛化、邊緣化問題。擴大黨內基層民主，推進黨務公開，暢通黨員參與黨內事務、監督黨的組織和幹部、向上級黨組織提出意見和建議的渠道。注重從産業工人、青年農民、高知識群體中和在非公有制經濟組織、社會組織中發展黨員。加強黨內激勵關懷幫扶。增強黨員教育管理針對性和有效性，穩妥有序開展不合格黨員組織處置工作。\n",
    "\n",
    "（五）持之以恒正風肅紀。我們黨來自人民、植根人民、服務人民，一旦脫離群衆，就會失去生命力。加強作風建設，必須緊緊圍繞保持黨同人民群衆的血肉聯系，增強群衆觀念和群衆感情，不斷厚植黨執政的群衆基礎。凡是群衆反映強烈的問題都要嚴肅認真對待，凡是損害群衆利益的行爲都要堅決糾正。堅持以上率下，鞏固拓展落實中央八項規定精神成果，繼續整治「四風」問題，堅決反對特權思想和特權現象。重點強化政治紀律和組織紀律，帶動廉潔紀律、群衆紀律、工作紀律、生活紀律嚴起來。堅持開展批評和自我批評，堅持懲前毖後、治病救人，運用監督執紀「四種形態」，抓早抓小、防微杜漸。賦予有幹部管理權限的黨組相應紀律處分權限，強化監督執紀問責。加強紀律教育，強化紀律執行，讓黨員、幹部知敬畏、存戒懼、守底線，習慣在受監督和約束的環境中工作生活。\n",
    "\n",
    "（六）奪取反腐敗鬥爭壓倒性勝利。人民群衆最痛恨腐敗現象，腐敗是我們黨面臨的最大威脅。只有以反腐敗永遠在路上的堅韌和執著，深化標本兼治，保證幹部清正、政府清廉、政治清明，才能跳出歷史周期率，確保黨和國家長治久安。當前，反腐敗鬥爭形勢依然嚴峻複雜，鞏固壓倒性態勢、奪取壓倒性勝利的決心必須堅如磐石。要堅持無禁區、全覆蓋、零容忍，堅持重遏制、強高壓、長震懾，堅持受賄行賄一起查，堅決防止黨內形成利益集團。在市縣黨委建立巡察制度，加大整治群衆身邊腐敗問題力度。不管腐敗分子逃到哪裏，都要緝拿歸案、繩之以法。推進反腐敗國家立法，建設覆蓋紀檢監察系統的檢舉舉報平台。強化不敢腐的震懾，紮牢不能腐的籠子，增強不想腐的自覺，通過不懈努力換來海晏河清、朗朗乾坤。\n",
    "\n",
    "（七）健全黨和國家監督體系。增強黨自我淨化能力，根本靠強化黨的自我監督和群衆監督。要加強對權力運行的制約和監督，讓人民監督權力，讓權力在陽光下運行，把權力關進制度的籠子。強化自上而下的組織監督，改進自下而上的民主監督，發揮同級相互監督作用，加強對黨員領導幹部的日常管理監督。深化政治巡視，堅持發現問題、形成震懾不動搖，建立巡視巡察上下聯動的監督網。深化國家監察體制改革，將試點工作在全國推開，組建國家、省、市、縣監察委員會，同黨的紀律檢查機關合署辦公，實現對所有行使公權力的公職人員監察全覆蓋。制定國家監察法，依法賦予監察委員會職責權限和調查手段，用留置取代「兩規」措施。改革審計管理體制，完善統計體制。構建黨統一指揮、全面覆蓋、權威高效的監督體系，把黨內監督同國家機關監督、民主監督、司法監督、群衆監督、輿論監督貫通起來，增強監督合力。\n",
    "\n",
    "（八）全面增強執政本領。領導十三億多人的社會主義大國，我們黨既要政治過硬，也要本領高強。要增強學習本領，在全黨營造善於學習、勇於實踐的濃厚氛圍，建設馬克思主義學習型政黨，推動建設學習大國。增強政治領導本領，堅持戰略思維、創新思維、辯證思維、法治思維、底線思維，科學制定和堅決執行黨的路線方針政策，把黨總攬全局、協調各方落到實處。增強改革創新本領，保持銳意進取的精神風貌，善於結合實際創造性推動工作，善於運用互聯網技術和信息化手段開展工作。增強科學發展本領，善於貫徹新發展理念，不斷開創發展新局面。增強依法執政本領，加快形成覆蓋黨的領導和黨的建設各方面的黨內法規制度體系，加強和改善對國家政權機關的領導。增強群衆工作本領，創新群衆工作體制機制和方式方法，推動工會、共青團、婦聯等群團組織增強政治性、先進性、群衆性，發揮聯系群衆的橋樑紐帶作用，組織動員廣大人民群衆堅定不移跟黨走。增強狠抓落實本領，堅持說實話、謀實事、出實招、求實效，把雷厲風行和久久爲功有機結合起來，勇於攻堅克難，以釘釘子精神做實做細做好各項工作。增強駕馭風險本領，健全各方面風險防控機制，善於處理各種複雜矛盾，勇於戰勝前進道路上的各種艱難險阻，牢牢把握工作主動權。\n",
    "\n",
    "同志們！偉大的事業必須有堅強的黨來領導。只要我們黨把自身建設好、建設強，確保黨始終同人民想在一起、幹在一起，就一定能夠引領承載著中國人民偉大夢想的航船破浪前進，勝利駛向光輝的彼岸！\n",
    "\n",
    "同志們！中華民族是歷經磨難、不屈不撓的偉大民族，中國人民是勤勞勇敢、自強不息的偉大人民，中國共産黨是敢於鬥爭、敢於勝利的偉大政黨。歷史車輪滾滾向前，時代潮流浩浩蕩蕩。歷史只會眷顧堅定者、奮進者、搏擊者，而不會等待猶豫者、懈怠者、畏難者。全黨一定要保持艱苦奮鬥、戒驕戒躁的作風，以時不我待、只爭朝夕的精神，奮力走好新時代的長征路。全黨一定要自覺維護黨的團結統一，保持黨同人民群衆的血肉聯系，鞏固全國各族人民大團結，加強海內外中華兒女大團結，團結一切可以團結的力量，齊心協力走向中華民族偉大復興的光明前景。\n",
    "\n",
    "青年興則國家興，青年強則國家強。青年一代有理想、有本領、有擔當，國家就有前途，民族就有希望。中國夢是歷史的、現實的，也是未來的；是我們這一代的，更是青年一代的。中華民族偉大複興的中國夢終將在一代代青年的接力奮鬥中變爲現實。全黨要關心和愛護青年，爲他們實現人生出彩搭建舞台。廣大青年要堅定理想信念，志存高遠，腳踏實地，勇做時代的弄潮兒，在實現中國夢的生動實踐中放飛青春夢想，在爲人民利益的不懈奮鬥中書寫人生華章！\n",
    "\n",
    "大道之行，天下爲公。站立在九百六十多萬平方公裏的廣袤土地上，吸吮著五千多年中華民族漫長奮鬥積累的文化養分，擁有十三億多中國人民聚合的磅礴之力，我們走中國特色社會主義道路，具有無比廣闊的時代舞台，具有無比深厚的歷史底蘊，具有無比強大的前進定力。全黨全國各族人民要緊密團結在黨中央周圍，高舉中國特色社會主義偉大旗幟，銳意進取，埋頭苦幹，爲實現推進現代化建設、完成祖國統一、維護世界和平與促進共同發展三大歷史任務，爲決勝全面建成小康社會、奪取新時代中國特色社會主義偉大勝利、實現中華民族偉大複興的中國夢、實現人民對美好生活的嚮往繼續奮鬥！\n",
    "'''"
   ]
  },
  {
   "cell_type": "code",
   "execution_count": 58,
   "metadata": {},
   "outputs": [
    {
     "data": {
      "text/plain": [
       "9"
      ]
     },
     "execution_count": 58,
     "metadata": {},
     "output_type": "execute_result"
    }
   ],
   "source": [
    "# 字串找特定關鍵字\n",
    "speech.count('台灣')"
   ]
  },
  {
   "cell_type": "code",
   "execution_count": 59,
   "metadata": {},
   "outputs": [
    {
     "data": {
      "text/plain": [
       "32667"
      ]
     },
     "execution_count": 59,
     "metadata": {},
     "output_type": "execute_result"
    }
   ],
   "source": [
    "len(speech)"
   ]
  },
  {
   "cell_type": "code",
   "execution_count": 61,
   "metadata": {},
   "outputs": [
    {
     "data": {
      "text/plain": [
       "'則和「九二共識」，推動兩岸關系和平發展，加強兩岸經濟文化交流合作，實現兩岸領導人歷史性會晤。妥善應對台灣局勢變化，堅決反對和遏制「台獨」分裂勢力，有力維護台海和平穩定。\\n\\n全方位外交布局深入展開。全面'"
      ]
     },
     "execution_count": 61,
     "metadata": {},
     "output_type": "execute_result"
    }
   ],
   "source": [
    "idx = speech.find('台灣')\n",
    "speech[idx - 50 : idx + 50 ]"
   ]
  },
  {
   "cell_type": "code",
   "execution_count": 67,
   "metadata": {},
   "outputs": [
    {
     "name": "stdout",
     "output_type": "stream",
     "text": [
      "妥善應對台灣局勢變化，堅決反對和遏制「台獨」分裂勢力，有力維護台海和平穩定\n",
      "====================================================\n",
      "我代表中共中央，向全國各族人民，向各民主黨派、各人民團體和各界愛國人士，向香港特別行政區同胞、澳門特別行政區同胞和台灣同胞以及廣大僑胞，向關心和支持中國現代化建設的各國朋友，表示衷心的感謝！\n",
      "\n",
      "同志們！改革開放之初，我們黨發出了走自己的路、建設中國特色社會主義的偉大號召\n",
      "====================================================\n",
      "解決台灣問題、實現祖國完全統一，是全體中華兒女共同願望，是中華民族根本利益所在\n",
      "====================================================\n",
      "承認「九二共識」的歷史事實，認同兩岸同屬一個中國，兩岸雙方就能開展對話，協商解決兩岸同胞關心的問題，台灣任何政黨和團體同大陸交往也不會存在障礙\n",
      "====================================================\n",
      "我們秉持「兩岸一家親」理念，尊重台灣現有的社會制度和台灣同胞生活方式，願意率先同台灣同胞分享大陸發展的機遇\n",
      "====================================================\n",
      "我們將擴大兩岸經濟文化交流合作，實現互利互惠，逐步爲台灣同胞在大陸學習、創業、就業、生活提供與大陸同胞同等的待遇，增進台灣同胞福祉\n",
      "====================================================\n"
     ]
    }
   ],
   "source": [
    "for sentence in speech.split('。'):\n",
    "    if '台灣' in sentence:\n",
    "        print(sentence.strip())\n",
    "        print('====================================================')"
   ]
  },
  {
   "cell_type": "markdown",
   "metadata": {},
   "source": [
    "## Formatting"
   ]
  },
  {
   "cell_type": "code",
   "execution_count": 69,
   "metadata": {},
   "outputs": [
    {
     "name": "stdout",
     "output_type": "stream",
     "text": [
      "my name is David and my gender is Male\n"
     ]
    }
   ],
   "source": [
    "name = 'David'\n",
    "gender = 'Male'\n",
    "\n",
    "print('my name is '+ name + ' and my gender is ' + gender )"
   ]
  },
  {
   "cell_type": "code",
   "execution_count": 70,
   "metadata": {},
   "outputs": [
    {
     "name": "stdout",
     "output_type": "stream",
     "text": [
      "place my variable here: String\n"
     ]
    }
   ],
   "source": [
    "x = 'String'\n",
    "print('place my variable here: %s'%(x))"
   ]
  },
  {
   "cell_type": "code",
   "execution_count": 71,
   "metadata": {},
   "outputs": [
    {
     "name": "stdout",
     "output_type": "stream",
     "text": [
      "place my variable here: 13.3\n"
     ]
    }
   ],
   "source": [
    "x = 13.3\n",
    "print('place my variable here: %s' %(x))"
   ]
  },
  {
   "cell_type": "code",
   "execution_count": 74,
   "metadata": {},
   "outputs": [
    {
     "name": "stdout",
     "output_type": "stream",
     "text": [
      "13.14\n",
      "13.1450000000\n",
      "                   13.145\n"
     ]
    }
   ],
   "source": [
    "n = 13.145\n",
    "print('%1.2f'%(n))\n",
    "print('%1.10f'%(n))\n",
    "print('%25.3f'%(n))\n"
   ]
  },
  {
   "cell_type": "code",
   "execution_count": 76,
   "metadata": {},
   "outputs": [
    {
     "name": "stdout",
     "output_type": "stream",
     "text": [
      "this is a number:123.1, Here is a stirng hi\n",
      "this is a number:123.1, Here is a stirng 'hi'\n"
     ]
    }
   ],
   "source": [
    "f = 123.1\n",
    "s = 'hi'\n",
    "\n",
    "print('this is a number:%s, Here is a stirng %s'%(f, s))\n",
    "print('this is a number:%r, Here is a stirng %r'%(f, s))"
   ]
  },
  {
   "cell_type": "code",
   "execution_count": 79,
   "metadata": {},
   "outputs": [
    {
     "name": "stdout",
     "output_type": "stream",
     "text": [
      "this is a string with newline symbol \n",
      " and format \t\n",
      "this is a string with newline symbol \\n and format \\t\n",
      "'this is a string with newline symbol \\n and format \\t'\n"
     ]
    }
   ],
   "source": [
    "s = 'this is a string with newline symbol \\n and format \\t'\n",
    "print(s)\n",
    "\n",
    "s = r'this is a string with newline symbol \\n and format \\t'\n",
    "print(s)\n",
    "\n",
    "s = repr('this is a string with newline symbol \\n and format \\t')\n",
    "print(s)\n"
   ]
  },
  {
   "cell_type": "code",
   "execution_count": 83,
   "metadata": {},
   "outputs": [
    {
     "data": {
      "text/plain": [
       "'Object 1 1, Object 2 hello Object 3 0.92'"
      ]
     },
     "execution_count": 83,
     "metadata": {},
     "output_type": "execute_result"
    }
   ],
   "source": [
    "'this is a string with an {p}'.format(p='insert')\n",
    "'One {p}, Two {p}, Three {p}'.format(p='Hi')\n",
    "'Object 1 {a}, Object 2 {b} Object 3 {c}'.format(a = 1, b = 'hello', c = 0.92)\n",
    "\n"
   ]
  },
  {
   "cell_type": "code",
   "execution_count": 84,
   "metadata": {},
   "outputs": [
    {
     "name": "stdout",
     "output_type": "stream",
     "text": [
      "one 1, two 2, one 1\n"
     ]
    }
   ],
   "source": [
    "print('one {0}, two {1}, one {0}'.format(1,2))"
   ]
  },
  {
   "cell_type": "code",
   "execution_count": 87,
   "metadata": {},
   "outputs": [
    {
     "data": {
      "text/plain": [
       "'My book name is Machine Learning With R Cookbook'"
      ]
     },
     "execution_count": 87,
     "metadata": {},
     "output_type": "execute_result"
    }
   ],
   "source": [
    "name = 'Machine Learning With R Cookbook'\n",
    "f'My book name is {name}'"
   ]
  },
  {
   "cell_type": "code",
   "execution_count": 88,
   "metadata": {},
   "outputs": [
    {
     "name": "stdout",
     "output_type": "stream",
     "text": [
      "Hello from Python\n"
     ]
    }
   ],
   "source": [
    "print('Hello from Python')"
   ]
  },
  {
   "cell_type": "code",
   "execution_count": 90,
   "metadata": {},
   "outputs": [
    {
     "name": "stdout",
     "output_type": "stream",
     "text": [
      "How are you?Good\n"
     ]
    },
    {
     "data": {
      "text/plain": [
       "'Good'"
      ]
     },
     "execution_count": 90,
     "metadata": {},
     "output_type": "execute_result"
    }
   ],
   "source": [
    "input('How are you?')"
   ]
  },
  {
   "cell_type": "code",
   "execution_count": 91,
   "metadata": {},
   "outputs": [
    {
     "name": "stdout",
     "output_type": "stream",
     "text": [
      "How are you?Good\n"
     ]
    }
   ],
   "source": [
    "answer = input('How are you?')"
   ]
  },
  {
   "cell_type": "code",
   "execution_count": 92,
   "metadata": {},
   "outputs": [
    {
     "data": {
      "text/plain": [
       "'Good'"
      ]
     },
     "execution_count": 92,
     "metadata": {},
     "output_type": "execute_result"
    }
   ],
   "source": [
    "answer"
   ]
  },
  {
   "cell_type": "markdown",
   "metadata": {},
   "source": [
    "## List"
   ]
  },
  {
   "cell_type": "code",
   "execution_count": 93,
   "metadata": {
    "collapsed": true
   },
   "outputs": [],
   "source": [
    "my_list = [1,2,3]"
   ]
  },
  {
   "cell_type": "code",
   "execution_count": 94,
   "metadata": {},
   "outputs": [
    {
     "data": {
      "text/plain": [
       "[1, 2, 3]"
      ]
     },
     "execution_count": 94,
     "metadata": {},
     "output_type": "execute_result"
    }
   ],
   "source": [
    "my_list"
   ]
  },
  {
   "cell_type": "code",
   "execution_count": 95,
   "metadata": {},
   "outputs": [
    {
     "data": {
      "text/plain": [
       "4"
      ]
     },
     "execution_count": 95,
     "metadata": {},
     "output_type": "execute_result"
    }
   ],
   "source": [
    "my_list = ['A String', 23, 100.232, 'o']\n",
    "len(my_list)"
   ]
  },
  {
   "cell_type": "code",
   "execution_count": 103,
   "metadata": {},
   "outputs": [
    {
     "name": "stdout",
     "output_type": "stream",
     "text": [
      "5\n",
      "[7, 's']\n",
      "[7, 's']\n",
      "s\n",
      "7\n",
      "[5, 7]\n",
      "['s', 7, 6, 5]\n",
      "4\n"
     ]
    }
   ],
   "source": [
    "a= [5,6,7,'s']\n",
    "print(a[0])\n",
    "print(a[2:4])\n",
    "print(a[2:100])\n",
    "print(a[-1])\n",
    "print(a[-2])\n",
    "print(a[::2])\n",
    "print(a[::-1])\n",
    "print(len(a))"
   ]
  },
  {
   "cell_type": "code",
   "execution_count": 107,
   "metadata": {},
   "outputs": [
    {
     "name": "stdout",
     "output_type": "stream",
     "text": [
      "[5, 6, 7]\n",
      "[5, 6, 7, 2]\n",
      "[2, 5, 6, 7]\n",
      "[7, 6, 5, 2]\n"
     ]
    }
   ],
   "source": [
    "a = [5,6,7,8]\n",
    "a.pop()\n",
    "print(a)\n",
    "a.append(2)\n",
    "print(a)\n",
    "a.sort()\n",
    "print(a)\n",
    "a.reverse()\n",
    "print(a)"
   ]
  },
  {
   "cell_type": "code",
   "execution_count": 108,
   "metadata": {},
   "outputs": [
    {
     "data": {
      "text/plain": [
       "['H', 'e', 'l', 'l', 'o', ' ', 'W', 'o', 'r', 'l', 'd']"
      ]
     },
     "execution_count": 108,
     "metadata": {},
     "output_type": "execute_result"
    }
   ],
   "source": [
    "s = 'Hello World'\n",
    "list(s)"
   ]
  },
  {
   "cell_type": "code",
   "execution_count": 109,
   "metadata": {},
   "outputs": [
    {
     "data": {
      "text/plain": [
       "True"
      ]
     },
     "execution_count": 109,
     "metadata": {},
     "output_type": "execute_result"
    }
   ],
   "source": [
    "'e' in s"
   ]
  },
  {
   "cell_type": "code",
   "execution_count": 110,
   "metadata": {},
   "outputs": [
    {
     "data": {
      "text/plain": [
       "False"
      ]
     },
     "execution_count": 110,
     "metadata": {},
     "output_type": "execute_result"
    }
   ],
   "source": [
    "'z' in s"
   ]
  },
  {
   "cell_type": "code",
   "execution_count": 112,
   "metadata": {},
   "outputs": [
    {
     "data": {
      "text/plain": [
       "[1, 2000, 3]"
      ]
     },
     "execution_count": 112,
     "metadata": {},
     "output_type": "execute_result"
    }
   ],
   "source": [
    "a = [1,2,3]\n",
    "b = a\n",
    "a[1] = 2000\n",
    "b"
   ]
  },
  {
   "cell_type": "code",
   "execution_count": 113,
   "metadata": {},
   "outputs": [
    {
     "name": "stdout",
     "output_type": "stream",
     "text": [
      "[1, 2000, 3] [1, 2, 3]\n"
     ]
    }
   ],
   "source": [
    "import copy\n",
    "a = [1,2,3]\n",
    "aa = copy.deepcopy(a)\n",
    "a[1] = 2000\n",
    "print(a,aa)"
   ]
  },
  {
   "cell_type": "code",
   "execution_count": 114,
   "metadata": {},
   "outputs": [
    {
     "data": {
      "text/plain": [
       "6"
      ]
     },
     "execution_count": 114,
     "metadata": {},
     "output_type": "execute_result"
    }
   ],
   "source": [
    "a  = [1,2,3]\n",
    "sum(a)"
   ]
  },
  {
   "cell_type": "code",
   "execution_count": 118,
   "metadata": {},
   "outputs": [
    {
     "name": "stdout",
     "output_type": "stream",
     "text": [
      "tw.news.appledaily.com\n",
      "life\n"
     ]
    }
   ],
   "source": [
    "a = 'https://tw.news.appledaily.com/life/realtime/20171107/1236488/'\n",
    "\n",
    "li = a.split('/')\n",
    "dns = li[2]\n",
    "print(dns)\n",
    "\n",
    "category = li[3]\n",
    "print(category)"
   ]
  },
  {
   "cell_type": "markdown",
   "metadata": {},
   "source": [
    "## Dictionary"
   ]
  },
  {
   "cell_type": "code",
   "execution_count": 119,
   "metadata": {},
   "outputs": [
    {
     "data": {
      "text/plain": [
       "{'a': 100, 'b': 'yes', 'c': 0.98}"
      ]
     },
     "execution_count": 119,
     "metadata": {},
     "output_type": "execute_result"
    }
   ],
   "source": [
    "dic = {'a':100, 'b':'yes', 'c':0.98}\n",
    "dic"
   ]
  },
  {
   "cell_type": "code",
   "execution_count": 120,
   "metadata": {},
   "outputs": [
    {
     "data": {
      "text/plain": [
       "dict_keys(['a', 'b', 'c'])"
      ]
     },
     "execution_count": 120,
     "metadata": {},
     "output_type": "execute_result"
    }
   ],
   "source": [
    "dic.keys()"
   ]
  },
  {
   "cell_type": "code",
   "execution_count": 121,
   "metadata": {},
   "outputs": [
    {
     "data": {
      "text/plain": [
       "dict_values([100, 'yes', 0.98])"
      ]
     },
     "execution_count": 121,
     "metadata": {},
     "output_type": "execute_result"
    }
   ],
   "source": [
    "dic.values()"
   ]
  },
  {
   "cell_type": "code",
   "execution_count": 122,
   "metadata": {},
   "outputs": [
    {
     "data": {
      "text/plain": [
       "100"
      ]
     },
     "execution_count": 122,
     "metadata": {},
     "output_type": "execute_result"
    }
   ],
   "source": [
    "dic['a']"
   ]
  },
  {
   "cell_type": "code",
   "execution_count": 123,
   "metadata": {},
   "outputs": [
    {
     "ename": "KeyError",
     "evalue": "'d'",
     "output_type": "error",
     "traceback": [
      "\u001b[0;31m---------------------------------------------------------------------------\u001b[0m",
      "\u001b[0;31mKeyError\u001b[0m                                  Traceback (most recent call last)",
      "\u001b[0;32m<ipython-input-123-dedc2af341b8>\u001b[0m in \u001b[0;36m<module>\u001b[0;34m()\u001b[0m\n\u001b[0;32m----> 1\u001b[0;31m \u001b[0mdic\u001b[0m\u001b[1;33m[\u001b[0m\u001b[1;34m'd'\u001b[0m\u001b[1;33m]\u001b[0m\u001b[1;33m\u001b[0m\u001b[0m\n\u001b[0m",
      "\u001b[0;31mKeyError\u001b[0m: 'd'"
     ]
    }
   ],
   "source": [
    "dic['d']"
   ]
  },
  {
   "cell_type": "code",
   "execution_count": 124,
   "metadata": {},
   "outputs": [
    {
     "data": {
      "text/plain": [
       "100"
      ]
     },
     "execution_count": 124,
     "metadata": {},
     "output_type": "execute_result"
    }
   ],
   "source": [
    "dic.get('a')"
   ]
  },
  {
   "cell_type": "code",
   "execution_count": 125,
   "metadata": {
    "collapsed": true
   },
   "outputs": [],
   "source": [
    "dic.get('d')"
   ]
  },
  {
   "cell_type": "code",
   "execution_count": 126,
   "metadata": {},
   "outputs": [
    {
     "data": {
      "text/plain": [
       "'default'"
      ]
     },
     "execution_count": 126,
     "metadata": {},
     "output_type": "execute_result"
    }
   ],
   "source": [
    "dic.get('d', 'default')"
   ]
  },
  {
   "cell_type": "code",
   "execution_count": 127,
   "metadata": {},
   "outputs": [
    {
     "data": {
      "text/plain": [
       "100"
      ]
     },
     "execution_count": 127,
     "metadata": {},
     "output_type": "execute_result"
    }
   ],
   "source": [
    "dic.get('a', 'default')"
   ]
  },
  {
   "cell_type": "code",
   "execution_count": 128,
   "metadata": {},
   "outputs": [
    {
     "data": {
      "text/plain": [
       "{'a': 100, 'b': 'yes', 'c': 0.98, 'd': 'new'}"
      ]
     },
     "execution_count": 128,
     "metadata": {},
     "output_type": "execute_result"
    }
   ],
   "source": [
    "dic['d'] = 'new'\n",
    "dic"
   ]
  },
  {
   "cell_type": "code",
   "execution_count": 129,
   "metadata": {
    "collapsed": true
   },
   "outputs": [],
   "source": [
    "dic['a'] = 1000"
   ]
  },
  {
   "cell_type": "code",
   "execution_count": 130,
   "metadata": {},
   "outputs": [
    {
     "data": {
      "text/plain": [
       "{'a': 1000, 'b': 'yes', 'c': 0.98, 'd': 'new'}"
      ]
     },
     "execution_count": 130,
     "metadata": {},
     "output_type": "execute_result"
    }
   ],
   "source": [
    "dic"
   ]
  },
  {
   "cell_type": "code",
   "execution_count": 131,
   "metadata": {
    "collapsed": true
   },
   "outputs": [],
   "source": [
    "dic2 = {'d': 100, 'e': 200, 'f': 300}\n",
    "dic.update(dic2)"
   ]
  },
  {
   "cell_type": "code",
   "execution_count": 132,
   "metadata": {},
   "outputs": [
    {
     "data": {
      "text/plain": [
       "{'a': 1000, 'b': 'yes', 'c': 0.98, 'd': 100, 'e': 200, 'f': 300}"
      ]
     },
     "execution_count": 132,
     "metadata": {},
     "output_type": "execute_result"
    }
   ],
   "source": [
    "dic"
   ]
  },
  {
   "cell_type": "code",
   "execution_count": 133,
   "metadata": {},
   "outputs": [
    {
     "name": "stdout",
     "output_type": "stream",
     "text": [
      "a 1000\n",
      "b yes\n",
      "c 0.98\n",
      "d 100\n",
      "e 200\n",
      "f 300\n"
     ]
    }
   ],
   "source": [
    "for key in dic:\n",
    "    print(key, dic.get(key))"
   ]
  },
  {
   "cell_type": "markdown",
   "metadata": {},
   "source": [
    "## Tuple"
   ]
  },
  {
   "cell_type": "code",
   "execution_count": 134,
   "metadata": {},
   "outputs": [
    {
     "data": {
      "text/plain": [
       "(1, 2, 3)"
      ]
     },
     "execution_count": 134,
     "metadata": {},
     "output_type": "execute_result"
    }
   ],
   "source": [
    "tuple1 = (1,2,3)\n",
    "tuple1"
   ]
  },
  {
   "cell_type": "code",
   "execution_count": 136,
   "metadata": {},
   "outputs": [
    {
     "data": {
      "text/plain": [
       "(1, 2, 3)"
      ]
     },
     "execution_count": 136,
     "metadata": {},
     "output_type": "execute_result"
    }
   ],
   "source": [
    "tuple2 = tuple([1,2,3])\n",
    "tuple2"
   ]
  },
  {
   "cell_type": "code",
   "execution_count": 138,
   "metadata": {},
   "outputs": [
    {
     "data": {
      "text/plain": [
       "(1, 2, 3)"
      ]
     },
     "execution_count": 138,
     "metadata": {},
     "output_type": "execute_result"
    }
   ],
   "source": [
    "tuple3 = 1,2,3\n",
    "tuple3"
   ]
  },
  {
   "cell_type": "code",
   "execution_count": 140,
   "metadata": {},
   "outputs": [
    {
     "name": "stdout",
     "output_type": "stream",
     "text": [
      "['__add__', '__class__', '__contains__', '__delattr__', '__delitem__', '__dir__', '__doc__', '__eq__', '__format__', '__ge__', '__getattribute__', '__getitem__', '__gt__', '__hash__', '__iadd__', '__imul__', '__init__', '__init_subclass__', '__iter__', '__le__', '__len__', '__lt__', '__mul__', '__ne__', '__new__', '__reduce__', '__reduce_ex__', '__repr__', '__reversed__', '__rmul__', '__setattr__', '__setitem__', '__sizeof__', '__str__', '__subclasshook__', 'append', 'clear', 'copy', 'count', 'extend', 'index', 'insert', 'pop', 'remove', 'reverse', 'sort']\n",
      "['__add__', '__class__', '__contains__', '__delattr__', '__dir__', '__doc__', '__eq__', '__format__', '__ge__', '__getattribute__', '__getitem__', '__getnewargs__', '__gt__', '__hash__', '__init__', '__init_subclass__', '__iter__', '__le__', '__len__', '__lt__', '__mul__', '__ne__', '__new__', '__reduce__', '__reduce_ex__', '__repr__', '__rmul__', '__setattr__', '__sizeof__', '__str__', '__subclasshook__', 'count', 'index']\n"
     ]
    }
   ],
   "source": [
    "print(dir([]))\n",
    "print(dir(()))"
   ]
  },
  {
   "cell_type": "code",
   "execution_count": 141,
   "metadata": {},
   "outputs": [
    {
     "data": {
      "text/plain": [
       "('one', 2)"
      ]
     },
     "execution_count": 141,
     "metadata": {},
     "output_type": "execute_result"
    }
   ],
   "source": [
    "t = ('one', 2)\n",
    "t"
   ]
  },
  {
   "cell_type": "code",
   "execution_count": 142,
   "metadata": {},
   "outputs": [
    {
     "data": {
      "text/plain": [
       "2"
      ]
     },
     "execution_count": 142,
     "metadata": {},
     "output_type": "execute_result"
    }
   ],
   "source": [
    "len(t)"
   ]
  },
  {
   "cell_type": "code",
   "execution_count": 143,
   "metadata": {},
   "outputs": [
    {
     "data": {
      "text/plain": [
       "('one', 2)"
      ]
     },
     "execution_count": 143,
     "metadata": {},
     "output_type": "execute_result"
    }
   ],
   "source": [
    "t[0], t[1]"
   ]
  },
  {
   "cell_type": "code",
   "execution_count": 144,
   "metadata": {},
   "outputs": [
    {
     "data": {
      "text/plain": [
       "0"
      ]
     },
     "execution_count": 144,
     "metadata": {},
     "output_type": "execute_result"
    }
   ],
   "source": [
    "t.index('one')"
   ]
  },
  {
   "cell_type": "code",
   "execution_count": 145,
   "metadata": {},
   "outputs": [
    {
     "data": {
      "text/plain": [
       "1"
      ]
     },
     "execution_count": 145,
     "metadata": {},
     "output_type": "execute_result"
    }
   ],
   "source": [
    "t.count('one')"
   ]
  },
  {
   "cell_type": "code",
   "execution_count": 147,
   "metadata": {
    "collapsed": true
   },
   "outputs": [],
   "source": [
    "?t.index\n",
    "?t.count"
   ]
  },
  {
   "cell_type": "code",
   "execution_count": 148,
   "metadata": {},
   "outputs": [
    {
     "data": {
      "text/plain": [
       "[100, 2, 3]"
      ]
     },
     "execution_count": 148,
     "metadata": {},
     "output_type": "execute_result"
    }
   ],
   "source": [
    "a= [1,2,3]\n",
    "a[0] = 100\n",
    "a"
   ]
  },
  {
   "cell_type": "code",
   "execution_count": 149,
   "metadata": {},
   "outputs": [
    {
     "ename": "TypeError",
     "evalue": "'tuple' object does not support item assignment",
     "output_type": "error",
     "traceback": [
      "\u001b[0;31m---------------------------------------------------------------------------\u001b[0m",
      "\u001b[0;31mTypeError\u001b[0m                                 Traceback (most recent call last)",
      "\u001b[0;32m<ipython-input-149-a02d2f714431>\u001b[0m in \u001b[0;36m<module>\u001b[0;34m()\u001b[0m\n\u001b[1;32m      1\u001b[0m \u001b[0mt\u001b[0m \u001b[1;33m=\u001b[0m \u001b[1;33m(\u001b[0m\u001b[1;36m1\u001b[0m\u001b[1;33m,\u001b[0m\u001b[1;36m2\u001b[0m\u001b[1;33m,\u001b[0m\u001b[1;36m3\u001b[0m\u001b[1;33m)\u001b[0m\u001b[1;33m\u001b[0m\u001b[0m\n\u001b[0;32m----> 2\u001b[0;31m \u001b[0mt\u001b[0m\u001b[1;33m[\u001b[0m\u001b[1;36m0\u001b[0m\u001b[1;33m]\u001b[0m \u001b[1;33m=\u001b[0m \u001b[1;36m100\u001b[0m\u001b[1;33m\u001b[0m\u001b[0m\n\u001b[0m",
      "\u001b[0;31mTypeError\u001b[0m: 'tuple' object does not support item assignment"
     ]
    }
   ],
   "source": [
    "t = (1,2,3)\n",
    "t[0] = 100"
   ]
  },
  {
   "cell_type": "code",
   "execution_count": 150,
   "metadata": {},
   "outputs": [
    {
     "data": {
      "text/plain": [
       "[100, 2, 3, 4]"
      ]
     },
     "execution_count": 150,
     "metadata": {},
     "output_type": "execute_result"
    }
   ],
   "source": [
    "a.append(4)\n",
    "a"
   ]
  },
  {
   "cell_type": "code",
   "execution_count": 151,
   "metadata": {},
   "outputs": [
    {
     "ename": "AttributeError",
     "evalue": "'tuple' object has no attribute 'append'",
     "output_type": "error",
     "traceback": [
      "\u001b[0;31m---------------------------------------------------------------------------\u001b[0m",
      "\u001b[0;31mAttributeError\u001b[0m                            Traceback (most recent call last)",
      "\u001b[0;32m<ipython-input-151-e8bd1632f9dd>\u001b[0m in \u001b[0;36m<module>\u001b[0;34m()\u001b[0m\n\u001b[0;32m----> 1\u001b[0;31m \u001b[0mt\u001b[0m\u001b[1;33m.\u001b[0m\u001b[0mappend\u001b[0m\u001b[1;33m(\u001b[0m\u001b[1;36m4\u001b[0m\u001b[1;33m)\u001b[0m\u001b[1;33m\u001b[0m\u001b[0m\n\u001b[0m",
      "\u001b[0;31mAttributeError\u001b[0m: 'tuple' object has no attribute 'append'"
     ]
    }
   ],
   "source": [
    "t.append(4)"
   ]
  },
  {
   "cell_type": "code",
   "execution_count": 153,
   "metadata": {},
   "outputs": [
    {
     "name": "stdout",
     "output_type": "stream",
     "text": [
      "2012920272\n",
      "2012920304\n"
     ]
    }
   ],
   "source": [
    "a = 1 \n",
    "print(id(a))\n",
    "a = 2\n",
    "print(id(a))"
   ]
  },
  {
   "cell_type": "code",
   "execution_count": 154,
   "metadata": {},
   "outputs": [
    {
     "name": "stdout",
     "output_type": "stream",
     "text": [
      "2012920272\n"
     ]
    }
   ],
   "source": [
    "b = 1\n",
    "print(id(b))"
   ]
  },
  {
   "cell_type": "code",
   "execution_count": 155,
   "metadata": {},
   "outputs": [
    {
     "name": "stdout",
     "output_type": "stream",
     "text": [
      "81941448\n",
      "81941448\n"
     ]
    }
   ],
   "source": [
    "l = [1,2,3]\n",
    "print(id(l))\n",
    "l.append(4)\n",
    "print(id(l))"
   ]
  },
  {
   "cell_type": "code",
   "execution_count": 159,
   "metadata": {},
   "outputs": [
    {
     "name": "stdout",
     "output_type": "stream",
     "text": [
      "81941448\n"
     ]
    }
   ],
   "source": [
    "l2 = l\n",
    "print(id(l2))"
   ]
  },
  {
   "cell_type": "code",
   "execution_count": 160,
   "metadata": {},
   "outputs": [
    {
     "name": "stdout",
     "output_type": "stream",
     "text": [
      "82135048\n"
     ]
    }
   ],
   "source": [
    "import copy\n",
    "l3 = copy.deepcopy(l)\n",
    "print(id(l3))"
   ]
  },
  {
   "cell_type": "code",
   "execution_count": 156,
   "metadata": {},
   "outputs": [
    {
     "name": "stdout",
     "output_type": "stream",
     "text": [
      "81442136\n"
     ]
    }
   ],
   "source": [
    "t = (1,2,3)\n",
    "print(id(t))"
   ]
  },
  {
   "cell_type": "code",
   "execution_count": 158,
   "metadata": {},
   "outputs": [
    {
     "name": "stdout",
     "output_type": "stream",
     "text": [
      "81650816\n"
     ]
    }
   ],
   "source": [
    "t2 = (1,2,3)\n",
    "print(id(t2))"
   ]
  },
  {
   "cell_type": "code",
   "execution_count": 161,
   "metadata": {
    "collapsed": true
   },
   "outputs": [],
   "source": [
    "a = 1\n",
    "b = 2\n",
    "c = 3"
   ]
  },
  {
   "cell_type": "code",
   "execution_count": 162,
   "metadata": {
    "collapsed": true
   },
   "outputs": [],
   "source": [
    "a,b,c = 1,2,3"
   ]
  },
  {
   "cell_type": "code",
   "execution_count": 166,
   "metadata": {},
   "outputs": [
    {
     "data": {
      "text/plain": [
       "True"
      ]
     },
     "execution_count": 166,
     "metadata": {},
     "output_type": "execute_result"
    }
   ],
   "source": [
    "c = (a,b)\n",
    "d = 1,2\n",
    "c == d"
   ]
  },
  {
   "cell_type": "code",
   "execution_count": 169,
   "metadata": {},
   "outputs": [
    {
     "name": "stdout",
     "output_type": "stream",
     "text": [
      "180\n",
      "169\n",
      "173\n"
     ]
    }
   ],
   "source": [
    "for name, height in zip(['Brian', 'Toby', 'Sherry'], [180,169,173]):\n",
    "    print(height)"
   ]
  },
  {
   "cell_type": "code",
   "execution_count": 171,
   "metadata": {},
   "outputs": [
    {
     "data": {
      "text/plain": [
       "(1, 2)"
      ]
     },
     "execution_count": 171,
     "metadata": {},
     "output_type": "execute_result"
    }
   ],
   "source": [
    "a , b"
   ]
  },
  {
   "cell_type": "code",
   "execution_count": 172,
   "metadata": {
    "collapsed": true
   },
   "outputs": [],
   "source": [
    "del a"
   ]
  },
  {
   "cell_type": "code",
   "execution_count": 173,
   "metadata": {
    "collapsed": true
   },
   "outputs": [],
   "source": [
    "del b"
   ]
  },
  {
   "cell_type": "code",
   "execution_count": 178,
   "metadata": {},
   "outputs": [],
   "source": [
    "a,b = 1,2"
   ]
  },
  {
   "cell_type": "code",
   "execution_count": 179,
   "metadata": {},
   "outputs": [
    {
     "data": {
      "text/plain": [
       "(2, 1)"
      ]
     },
     "execution_count": 179,
     "metadata": {},
     "output_type": "execute_result"
    }
   ],
   "source": [
    "c = a \n",
    "a = b\n",
    "b = c\n",
    "del c\n",
    "a,b"
   ]
  },
  {
   "cell_type": "code",
   "execution_count": 180,
   "metadata": {
    "collapsed": true
   },
   "outputs": [],
   "source": [
    "a,b = 1,2"
   ]
  },
  {
   "cell_type": "code",
   "execution_count": 182,
   "metadata": {},
   "outputs": [],
   "source": [
    "a,b = b,a"
   ]
  },
  {
   "cell_type": "code",
   "execution_count": 183,
   "metadata": {},
   "outputs": [
    {
     "data": {
      "text/plain": [
       "(2, 1)"
      ]
     },
     "execution_count": 183,
     "metadata": {},
     "output_type": "execute_result"
    }
   ],
   "source": [
    "a,b"
   ]
  },
  {
   "cell_type": "markdown",
   "metadata": {},
   "source": [
    "## Set"
   ]
  },
  {
   "cell_type": "code",
   "execution_count": 184,
   "metadata": {},
   "outputs": [
    {
     "data": {
      "text/plain": [
       "{1, 2}"
      ]
     },
     "execution_count": 184,
     "metadata": {},
     "output_type": "execute_result"
    }
   ],
   "source": [
    "x = set()\n",
    "x.add(1)\n",
    "x.add(2)\n",
    "x"
   ]
  },
  {
   "cell_type": "code",
   "execution_count": 185,
   "metadata": {},
   "outputs": [
    {
     "data": {
      "text/plain": [
       "{1, 2}"
      ]
     },
     "execution_count": 185,
     "metadata": {},
     "output_type": "execute_result"
    }
   ],
   "source": [
    "x.add(1)\n",
    "x"
   ]
  },
  {
   "cell_type": "code",
   "execution_count": 186,
   "metadata": {},
   "outputs": [
    {
     "data": {
      "text/plain": [
       "{1, 2, 3, 4}"
      ]
     },
     "execution_count": 186,
     "metadata": {},
     "output_type": "execute_result"
    }
   ],
   "source": [
    "l = [1,2,1,2,2,1,2,3,2,4,1,2]\n",
    "set(l)"
   ]
  },
  {
   "cell_type": "code",
   "execution_count": 190,
   "metadata": {},
   "outputs": [
    {
     "data": {
      "text/plain": [
       "{3, 8, 12}"
      ]
     },
     "execution_count": 190,
     "metadata": {},
     "output_type": "execute_result"
    }
   ],
   "source": [
    "customer_list  = [1,2,3,4,5,6,7,8,9,10,11,12,13,14,15]\n",
    "incoming_order = [8,12,3,16]\n",
    "set(incoming_order) - set(customer_list)\n",
    "c = set(customer_list)\n",
    "c.intersection(set(incoming_order))"
   ]
  },
  {
   "cell_type": "markdown",
   "metadata": {},
   "source": [
    "## Operator"
   ]
  },
  {
   "cell_type": "code",
   "execution_count": 195,
   "metadata": {},
   "outputs": [
    {
     "name": "stdout",
     "output_type": "stream",
     "text": [
      "True\n",
      "True\n",
      "False\n",
      "False\n",
      "True\n",
      "False\n"
     ]
    }
   ],
   "source": [
    "a = 5\n",
    "b = 3\n",
    "print(a > b)\n",
    "print(a >= b)\n",
    "print(a < b)\n",
    "print(a <= b)\n",
    "print(a != b)\n",
    "print(a == b)"
   ]
  },
  {
   "cell_type": "code",
   "execution_count": 198,
   "metadata": {},
   "outputs": [
    {
     "name": "stdout",
     "output_type": "stream",
     "text": [
      "False\n",
      "True\n"
     ]
    }
   ],
   "source": [
    "a = True\n",
    "b = False\n",
    "print(a == b)\n",
    "print(a != b)"
   ]
  },
  {
   "cell_type": "code",
   "execution_count": 200,
   "metadata": {},
   "outputs": [
    {
     "data": {
      "text/plain": [
       "False"
      ]
     },
     "execution_count": 200,
     "metadata": {},
     "output_type": "execute_result"
    }
   ],
   "source": [
    "c = a == b\n",
    "c"
   ]
  },
  {
   "cell_type": "code",
   "execution_count": 203,
   "metadata": {},
   "outputs": [
    {
     "data": {
      "text/plain": [
       "False"
      ]
     },
     "execution_count": 203,
     "metadata": {},
     "output_type": "execute_result"
    }
   ],
   "source": [
    "not a"
   ]
  },
  {
   "cell_type": "code",
   "execution_count": 205,
   "metadata": {},
   "outputs": [],
   "source": [
    "c = (not a == b)"
   ]
  },
  {
   "cell_type": "code",
   "execution_count": 206,
   "metadata": {},
   "outputs": [
    {
     "data": {
      "text/plain": [
       "True"
      ]
     },
     "execution_count": 206,
     "metadata": {},
     "output_type": "execute_result"
    }
   ],
   "source": [
    "c"
   ]
  },
  {
   "cell_type": "code",
   "execution_count": 207,
   "metadata": {},
   "outputs": [
    {
     "data": {
      "text/plain": [
       "True"
      ]
     },
     "execution_count": 207,
     "metadata": {},
     "output_type": "execute_result"
    }
   ],
   "source": [
    "a = None\n",
    "b = None\n",
    "a == b"
   ]
  },
  {
   "cell_type": "code",
   "execution_count": 209,
   "metadata": {},
   "outputs": [
    {
     "data": {
      "text/plain": [
       "(2, 4)"
      ]
     },
     "execution_count": 209,
     "metadata": {},
     "output_type": "execute_result"
    }
   ],
   "source": [
    "a = 5\n",
    "b = 3\n",
    "if a > b:\n",
    "    a = 2\n",
    "    b = 4\n",
    "a, b"
   ]
  },
  {
   "cell_type": "code",
   "execution_count": 214,
   "metadata": {},
   "outputs": [
    {
     "name": "stdout",
     "output_type": "stream",
     "text": [
      "a is greater than b\n"
     ]
    }
   ],
   "source": [
    "a = 5 \n",
    "b = 3\n",
    "if a > b:\n",
    "                                               print('a is greater than b')"
   ]
  },
  {
   "cell_type": "code",
   "execution_count": 217,
   "metadata": {},
   "outputs": [
    {
     "name": "stdout",
     "output_type": "stream",
     "text": [
      "is true\n"
     ]
    }
   ],
   "source": [
    "if True:\n",
    "    print('is true')"
   ]
  },
  {
   "cell_type": "code",
   "execution_count": 218,
   "metadata": {},
   "outputs": [
    {
     "name": "stdout",
     "output_type": "stream",
     "text": [
      "it will be printed if x is not true\n"
     ]
    }
   ],
   "source": [
    "x = False\n",
    "if x:\n",
    "    print('x was true')\n",
    "else:\n",
    "    print('it will be printed if x is not true')"
   ]
  },
  {
   "cell_type": "code",
   "execution_count": 219,
   "metadata": {},
   "outputs": [
    {
     "name": "stdout",
     "output_type": "stream",
     "text": [
      "this\n"
     ]
    }
   ],
   "source": [
    "x = None\n",
    "if x:\n",
    "    print('this will not be printed')\n",
    "else:\n",
    "    print('this')"
   ]
  },
  {
   "cell_type": "code",
   "execution_count": 220,
   "metadata": {},
   "outputs": [
    {
     "name": "stdout",
     "output_type": "stream",
     "text": [
      "this will be executed\n"
     ]
    }
   ],
   "source": [
    "x = True\n",
    "if x:\n",
    "    print('this will be executed')"
   ]
  },
  {
   "cell_type": "code",
   "execution_count": 222,
   "metadata": {},
   "outputs": [],
   "source": [
    "x = False\n",
    "if x:\n",
    "    print('this will be executed')"
   ]
  },
  {
   "cell_type": "code",
   "execution_count": 223,
   "metadata": {
    "collapsed": true
   },
   "outputs": [],
   "source": [
    "x = None\n",
    "if x:\n",
    "    print('this will be executed')"
   ]
  },
  {
   "cell_type": "code",
   "execution_count": 228,
   "metadata": {},
   "outputs": [
    {
     "name": "stdout",
     "output_type": "stream",
     "text": [
      "this will be executed\n"
     ]
    }
   ],
   "source": [
    "x = ('qoo')\n",
    "if x:\n",
    "    print('this will be executed')"
   ]
  },
  {
   "cell_type": "code",
   "execution_count": 231,
   "metadata": {},
   "outputs": [
    {
     "name": "stdout",
     "output_type": "stream",
     "text": [
      "welcome to the bank\n"
     ]
    }
   ],
   "source": [
    "loc = 'bank'\n",
    "if loc == 'auto shop':\n",
    "    print('welcome to the auto shop')\n",
    "elif loc == 'bank':\n",
    "    print('welcome to the bank')\n",
    "else:\n",
    "    print('where are you?')"
   ]
  },
  {
   "cell_type": "code",
   "execution_count": 232,
   "metadata": {},
   "outputs": [
    {
     "data": {
      "text/plain": [
       "'welcome to the bank'"
      ]
     },
     "execution_count": 232,
     "metadata": {},
     "output_type": "execute_result"
    }
   ],
   "source": [
    "dic = {'bank':'welcome to the bank', \n",
    " 'auto shop': 'welcome to the auto shop',\n",
    " 'department':'welcome to the department store'}\n",
    "dic.get('bank', 'where are you?')"
   ]
  },
  {
   "cell_type": "code",
   "execution_count": 235,
   "metadata": {},
   "outputs": [
    {
     "name": "stdout",
     "output_type": "stream",
     "text": [
      "請輸入您的問題妳喜歡我嗎\n"
     ]
    },
    {
     "data": {
      "text/plain": [
       "'我不知道妳在說什麼'"
      ]
     },
     "execution_count": 235,
     "metadata": {},
     "output_type": "execute_result"
    }
   ],
   "source": [
    "dic = {'您好': '安安', \n",
    "      '謝謝': '不客氣',\n",
    "      '早安': 'Good Morning ~'}\n",
    "question = input('請輸入您的問題')\n",
    "dic.get(question, '我不知道妳在說什麼')"
   ]
  },
  {
   "cell_type": "markdown",
   "metadata": {},
   "source": [
    "## For Loop"
   ]
  },
  {
   "cell_type": "code",
   "execution_count": 238,
   "metadata": {},
   "outputs": [
    {
     "name": "stdout",
     "output_type": "stream",
     "text": [
      "1\n",
      "2\n",
      "3\n",
      "4\n",
      "5\n",
      "6\n",
      "7\n",
      "8\n",
      "9\n",
      "10\n"
     ]
    }
   ],
   "source": [
    "l = [1,2,3,4,5,6,7,8,9,10]\n",
    "for qoo in l:\n",
    "    print(qoo)"
   ]
  },
  {
   "cell_type": "code",
   "execution_count": 240,
   "metadata": {},
   "outputs": [
    {
     "name": "stdout",
     "output_type": "stream",
     "text": [
      "1\n",
      "2\n",
      "3\n",
      "4\n",
      "5\n",
      "6\n",
      "7\n",
      "8\n",
      "9\n",
      "10\n"
     ]
    }
   ],
   "source": [
    "# for(int i = 1; i < 11; i ++)\n",
    "for ele in range(1,11):\n",
    "    print(ele)"
   ]
  },
  {
   "cell_type": "code",
   "execution_count": 241,
   "metadata": {},
   "outputs": [
    {
     "name": "stdout",
     "output_type": "stream",
     "text": [
      "1 1\n",
      "2 3\n",
      "3 6\n",
      "4 10\n",
      "5 15\n",
      "6 21\n",
      "7 28\n",
      "8 36\n",
      "9 45\n",
      "10 55\n",
      "55\n"
     ]
    }
   ],
   "source": [
    "s = 0\n",
    "for i in range(1,11):\n",
    "    s = s + i\n",
    "    print(i,s)\n",
    "print(s)"
   ]
  },
  {
   "cell_type": "code",
   "execution_count": 242,
   "metadata": {},
   "outputs": [
    {
     "name": "stdout",
     "output_type": "stream",
     "text": [
      "5050\n"
     ]
    }
   ],
   "source": [
    "s = 0\n",
    "for i in range(1,101):\n",
    "    s = s + i\n",
    "print(s)"
   ]
  },
  {
   "cell_type": "code",
   "execution_count": 243,
   "metadata": {},
   "outputs": [
    {
     "name": "stdout",
     "output_type": "stream",
     "text": [
      "5050\n"
     ]
    }
   ],
   "source": [
    "s = 0\n",
    "for i in range(1,101):\n",
    "    s += i\n",
    "print(s)"
   ]
  },
  {
   "cell_type": "code",
   "execution_count": 245,
   "metadata": {},
   "outputs": [
    {
     "name": "stdout",
     "output_type": "stream",
     "text": [
      "t\n",
      "h\n",
      "i\n",
      "s\n",
      " \n",
      "i\n",
      "s\n",
      " \n",
      "a\n",
      " \n",
      "s\n",
      "t\n",
      "r\n",
      "i\n",
      "n\n",
      "g\n"
     ]
    }
   ],
   "source": [
    "for letter in 'this is a string':\n",
    "    print(letter)"
   ]
  },
  {
   "cell_type": "code",
   "execution_count": 246,
   "metadata": {},
   "outputs": [
    {
     "name": "stdout",
     "output_type": "stream",
     "text": [
      "1\n",
      "2\n",
      "3\n",
      "4\n",
      "5\n"
     ]
    }
   ],
   "source": [
    "tup = (1,2,3,4,5)\n",
    "for t in tup:\n",
    "    print(t)"
   ]
  },
  {
   "cell_type": "code",
   "execution_count": 248,
   "metadata": {},
   "outputs": [
    {
     "name": "stdout",
     "output_type": "stream",
     "text": [
      "(2, 4)\n",
      "(6, 8)\n",
      "(10, 12)\n"
     ]
    }
   ],
   "source": [
    "l = [(2,4), (6,8), (10,12)]\n",
    "for tup in l:\n",
    "    print(tup)"
   ]
  },
  {
   "cell_type": "code",
   "execution_count": 251,
   "metadata": {},
   "outputs": [
    {
     "name": "stdout",
     "output_type": "stream",
     "text": [
      "8\n",
      "48\n",
      "120\n"
     ]
    }
   ],
   "source": [
    "for t1, t2 in l:\n",
    "    #print(t1, t2)\n",
    "    print(t1 * t2)"
   ]
  },
  {
   "cell_type": "code",
   "execution_count": 255,
   "metadata": {},
   "outputs": [
    {
     "name": "stdout",
     "output_type": "stream",
     "text": [
      "22.530864197530864\n",
      "30.461118308182492\n",
      "15.703832403354605\n"
     ]
    }
   ],
   "source": [
    "height = [180,169,173]\n",
    "weight = [73 , 87, 47]\n",
    "for i in range(0, len(height)):\n",
    "    print(weight[i] / (height[i] / 100 ) ** 2 )"
   ]
  },
  {
   "cell_type": "code",
   "execution_count": 257,
   "metadata": {},
   "outputs": [
    {
     "name": "stdout",
     "output_type": "stream",
     "text": [
      "22.530864197530864\n",
      "30.461118308182492\n",
      "15.703832403354605\n"
     ]
    }
   ],
   "source": [
    "for h, w in zip(height, weight):\n",
    "    print(w / (h / 100)**2 )"
   ]
  },
  {
   "cell_type": "code",
   "execution_count": 261,
   "metadata": {},
   "outputs": [
    {
     "name": "stdout",
     "output_type": "stream",
     "text": [
      "1\n",
      "k1 1\n",
      "k2 2\n",
      "k3 3\n"
     ]
    }
   ],
   "source": [
    "d = {'k1': 1, 'k2': 2, 'k3': 3}\n",
    "print(d.get('k1'))\n",
    "\n",
    "for item in d:\n",
    "    print(item, d.get(item))"
   ]
  },
  {
   "cell_type": "code",
   "execution_count": 263,
   "metadata": {},
   "outputs": [
    {
     "name": "stdout",
     "output_type": "stream",
     "text": [
      "k1 1\n",
      "k2 2\n",
      "k3 3\n"
     ]
    }
   ],
   "source": [
    "for k, v in d.items():\n",
    "    print(k,v)"
   ]
  },
  {
   "cell_type": "code",
   "execution_count": 265,
   "metadata": {},
   "outputs": [
    {
     "name": "stdout",
     "output_type": "stream",
     "text": [
      "175\n",
      "182\n",
      "177\n"
     ]
    }
   ],
   "source": [
    "l = [169,173,175,182,167,169,177]\n",
    "for h in l:\n",
    "    if h >= 175:\n",
    "        print(h)"
   ]
  },
  {
   "cell_type": "code",
   "execution_count": 266,
   "metadata": {},
   "outputs": [
    {
     "data": {
      "text/plain": [
       "[175, 182, 177]"
      ]
     },
     "execution_count": 266,
     "metadata": {},
     "output_type": "execute_result"
    }
   ],
   "source": [
    "ary = [] \n",
    "for h in l:\n",
    "    if h >= 175:\n",
    "        ary.append(h)\n",
    "ary"
   ]
  },
  {
   "cell_type": "code",
   "execution_count": 268,
   "metadata": {},
   "outputs": [
    {
     "data": {
      "text/plain": [
       "[175, 182, 177]"
      ]
     },
     "execution_count": 268,
     "metadata": {},
     "output_type": "execute_result"
    }
   ],
   "source": [
    "[h for h in l if h >= 175]"
   ]
  },
  {
   "cell_type": "code",
   "execution_count": 269,
   "metadata": {},
   "outputs": [
    {
     "data": {
      "text/plain": [
       "[22.530864197530864, 30.461118308182492, 15.703832403354605]"
      ]
     },
     "execution_count": 269,
     "metadata": {},
     "output_type": "execute_result"
    }
   ],
   "source": [
    "height = [180,169,173]\n",
    "weight = [73 , 87, 47]\n",
    "bmi    = []\n",
    "for h, w in zip(height, weight):\n",
    "    bmi.append(w / (h / 100)**2 )\n",
    "bmi"
   ]
  },
  {
   "cell_type": "code",
   "execution_count": 274,
   "metadata": {},
   "outputs": [
    {
     "data": {
      "text/plain": [
       "[30.461118308182492, 15.703832403354605]"
      ]
     },
     "execution_count": 274,
     "metadata": {},
     "output_type": "execute_result"
    }
   ],
   "source": [
    "[ w / (h / 100)**2 for h,w in zip(height, weight) if h < 180]"
   ]
  }
 ],
 "metadata": {
  "kernelspec": {
   "display_name": "Python 3",
   "language": "python",
   "name": "python3"
  },
  "language_info": {
   "codemirror_mode": {
    "name": "ipython",
    "version": 3
   },
   "file_extension": ".py",
   "mimetype": "text/x-python",
   "name": "python",
   "nbconvert_exporter": "python",
   "pygments_lexer": "ipython3",
   "version": "3.6.1"
  }
 },
 "nbformat": 4,
 "nbformat_minor": 1
}
