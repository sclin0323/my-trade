{
 "cells": [
  {
   "cell_type": "code",
   "execution_count": 123,
   "metadata": {},
   "outputs": [
    {
     "name": "stdout",
     "output_type": "stream",
     "text": [
      "3\n"
     ]
    }
   ],
   "source": [
    "# delete\n",
    "from pymongo import MongoClient\n",
    "\n",
    "c = MongoClient('192.168.191.150', 27017)\n",
    "db = c.inventory\n",
    "collection = db.items\n",
    "\n",
    "result = collection.delete_many({})\n",
    "print(result.deleted_count)\n"
   ]
  },
  {
   "cell_type": "code",
   "execution_count": 124,
   "metadata": {},
   "outputs": [
    {
     "data": {
      "text/plain": [
       "<pymongo.results.InsertManyResult at 0x1134e6fc0>"
      ]
     },
     "execution_count": 124,
     "metadata": {},
     "output_type": "execute_result"
    }
   ],
   "source": [
    "## insert\n",
    "from pymongo import MongoClient\n",
    "\n",
    "c = MongoClient('192.168.191.150', 27017)\n",
    "db = c.inventory\n",
    "collection = db.items\n",
    "\n",
    "item = {\n",
    "    \"Type\" : \"Laptop\",\n",
    "    \"ItemNumber\" : \"1234EXD\",\n",
    "    \"Status\" : \"In use\",\n",
    "    \"Location\" : {\n",
    "        \"Department\" : \"Development\",\n",
    "    \"Building\" : \"2B\",\n",
    "        \"Floor\" : 12,\n",
    "        \"Desk\" : 120101,\n",
    "        \"Owner\" : \"Anderson, Thomas\"\n",
    "    },\n",
    "    \"Tags\" : [\"Laptop\",\"Development\",\"In Use\"]\n",
    "}\n",
    "\n",
    "collection.insert_one(item)\n",
    "\n",
    "item_two =[{\n",
    "    \"Type\" : \"Laptop\",\n",
    "    \"ItemNumber\" : \"8567EXD\",\n",
    "    \"Status\" : \"In use\",\n",
    "    \"Location\" : {\n",
    "        \"Department\" : \"Development\",\n",
    "    \"Building\" : \"2B\",\n",
    "        \"Floor\" : 12,\n",
    "        \"Desk\" : 120102,\n",
    "        \"Owner\" : \"Anderson, Thomas\"\n",
    "    },\n",
    "    \"Tags\" : [\"Laptop\",\"Development\",\"In Use\"]\n",
    "},{\n",
    "    \"Type\" : \"Laptop\",\n",
    "    \"ItemNumber\" : \"5678EXD\",\n",
    "    \"Status\" : \"In use\",\n",
    "    \"Location\" : {\n",
    "        \"Department\" : \"Development\",\n",
    "    \"Building\" : \"2B\",\n",
    "        \"Floor\" : 12,\n",
    "        \"Desk\" : 120103,\n",
    "        \"Owner\" : \"Anderson, Thomas\"\n",
    "    },\n",
    "    \"Tags\" : [\"Laptop\",\"Development\",\"In Use\"]\n",
    "}]\n",
    "\n",
    "collection.insert_many(item_two)"
   ]
  },
  {
   "cell_type": "code",
   "execution_count": 125,
   "metadata": {},
   "outputs": [
    {
     "name": "stdout",
     "output_type": "stream",
     "text": [
      "{'_id': ObjectId('5971cd76a90acd2b71b91007'), 'Type': 'Laptop', 'ItemNumber': '1234EXD', 'Status': 'In use', 'Location': {'Department': 'Development', 'Building': '2B', 'Floor': 12, 'Desk': 120101, 'Owner': 'Anderson, Thomas'}, 'Tags': ['Laptop', 'Development', 'In Use']}\n",
      "{'_id': ObjectId('5971cd76a90acd2b71b91007'), 'Type': 'Laptop', 'ItemNumber': '1234EXD', 'Status': 'In use', 'Location': {'Department': 'Development', 'Building': '2B', 'Floor': 12, 'Desk': 120101, 'Owner': 'Anderson, Thomas'}, 'Tags': ['Laptop', 'Development', 'In Use']}\n",
      "{'_id': ObjectId('5971cd76a90acd2b71b91008'), 'Type': 'Laptop', 'ItemNumber': '8567EXD', 'Status': 'In use', 'Location': {'Department': 'Development', 'Building': '2B', 'Floor': 12, 'Desk': 120102, 'Owner': 'Anderson, Thomas'}, 'Tags': ['Laptop', 'Development', 'In Use']}\n",
      "{'_id': ObjectId('5971cd76a90acd2b71b91009'), 'Type': 'Laptop', 'ItemNumber': '5678EXD', 'Status': 'In use', 'Location': {'Department': 'Development', 'Building': '2B', 'Floor': 12, 'Desk': 120103, 'Owner': 'Anderson, Thomas'}, 'Tags': ['Laptop', 'Development', 'In Use']}\n",
      "{'_id': ObjectId('5971cd76a90acd2b71b91007'), 'ItemNumber': '1234EXD', 'Location': {'Owner': 'Anderson, Thomas'}}\n",
      "{'_id': ObjectId('5971cd76a90acd2b71b91008'), 'ItemNumber': '8567EXD', 'Location': {'Owner': 'Anderson, Thomas'}}\n",
      "3\n",
      "['1234EXD', '8567EXD', '5678EXD']\n",
      "\n",
      "\n",
      "{'_id': ObjectId('5971cd76a90acd2b71b91007'), 'Type': 'Laptop', 'ItemNumber': '1234EXD', 'Status': 'In use', 'Location': {'Department': 'Development', 'Building': '2B', 'Floor': 12, 'Desk': 120101, 'Owner': 'Anderson, Thomas'}, 'Tags': ['Laptop', 'Development', 'In Use']}\n"
     ]
    }
   ],
   "source": [
    "## query and find\n",
    "from pymongo import MongoClient\n",
    "\n",
    "c = MongoClient('192.168.191.150', 27017)\n",
    "db = c.inventory\n",
    "collection = db.items\n",
    "\n",
    "print(collection.find_one())\n",
    "\n",
    "for o in collection.find().sort(\"_id\"):\n",
    "    print(o)\n",
    "    \n",
    "for o2 in collection.find({}, projection={\"ItemNumber\" : True, \"Location.Owner\" : True}).limit(2):\n",
    "    print(o2)\n",
    "    \n",
    "    \n",
    "print(collection.find().sort(\"_id\").count())\n",
    "\n",
    "\n",
    "print(collection.distinct(\"ItemNumber\"))\n",
    "print('\\n')\n",
    "\n",
    "# Using the $lt, $gt, $lte, and $gte Operators\n",
    "for doc in collection.find({\"Location.Desk\" : {\"$lt\" : 120102} }): \n",
    "    print(doc)\n",
    "    "
   ]
  },
  {
   "cell_type": "code",
   "execution_count": 128,
   "metadata": {},
   "outputs": [
    {
     "data": {
      "text/plain": [
       "<pymongo.results.UpdateResult at 0x113405750>"
      ]
     },
     "execution_count": 128,
     "metadata": {},
     "output_type": "execute_result"
    }
   ],
   "source": [
    "## update\n",
    "from pymongo import MongoClient\n",
    "\n",
    "c = MongoClient('192.168.191.150', 27017)\n",
    "db = c.inventory\n",
    "collection = db.items\n",
    "\n",
    "update = {\n",
    "    \"Type\" : \"Chair\",\n",
    "    \"Status\" : \"Not In use\",\n",
    "    \"Tags\" : [\"Chair\",\"In use\",\"Marketing\"],\n",
    "    \"ItemNumber\" : \"8567EXD\",\n",
    "    \"Location\" : {\n",
    "        \"Department\" : \"Marketing\",\n",
    "        \"Building\" : \"3B\",\n",
    "        \"DeskNumber\" : 1311311111111,\n",
    "        \"Owner\" : \"Martin, Lisaxxxxxx\"\n",
    "    }\n",
    "}\n",
    "\n",
    "collection.update_one({\"ItemNumber\" : \"8567EXD\"}, {'$inc': {'y':12345}})\n",
    "collection.update_one({'ItemNumber': \"8567EXD\"}, {'$inc': {'y':3356}})\n",
    "collection.update_one({'ItemNumber': \"8567EXD\"}, {'$set': {'z':'abc123'}})\n",
    "collection.update_one({'ItemNumber': \"8567EXD\"}, {'$set': {'z':'abc789'}})\n",
    "collection.update_one({'ItemNumber': \"8567EXD\"}, {'$set': {'y':9999}})\n",
    "collection.update_one({'ItemNumber': \"8567EXD\"}, {'$set': update})\n",
    "collection.update_one({'ItemNumber': \"8567EXD\"}, {'$set': {'Location.a':'aaaaa'}})\n"
   ]
  },
  {
   "cell_type": "code",
   "execution_count": 140,
   "metadata": {},
   "outputs": [
    {
     "name": "stdout",
     "output_type": "stream",
     "text": [
      "<pymongo.results.InsertOneResult object at 0x1121872d0>\n"
     ]
    }
   ],
   "source": [
    "# create mongodb\n",
    "from pymongo import MongoClient\n",
    "import datetime\n",
    "\n",
    "\n",
    "client = MongoClient('192.168.191.150', 27017)\n",
    "db = client['testdb']\n",
    "col = db['servers']\n",
    "\n",
    "datas = [{\"address\":'192.168.191.128','port':'18682','status':False,'checkTime':datetime.datetime.utcnow()},\n",
    "         {\"address\":'192.168.191.129','port':'18682','status':True,'checkTime':datetime.datetime.utcnow()},\n",
    "         {\"address\":'192.168.191.150','port':'18682','status':False,'checkTime':datetime.datetime.utcnow()}]\n",
    "\n",
    "col.delete_many({})\n",
    "col.insert_many(datas)\n",
    "\n",
    "print(dataId)\n",
    "\n",
    "\n",
    "\n",
    "\n",
    "\n"
   ]
  },
  {
   "cell_type": "code",
   "execution_count": 139,
   "metadata": {},
   "outputs": [
    {
     "name": "stdout",
     "output_type": "stream",
     "text": [
      "5971d086a90acd2b71b91013\n",
      "OK\n",
      "5971d086a90acd2b71b91014\n",
      "OK\n",
      "5971d086a90acd2b71b91015\n",
      "OK\n"
     ]
    },
    {
     "data": {
      "text/plain": [
       "\"\\nservers = ['192.168.191.128','192.168.191.129','192.168.191.150']\\n\\nclient = MongoClient('192.168.191.150', 27017)\\n\\nfor server in servers:\\n    ok_servers = []\\n    response = requests.get('http://192.168.191.150:18682/PCCIS/V1/Service/Current/Health')\\n    print(response.url+' '+str(response.status_code)+' '+response.text)\\n    sleep(1)\\n\""
      ]
     },
     "execution_count": 139,
     "metadata": {},
     "output_type": "execute_result"
    }
   ],
   "source": [
    "import requests\n",
    "from pymongo import MongoClient\n",
    "from time import sleep\n",
    "\n",
    "client = MongoClient('192.168.191.150', 27017)\n",
    "db = client['testdb']\n",
    "col = db['servers']\n",
    "\n",
    "for record in col.find():\n",
    "    #print(record['ip'])\n",
    "    url = 'http://'+record['ip']+':18682/PCCIS/V1/Service/Current/Health'\n",
    "    res = requests.get(url)\n",
    "    if(res.text == 'OK'):\n",
    "        record['checkTime'] = datetime.datetime.utcnow()\n",
    "        record['status'] = True\n",
    "        print(record['_id'])\n",
    "        col.update_one({\"_id\":record['_id']}, {'$set': {'status':'123234233'}})\n",
    "        print('OK')\n",
    "\n",
    "'''\n",
    "servers = ['192.168.191.128','192.168.191.129','192.168.191.150']\n",
    "\n",
    "client = MongoClient('192.168.191.150', 27017)\n",
    "\n",
    "for server in servers:\n",
    "    ok_servers = []\n",
    "    response = requests.get('http://192.168.191.150:18682/PCCIS/V1/Service/Current/Health')\n",
    "    print(response.url+' '+str(response.status_code)+' '+response.text)\n",
    "    sleep(1)\n",
    "'''"
   ]
  },
  {
   "cell_type": "code",
   "execution_count": 34,
   "metadata": {},
   "outputs": [
    {
     "ename": "ValueError",
     "evalue": "update only works with $ operators",
     "output_type": "error",
     "traceback": [
      "\u001b[0;31m---------------------------------------------------------------------------\u001b[0m",
      "\u001b[0;31mValueError\u001b[0m                                Traceback (most recent call last)",
      "\u001b[0;32m<ipython-input-34-f511dcd9a9cb>\u001b[0m in \u001b[0;36m<module>\u001b[0;34m()\u001b[0m\n\u001b[1;32m      8\u001b[0m \u001b[0;34m\u001b[0m\u001b[0m\n\u001b[1;32m      9\u001b[0m \u001b[0;32mfor\u001b[0m \u001b[0mrecord\u001b[0m \u001b[0;32min\u001b[0m \u001b[0mcol\u001b[0m\u001b[0;34m.\u001b[0m\u001b[0mfind\u001b[0m\u001b[0;34m(\u001b[0m\u001b[0;34m)\u001b[0m\u001b[0;34m:\u001b[0m\u001b[0;34m\u001b[0m\u001b[0m\n\u001b[0;32m---> 10\u001b[0;31m     \u001b[0mcol\u001b[0m\u001b[0;34m.\u001b[0m\u001b[0mupdate_one\u001b[0m\u001b[0;34m(\u001b[0m\u001b[0mrecord\u001b[0m\u001b[0;34m,\u001b[0m\u001b[0;34m{\u001b[0m\u001b[0;34m'title'\u001b[0m\u001b[0;34m:\u001b[0m\u001b[0;34m'MongoDB'\u001b[0m\u001b[0;34m}\u001b[0m\u001b[0;34m,\u001b[0m \u001b[0mupsert\u001b[0m\u001b[0;34m=\u001b[0m\u001b[0;32mTrue\u001b[0m\u001b[0;34m)\u001b[0m\u001b[0;34m\u001b[0m\u001b[0m\n\u001b[0m",
      "\u001b[0;32m~/anaconda/envs/py_36/lib/python3.6/site-packages/pymongo/collection.py\u001b[0m in \u001b[0;36mupdate_one\u001b[0;34m(self, filter, update, upsert, bypass_document_validation)\u001b[0m\n\u001b[1;32m    835\u001b[0m         \"\"\"\n\u001b[1;32m    836\u001b[0m         \u001b[0mcommon\u001b[0m\u001b[0;34m.\u001b[0m\u001b[0mvalidate_is_mapping\u001b[0m\u001b[0;34m(\u001b[0m\u001b[0;34m\"filter\"\u001b[0m\u001b[0;34m,\u001b[0m \u001b[0mfilter\u001b[0m\u001b[0;34m)\u001b[0m\u001b[0;34m\u001b[0m\u001b[0m\n\u001b[0;32m--> 837\u001b[0;31m         \u001b[0mcommon\u001b[0m\u001b[0;34m.\u001b[0m\u001b[0mvalidate_ok_for_update\u001b[0m\u001b[0;34m(\u001b[0m\u001b[0mupdate\u001b[0m\u001b[0;34m)\u001b[0m\u001b[0;34m\u001b[0m\u001b[0m\n\u001b[0m\u001b[1;32m    838\u001b[0m         \u001b[0;32mwith\u001b[0m \u001b[0mself\u001b[0m\u001b[0;34m.\u001b[0m\u001b[0m_socket_for_writes\u001b[0m\u001b[0;34m(\u001b[0m\u001b[0;34m)\u001b[0m \u001b[0;32mas\u001b[0m \u001b[0msock_info\u001b[0m\u001b[0;34m:\u001b[0m\u001b[0;34m\u001b[0m\u001b[0m\n\u001b[1;32m    839\u001b[0m             result = self._update(sock_info, filter, update, upsert,\n",
      "\u001b[0;32m~/anaconda/envs/py_36/lib/python3.6/site-packages/pymongo/common.py\u001b[0m in \u001b[0;36mvalidate_ok_for_update\u001b[0;34m(update)\u001b[0m\n\u001b[1;32m    417\u001b[0m     \u001b[0mfirst\u001b[0m \u001b[0;34m=\u001b[0m \u001b[0mnext\u001b[0m\u001b[0;34m(\u001b[0m\u001b[0miter\u001b[0m\u001b[0;34m(\u001b[0m\u001b[0mupdate\u001b[0m\u001b[0;34m)\u001b[0m\u001b[0;34m)\u001b[0m\u001b[0;34m\u001b[0m\u001b[0m\n\u001b[1;32m    418\u001b[0m     \u001b[0;32mif\u001b[0m \u001b[0;32mnot\u001b[0m \u001b[0mfirst\u001b[0m\u001b[0;34m.\u001b[0m\u001b[0mstartswith\u001b[0m\u001b[0;34m(\u001b[0m\u001b[0;34m'$'\u001b[0m\u001b[0;34m)\u001b[0m\u001b[0;34m:\u001b[0m\u001b[0;34m\u001b[0m\u001b[0m\n\u001b[0;32m--> 419\u001b[0;31m         \u001b[0;32mraise\u001b[0m \u001b[0mValueError\u001b[0m\u001b[0;34m(\u001b[0m\u001b[0;34m'update only works with $ operators'\u001b[0m\u001b[0;34m)\u001b[0m\u001b[0;34m\u001b[0m\u001b[0m\n\u001b[0m\u001b[1;32m    420\u001b[0m \u001b[0;34m\u001b[0m\u001b[0m\n\u001b[1;32m    421\u001b[0m \u001b[0;34m\u001b[0m\u001b[0m\n",
      "\u001b[0;31mValueError\u001b[0m: update only works with $ operators"
     ]
    }
   ],
   "source": [
    "from pymongo import MongoClient\n",
    "import datetime\n",
    "\n",
    "\n",
    "client = MongoClient('192.168.191.150', 27017)\n",
    "db = client['testdb']\n",
    "col = db['servers']\n",
    "\n",
    "for record in col.find():\n",
    "    col.update_one(record,{'title':'MongoDB'}, upsert=True)\n"
   ]
  }
 ],
 "metadata": {
  "kernelspec": {
   "display_name": "Python 3",
   "language": "python",
   "name": "python3"
  },
  "language_info": {
   "codemirror_mode": {
    "name": "ipython",
    "version": 3
   },
   "file_extension": ".py",
   "mimetype": "text/x-python",
   "name": "python",
   "nbconvert_exporter": "python",
   "pygments_lexer": "ipython3",
   "version": "3.6.1"
  }
 },
 "nbformat": 4,
 "nbformat_minor": 2
}
