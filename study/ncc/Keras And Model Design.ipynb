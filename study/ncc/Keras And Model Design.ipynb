{
 "cells": [
  {
   "cell_type": "code",
   "execution_count": 3,
   "metadata": {
    "collapsed": true
   },
   "outputs": [],
   "source": [
    "%matplotlib inline\n",
    "import numpy as np\n",
    "import matplotlib.pyplot as plt\n",
    "\n",
    "from keras.datasets import mnist #資料集\n",
    "from keras.utils import np_utils # 做one‐hot embedding\n",
    "from keras.models import Sequential #讀入Sequential模式以建立模型 \n",
    "from keras.layers import Dense, Activation #我們需要的keras層 \n",
    "from keras.optimizers import SGD #這次用的優化器\n",
    "\n",
    "(x0_train, y0_train), (x0_test, y0_test) = mnist.load_data() #讀入MNIST資料集"
   ]
  },
  {
   "cell_type": "code",
   "execution_count": 19,
   "metadata": {},
   "outputs": [
    {
     "data": {
      "text/plain": [
       "(60000, 28, 28)"
      ]
     },
     "execution_count": 19,
     "metadata": {},
     "output_type": "execute_result"
    }
   ],
   "source": [
    "x0_train.shape"
   ]
  },
  {
   "cell_type": "code",
   "execution_count": 20,
   "metadata": {},
   "outputs": [
    {
     "data": {
      "text/plain": [
       "(10000, 28, 28)"
      ]
     },
     "execution_count": 20,
     "metadata": {},
     "output_type": "execute_result"
    }
   ],
   "source": [
    "x0_test.shape"
   ]
  },
  {
   "cell_type": "code",
   "execution_count": 32,
   "metadata": {
    "collapsed": true
   },
   "outputs": [],
   "source": [
    "#將輸入資料打平\n",
    "x_train = x0_train.reshape(60000, 28*28)\n",
    "x_test = x0_test.reshape(10000, 28*28)"
   ]
  },
  {
   "cell_type": "code",
   "execution_count": 33,
   "metadata": {},
   "outputs": [
    {
     "data": {
      "text/plain": [
       "array([[ 0.,  0.,  0., ...,  0.,  0.,  0.],\n",
       "       [ 1.,  0.,  0., ...,  0.,  0.,  0.],\n",
       "       [ 0.,  0.,  0., ...,  0.,  0.,  0.],\n",
       "       ..., \n",
       "       [ 0.,  0.,  0., ...,  0.,  0.,  0.],\n",
       "       [ 0.,  0.,  0., ...,  0.,  0.,  0.],\n",
       "       [ 0.,  0.,  0., ...,  0.,  1.,  0.]])"
      ]
     },
     "execution_count": 33,
     "metadata": {},
     "output_type": "execute_result"
    }
   ],
   "source": [
    "#將輸出資料做One-hot Embedding\n",
    "y_train = np_utils.to_categorical(y0_train,10) \n",
    "y_test = np_utils.to_categorical(y0_test,10)\n",
    "y_train"
   ]
  },
  {
   "cell_type": "code",
   "execution_count": 34,
   "metadata": {},
   "outputs": [
    {
     "name": "stdout",
     "output_type": "stream",
     "text": [
      "_________________________________________________________________\n",
      "Layer (type)                 Output Shape              Param #   \n",
      "=================================================================\n",
      "dense_10 (Dense)             (None, 500)               392500    \n",
      "_________________________________________________________________\n",
      "activation_10 (Activation)   (None, 500)               0         \n",
      "_________________________________________________________________\n",
      "dense_11 (Dense)             (None, 500)               250500    \n",
      "_________________________________________________________________\n",
      "activation_11 (Activation)   (None, 500)               0         \n",
      "_________________________________________________________________\n",
      "dense_12 (Dense)             (None, 10)                5010      \n",
      "_________________________________________________________________\n",
      "activation_12 (Activation)   (None, 10)                0         \n",
      "=================================================================\n",
      "Total params: 648,010\n",
      "Trainable params: 648,010\n",
      "Non-trainable params: 0\n",
      "_________________________________________________________________\n"
     ]
    }
   ],
   "source": [
    "model = Sequential()\n",
    "model.add(Dense(units=500, input_dim=784))\n",
    "model.add(Activation('sigmoid'))\n",
    "model.add(Dense(units=500))\n",
    "model.add(Activation('sigmoid'))\n",
    "model.add(Dense(units=10)) \n",
    "model.add(Activation('softmax')) \n",
    "model.summary() #檢查模型形狀"
   ]
  },
  {
   "cell_type": "code",
   "execution_count": 35,
   "metadata": {
    "collapsed": true
   },
   "outputs": [],
   "source": [
    "model.compile(loss='mse', optimizer=SGD(lr=0.1), metrics=['accuracy'])"
   ]
  },
  {
   "cell_type": "code",
   "execution_count": 36,
   "metadata": {},
   "outputs": [
    {
     "name": "stdout",
     "output_type": "stream",
     "text": [
      "Epoch 1/20\n",
      "60000/60000 [==============================] - 4s - loss: 0.0827 - acc: 0.3722     \n",
      "Epoch 2/20\n",
      "60000/60000 [==============================] - 4s - loss: 0.0618 - acc: 0.6161     \n",
      "Epoch 3/20\n",
      "60000/60000 [==============================] - 4s - loss: 0.0444 - acc: 0.7718     \n",
      "Epoch 4/20\n",
      "60000/60000 [==============================] - 4s - loss: 0.0327 - acc: 0.8436     \n",
      "Epoch 5/20\n",
      "60000/60000 [==============================] - 4s - loss: 0.0255 - acc: 0.8751     \n",
      "Epoch 6/20\n",
      "60000/60000 [==============================] - 4s - loss: 0.0212 - acc: 0.8886     \n",
      "Epoch 7/20\n",
      "60000/60000 [==============================] - 4s - loss: 0.0185 - acc: 0.8989     \n",
      "Epoch 8/20\n",
      "60000/60000 [==============================] - 4s - loss: 0.0167 - acc: 0.9061     \n",
      "Epoch 9/20\n",
      "60000/60000 [==============================] - 4s - loss: 0.0154 - acc: 0.9124     \n",
      "Epoch 10/20\n",
      "60000/60000 [==============================] - 4s - loss: 0.0144 - acc: 0.9167     \n",
      "Epoch 11/20\n",
      "60000/60000 [==============================] - 4s - loss: 0.0135 - acc: 0.9203     \n",
      "Epoch 12/20\n",
      "60000/60000 [==============================] - 4s - loss: 0.0128 - acc: 0.9247     \n",
      "Epoch 13/20\n",
      "60000/60000 [==============================] - 4s - loss: 0.0122 - acc: 0.9282     \n",
      "Epoch 14/20\n",
      "60000/60000 [==============================] - 4s - loss: 0.0117 - acc: 0.9315     \n",
      "Epoch 15/20\n",
      "60000/60000 [==============================] - 4s - loss: 0.0112 - acc: 0.9340     \n",
      "Epoch 16/20\n",
      "60000/60000 [==============================] - 4s - loss: 0.0108 - acc: 0.9365     \n",
      "Epoch 17/20\n",
      "60000/60000 [==============================] - 4s - loss: 0.0104 - acc: 0.9385     \n",
      "Epoch 18/20\n",
      "60000/60000 [==============================] - 4s - loss: 0.0100 - acc: 0.9413     \n",
      "Epoch 19/20\n",
      "60000/60000 [==============================] - 4s - loss: 0.0097 - acc: 0.9430     \n",
      "Epoch 20/20\n",
      "60000/60000 [==============================] - 4s - loss: 0.0094 - acc: 0.9449     \n"
     ]
    },
    {
     "data": {
      "text/plain": [
       "<keras.callbacks.History at 0x11fbdb358>"
      ]
     },
     "execution_count": 36,
     "metadata": {},
     "output_type": "execute_result"
    }
   ],
   "source": [
    "model.fit(x_train, y_train, batch_size=100, epochs=20)"
   ]
  },
  {
   "cell_type": "code",
   "execution_count": 45,
   "metadata": {},
   "outputs": [
    {
     "name": "stdout",
     "output_type": "stream",
     "text": [
      " 9632/10000 [===========================>..] - ETA: 0s"
     ]
    }
   ],
   "source": [
    "result = model.predict_classes(x_test)"
   ]
  },
  {
   "cell_type": "code",
   "execution_count": 47,
   "metadata": {
    "collapsed": true
   },
   "outputs": [],
   "source": [
    "model_json = model.to_json()\n",
    "open('handwriting_model_architecture.json', 'w').write(model_json)\n",
    "model.save_weights('handwriting_model_weights.h5')"
   ]
  },
  {
   "cell_type": "markdown",
   "metadata": {},
   "source": [
    "## Model Design"
   ]
  },
  {
   "cell_type": "code",
   "execution_count": 59,
   "metadata": {},
   "outputs": [
    {
     "name": "stdout",
     "output_type": "stream",
     "text": [
      "_________________________________________________________________\n",
      "Layer (type)                 Output Shape              Param #   \n",
      "=================================================================\n",
      "dense_24 (Dense)             (None, 3)                 9         \n",
      "=================================================================\n",
      "Total params: 9\n",
      "Trainable params: 9\n",
      "Non-trainable params: 0\n",
      "_________________________________________________________________\n"
     ]
    }
   ],
   "source": [
    "model = Sequential()\n",
    "model.add(Dense(3, input_shape=(2,)))\n",
    "model.summary()"
   ]
  },
  {
   "cell_type": "code",
   "execution_count": 60,
   "metadata": {},
   "outputs": [
    {
     "name": "stdout",
     "output_type": "stream",
     "text": [
      "_________________________________________________________________\n",
      "Layer (type)                 Output Shape              Param #   \n",
      "=================================================================\n",
      "dense_24 (Dense)             (None, 3)                 9         \n",
      "_________________________________________________________________\n",
      "dense_25 (Dense)             (None, 2)                 8         \n",
      "_________________________________________________________________\n",
      "dense_26 (Dense)             (None, 3)                 9         \n",
      "_________________________________________________________________\n",
      "activation_13 (Activation)   (None, 3)                 0         \n",
      "=================================================================\n",
      "Total params: 26\n",
      "Trainable params: 26\n",
      "Non-trainable params: 0\n",
      "_________________________________________________________________\n"
     ]
    }
   ],
   "source": [
    "model.add(Dense(2))\n",
    "model.add(Dense(3))\n",
    "model.add(Activation('sigmoid'))\n",
    "model.summary()"
   ]
  }
 ],
 "metadata": {
  "kernelspec": {
   "display_name": "Python 3",
   "language": "python",
   "name": "python3"
  },
  "language_info": {
   "codemirror_mode": {
    "name": "ipython",
    "version": 3
   },
   "file_extension": ".py",
   "mimetype": "text/x-python",
   "name": "python",
   "nbconvert_exporter": "python",
   "pygments_lexer": "ipython3",
   "version": "3.6.1"
  }
 },
 "nbformat": 4,
 "nbformat_minor": 2
}
