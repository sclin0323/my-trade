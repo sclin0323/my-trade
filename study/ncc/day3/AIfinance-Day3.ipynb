{
 "cells": [
  {
   "cell_type": "code",
   "execution_count": 1,
   "metadata": {},
   "outputs": [
    {
     "name": "stderr",
     "output_type": "stream",
     "text": [
      "Using TensorFlow backend.\n"
     ]
    }
   ],
   "source": [
    "%matplotlib inline\n",
    "import numpy as np\n",
    "import matplotlib.pyplot as plt\n",
    "import pandas as pd\n",
    "from keras.models import Sequential\n",
    "from keras.layers import Dense, Flatten, Reshape, Dropout, Activation\n",
    "from keras.layers import Conv2D, MaxPooling2D"
   ]
  },
  {
   "cell_type": "markdown",
   "metadata": {},
   "source": [
    "## 我們一樣先讀進來 ETF 資料"
   ]
  },
  {
   "cell_type": "code",
   "execution_count": 2,
   "metadata": {
    "collapsed": true
   },
   "outputs": [],
   "source": [
    "data = pd.read_csv('./etf_data/AFK.csv')"
   ]
  },
  {
   "cell_type": "markdown",
   "metadata": {},
   "source": [
    "# 這一次我們先來把資料做一些前處理"
   ]
  },
  {
   "cell_type": "markdown",
   "metadata": {},
   "source": [
    "## 如果你有看過資料會發現有些欄位有0值，而這個應該要去除的"
   ]
  },
  {
   "cell_type": "code",
   "execution_count": 3,
   "metadata": {},
   "outputs": [
    {
     "data": {
      "text/html": [
       "<div>\n",
       "<style>\n",
       "    .dataframe thead tr:only-child th {\n",
       "        text-align: right;\n",
       "    }\n",
       "\n",
       "    .dataframe thead th {\n",
       "        text-align: left;\n",
       "    }\n",
       "\n",
       "    .dataframe tbody tr th {\n",
       "        vertical-align: top;\n",
       "    }\n",
       "</style>\n",
       "<table border=\"1\" class=\"dataframe\">\n",
       "  <thead>\n",
       "    <tr style=\"text-align: right;\">\n",
       "      <th></th>\n",
       "      <th>Date</th>\n",
       "      <th>Open</th>\n",
       "      <th>High</th>\n",
       "      <th>Low</th>\n",
       "      <th>Close</th>\n",
       "      <th>Volume</th>\n",
       "      <th>Adj Close</th>\n",
       "    </tr>\n",
       "  </thead>\n",
       "  <tbody>\n",
       "    <tr>\n",
       "      <th>103</th>\n",
       "      <td>2016-09-19</td>\n",
       "      <td>20.469999</td>\n",
       "      <td>20.500000</td>\n",
       "      <td>20.030001</td>\n",
       "      <td>20.030001</td>\n",
       "      <td>2800</td>\n",
       "      <td>19.493157</td>\n",
       "    </tr>\n",
       "    <tr>\n",
       "      <th>104</th>\n",
       "      <td>2016-09-16</td>\n",
       "      <td>20.110001</td>\n",
       "      <td>20.110001</td>\n",
       "      <td>20.110001</td>\n",
       "      <td>20.110001</td>\n",
       "      <td>300</td>\n",
       "      <td>19.571012</td>\n",
       "    </tr>\n",
       "    <tr>\n",
       "      <th>105</th>\n",
       "      <td>2016-09-15</td>\n",
       "      <td>20.020000</td>\n",
       "      <td>20.020000</td>\n",
       "      <td>20.020000</td>\n",
       "      <td>20.020000</td>\n",
       "      <td>0</td>\n",
       "      <td>19.483424</td>\n",
       "    </tr>\n",
       "  </tbody>\n",
       "</table>\n",
       "</div>"
      ],
      "text/plain": [
       "           Date       Open       High        Low      Close  Volume  Adj Close\n",
       "103  2016-09-19  20.469999  20.500000  20.030001  20.030001    2800  19.493157\n",
       "104  2016-09-16  20.110001  20.110001  20.110001  20.110001     300  19.571012\n",
       "105  2016-09-15  20.020000  20.020000  20.020000  20.020000       0  19.483424"
      ]
     },
     "execution_count": 3,
     "metadata": {},
     "output_type": "execute_result"
    }
   ],
   "source": [
    "data.head(106).tail(3)"
   ]
  },
  {
   "cell_type": "code",
   "execution_count": 4,
   "metadata": {},
   "outputs": [
    {
     "data": {
      "text/html": [
       "<div>\n",
       "<style>\n",
       "    .dataframe thead tr:only-child th {\n",
       "        text-align: right;\n",
       "    }\n",
       "\n",
       "    .dataframe thead th {\n",
       "        text-align: left;\n",
       "    }\n",
       "\n",
       "    .dataframe tbody tr th {\n",
       "        vertical-align: top;\n",
       "    }\n",
       "</style>\n",
       "<table border=\"1\" class=\"dataframe\">\n",
       "  <thead>\n",
       "    <tr style=\"text-align: right;\">\n",
       "      <th></th>\n",
       "      <th>Date</th>\n",
       "      <th>Open</th>\n",
       "      <th>High</th>\n",
       "      <th>Low</th>\n",
       "      <th>Close</th>\n",
       "      <th>Volume</th>\n",
       "      <th>Adj Close</th>\n",
       "    </tr>\n",
       "  </thead>\n",
       "  <tbody>\n",
       "    <tr>\n",
       "      <th>103</th>\n",
       "      <td>2016-09-19</td>\n",
       "      <td>20.469999</td>\n",
       "      <td>20.500000</td>\n",
       "      <td>20.030001</td>\n",
       "      <td>20.030001</td>\n",
       "      <td>2800</td>\n",
       "      <td>19.493157</td>\n",
       "    </tr>\n",
       "    <tr>\n",
       "      <th>104</th>\n",
       "      <td>2016-09-16</td>\n",
       "      <td>20.110001</td>\n",
       "      <td>20.110001</td>\n",
       "      <td>20.110001</td>\n",
       "      <td>20.110001</td>\n",
       "      <td>300</td>\n",
       "      <td>19.571012</td>\n",
       "    </tr>\n",
       "    <tr>\n",
       "      <th>105</th>\n",
       "      <td>2016-09-14</td>\n",
       "      <td>19.980000</td>\n",
       "      <td>20.120001</td>\n",
       "      <td>19.889999</td>\n",
       "      <td>20.020000</td>\n",
       "      <td>9600</td>\n",
       "      <td>19.483424</td>\n",
       "    </tr>\n",
       "  </tbody>\n",
       "</table>\n",
       "</div>"
      ],
      "text/plain": [
       "           Date       Open       High        Low      Close  Volume  Adj Close\n",
       "103  2016-09-19  20.469999  20.500000  20.030001  20.030001    2800  19.493157\n",
       "104  2016-09-16  20.110001  20.110001  20.110001  20.110001     300  19.571012\n",
       "105  2016-09-14  19.980000  20.120001  19.889999  20.020000    9600  19.483424"
      ]
     },
     "execution_count": 4,
     "metadata": {},
     "output_type": "execute_result"
    }
   ],
   "source": [
    "data = data.loc[(data[\"Volume\"]!=0)] # 保留那些正常的欄位\n",
    "data.reset_index(drop=True, inplace=True) # 直接 reset index, 丟掉舊的, 直接換過去\n",
    "data.head(106).tail(3) # 檢查一下去除掉了沒"
   ]
  },
  {
   "cell_type": "markdown",
   "metadata": {},
   "source": [
    "## 簡化處理一下"
   ]
  },
  {
   "cell_type": "code",
   "execution_count": 5,
   "metadata": {},
   "outputs": [
    {
     "data": {
      "text/html": [
       "<div>\n",
       "<style>\n",
       "    .dataframe thead tr:only-child th {\n",
       "        text-align: right;\n",
       "    }\n",
       "\n",
       "    .dataframe thead th {\n",
       "        text-align: left;\n",
       "    }\n",
       "\n",
       "    .dataframe tbody tr th {\n",
       "        vertical-align: top;\n",
       "    }\n",
       "</style>\n",
       "<table border=\"1\" class=\"dataframe\">\n",
       "  <thead>\n",
       "    <tr style=\"text-align: right;\">\n",
       "      <th></th>\n",
       "      <th>Date</th>\n",
       "      <th>Open</th>\n",
       "      <th>High</th>\n",
       "      <th>Low</th>\n",
       "      <th>Close</th>\n",
       "      <th>Volume</th>\n",
       "      <th>Adj Close</th>\n",
       "    </tr>\n",
       "  </thead>\n",
       "  <tbody>\n",
       "    <tr>\n",
       "      <th>0</th>\n",
       "      <td>2017-02-15</td>\n",
       "      <td>21.620001</td>\n",
       "      <td>21.870001</td>\n",
       "      <td>21.520000</td>\n",
       "      <td>21.820000</td>\n",
       "      <td>11500</td>\n",
       "      <td>21.820000</td>\n",
       "    </tr>\n",
       "    <tr>\n",
       "      <th>1</th>\n",
       "      <td>2017-02-14</td>\n",
       "      <td>21.930000</td>\n",
       "      <td>21.950001</td>\n",
       "      <td>21.469999</td>\n",
       "      <td>21.629999</td>\n",
       "      <td>15000</td>\n",
       "      <td>21.629999</td>\n",
       "    </tr>\n",
       "    <tr>\n",
       "      <th>2</th>\n",
       "      <td>2017-02-13</td>\n",
       "      <td>21.760000</td>\n",
       "      <td>21.760000</td>\n",
       "      <td>21.510000</td>\n",
       "      <td>21.670000</td>\n",
       "      <td>9800</td>\n",
       "      <td>21.670000</td>\n",
       "    </tr>\n",
       "  </tbody>\n",
       "</table>\n",
       "</div>"
      ],
      "text/plain": [
       "         Date       Open       High        Low      Close  Volume  Adj Close\n",
       "0  2017-02-15  21.620001  21.870001  21.520000  21.820000   11500  21.820000\n",
       "1  2017-02-14  21.930000  21.950001  21.469999  21.629999   15000  21.629999\n",
       "2  2017-02-13  21.760000  21.760000  21.510000  21.670000    9800  21.670000"
      ]
     },
     "execution_count": 5,
     "metadata": {},
     "output_type": "execute_result"
    }
   ],
   "source": [
    "data.head(3)"
   ]
  },
  {
   "cell_type": "code",
   "execution_count": 6,
   "metadata": {},
   "outputs": [
    {
     "data": {
      "text/html": [
       "<div>\n",
       "<style>\n",
       "    .dataframe thead tr:only-child th {\n",
       "        text-align: right;\n",
       "    }\n",
       "\n",
       "    .dataframe thead th {\n",
       "        text-align: left;\n",
       "    }\n",
       "\n",
       "    .dataframe tbody tr th {\n",
       "        vertical-align: top;\n",
       "    }\n",
       "</style>\n",
       "<table border=\"1\" class=\"dataframe\">\n",
       "  <thead>\n",
       "    <tr style=\"text-align: right;\">\n",
       "      <th></th>\n",
       "      <th>0</th>\n",
       "      <th>1</th>\n",
       "      <th>2</th>\n",
       "      <th>3</th>\n",
       "      <th>4</th>\n",
       "      <th>5</th>\n",
       "    </tr>\n",
       "  </thead>\n",
       "  <tbody>\n",
       "    <tr>\n",
       "      <th>0</th>\n",
       "      <td>21.620001</td>\n",
       "      <td>21.870001</td>\n",
       "      <td>21.520000</td>\n",
       "      <td>21.820000</td>\n",
       "      <td>11500.0</td>\n",
       "      <td>21.820000</td>\n",
       "    </tr>\n",
       "    <tr>\n",
       "      <th>1</th>\n",
       "      <td>21.930000</td>\n",
       "      <td>21.950001</td>\n",
       "      <td>21.469999</td>\n",
       "      <td>21.629999</td>\n",
       "      <td>15000.0</td>\n",
       "      <td>21.629999</td>\n",
       "    </tr>\n",
       "    <tr>\n",
       "      <th>2</th>\n",
       "      <td>21.760000</td>\n",
       "      <td>21.760000</td>\n",
       "      <td>21.510000</td>\n",
       "      <td>21.670000</td>\n",
       "      <td>9800.0</td>\n",
       "      <td>21.670000</td>\n",
       "    </tr>\n",
       "  </tbody>\n",
       "</table>\n",
       "</div>"
      ],
      "text/plain": [
       "           0          1          2          3        4          5\n",
       "0  21.620001  21.870001  21.520000  21.820000  11500.0  21.820000\n",
       "1  21.930000  21.950001  21.469999  21.629999  15000.0  21.629999\n",
       "2  21.760000  21.760000  21.510000  21.670000   9800.0  21.670000"
      ]
     },
     "execution_count": 6,
     "metadata": {},
     "output_type": "execute_result"
    }
   ],
   "source": [
    "del data['Date']\n",
    "data = data.values\n",
    "pd.DataFrame(data).head(3)"
   ]
  },
  {
   "cell_type": "markdown",
   "metadata": {},
   "source": [
    "## 讓我們的資料由舊而新"
   ]
  },
  {
   "cell_type": "code",
   "execution_count": 7,
   "metadata": {},
   "outputs": [
    {
     "data": {
      "text/plain": [
       "array([[    41.32    ,     41.400002,     41.32    ,     41.400002,\n",
       "          4000.      ,     33.730652],\n",
       "       [    42.150002,     43.      ,     41.799999,     42.110001,\n",
       "          1400.      ,     34.309124],\n",
       "       [    41.41    ,     41.41    ,     40.400002,     40.400002,\n",
       "          1500.      ,     32.915902],\n",
       "       ..., \n",
       "       [    21.76    ,     21.76    ,     21.51    ,     21.67    ,\n",
       "          9800.      ,     21.67    ],\n",
       "       [    21.93    ,     21.950001,     21.469999,     21.629999,\n",
       "         15000.      ,     21.629999],\n",
       "       [    21.620001,     21.870001,     21.52    ,     21.82    ,\n",
       "         11500.      ,     21.82    ]])"
      ]
     },
     "execution_count": 7,
     "metadata": {},
     "output_type": "execute_result"
    }
   ],
   "source": [
    "data = data[::-1]\n",
    "data"
   ]
  },
  {
   "cell_type": "markdown",
   "metadata": {},
   "source": [
    "## 分開我們要訓練的欄位"
   ]
  },
  {
   "cell_type": "code",
   "execution_count": 8,
   "metadata": {},
   "outputs": [
    {
     "name": "stdout",
     "output_type": "stream",
     "text": [
      "X的資料是\n",
      " [[    41.32         41.400002     41.32         41.400002   4000.      ]\n",
      " [    42.150002     43.           41.799999     42.110001   1400.      ]\n",
      " [    41.41         41.41         40.400002     40.400002   1500.      ]\n",
      " ..., \n",
      " [    21.76         21.76         21.51         21.67       9800.      ]\n",
      " [    21.93         21.950001     21.469999     21.629999  15000.      ]\n",
      " [    21.620001     21.870001     21.52         21.82      11500.      ]]\n",
      "Y的資料是\n",
      " [ 33.730652  34.309124  32.915902 ...,  21.67      21.629999  21.82    ]\n"
     ]
    }
   ],
   "source": [
    "X = data[:, 0:5]\n",
    "Y = data[:, 5]\n",
    "print(\"X的資料是\\n\", X)\n",
    "print(\"Y的資料是\\n\", Y)"
   ]
  },
  {
   "cell_type": "markdown",
   "metadata": {},
   "source": [
    "## 資料漲跌標記"
   ]
  },
  {
   "cell_type": "code",
   "execution_count": 9,
   "metadata": {},
   "outputs": [
    {
     "name": "stdout",
     "output_type": "stream",
     "text": [
      "[ 0.  1.  0. ...,  1.  0.  0.]\n"
     ]
    }
   ],
   "source": [
    "for i in range(len(Y)):\n",
    "    if (i+1 < len(Y) and Y[i] - Y[i+1] > 0):\n",
    "        Y[i] = 1\n",
    "    else:\n",
    "        Y[i] = 0\n",
    "print(Y)"
   ]
  },
  {
   "cell_type": "markdown",
   "metadata": {},
   "source": [
    "## 每多少天資料丟一次"
   ]
  },
  {
   "cell_type": "code",
   "execution_count": 10,
   "metadata": {},
   "outputs": [
    {
     "name": "stdout",
     "output_type": "stream",
     "text": [
      "X的資料是\n",
      " [[[    42.150002     43.           41.799999     42.110001   1400.      ]\n",
      "  [    41.41         41.41         40.400002     40.400002   1500.      ]\n",
      "  [    41.490002     42.27         41.490002     41.880001   6900.      ]\n",
      "  [    41.5          41.5          40.           41.         8100.      ]\n",
      "  [    41.650002     41.650002     40.950001     41.099998   3400.      ]]\n",
      "\n",
      " [[    41.41         41.41         40.400002     40.400002   1500.      ]\n",
      "  [    41.490002     42.27         41.490002     41.880001   6900.      ]\n",
      "  [    41.5          41.5          40.           41.         8100.      ]\n",
      "  [    41.650002     41.650002     40.950001     41.099998   3400.      ]\n",
      "  [    41.68         41.68         40.900002     41.029999   5900.      ]]\n",
      "\n",
      " [[    41.490002     42.27         41.490002     41.880001   6900.      ]\n",
      "  [    41.5          41.5          40.           41.         8100.      ]\n",
      "  [    41.650002     41.650002     40.950001     41.099998   3400.      ]\n",
      "  [    41.68         41.68         40.900002     41.029999   5900.      ]\n",
      "  [    41.360001     41.360001     40.299999     40.299999  16800.      ]]\n",
      "\n",
      " ..., \n",
      " [[    21.299999     21.59         21.049999     21.59      12700.      ]\n",
      "  [    21.27         21.4          21.25         21.26       1700.      ]\n",
      "  [    21.32         21.950001     21.32         21.450001   6800.      ]\n",
      "  [    21.360001     21.719999     21.360001     21.450001  11400.      ]\n",
      "  [    21.76         21.76         21.51         21.67       9800.      ]]\n",
      "\n",
      " [[    21.27         21.4          21.25         21.26       1700.      ]\n",
      "  [    21.32         21.950001     21.32         21.450001   6800.      ]\n",
      "  [    21.360001     21.719999     21.360001     21.450001  11400.      ]\n",
      "  [    21.76         21.76         21.51         21.67       9800.      ]\n",
      "  [    21.93         21.950001     21.469999     21.629999  15000.      ]]\n",
      "\n",
      " [[    21.32         21.950001     21.32         21.450001   6800.      ]\n",
      "  [    21.360001     21.719999     21.360001     21.450001  11400.      ]\n",
      "  [    21.76         21.76         21.51         21.67       9800.      ]\n",
      "  [    21.93         21.950001     21.469999     21.629999  15000.      ]\n",
      "  [    21.620001     21.870001     21.52         21.82      11500.      ]]]\n",
      "Y的資料是\n",
      " [ 1.  1.  1. ...,  1.  0.  0.]\n"
     ]
    }
   ],
   "source": [
    "day = 5\n",
    "Y = Y[day:] \n",
    "XX = []\n",
    "for i in range(day,len(X)):\n",
    "    tmp = []\n",
    "    for j in range(day-1, -1, -1):\n",
    "        tmp.append(X[i-j])\n",
    "    XX.append(tmp)\n",
    "X = np.array(XX)\n",
    "print(\"X的資料是\\n\", X)\n",
    "print(\"Y的資料是\\n\", Y)"
   ]
  },
  {
   "cell_type": "markdown",
   "metadata": {},
   "source": [
    "# 來試試ETF吧"
   ]
  },
  {
   "cell_type": "code",
   "execution_count": 11,
   "metadata": {},
   "outputs": [
    {
     "name": "stdout",
     "output_type": "stream",
     "text": [
      "First  return array with shape  (2155, 5, 5)\n",
      "Second return array with shape  (2155,)\n",
      "First  return array with shape  (2155, 5, 5, 1)\n",
      "Second return array with shape  (2155, 1)\n"
     ]
    }
   ],
   "source": [
    "print(\"First  return array with shape \", X.shape)\n",
    "print(\"Second return array with shape \", Y.shape)\n",
    "X = X.reshape((-1, 5, 5, 1))\n",
    "Y = Y.reshape((-1, 1))\n",
    "print(\"First  return array with shape \", X.shape)\n",
    "print(\"Second return array with shape \", Y.shape)"
   ]
  },
  {
   "cell_type": "markdown",
   "metadata": {},
   "source": [
    "## 建立CNN模型"
   ]
  },
  {
   "cell_type": "code",
   "execution_count": 12,
   "metadata": {
    "collapsed": true,
    "scrolled": false
   },
   "outputs": [],
   "source": [
    "model = Sequential()\n",
    "# Block 1\n",
    "model.add(Conv2D(64, (3, 3), padding='same', activation='relu', input_shape=(5,5,1)))\n",
    "model.add(Conv2D(64, (3, 3), activation='relu', padding='same'))\n",
    "model.add(Conv2D(64, (3, 3), activation='relu', padding='same'))\n",
    "model.add(MaxPooling2D((2,2), strides=(2,2), padding='same'))\n",
    "\n",
    "# Block 2\n",
    "model.add(Conv2D(128, (3, 3), activation='relu', padding='same'))\n",
    "model.add(Conv2D(128, (3, 3), activation='relu', padding='same'))\n",
    "model.add(Conv2D(128, (3, 3), activation='relu', padding='same'))\n",
    "model.add(MaxPooling2D((2,2), strides=(2,2), padding='same'))\n",
    "\n",
    "# Block 3\n",
    "model.add(Conv2D(256, (3, 3), activation='relu', padding='same'))\n",
    "model.add(Conv2D(256, (3, 3), activation='relu', padding='same'))\n",
    "model.add(Conv2D(256, (3, 3), activation='relu', padding='same'))\n",
    "model.add(MaxPooling2D((2,2), strides=(2,2), padding='same'))\n",
    "\n",
    "# Block 4\n",
    "model.add(Conv2D(512, (3, 3), activation='relu', padding='same'))\n",
    "model.add(Conv2D(512, (3, 3), activation='relu', padding='same'))\n",
    "model.add(Conv2D(512, (3, 3), activation='relu', padding='same'))\n",
    "model.add(MaxPooling2D((2,2), strides=(2,2), padding='same'))\n",
    "\n",
    "model.add(Flatten())\n",
    "model.add(Dense(40))\n",
    "model.add(Activation('relu'))\n",
    "model.add(Dropout(0.5))\n",
    "model.add(Dense(1))\n",
    "model.add(Activation('sigmoid'))\n"
   ]
  },
  {
   "cell_type": "markdown",
   "metadata": {},
   "source": [
    "## 分割資料為訓練集與測試集\n",
    "### 我們把前$\\ \\frac{4}{5}\\ $組作為訓練，後$\\ \\frac{1}{5}\\ $組作為測試"
   ]
  },
  {
   "cell_type": "code",
   "execution_count": 13,
   "metadata": {},
   "outputs": [
    {
     "name": "stdout",
     "output_type": "stream",
     "text": [
      "(1724, 5, 5, 1) (1724, 1)\n",
      "(431, 5, 5, 1) (431, 1)\n"
     ]
    }
   ],
   "source": [
    "# setting training data and testing data\n",
    "seperate_num = X.shape[0] // 5 * 4\n",
    "X_train, Y_train = X[:seperate_num], Y[:seperate_num]\n",
    "X_train = X_train.reshape((-1,5, 5, 1))\n",
    "Y_train = Y_train.reshape((-1, 1))\n",
    "print(X_train.shape, Y_train.shape)\n",
    "X_test, Y_test = X[seperate_num:], Y[seperate_num:]\n",
    "X_test = X_test.reshape((-1,5, 5, 1))\n",
    "Y_test = Y_test.reshape((-1,1))\n",
    "print(X_test.shape, Y_test.shape)"
   ]
  },
  {
   "cell_type": "code",
   "execution_count": 14,
   "metadata": {},
   "outputs": [
    {
     "name": "stdout",
     "output_type": "stream",
     "text": [
      "Epoch 1/4\n",
      "1724/1724 [==============================] - 41s - loss: 7.4706 - acc: 0.4954    \n",
      "Epoch 2/4\n",
      "1724/1724 [==============================] - 41s - loss: 7.6828 - acc: 0.5215    \n",
      "Epoch 3/4\n",
      "1724/1724 [==============================] - 36s - loss: 7.7564 - acc: 0.5168    \n",
      "Epoch 4/4\n",
      "1724/1724 [==============================] - 36s - loss: 7.5448 - acc: 0.5307    \n"
     ]
    },
    {
     "data": {
      "text/plain": [
       "<keras.callbacks.History at 0x115d01c88>"
      ]
     },
     "execution_count": 14,
     "metadata": {},
     "output_type": "execute_result"
    }
   ],
   "source": [
    "model.compile(loss='binary_crossentropy', optimizer='adam',metrics=['accuracy'])\n",
    "model.fit(X_train, Y_train, epochs=4, batch_size=128)"
   ]
  },
  {
   "cell_type": "markdown",
   "metadata": {},
   "source": [
    "## 訓練模型"
   ]
  },
  {
   "cell_type": "code",
   "execution_count": 15,
   "metadata": {},
   "outputs": [
    {
     "name": "stdout",
     "output_type": "stream",
     "text": [
      "Total Loss on Testing Set :  7.96555510032\n",
      "Accuracy of Testing Set :  0.505800464867\n"
     ]
    }
   ],
   "source": [
    "score = model.evaluate(X_test, Y_test, verbose=0)\n",
    "print(\"Total Loss on Testing Set : \", score[0]) # 越低越好\n",
    "print(\"Accuracy of Testing Set : \", score[1]) # 越高越好"
   ]
  },
  {
   "cell_type": "markdown",
   "metadata": {},
   "source": [
    "# 想要更準怎麼辦\n",
    "- 調整各項參數\n",
    "    - 每層神經元數量\n",
    "    - 激發函數\n",
    "    - 優化器"
   ]
  },
  {
   "cell_type": "markdown",
   "metadata": {},
   "source": [
    "# 課堂練習：嘗試使用少一點的 conv 和 pool\n",
    "收斂會不會比較快？"
   ]
  },
  {
   "cell_type": "code",
   "execution_count": 16,
   "metadata": {
    "collapsed": true
   },
   "outputs": [],
   "source": [
    "model = Sequential()\n",
    "# Block 1\n",
    "model.add(Conv2D(64, (3, 3), padding='same', activation='relu', input_shape=(5,5,1)))\n",
    "model.add(Conv2D(64, (3, 3), activation='relu', padding='same'))\n",
    "model.add(Conv2D(64, (3, 3), activation='relu', padding='same'))\n",
    "model.add(MaxPooling2D((2,2), strides=(2,2), padding='same'))\n",
    "\n",
    "\n",
    "model.add(Flatten())\n",
    "model.add(Dense(40))\n",
    "model.add(Activation('relu'))\n",
    "model.add(Dropout(0.5))\n",
    "model.add(Dense(1))\n",
    "model.add(Activation('sigmoid'))\n"
   ]
  },
  {
   "cell_type": "code",
   "execution_count": 17,
   "metadata": {},
   "outputs": [
    {
     "name": "stdout",
     "output_type": "stream",
     "text": [
      "Epoch 1/4\n",
      "1724/1724 [==============================] - 1s - loss: 8.2883 - acc: 0.4791     \n",
      "Epoch 2/4\n",
      "1724/1724 [==============================] - 0s - loss: 8.2770 - acc: 0.4809     \n",
      "Epoch 3/4\n",
      "1724/1724 [==============================] - 1s - loss: 8.2863 - acc: 0.4803     \n",
      "Epoch 4/4\n",
      "1724/1724 [==============================] - 1s - loss: 8.3866 - acc: 0.4733     \n"
     ]
    },
    {
     "data": {
      "text/plain": [
       "<keras.callbacks.History at 0x11cf98e10>"
      ]
     },
     "execution_count": 17,
     "metadata": {},
     "output_type": "execute_result"
    }
   ],
   "source": [
    "model.compile(loss='binary_crossentropy', optimizer='adam',metrics=['accuracy'])\n",
    "model.fit(X_train, Y_train, epochs=4, batch_size=128)"
   ]
  },
  {
   "cell_type": "markdown",
   "metadata": {},
   "source": [
    "# 回家作業：我們可以改變我們的filter等參數試試看！"
   ]
  }
 ],
 "metadata": {
  "kernelspec": {
   "display_name": "Python 3",
   "language": "python",
   "name": "python3"
  },
  "language_info": {
   "codemirror_mode": {
    "name": "ipython",
    "version": 3
   },
   "file_extension": ".py",
   "mimetype": "text/x-python",
   "name": "python",
   "nbconvert_exporter": "python",
   "pygments_lexer": "ipython3",
   "version": "3.6.1"
  }
 },
 "nbformat": 4,
 "nbformat_minor": 2
}
