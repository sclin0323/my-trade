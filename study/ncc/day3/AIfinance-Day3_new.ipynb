{
 "cells": [
  {
   "cell_type": "code",
   "execution_count": 7,
   "metadata": {
    "collapsed": true
   },
   "outputs": [],
   "source": [
    "%matplotlib inline\n",
    "import numpy as np\n",
    "import matplotlib.pyplot as plt\n",
    "import pandas as pd\n",
    "from keras.models import Sequential\n",
    "from keras.layers import Dense, Flatten, Reshape, Dropout, Activation\n",
    "from keras.layers import Conv2D, MaxPooling2D\n",
    "from keras.layers import Conv1D, MaxPooling1D\n",
    "from keras.optimizers import SGD,Adam\n",
    "import os\n",
    "os.environ['CUDA_VISIBLE_DEVICES'] = '0'"
   ]
  },
  {
   "cell_type": "code",
   "execution_count": 2,
   "metadata": {
    "collapsed": true
   },
   "outputs": [],
   "source": [
    "import tensorflow as tf\n",
    "from keras import backend as K\n",
    "config = tf.ConfigProto()\n",
    "config.gpu_options.allow_growth=True\n",
    "sess = tf.Session(config=config)\n",
    "K.set_session(sess)"
   ]
  },
  {
   "cell_type": "markdown",
   "metadata": {},
   "source": [
    "## 我們一樣先讀進來 ETF 資料"
   ]
  },
  {
   "cell_type": "code",
   "execution_count": 3,
   "metadata": {
    "collapsed": true
   },
   "outputs": [],
   "source": [
    "df = pd.read_csv('../etf_data/AFK.csv')"
   ]
  },
  {
   "cell_type": "markdown",
   "metadata": {},
   "source": [
    "# 這一次我們先來把資料做一些前處理"
   ]
  },
  {
   "cell_type": "markdown",
   "metadata": {},
   "source": [
    "## 如果你有看過資料會發現有些欄位有0值，而這個應該要去除的"
   ]
  },
  {
   "cell_type": "code",
   "execution_count": 4,
   "metadata": {},
   "outputs": [
    {
     "data": {
      "text/html": [
       "<div>\n",
       "<table border=\"1\" class=\"dataframe\">\n",
       "  <thead>\n",
       "    <tr style=\"text-align: right;\">\n",
       "      <th></th>\n",
       "      <th>Date</th>\n",
       "      <th>Open</th>\n",
       "      <th>High</th>\n",
       "      <th>Low</th>\n",
       "      <th>Close</th>\n",
       "      <th>Volume</th>\n",
       "      <th>Adj Close</th>\n",
       "    </tr>\n",
       "  </thead>\n",
       "  <tbody>\n",
       "    <tr>\n",
       "      <th>102</th>\n",
       "      <td>2016-09-20</td>\n",
       "      <td>20.379999</td>\n",
       "      <td>20.379999</td>\n",
       "      <td>20.049999</td>\n",
       "      <td>20.049999</td>\n",
       "      <td>1500</td>\n",
       "      <td>19.512619</td>\n",
       "    </tr>\n",
       "    <tr>\n",
       "      <th>103</th>\n",
       "      <td>2016-09-19</td>\n",
       "      <td>20.469999</td>\n",
       "      <td>20.500000</td>\n",
       "      <td>20.030001</td>\n",
       "      <td>20.030001</td>\n",
       "      <td>2800</td>\n",
       "      <td>19.493157</td>\n",
       "    </tr>\n",
       "    <tr>\n",
       "      <th>104</th>\n",
       "      <td>2016-09-16</td>\n",
       "      <td>20.110001</td>\n",
       "      <td>20.110001</td>\n",
       "      <td>20.110001</td>\n",
       "      <td>20.110001</td>\n",
       "      <td>300</td>\n",
       "      <td>19.571012</td>\n",
       "    </tr>\n",
       "    <tr>\n",
       "      <th>105</th>\n",
       "      <td>2016-09-15</td>\n",
       "      <td>20.020000</td>\n",
       "      <td>20.020000</td>\n",
       "      <td>20.020000</td>\n",
       "      <td>20.020000</td>\n",
       "      <td>0</td>\n",
       "      <td>19.483424</td>\n",
       "    </tr>\n",
       "    <tr>\n",
       "      <th>106</th>\n",
       "      <td>2016-09-14</td>\n",
       "      <td>19.980000</td>\n",
       "      <td>20.120001</td>\n",
       "      <td>19.889999</td>\n",
       "      <td>20.020000</td>\n",
       "      <td>9600</td>\n",
       "      <td>19.483424</td>\n",
       "    </tr>\n",
       "    <tr>\n",
       "      <th>107</th>\n",
       "      <td>2016-09-13</td>\n",
       "      <td>20.299999</td>\n",
       "      <td>20.299999</td>\n",
       "      <td>19.900000</td>\n",
       "      <td>19.910000</td>\n",
       "      <td>16800</td>\n",
       "      <td>19.376372</td>\n",
       "    </tr>\n",
       "  </tbody>\n",
       "</table>\n",
       "</div>"
      ],
      "text/plain": [
       "           Date       Open       High        Low      Close  Volume  Adj Close\n",
       "102  2016-09-20  20.379999  20.379999  20.049999  20.049999    1500  19.512619\n",
       "103  2016-09-19  20.469999  20.500000  20.030001  20.030001    2800  19.493157\n",
       "104  2016-09-16  20.110001  20.110001  20.110001  20.110001     300  19.571012\n",
       "105  2016-09-15  20.020000  20.020000  20.020000  20.020000       0  19.483424\n",
       "106  2016-09-14  19.980000  20.120001  19.889999  20.020000    9600  19.483424\n",
       "107  2016-09-13  20.299999  20.299999  19.900000  19.910000   16800  19.376372"
      ]
     },
     "execution_count": 4,
     "metadata": {},
     "output_type": "execute_result"
    }
   ],
   "source": [
    "df[102:108]"
   ]
  },
  {
   "cell_type": "code",
   "execution_count": 9,
   "metadata": {},
   "outputs": [
    {
     "data": {
      "text/plain": [
       "array([ 3,  2,  9, 17,  5])"
      ]
     },
     "execution_count": 9,
     "metadata": {},
     "output_type": "execute_result"
    }
   ],
   "source": [
    "L = np.array([-2,3,2,9,-10,17,5])\n",
    "L>0\n",
    "L[L>0]"
   ]
  },
  {
   "cell_type": "code",
   "execution_count": 5,
   "metadata": {
    "collapsed": true
   },
   "outputs": [],
   "source": [
    "df1 = df.loc[df.Volume !=0 ] # 保留那些正常的欄位"
   ]
  },
  {
   "cell_type": "code",
   "execution_count": 10,
   "metadata": {},
   "outputs": [
    {
     "data": {
      "text/html": [
       "<div>\n",
       "<table border=\"1\" class=\"dataframe\">\n",
       "  <thead>\n",
       "    <tr style=\"text-align: right;\">\n",
       "      <th></th>\n",
       "      <th>Date</th>\n",
       "      <th>Open</th>\n",
       "      <th>High</th>\n",
       "      <th>Low</th>\n",
       "      <th>Close</th>\n",
       "      <th>Volume</th>\n",
       "      <th>Adj Close</th>\n",
       "    </tr>\n",
       "  </thead>\n",
       "  <tbody>\n",
       "    <tr>\n",
       "      <th>0</th>\n",
       "      <td>2017-02-15</td>\n",
       "      <td>21.620001</td>\n",
       "      <td>21.870001</td>\n",
       "      <td>21.520000</td>\n",
       "      <td>21.820000</td>\n",
       "      <td>11500</td>\n",
       "      <td>21.820000</td>\n",
       "    </tr>\n",
       "    <tr>\n",
       "      <th>1</th>\n",
       "      <td>2017-02-14</td>\n",
       "      <td>21.930000</td>\n",
       "      <td>21.950001</td>\n",
       "      <td>21.469999</td>\n",
       "      <td>21.629999</td>\n",
       "      <td>15000</td>\n",
       "      <td>21.629999</td>\n",
       "    </tr>\n",
       "    <tr>\n",
       "      <th>2</th>\n",
       "      <td>2017-02-13</td>\n",
       "      <td>21.760000</td>\n",
       "      <td>21.760000</td>\n",
       "      <td>21.510000</td>\n",
       "      <td>21.670000</td>\n",
       "      <td>9800</td>\n",
       "      <td>21.670000</td>\n",
       "    </tr>\n",
       "    <tr>\n",
       "      <th>3</th>\n",
       "      <td>2017-02-10</td>\n",
       "      <td>21.360001</td>\n",
       "      <td>21.719999</td>\n",
       "      <td>21.360001</td>\n",
       "      <td>21.450001</td>\n",
       "      <td>11400</td>\n",
       "      <td>21.450001</td>\n",
       "    </tr>\n",
       "    <tr>\n",
       "      <th>4</th>\n",
       "      <td>2017-02-09</td>\n",
       "      <td>21.320000</td>\n",
       "      <td>21.950001</td>\n",
       "      <td>21.320000</td>\n",
       "      <td>21.450001</td>\n",
       "      <td>6800</td>\n",
       "      <td>21.450001</td>\n",
       "    </tr>\n",
       "  </tbody>\n",
       "</table>\n",
       "</div>"
      ],
      "text/plain": [
       "         Date       Open       High        Low      Close  Volume  Adj Close\n",
       "0  2017-02-15  21.620001  21.870001  21.520000  21.820000   11500  21.820000\n",
       "1  2017-02-14  21.930000  21.950001  21.469999  21.629999   15000  21.629999\n",
       "2  2017-02-13  21.760000  21.760000  21.510000  21.670000    9800  21.670000\n",
       "3  2017-02-10  21.360001  21.719999  21.360001  21.450001   11400  21.450001\n",
       "4  2017-02-09  21.320000  21.950001  21.320000  21.450001    6800  21.450001"
      ]
     },
     "execution_count": 10,
     "metadata": {},
     "output_type": "execute_result"
    }
   ],
   "source": [
    "df.head()"
   ]
  },
  {
   "cell_type": "code",
   "execution_count": 12,
   "metadata": {},
   "outputs": [
    {
     "data": {
      "text/html": [
       "<div>\n",
       "<table border=\"1\" class=\"dataframe\">\n",
       "  <thead>\n",
       "    <tr style=\"text-align: right;\">\n",
       "      <th></th>\n",
       "      <th>High</th>\n",
       "      <th>Low</th>\n",
       "    </tr>\n",
       "  </thead>\n",
       "  <tbody>\n",
       "    <tr>\n",
       "      <th>1</th>\n",
       "      <td>21.950001</td>\n",
       "      <td>21.469999</td>\n",
       "    </tr>\n",
       "    <tr>\n",
       "      <th>2</th>\n",
       "      <td>21.760000</td>\n",
       "      <td>21.510000</td>\n",
       "    </tr>\n",
       "    <tr>\n",
       "      <th>3</th>\n",
       "      <td>21.719999</td>\n",
       "      <td>21.360001</td>\n",
       "    </tr>\n",
       "    <tr>\n",
       "      <th>4</th>\n",
       "      <td>21.950001</td>\n",
       "      <td>21.320000</td>\n",
       "    </tr>\n",
       "  </tbody>\n",
       "</table>\n",
       "</div>"
      ],
      "text/plain": [
       "        High        Low\n",
       "1  21.950001  21.469999\n",
       "2  21.760000  21.510000\n",
       "3  21.719999  21.360001\n",
       "4  21.950001  21.320000"
      ]
     },
     "execution_count": 12,
     "metadata": {},
     "output_type": "execute_result"
    }
   ],
   "source": [
    "df.loc[1:4,['High','Low']]"
   ]
  },
  {
   "cell_type": "code",
   "execution_count": 14,
   "metadata": {},
   "outputs": [
    {
     "data": {
      "text/plain": [
       "0       11500\n",
       "1       15000\n",
       "2        9800\n",
       "3       11400\n",
       "4        6800\n",
       "5        1700\n",
       "6       12700\n",
       "7       29200\n",
       "8        4500\n",
       "9        7400\n",
       "10      17800\n",
       "11       6000\n",
       "12      13600\n",
       "13       9900\n",
       "14       7000\n",
       "15       7500\n",
       "16      16900\n",
       "17       3000\n",
       "18       3700\n",
       "19      11800\n",
       "20      20400\n",
       "21      16600\n",
       "22      14200\n",
       "23       8400\n",
       "24      27700\n",
       "25      12100\n",
       "26      11300\n",
       "27       7800\n",
       "28       8300\n",
       "29       7300\n",
       "        ...  \n",
       "2135     3700\n",
       "2136     6400\n",
       "2137     1100\n",
       "2138     1600\n",
       "2139     5500\n",
       "2140      500\n",
       "2141     1000\n",
       "2142     1500\n",
       "2143     2500\n",
       "2144     3100\n",
       "2145     3200\n",
       "2146     2000\n",
       "2147    53200\n",
       "2148    10500\n",
       "2149     1300\n",
       "2150     3800\n",
       "2151     4700\n",
       "2152     5700\n",
       "2153     1200\n",
       "2154     1600\n",
       "2155     2900\n",
       "2156     2200\n",
       "2157    16800\n",
       "2158     5900\n",
       "2159     3400\n",
       "2160     8100\n",
       "2161     6900\n",
       "2162     1500\n",
       "2163     1400\n",
       "2164     4000\n",
       "Name: Volume, dtype: int64"
      ]
     },
     "execution_count": 14,
     "metadata": {},
     "output_type": "execute_result"
    }
   ],
   "source": [
    "df.Volume"
   ]
  },
  {
   "cell_type": "code",
   "execution_count": 6,
   "metadata": {},
   "outputs": [
    {
     "data": {
      "text/html": [
       "<div>\n",
       "<table border=\"1\" class=\"dataframe\">\n",
       "  <thead>\n",
       "    <tr style=\"text-align: right;\">\n",
       "      <th></th>\n",
       "      <th>Date</th>\n",
       "      <th>Open</th>\n",
       "      <th>High</th>\n",
       "      <th>Low</th>\n",
       "      <th>Close</th>\n",
       "      <th>Volume</th>\n",
       "      <th>Adj Close</th>\n",
       "    </tr>\n",
       "  </thead>\n",
       "  <tbody>\n",
       "    <tr>\n",
       "      <th>102</th>\n",
       "      <td>2016-09-20</td>\n",
       "      <td>20.379999</td>\n",
       "      <td>20.379999</td>\n",
       "      <td>20.049999</td>\n",
       "      <td>20.049999</td>\n",
       "      <td>1500</td>\n",
       "      <td>19.512619</td>\n",
       "    </tr>\n",
       "    <tr>\n",
       "      <th>103</th>\n",
       "      <td>2016-09-19</td>\n",
       "      <td>20.469999</td>\n",
       "      <td>20.500000</td>\n",
       "      <td>20.030001</td>\n",
       "      <td>20.030001</td>\n",
       "      <td>2800</td>\n",
       "      <td>19.493157</td>\n",
       "    </tr>\n",
       "    <tr>\n",
       "      <th>104</th>\n",
       "      <td>2016-09-16</td>\n",
       "      <td>20.110001</td>\n",
       "      <td>20.110001</td>\n",
       "      <td>20.110001</td>\n",
       "      <td>20.110001</td>\n",
       "      <td>300</td>\n",
       "      <td>19.571012</td>\n",
       "    </tr>\n",
       "    <tr>\n",
       "      <th>106</th>\n",
       "      <td>2016-09-14</td>\n",
       "      <td>19.980000</td>\n",
       "      <td>20.120001</td>\n",
       "      <td>19.889999</td>\n",
       "      <td>20.020000</td>\n",
       "      <td>9600</td>\n",
       "      <td>19.483424</td>\n",
       "    </tr>\n",
       "    <tr>\n",
       "      <th>107</th>\n",
       "      <td>2016-09-13</td>\n",
       "      <td>20.299999</td>\n",
       "      <td>20.299999</td>\n",
       "      <td>19.900000</td>\n",
       "      <td>19.910000</td>\n",
       "      <td>16800</td>\n",
       "      <td>19.376372</td>\n",
       "    </tr>\n",
       "    <tr>\n",
       "      <th>108</th>\n",
       "      <td>2016-09-12</td>\n",
       "      <td>20.020000</td>\n",
       "      <td>20.559999</td>\n",
       "      <td>19.940001</td>\n",
       "      <td>20.540001</td>\n",
       "      <td>44000</td>\n",
       "      <td>19.989488</td>\n",
       "    </tr>\n",
       "  </tbody>\n",
       "</table>\n",
       "</div>"
      ],
      "text/plain": [
       "           Date       Open       High        Low      Close  Volume  Adj Close\n",
       "102  2016-09-20  20.379999  20.379999  20.049999  20.049999    1500  19.512619\n",
       "103  2016-09-19  20.469999  20.500000  20.030001  20.030001    2800  19.493157\n",
       "104  2016-09-16  20.110001  20.110001  20.110001  20.110001     300  19.571012\n",
       "106  2016-09-14  19.980000  20.120001  19.889999  20.020000    9600  19.483424\n",
       "107  2016-09-13  20.299999  20.299999  19.900000  19.910000   16800  19.376372\n",
       "108  2016-09-12  20.020000  20.559999  19.940001  20.540001   44000  19.989488"
      ]
     },
     "execution_count": 6,
     "metadata": {},
     "output_type": "execute_result"
    }
   ],
   "source": [
    "df1[102:108]"
   ]
  },
  {
   "cell_type": "code",
   "execution_count": 15,
   "metadata": {
    "collapsed": true
   },
   "outputs": [],
   "source": [
    "df1.reset_index(drop=True, inplace=True)#drop=True會把之前的index去掉，inplace=True會把原來的資料表改掉\n",
    "#shift+tab可以看drop,inplace...等參數"
   ]
  },
  {
   "cell_type": "code",
   "execution_count": 19,
   "metadata": {},
   "outputs": [
    {
     "data": {
      "text/html": [
       "<div>\n",
       "<table border=\"1\" class=\"dataframe\">\n",
       "  <thead>\n",
       "    <tr style=\"text-align: right;\">\n",
       "      <th></th>\n",
       "      <th>Date</th>\n",
       "      <th>Open</th>\n",
       "      <th>High</th>\n",
       "      <th>Low</th>\n",
       "      <th>Close</th>\n",
       "      <th>Volume</th>\n",
       "      <th>Adj Close</th>\n",
       "    </tr>\n",
       "  </thead>\n",
       "  <tbody>\n",
       "    <tr>\n",
       "      <th>102</th>\n",
       "      <td>2016-09-20</td>\n",
       "      <td>20.379999</td>\n",
       "      <td>20.379999</td>\n",
       "      <td>20.049999</td>\n",
       "      <td>20.049999</td>\n",
       "      <td>1500</td>\n",
       "      <td>19.512619</td>\n",
       "    </tr>\n",
       "    <tr>\n",
       "      <th>103</th>\n",
       "      <td>2016-09-19</td>\n",
       "      <td>20.469999</td>\n",
       "      <td>20.500000</td>\n",
       "      <td>20.030001</td>\n",
       "      <td>20.030001</td>\n",
       "      <td>2800</td>\n",
       "      <td>19.493157</td>\n",
       "    </tr>\n",
       "    <tr>\n",
       "      <th>104</th>\n",
       "      <td>2016-09-16</td>\n",
       "      <td>20.110001</td>\n",
       "      <td>20.110001</td>\n",
       "      <td>20.110001</td>\n",
       "      <td>20.110001</td>\n",
       "      <td>300</td>\n",
       "      <td>19.571012</td>\n",
       "    </tr>\n",
       "    <tr>\n",
       "      <th>105</th>\n",
       "      <td>2016-09-14</td>\n",
       "      <td>19.980000</td>\n",
       "      <td>20.120001</td>\n",
       "      <td>19.889999</td>\n",
       "      <td>20.020000</td>\n",
       "      <td>9600</td>\n",
       "      <td>19.483424</td>\n",
       "    </tr>\n",
       "    <tr>\n",
       "      <th>106</th>\n",
       "      <td>2016-09-13</td>\n",
       "      <td>20.299999</td>\n",
       "      <td>20.299999</td>\n",
       "      <td>19.900000</td>\n",
       "      <td>19.910000</td>\n",
       "      <td>16800</td>\n",
       "      <td>19.376372</td>\n",
       "    </tr>\n",
       "    <tr>\n",
       "      <th>107</th>\n",
       "      <td>2016-09-12</td>\n",
       "      <td>20.020000</td>\n",
       "      <td>20.559999</td>\n",
       "      <td>19.940001</td>\n",
       "      <td>20.540001</td>\n",
       "      <td>44000</td>\n",
       "      <td>19.989488</td>\n",
       "    </tr>\n",
       "  </tbody>\n",
       "</table>\n",
       "</div>"
      ],
      "text/plain": [
       "           Date       Open       High        Low      Close  Volume  Adj Close\n",
       "102  2016-09-20  20.379999  20.379999  20.049999  20.049999    1500  19.512619\n",
       "103  2016-09-19  20.469999  20.500000  20.030001  20.030001    2800  19.493157\n",
       "104  2016-09-16  20.110001  20.110001  20.110001  20.110001     300  19.571012\n",
       "105  2016-09-14  19.980000  20.120001  19.889999  20.020000    9600  19.483424\n",
       "106  2016-09-13  20.299999  20.299999  19.900000  19.910000   16800  19.376372\n",
       "107  2016-09-12  20.020000  20.559999  19.940001  20.540001   44000  19.989488"
      ]
     },
     "execution_count": 19,
     "metadata": {},
     "output_type": "execute_result"
    }
   ],
   "source": [
    "df1[102:108]"
   ]
  },
  {
   "cell_type": "code",
   "execution_count": 16,
   "metadata": {
    "collapsed": true
   },
   "outputs": [],
   "source": [
    "df_adj_cl = df1[['Date', 'Adj Close']]"
   ]
  },
  {
   "cell_type": "code",
   "execution_count": 17,
   "metadata": {},
   "outputs": [
    {
     "data": {
      "text/html": [
       "<div>\n",
       "<table border=\"1\" class=\"dataframe\">\n",
       "  <thead>\n",
       "    <tr style=\"text-align: right;\">\n",
       "      <th></th>\n",
       "      <th>Date</th>\n",
       "      <th>Adj Close</th>\n",
       "    </tr>\n",
       "  </thead>\n",
       "  <tbody>\n",
       "    <tr>\n",
       "      <th>0</th>\n",
       "      <td>2017-02-15</td>\n",
       "      <td>21.820000</td>\n",
       "    </tr>\n",
       "    <tr>\n",
       "      <th>1</th>\n",
       "      <td>2017-02-14</td>\n",
       "      <td>21.629999</td>\n",
       "    </tr>\n",
       "    <tr>\n",
       "      <th>2</th>\n",
       "      <td>2017-02-13</td>\n",
       "      <td>21.670000</td>\n",
       "    </tr>\n",
       "    <tr>\n",
       "      <th>3</th>\n",
       "      <td>2017-02-10</td>\n",
       "      <td>21.450001</td>\n",
       "    </tr>\n",
       "    <tr>\n",
       "      <th>4</th>\n",
       "      <td>2017-02-09</td>\n",
       "      <td>21.450001</td>\n",
       "    </tr>\n",
       "  </tbody>\n",
       "</table>\n",
       "</div>"
      ],
      "text/plain": [
       "         Date  Adj Close\n",
       "0  2017-02-15  21.820000\n",
       "1  2017-02-14  21.629999\n",
       "2  2017-02-13  21.670000\n",
       "3  2017-02-10  21.450001\n",
       "4  2017-02-09  21.450001"
      ]
     },
     "execution_count": 17,
     "metadata": {},
     "output_type": "execute_result"
    }
   ],
   "source": [
    "df_adj_cl.head()"
   ]
  },
  {
   "cell_type": "code",
   "execution_count": 22,
   "metadata": {
    "collapsed": true
   },
   "outputs": [],
   "source": [
    "df_adj_cl = df_adj_cl.sort_values(by='Date')"
   ]
  },
  {
   "cell_type": "code",
   "execution_count": null,
   "metadata": {
    "collapsed": true
   },
   "outputs": [],
   "source": [
    "df_adj_cl.head()"
   ]
  },
  {
   "cell_type": "code",
   "execution_count": 30,
   "metadata": {
    "collapsed": true
   },
   "outputs": [],
   "source": [
    "x0 = df_adj_cl[\"Adj Close\"].values"
   ]
  },
  {
   "cell_type": "code",
   "execution_count": 31,
   "metadata": {},
   "outputs": [
    {
     "data": {
      "text/plain": [
       "array([ 33.730652,  34.309124,  32.915902, ...,  21.67    ,  21.629999,\n",
       "        21.82    ])"
      ]
     },
     "execution_count": 31,
     "metadata": {},
     "output_type": "execute_result"
    }
   ],
   "source": [
    "x0"
   ]
  },
  {
   "cell_type": "code",
   "execution_count": 32,
   "metadata": {
    "collapsed": true
   },
   "outputs": [],
   "source": [
    "m = max(x0)"
   ]
  },
  {
   "cell_type": "code",
   "execution_count": 33,
   "metadata": {
    "collapsed": true
   },
   "outputs": [],
   "source": [
    "x0 = x0/m"
   ]
  },
  {
   "cell_type": "code",
   "execution_count": 34,
   "metadata": {},
   "outputs": [
    {
     "data": {
      "text/plain": [
       "array([ 0.98313941,  1.        ,  0.95939208, ...,  0.63161041,\n",
       "        0.63044451,  0.63598243])"
      ]
     },
     "execution_count": 34,
     "metadata": {},
     "output_type": "execute_result"
    }
   ],
   "source": [
    "x0"
   ]
  },
  {
   "cell_type": "code",
   "execution_count": 36,
   "metadata": {},
   "outputs": [
    {
     "data": {
      "text/plain": [
       "2160"
      ]
     },
     "execution_count": 36,
     "metadata": {},
     "output_type": "execute_result"
    }
   ],
   "source": [
    "n = len(x0)\n",
    "p = 20 #20期\n",
    "n"
   ]
  },
  {
   "cell_type": "code",
   "execution_count": 37,
   "metadata": {},
   "outputs": [
    {
     "data": {
      "text/plain": [
       "[0, 2, 4, 6, 8, 10, 12, 14, 16, 18]"
      ]
     },
     "execution_count": 37,
     "metadata": {},
     "output_type": "execute_result"
    }
   ],
   "source": [
    "[2*k for k in range(10)] #list comprehension "
   ]
  },
  {
   "cell_type": "code",
   "execution_count": 38,
   "metadata": {
    "collapsed": true
   },
   "outputs": [],
   "source": [
    "x = np.array([x0[k:k+p] for k in range(n-p+1)] )"
   ]
  },
  {
   "cell_type": "code",
   "execution_count": 46,
   "metadata": {},
   "outputs": [
    {
     "data": {
      "text/plain": [
       "array([ 0.98313941,  1.        ,  0.95939208,  0.99453813,  0.97364045,\n",
       "        0.97601513,  0.97435283,  0.95701729,  0.93350748,  0.93801946,\n",
       "        0.94253141,  0.94158157,  0.9693659 ,  0.96509139,  0.9522678 ,\n",
       "        0.941819  ,  0.93493226,  0.93730706,  0.92519588,  0.91094751])"
      ]
     },
     "execution_count": 46,
     "metadata": {},
     "output_type": "execute_result"
    }
   ],
   "source": [
    "x[0]"
   ]
  },
  {
   "cell_type": "code",
   "execution_count": 47,
   "metadata": {
    "collapsed": true
   },
   "outputs": [],
   "source": [
    "y = np.array(x0[p:])"
   ]
  },
  {
   "cell_type": "code",
   "execution_count": 48,
   "metadata": {},
   "outputs": [
    {
     "data": {
      "text/plain": [
       "0.90192349417023887"
      ]
     },
     "execution_count": 48,
     "metadata": {},
     "output_type": "execute_result"
    }
   ],
   "source": [
    "y[0]"
   ]
  },
  {
   "cell_type": "code",
   "execution_count": 49,
   "metadata": {},
   "outputs": [
    {
     "data": {
      "text/plain": [
       "2141"
      ]
     },
     "execution_count": 49,
     "metadata": {},
     "output_type": "execute_result"
    }
   ],
   "source": [
    "len(x)"
   ]
  },
  {
   "cell_type": "code",
   "execution_count": 50,
   "metadata": {},
   "outputs": [
    {
     "data": {
      "text/plain": [
       "2140"
      ]
     },
     "execution_count": 50,
     "metadata": {},
     "output_type": "execute_result"
    }
   ],
   "source": [
    "len(y)"
   ]
  },
  {
   "cell_type": "code",
   "execution_count": 51,
   "metadata": {
    "collapsed": true
   },
   "outputs": [],
   "source": [
    "X = x[:-1]"
   ]
  },
  {
   "cell_type": "code",
   "execution_count": 52,
   "metadata": {
    "collapsed": true
   },
   "outputs": [],
   "source": [
    "y = y"
   ]
  },
  {
   "cell_type": "code",
   "execution_count": 53,
   "metadata": {},
   "outputs": [
    {
     "data": {
      "text/plain": [
       "True"
      ]
     },
     "execution_count": 53,
     "metadata": {},
     "output_type": "execute_result"
    }
   ],
   "source": [
    "len(X) == len(y)"
   ]
  },
  {
   "cell_type": "code",
   "execution_count": 54,
   "metadata": {},
   "outputs": [
    {
     "data": {
      "text/plain": [
       "(2140, 20)"
      ]
     },
     "execution_count": 54,
     "metadata": {},
     "output_type": "execute_result"
    }
   ],
   "source": [
    "X.shape"
   ]
  },
  {
   "cell_type": "code",
   "execution_count": 55,
   "metadata": {
    "collapsed": true
   },
   "outputs": [],
   "source": [
    "X.shape=(2140,20,1)"
   ]
  },
  {
   "cell_type": "code",
   "execution_count": 56,
   "metadata": {},
   "outputs": [
    {
     "data": {
      "text/plain": [
       "(2140, 20, 1)"
      ]
     },
     "execution_count": 56,
     "metadata": {},
     "output_type": "execute_result"
    }
   ],
   "source": [
    "X.shape"
   ]
  },
  {
   "cell_type": "code",
   "execution_count": 57,
   "metadata": {
    "collapsed": true
   },
   "outputs": [],
   "source": [
    "from sklearn.model_selection import train_test_split"
   ]
  },
  {
   "cell_type": "code",
   "execution_count": 58,
   "metadata": {
    "collapsed": true
   },
   "outputs": [],
   "source": [
    "X_train, X_test, y_train, y_test = train_test_split(X, y, test_size=0.2)"
   ]
  },
  {
   "cell_type": "code",
   "execution_count": 59,
   "metadata": {},
   "outputs": [
    {
     "data": {
      "text/plain": [
       "array([[[ 0.75978119],\n",
       "        [ 0.74812344],\n",
       "        [ 0.75572632],\n",
       "        ..., \n",
       "        [ 0.70757475],\n",
       "        [ 0.69059499],\n",
       "        [ 0.69895815]],\n",
       "\n",
       "       [[ 0.69484456],\n",
       "        [ 0.69939699],\n",
       "        [ 0.68526052],\n",
       "        ..., \n",
       "        [ 0.67807243],\n",
       "        [ 0.69077132],\n",
       "        [ 0.67184283]],\n",
       "\n",
       "       [[ 0.84043766],\n",
       "        [ 0.8164636 ],\n",
       "        [ 0.80972933],\n",
       "        ..., \n",
       "        [ 0.82104291],\n",
       "        [ 0.82454478],\n",
       "        [ 0.82481415]],\n",
       "\n",
       "       ..., \n",
       "       [[ 0.49070402],\n",
       "        [ 0.49214165],\n",
       "        [ 0.49693364],\n",
       "        ..., \n",
       "        [ 0.55108361],\n",
       "        [ 0.55395885],\n",
       "        [ 0.56785574]],\n",
       "\n",
       "       [[ 0.55908545],\n",
       "        [ 0.56901339],\n",
       "        [ 0.57695577],\n",
       "        ..., \n",
       "        [ 0.55936911],\n",
       "        [ 0.56816248],\n",
       "        [ 0.56901339]],\n",
       "\n",
       "       [[ 0.70084337],\n",
       "        [ 0.68447653],\n",
       "        [ 0.70304191],\n",
       "        ..., \n",
       "        [ 0.69571345],\n",
       "        [ 0.68960641],\n",
       "        [ 0.66835396]]])"
      ]
     },
     "execution_count": 59,
     "metadata": {},
     "output_type": "execute_result"
    }
   ],
   "source": [
    "X_train"
   ]
  },
  {
   "cell_type": "code",
   "execution_count": 60,
   "metadata": {},
   "outputs": [
    {
     "data": {
      "text/plain": [
       "array([ 0.68730041,  0.66585279,  0.82616097, ...,  0.56234487,\n",
       "        0.57950868,  0.64734573])"
      ]
     },
     "execution_count": 60,
     "metadata": {},
     "output_type": "execute_result"
    }
   ],
   "source": [
    "y_train"
   ]
  },
  {
   "cell_type": "code",
   "execution_count": 61,
   "metadata": {
    "collapsed": true
   },
   "outputs": [],
   "source": [
    "model = Sequential()"
   ]
  },
  {
   "cell_type": "code",
   "execution_count": 62,
   "metadata": {
    "collapsed": true
   },
   "outputs": [],
   "source": [
    "model.add(Conv1D(50,\n",
    "                 4,\n",
    "                 padding='same',\n",
    "                 activation='relu', input_shape=(p,1)\n",
    "                ))"
   ]
  },
  {
   "cell_type": "code",
   "execution_count": 63,
   "metadata": {
    "collapsed": true
   },
   "outputs": [],
   "source": [
    "model.add(MaxPooling1D(2))"
   ]
  },
  {
   "cell_type": "code",
   "execution_count": 64,
   "metadata": {
    "collapsed": true
   },
   "outputs": [],
   "source": [
    "model.add(Flatten())"
   ]
  },
  {
   "cell_type": "code",
   "execution_count": 65,
   "metadata": {
    "collapsed": true
   },
   "outputs": [],
   "source": [
    "model.add(Dense(20))\n",
    "model.add(Dropout(0.2))#avoid overfitting\n",
    "model.add(Activation('relu'))"
   ]
  },
  {
   "cell_type": "code",
   "execution_count": 66,
   "metadata": {
    "collapsed": true
   },
   "outputs": [],
   "source": [
    "model.add(Dense(1))\n",
    "model.add(Activation('sigmoid'))"
   ]
  },
  {
   "cell_type": "code",
   "execution_count": 74,
   "metadata": {
    "collapsed": true
   },
   "outputs": [],
   "source": [
    "model.compile(loss='mse',\n",
    "              optimizer=Adam(lr=0.01),#SGD\n",
    "              metrics=['accuracy'])"
   ]
  },
  {
   "cell_type": "code",
   "execution_count": 75,
   "metadata": {},
   "outputs": [
    {
     "name": "stdout",
     "output_type": "stream",
     "text": [
      "_________________________________________________________________\n",
      "Layer (type)                 Output Shape              Param #   \n",
      "=================================================================\n",
      "conv1d_1 (Conv1D)            (None, 20, 50)            250       \n",
      "_________________________________________________________________\n",
      "max_pooling1d_1 (MaxPooling1 (None, 10, 50)            0         \n",
      "_________________________________________________________________\n",
      "flatten_1 (Flatten)          (None, 500)               0         \n",
      "_________________________________________________________________\n",
      "dense_1 (Dense)              (None, 20)                10020     \n",
      "_________________________________________________________________\n",
      "dropout_1 (Dropout)          (None, 20)                0         \n",
      "_________________________________________________________________\n",
      "activation_1 (Activation)    (None, 20)                0         \n",
      "_________________________________________________________________\n",
      "dense_2 (Dense)              (None, 1)                 21        \n",
      "_________________________________________________________________\n",
      "activation_2 (Activation)    (None, 1)                 0         \n",
      "=================================================================\n",
      "Total params: 10,291.0\n",
      "Trainable params: 10,291.0\n",
      "Non-trainable params: 0.0\n",
      "_________________________________________________________________\n"
     ]
    }
   ],
   "source": [
    "model.summary()"
   ]
  },
  {
   "cell_type": "code",
   "execution_count": 76,
   "metadata": {},
   "outputs": [
    {
     "name": "stdout",
     "output_type": "stream",
     "text": [
      "Epoch 1/50\n",
      "1712/1712 [==============================] - 0s - loss: 0.0050 - acc: 0.0000e+00     \n",
      "Epoch 2/50\n",
      "1712/1712 [==============================] - 0s - loss: 0.0022 - acc: 0.0000e+00     \n",
      "Epoch 3/50\n",
      "1712/1712 [==============================] - 0s - loss: 0.0015 - acc: 0.0000e+00     \n",
      "Epoch 4/50\n",
      "1712/1712 [==============================] - 0s - loss: 0.0013 - acc: 0.0000e+00     \n",
      "Epoch 5/50\n",
      "1712/1712 [==============================] - 0s - loss: 0.0012 - acc: 0.0000e+00     \n",
      "Epoch 6/50\n",
      "1712/1712 [==============================] - 0s - loss: 0.0014 - acc: 0.0000e+00     \n",
      "Epoch 7/50\n",
      "1712/1712 [==============================] - 0s - loss: 0.0012 - acc: 0.0000e+00     \n",
      "Epoch 8/50\n",
      "1712/1712 [==============================] - 0s - loss: 0.0015 - acc: 0.0000e+00     \n",
      "Epoch 9/50\n",
      "1712/1712 [==============================] - 0s - loss: 0.0014 - acc: 0.0000e+00     \n",
      "Epoch 10/50\n",
      "1712/1712 [==============================] - 0s - loss: 0.0012 - acc: 0.0000e+00     \n",
      "Epoch 11/50\n",
      "1712/1712 [==============================] - 0s - loss: 0.0011 - acc: 0.0000e+00     \n",
      "Epoch 12/50\n",
      "1712/1712 [==============================] - 0s - loss: 0.0013 - acc: 0.0000e+00     \n",
      "Epoch 13/50\n",
      "1712/1712 [==============================] - 0s - loss: 9.1796e-04 - acc: 0.0000e+00     \n",
      "Epoch 14/50\n",
      "1712/1712 [==============================] - 0s - loss: 9.9580e-04 - acc: 0.0000e+00     \n",
      "Epoch 15/50\n",
      "1712/1712 [==============================] - 0s - loss: 9.8660e-04 - acc: 0.0000e+00     \n",
      "Epoch 16/50\n",
      "1712/1712 [==============================] - 0s - loss: 9.7553e-04 - acc: 0.0000e+00     \n",
      "Epoch 17/50\n",
      "1712/1712 [==============================] - 0s - loss: 0.0010 - acc: 0.0000e+00        \n",
      "Epoch 18/50\n",
      "1712/1712 [==============================] - 0s - loss: 9.7911e-04 - acc: 0.0000e+00     \n",
      "Epoch 19/50\n",
      "1712/1712 [==============================] - 0s - loss: 0.0011 - acc: 0.0000e+00     \n",
      "Epoch 20/50\n",
      "1712/1712 [==============================] - 0s - loss: 9.7443e-04 - acc: 0.0000e+00     \n",
      "Epoch 21/50\n",
      "1712/1712 [==============================] - 0s - loss: 0.0010 - acc: 0.0000e+00         \n",
      "Epoch 22/50\n",
      "1712/1712 [==============================] - 0s - loss: 9.4495e-04 - acc: 0.0000e+00     \n",
      "Epoch 23/50\n",
      "1712/1712 [==============================] - 0s - loss: 9.0974e-04 - acc: 0.0000e+00     \n",
      "Epoch 24/50\n",
      "1712/1712 [==============================] - 0s - loss: 9.4700e-04 - acc: 0.0000e+00     \n",
      "Epoch 25/50\n",
      "1712/1712 [==============================] - 0s - loss: 9.6502e-04 - acc: 0.0000e+00     \n",
      "Epoch 26/50\n",
      "1712/1712 [==============================] - 0s - loss: 9.2469e-04 - acc: 0.0000e+00     \n",
      "Epoch 27/50\n",
      "1712/1712 [==============================] - 0s - loss: 9.9054e-04 - acc: 0.0000e+00     \n",
      "Epoch 28/50\n",
      "1712/1712 [==============================] - 0s - loss: 9.5935e-04 - acc: 0.0000e+00     \n",
      "Epoch 29/50\n",
      "1712/1712 [==============================] - 0s - loss: 0.0010 - acc: 0.0000e+00     \n",
      "Epoch 30/50\n",
      "1712/1712 [==============================] - 0s - loss: 9.2842e-04 - acc: 0.0000e+00     \n",
      "Epoch 31/50\n",
      "1712/1712 [==============================] - 0s - loss: 8.4240e-04 - acc: 0.0000e+00     \n",
      "Epoch 32/50\n",
      "1712/1712 [==============================] - 0s - loss: 9.2139e-04 - acc: 0.0000e+00     \n",
      "Epoch 33/50\n",
      "1712/1712 [==============================] - 0s - loss: 8.9288e-04 - acc: 0.0000e+00     \n",
      "Epoch 34/50\n",
      "1712/1712 [==============================] - 0s - loss: 0.0010 - acc: 0.0000e+00     \n",
      "Epoch 35/50\n",
      "1712/1712 [==============================] - 0s - loss: 8.7616e-04 - acc: 0.0000e+00     \n",
      "Epoch 36/50\n",
      "1712/1712 [==============================] - 0s - loss: 0.0010 - acc: 0.0000e+00        \n",
      "Epoch 37/50\n",
      "1712/1712 [==============================] - 0s - loss: 8.8055e-04 - acc: 0.0000e+00     \n",
      "Epoch 38/50\n",
      "1712/1712 [==============================] - 0s - loss: 8.5861e-04 - acc: 0.0000e+00     \n",
      "Epoch 39/50\n",
      "1712/1712 [==============================] - 0s - loss: 8.8388e-04 - acc: 0.0000e+00     \n",
      "Epoch 40/50\n",
      "1712/1712 [==============================] - 0s - loss: 8.8964e-04 - acc: 0.0000e+00     \n",
      "Epoch 41/50\n",
      "1712/1712 [==============================] - 0s - loss: 9.5226e-04 - acc: 0.0000e+00     \n",
      "Epoch 42/50\n",
      "1712/1712 [==============================] - 0s - loss: 9.6278e-04 - acc: 0.0000e+00     \n",
      "Epoch 43/50\n",
      "1712/1712 [==============================] - 0s - loss: 8.8816e-04 - acc: 0.0000e+00     \n",
      "Epoch 44/50\n",
      "1712/1712 [==============================] - 0s - loss: 9.5772e-04 - acc: 0.0000e+00     \n",
      "Epoch 45/50\n",
      "1712/1712 [==============================] - 0s - loss: 9.9003e-04 - acc: 0.0000e+00     \n",
      "Epoch 46/50\n",
      "1712/1712 [==============================] - 0s - loss: 9.6100e-04 - acc: 0.0000e+00     \n",
      "Epoch 47/50\n",
      "1712/1712 [==============================] - 0s - loss: 9.2183e-04 - acc: 0.0000e+00     \n",
      "Epoch 48/50\n",
      "1712/1712 [==============================] - 0s - loss: 9.2725e-04 - acc: 0.0000e+00     \n",
      "Epoch 49/50\n",
      "1712/1712 [==============================] - 0s - loss: 9.0417e-04 - acc: 0.0000e+00     \n",
      "Epoch 50/50\n",
      "1712/1712 [==============================] - 0s - loss: 9.4961e-04 - acc: 0.0000e+00     \n"
     ]
    },
    {
     "data": {
      "text/plain": [
       "<keras.callbacks.History at 0x7f319c0a5e48>"
      ]
     },
     "execution_count": 76,
     "metadata": {},
     "output_type": "execute_result"
    }
   ],
   "source": [
    "model.fit(X_train, y_train, epochs=50, batch_size=32)"
   ]
  },
  {
   "cell_type": "code",
   "execution_count": 77,
   "metadata": {
    "collapsed": true
   },
   "outputs": [],
   "source": [
    "y_predict = model.predict(X_test).ravel()#reshape()也可以"
   ]
  },
  {
   "cell_type": "code",
   "execution_count": 78,
   "metadata": {},
   "outputs": [
    {
     "data": {
      "text/plain": [
       "array([ 0.8709169 ,  0.57403439,  0.71839088,  0.78466457,  0.81375688,\n",
       "        0.81142044,  0.6852178 ,  0.56504059,  0.72878808,  0.54159808,\n",
       "        0.72544587,  0.66453147,  0.49156967,  0.73757201,  0.72126532,\n",
       "        0.79810655,  0.80619305,  0.82430148,  0.87575924,  0.7830683 ,\n",
       "        0.50212348,  0.79505116,  0.87784779,  0.74053061,  0.73858386,\n",
       "        0.73354626,  0.77427197,  0.81481242,  0.51940954,  0.77594888,\n",
       "        0.59146214,  0.67575955,  0.83449489,  0.46205992,  0.59025747,\n",
       "        0.7651909 ,  0.79161471,  0.83009046,  0.50015676,  0.79959875,\n",
       "        0.6686731 ,  0.61737728,  0.68918306,  0.77453083,  0.80237681,\n",
       "        0.58953196,  0.60830057,  0.57542449,  0.80184448,  0.82641631,\n",
       "        0.61511976,  0.69691837,  0.83651352,  0.6977033 ,  0.6263966 ,\n",
       "        0.78148472,  0.56775475,  0.80078024,  0.71371937,  0.78161454,\n",
       "        0.74529511,  0.75276536,  0.69020337,  0.88629335,  0.55104637,\n",
       "        0.78360593,  0.77811968,  0.77042508,  0.5889864 ,  0.48840386,\n",
       "        0.58054233,  0.58641493,  0.50803137,  0.79139066,  0.69250685,\n",
       "        0.7416749 ,  0.69550467,  0.70863867,  0.82119554,  0.55215031,\n",
       "        0.8617214 ,  0.69974554,  0.68188286,  0.54925305,  0.85080731,\n",
       "        0.60648382,  0.78011954,  0.56510395,  0.7787165 ,  0.69981754,\n",
       "        0.78988928,  0.70440751,  0.79378605,  0.58659369,  0.72756791,\n",
       "        0.46366563,  0.84435391,  0.54554302,  0.84245151,  0.69474488,\n",
       "        0.76453972,  0.79226577,  0.75339967,  0.54473126,  0.6601572 ,\n",
       "        0.75908536,  0.71234226,  0.57416946,  0.77539587,  0.5924089 ,\n",
       "        0.84194773,  0.78817582,  0.68959033,  0.592031  ,  0.62595403,\n",
       "        0.78056079,  0.68788487,  0.68562788,  0.71809751,  0.73828912,\n",
       "        0.79132771,  0.71546084,  0.56458277,  0.60491312,  0.79054433,\n",
       "        0.7330876 ,  0.57875866,  0.57408875,  0.6368131 ,  0.50865936,\n",
       "        0.61428058,  0.58342361,  0.78638029,  0.75821465,  0.78619832,\n",
       "        0.80660695,  0.7637437 ,  0.57679057,  0.51593792,  0.69296855,\n",
       "        0.58594483,  0.68407094,  0.503133  ,  0.81684375,  0.7772643 ,\n",
       "        0.75353557,  0.67845374,  0.78477079,  0.6890009 ,  0.80801088,\n",
       "        0.577649  ,  0.8716222 ,  0.48098591,  0.79452777,  0.59807372,\n",
       "        0.75957245,  0.68968809,  0.61806041,  0.74847257,  0.73581266,\n",
       "        0.69482166,  0.77735436,  0.81853867,  0.87132549,  0.69345921,\n",
       "        0.56009066,  0.70808595,  0.70499009,  0.65088117,  0.56388187,\n",
       "        0.69841665,  0.58971298,  0.57790834,  0.80013186,  0.81232727,\n",
       "        0.48970902,  0.86602134,  0.52464628,  0.75571722,  0.68474776,\n",
       "        0.77407879,  0.78094733,  0.70700687,  0.88616896,  0.73223746,\n",
       "        0.73334098,  0.73274899,  0.68548054,  0.79706299,  0.57903457,\n",
       "        0.68804586,  0.63288456,  0.67596841,  0.56096721,  0.71039307,\n",
       "        0.62212139,  0.7015841 ,  0.6268065 ,  0.57609284,  0.80043209,\n",
       "        0.74605656,  0.76739955,  0.70444757,  0.69944912,  0.79624164,\n",
       "        0.67453462,  0.61962885,  0.65493482,  0.75878364,  0.53113568,\n",
       "        0.79400671,  0.79068482,  0.76806408,  0.52223682,  0.71476328,\n",
       "        0.6024757 ,  0.81023973,  0.59360808,  0.82354677,  0.56112683,\n",
       "        0.5767011 ,  0.53156579,  0.79684174,  0.59111828,  0.78445113,\n",
       "        0.78794533,  0.77326852,  0.75163162,  0.76408964,  0.73074186,\n",
       "        0.73097914,  0.6981883 ,  0.82538038,  0.7504214 ,  0.63828778,\n",
       "        0.5245989 ,  0.77463043,  0.74050993,  0.68079531,  0.69405603,\n",
       "        0.8064748 ,  0.8709619 ,  0.71899956,  0.51978666,  0.70467454,\n",
       "        0.57596213,  0.79254472,  0.58256447,  0.58378339,  0.80528367,\n",
       "        0.86648738,  0.73642766,  0.49932346,  0.62883866,  0.81787103,\n",
       "        0.75505829,  0.78613204,  0.72471052,  0.71071541,  0.80830663,\n",
       "        0.59258431,  0.6368143 ,  0.78464723,  0.78810585,  0.78370595,\n",
       "        0.68958127,  0.69424123,  0.71688139,  0.57773072,  0.78348947,\n",
       "        0.87199652,  0.71339267,  0.68691474,  0.77573121,  0.79296136,\n",
       "        0.53433442,  0.66953266,  0.76153165,  0.84576643,  0.86387098,\n",
       "        0.4657025 ,  0.75996292,  0.79692698,  0.6359551 ,  0.78625995,\n",
       "        0.73221761,  0.7540285 ,  0.57338649,  0.76380056,  0.56552005,\n",
       "        0.82153606,  0.77762121,  0.75973856,  0.69202113,  0.57870126,\n",
       "        0.59423906,  0.69083381,  0.70211172,  0.80857742,  0.46634337,\n",
       "        0.66345972,  0.71395755,  0.48261115,  0.48818535,  0.66603488,\n",
       "        0.5188182 ,  0.86175555,  0.62006944,  0.70548272,  0.8081696 ,\n",
       "        0.72700703,  0.79142648,  0.61778885,  0.48049805,  0.84139138,\n",
       "        0.71175611,  0.7245968 ,  0.79336393,  0.63930595,  0.69798356,\n",
       "        0.868756  ,  0.87440741,  0.81328195,  0.57867604,  0.73498076,\n",
       "        0.60187453,  0.81878954,  0.86749005,  0.67485756,  0.79943633,\n",
       "        0.79812169,  0.59935892,  0.81851846,  0.5954712 ,  0.75899184,\n",
       "        0.56140947,  0.54752594,  0.79189217,  0.61657703,  0.63478059,\n",
       "        0.48613176,  0.69037217,  0.7043137 ,  0.87684631,  0.79636049,\n",
       "        0.68924671,  0.69000876,  0.53387535,  0.47272152,  0.66887367,\n",
       "        0.70372468,  0.68707955,  0.56270057,  0.64297354,  0.78172094,\n",
       "        0.49620444,  0.73674947,  0.76940459,  0.66876334,  0.62158161,\n",
       "        0.80231172,  0.57233059,  0.77639043,  0.77222598,  0.51509815,\n",
       "        0.81282914,  0.77647269,  0.62557948,  0.77683663,  0.69434714,\n",
       "        0.8199926 ,  0.84701055,  0.80224067,  0.53081703,  0.63748354,\n",
       "        0.57402855,  0.81676358,  0.78198028,  0.73107296,  0.87132353,\n",
       "        0.57578248,  0.86281174,  0.68882155,  0.5795964 ,  0.79706615,\n",
       "        0.85435128,  0.8465119 ,  0.67767984,  0.85957843,  0.79731792,\n",
       "        0.74453187,  0.72329277,  0.61296874,  0.74110931,  0.80179876,\n",
       "        0.74235708,  0.78800303,  0.61761588,  0.78925103,  0.49258521,\n",
       "        0.86455941,  0.46005884,  0.87506598,  0.73235953,  0.76022208,\n",
       "        0.80010039,  0.82089728,  0.84796482,  0.68504351,  0.81397116,\n",
       "        0.77201056,  0.80498654,  0.6996904 ,  0.69331038,  0.59263307,\n",
       "        0.69402575,  0.5848394 ,  0.58954418,  0.7743817 ,  0.53689098,\n",
       "        0.78462231,  0.74465418,  0.7910096 ,  0.81533521,  0.79429209,\n",
       "        0.53829914,  0.82197577,  0.68522137], dtype=float32)"
      ]
     },
     "execution_count": 78,
     "metadata": {},
     "output_type": "execute_result"
    }
   ],
   "source": [
    "y_predict"
   ]
  },
  {
   "cell_type": "code",
   "execution_count": 79,
   "metadata": {},
   "outputs": [
    {
     "data": {
      "text/plain": [
       "[<matplotlib.lines.Line2D at 0x7f315dbed8d0>]"
      ]
     },
     "execution_count": 79,
     "metadata": {},
     "output_type": "execute_result"
    },
    {
     "data": {
      "image/png": "[encoded data removed]",
      "text/plain": [
       "<matplotlib.figure.Figure at 0x7f315dbed208>"
      ]
     },
     "metadata": {},
     "output_type": "display_data"
    }
   ],
   "source": [
    "plt.plot(y_test[:100])#取100筆出來\n",
    "plt.plot(y_predict[:100],'r')"
   ]
  },
  {
   "cell_type": "code",
   "execution_count": null,
   "metadata": {
    "collapsed": true
   },
   "outputs": [],
   "source": []
  }
 ],
 "metadata": {
  "kernelspec": {
   "display_name": "Python 3",
   "language": "python",
   "name": "python3"
  },
  "language_info": {
   "codemirror_mode": {
    "name": "ipython",
    "version": 3
   },
   "file_extension": ".py",
   "mimetype": "text/x-python",
   "name": "python",
   "nbconvert_exporter": "python",
   "pygments_lexer": "ipython3",
   "version": "3.6.1"
  }
 },
 "nbformat": 4,
 "nbformat_minor": 2
}
