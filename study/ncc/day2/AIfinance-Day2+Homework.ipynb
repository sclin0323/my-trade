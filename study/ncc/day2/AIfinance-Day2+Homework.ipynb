{
 "cells": [
  {
   "cell_type": "code",
   "execution_count": 1,
   "metadata": {
    "collapsed": true
   },
   "outputs": [],
   "source": [
    "%matplotlib inline\n",
    "import numpy as np\n",
    "import matplotlib.pyplot as plt\n",
    "import pandas as pd"
   ]
  },
  {
   "cell_type": "markdown",
   "metadata": {},
   "source": [
    "# 作業一：加入ETF其他資訊，並且建模"
   ]
  },
  {
   "cell_type": "code",
   "execution_count": 2,
   "metadata": {
    "collapsed": true
   },
   "outputs": [],
   "source": [
    "df = pd.read_csv('../etf_data/AADR.csv')"
   ]
  },
  {
   "cell_type": "code",
   "execution_count": 3,
   "metadata": {},
   "outputs": [
    {
     "data": {
      "text/html": [
       "<div>\n",
       "<table border=\"1\" class=\"dataframe\">\n",
       "  <thead>\n",
       "    <tr style=\"text-align: right;\">\n",
       "      <th></th>\n",
       "      <th>Date</th>\n",
       "      <th>Open</th>\n",
       "      <th>High</th>\n",
       "      <th>Low</th>\n",
       "      <th>Close</th>\n",
       "      <th>Volume</th>\n",
       "      <th>Adj Close</th>\n",
       "    </tr>\n",
       "  </thead>\n",
       "  <tbody>\n",
       "    <tr>\n",
       "      <th>0</th>\n",
       "      <td>2017-02-15</td>\n",
       "      <td>45.580002</td>\n",
       "      <td>45.799999</td>\n",
       "      <td>45.580002</td>\n",
       "      <td>45.779999</td>\n",
       "      <td>7800</td>\n",
       "      <td>45.779999</td>\n",
       "    </tr>\n",
       "    <tr>\n",
       "      <th>1</th>\n",
       "      <td>2017-02-14</td>\n",
       "      <td>45.900002</td>\n",
       "      <td>45.900002</td>\n",
       "      <td>44.950001</td>\n",
       "      <td>45.450001</td>\n",
       "      <td>22000</td>\n",
       "      <td>45.450001</td>\n",
       "    </tr>\n",
       "    <tr>\n",
       "      <th>2</th>\n",
       "      <td>2017-02-13</td>\n",
       "      <td>45.799999</td>\n",
       "      <td>45.799999</td>\n",
       "      <td>45.380001</td>\n",
       "      <td>45.619999</td>\n",
       "      <td>30300</td>\n",
       "      <td>45.619999</td>\n",
       "    </tr>\n",
       "    <tr>\n",
       "      <th>3</th>\n",
       "      <td>2017-02-10</td>\n",
       "      <td>44.919998</td>\n",
       "      <td>45.270000</td>\n",
       "      <td>44.770000</td>\n",
       "      <td>45.070000</td>\n",
       "      <td>9200</td>\n",
       "      <td>45.070000</td>\n",
       "    </tr>\n",
       "    <tr>\n",
       "      <th>4</th>\n",
       "      <td>2017-02-09</td>\n",
       "      <td>44.320000</td>\n",
       "      <td>44.570000</td>\n",
       "      <td>44.290001</td>\n",
       "      <td>44.330002</td>\n",
       "      <td>3400</td>\n",
       "      <td>44.330002</td>\n",
       "    </tr>\n",
       "    <tr>\n",
       "      <th>5</th>\n",
       "      <td>2017-02-08</td>\n",
       "      <td>43.939999</td>\n",
       "      <td>44.369999</td>\n",
       "      <td>43.939999</td>\n",
       "      <td>44.369999</td>\n",
       "      <td>4500</td>\n",
       "      <td>44.369999</td>\n",
       "    </tr>\n",
       "    <tr>\n",
       "      <th>6</th>\n",
       "      <td>2017-02-07</td>\n",
       "      <td>45.000000</td>\n",
       "      <td>45.000000</td>\n",
       "      <td>44.189999</td>\n",
       "      <td>44.220001</td>\n",
       "      <td>7400</td>\n",
       "      <td>44.220001</td>\n",
       "    </tr>\n",
       "    <tr>\n",
       "      <th>7</th>\n",
       "      <td>2017-02-06</td>\n",
       "      <td>45.380001</td>\n",
       "      <td>45.380001</td>\n",
       "      <td>44.150002</td>\n",
       "      <td>44.619999</td>\n",
       "      <td>7400</td>\n",
       "      <td>44.619999</td>\n",
       "    </tr>\n",
       "    <tr>\n",
       "      <th>8</th>\n",
       "      <td>2017-02-03</td>\n",
       "      <td>45.880001</td>\n",
       "      <td>45.880001</td>\n",
       "      <td>44.820000</td>\n",
       "      <td>44.959999</td>\n",
       "      <td>6200</td>\n",
       "      <td>44.959999</td>\n",
       "    </tr>\n",
       "    <tr>\n",
       "      <th>9</th>\n",
       "      <td>2017-02-02</td>\n",
       "      <td>44.689999</td>\n",
       "      <td>45.080002</td>\n",
       "      <td>44.580002</td>\n",
       "      <td>45.000000</td>\n",
       "      <td>13300</td>\n",
       "      <td>45.000000</td>\n",
       "    </tr>\n",
       "    <tr>\n",
       "      <th>10</th>\n",
       "      <td>2017-02-01</td>\n",
       "      <td>44.639999</td>\n",
       "      <td>44.810001</td>\n",
       "      <td>44.130001</td>\n",
       "      <td>44.459999</td>\n",
       "      <td>13300</td>\n",
       "      <td>44.459999</td>\n",
       "    </tr>\n",
       "    <tr>\n",
       "      <th>11</th>\n",
       "      <td>2017-01-31</td>\n",
       "      <td>44.180000</td>\n",
       "      <td>44.360001</td>\n",
       "      <td>43.889999</td>\n",
       "      <td>44.220001</td>\n",
       "      <td>3200</td>\n",
       "      <td>44.220001</td>\n",
       "    </tr>\n",
       "    <tr>\n",
       "      <th>12</th>\n",
       "      <td>2017-01-30</td>\n",
       "      <td>44.500000</td>\n",
       "      <td>44.540001</td>\n",
       "      <td>43.730000</td>\n",
       "      <td>43.939999</td>\n",
       "      <td>5000</td>\n",
       "      <td>43.939999</td>\n",
       "    </tr>\n",
       "    <tr>\n",
       "      <th>13</th>\n",
       "      <td>2017-01-27</td>\n",
       "      <td>44.490002</td>\n",
       "      <td>44.500000</td>\n",
       "      <td>44.220001</td>\n",
       "      <td>44.330002</td>\n",
       "      <td>9700</td>\n",
       "      <td>44.330002</td>\n",
       "    </tr>\n",
       "    <tr>\n",
       "      <th>14</th>\n",
       "      <td>2017-01-26</td>\n",
       "      <td>45.490002</td>\n",
       "      <td>45.490002</td>\n",
       "      <td>44.259998</td>\n",
       "      <td>44.470001</td>\n",
       "      <td>15400</td>\n",
       "      <td>44.470001</td>\n",
       "    </tr>\n",
       "    <tr>\n",
       "      <th>15</th>\n",
       "      <td>2017-01-25</td>\n",
       "      <td>44.590000</td>\n",
       "      <td>44.849998</td>\n",
       "      <td>44.470001</td>\n",
       "      <td>44.849998</td>\n",
       "      <td>33400</td>\n",
       "      <td>44.849998</td>\n",
       "    </tr>\n",
       "    <tr>\n",
       "      <th>16</th>\n",
       "      <td>2017-01-24</td>\n",
       "      <td>44.430000</td>\n",
       "      <td>44.430000</td>\n",
       "      <td>44.130001</td>\n",
       "      <td>44.130001</td>\n",
       "      <td>6500</td>\n",
       "      <td>44.130001</td>\n",
       "    </tr>\n",
       "    <tr>\n",
       "      <th>17</th>\n",
       "      <td>2017-01-23</td>\n",
       "      <td>43.939999</td>\n",
       "      <td>44.509998</td>\n",
       "      <td>43.849998</td>\n",
       "      <td>44.470001</td>\n",
       "      <td>16500</td>\n",
       "      <td>44.470001</td>\n",
       "    </tr>\n",
       "    <tr>\n",
       "      <th>18</th>\n",
       "      <td>2017-01-20</td>\n",
       "      <td>43.950001</td>\n",
       "      <td>43.950001</td>\n",
       "      <td>43.689999</td>\n",
       "      <td>43.709999</td>\n",
       "      <td>3300</td>\n",
       "      <td>43.709999</td>\n",
       "    </tr>\n",
       "    <tr>\n",
       "      <th>19</th>\n",
       "      <td>2017-01-19</td>\n",
       "      <td>43.459999</td>\n",
       "      <td>43.509998</td>\n",
       "      <td>43.349998</td>\n",
       "      <td>43.430000</td>\n",
       "      <td>7600</td>\n",
       "      <td>43.430000</td>\n",
       "    </tr>\n",
       "    <tr>\n",
       "      <th>20</th>\n",
       "      <td>2017-01-18</td>\n",
       "      <td>43.660000</td>\n",
       "      <td>43.660000</td>\n",
       "      <td>43.270000</td>\n",
       "      <td>43.450001</td>\n",
       "      <td>3900</td>\n",
       "      <td>43.450001</td>\n",
       "    </tr>\n",
       "    <tr>\n",
       "      <th>21</th>\n",
       "      <td>2017-01-17</td>\n",
       "      <td>43.439999</td>\n",
       "      <td>43.770000</td>\n",
       "      <td>43.419998</td>\n",
       "      <td>43.770000</td>\n",
       "      <td>3500</td>\n",
       "      <td>43.770000</td>\n",
       "    </tr>\n",
       "    <tr>\n",
       "      <th>22</th>\n",
       "      <td>2017-01-13</td>\n",
       "      <td>43.049999</td>\n",
       "      <td>43.450001</td>\n",
       "      <td>43.049999</td>\n",
       "      <td>43.419998</td>\n",
       "      <td>2300</td>\n",
       "      <td>43.419998</td>\n",
       "    </tr>\n",
       "    <tr>\n",
       "      <th>23</th>\n",
       "      <td>2017-01-12</td>\n",
       "      <td>43.330002</td>\n",
       "      <td>43.389999</td>\n",
       "      <td>43.270000</td>\n",
       "      <td>43.369999</td>\n",
       "      <td>5500</td>\n",
       "      <td>43.369999</td>\n",
       "    </tr>\n",
       "    <tr>\n",
       "      <th>24</th>\n",
       "      <td>2017-01-11</td>\n",
       "      <td>43.200001</td>\n",
       "      <td>43.400002</td>\n",
       "      <td>42.669998</td>\n",
       "      <td>43.400002</td>\n",
       "      <td>6700</td>\n",
       "      <td>43.400002</td>\n",
       "    </tr>\n",
       "    <tr>\n",
       "      <th>25</th>\n",
       "      <td>2017-01-10</td>\n",
       "      <td>43.040001</td>\n",
       "      <td>43.040001</td>\n",
       "      <td>42.799999</td>\n",
       "      <td>42.820000</td>\n",
       "      <td>2800</td>\n",
       "      <td>42.820000</td>\n",
       "    </tr>\n",
       "    <tr>\n",
       "      <th>26</th>\n",
       "      <td>2017-01-09</td>\n",
       "      <td>42.580002</td>\n",
       "      <td>42.599998</td>\n",
       "      <td>42.419998</td>\n",
       "      <td>42.419998</td>\n",
       "      <td>2100</td>\n",
       "      <td>42.419998</td>\n",
       "    </tr>\n",
       "    <tr>\n",
       "      <th>27</th>\n",
       "      <td>2017-01-06</td>\n",
       "      <td>42.139999</td>\n",
       "      <td>42.400002</td>\n",
       "      <td>42.139999</td>\n",
       "      <td>42.270000</td>\n",
       "      <td>2100</td>\n",
       "      <td>42.270000</td>\n",
       "    </tr>\n",
       "    <tr>\n",
       "      <th>28</th>\n",
       "      <td>2017-01-05</td>\n",
       "      <td>42.490002</td>\n",
       "      <td>42.950001</td>\n",
       "      <td>42.240002</td>\n",
       "      <td>42.410000</td>\n",
       "      <td>6200</td>\n",
       "      <td>42.410000</td>\n",
       "    </tr>\n",
       "    <tr>\n",
       "      <th>29</th>\n",
       "      <td>2017-01-04</td>\n",
       "      <td>41.840000</td>\n",
       "      <td>41.959999</td>\n",
       "      <td>41.490002</td>\n",
       "      <td>41.959999</td>\n",
       "      <td>6800</td>\n",
       "      <td>41.959999</td>\n",
       "    </tr>\n",
       "    <tr>\n",
       "      <th>...</th>\n",
       "      <td>...</td>\n",
       "      <td>...</td>\n",
       "      <td>...</td>\n",
       "      <td>...</td>\n",
       "      <td>...</td>\n",
       "      <td>...</td>\n",
       "      <td>...</td>\n",
       "    </tr>\n",
       "    <tr>\n",
       "      <th>1626</th>\n",
       "      <td>2010-08-31</td>\n",
       "      <td>25.299999</td>\n",
       "      <td>25.350000</td>\n",
       "      <td>25.280001</td>\n",
       "      <td>25.350000</td>\n",
       "      <td>1100</td>\n",
       "      <td>24.453419</td>\n",
       "    </tr>\n",
       "    <tr>\n",
       "      <th>1627</th>\n",
       "      <td>2010-08-30</td>\n",
       "      <td>25.290001</td>\n",
       "      <td>25.290001</td>\n",
       "      <td>25.290001</td>\n",
       "      <td>25.290001</td>\n",
       "      <td>300</td>\n",
       "      <td>24.395542</td>\n",
       "    </tr>\n",
       "    <tr>\n",
       "      <th>1628</th>\n",
       "      <td>2010-08-27</td>\n",
       "      <td>25.100000</td>\n",
       "      <td>25.260000</td>\n",
       "      <td>24.950001</td>\n",
       "      <td>25.260000</td>\n",
       "      <td>10300</td>\n",
       "      <td>24.366602</td>\n",
       "    </tr>\n",
       "    <tr>\n",
       "      <th>1629</th>\n",
       "      <td>2010-08-26</td>\n",
       "      <td>25.120001</td>\n",
       "      <td>25.150000</td>\n",
       "      <td>25.000000</td>\n",
       "      <td>25.000000</td>\n",
       "      <td>7500</td>\n",
       "      <td>24.115798</td>\n",
       "    </tr>\n",
       "    <tr>\n",
       "      <th>1630</th>\n",
       "      <td>2010-08-25</td>\n",
       "      <td>24.850000</td>\n",
       "      <td>24.870001</td>\n",
       "      <td>24.850000</td>\n",
       "      <td>24.870001</td>\n",
       "      <td>700</td>\n",
       "      <td>23.990397</td>\n",
       "    </tr>\n",
       "    <tr>\n",
       "      <th>1631</th>\n",
       "      <td>2010-08-24</td>\n",
       "      <td>24.900000</td>\n",
       "      <td>24.959999</td>\n",
       "      <td>24.900000</td>\n",
       "      <td>24.959999</td>\n",
       "      <td>3800</td>\n",
       "      <td>24.077212</td>\n",
       "    </tr>\n",
       "    <tr>\n",
       "      <th>1632</th>\n",
       "      <td>2010-08-23</td>\n",
       "      <td>25.330000</td>\n",
       "      <td>25.330000</td>\n",
       "      <td>25.330000</td>\n",
       "      <td>25.330000</td>\n",
       "      <td>200</td>\n",
       "      <td>24.434126</td>\n",
       "    </tr>\n",
       "    <tr>\n",
       "      <th>1633</th>\n",
       "      <td>2010-08-20</td>\n",
       "      <td>25.309999</td>\n",
       "      <td>25.309999</td>\n",
       "      <td>25.290001</td>\n",
       "      <td>25.299999</td>\n",
       "      <td>1200</td>\n",
       "      <td>24.405187</td>\n",
       "    </tr>\n",
       "    <tr>\n",
       "      <th>1634</th>\n",
       "      <td>2010-08-19</td>\n",
       "      <td>25.750000</td>\n",
       "      <td>25.750000</td>\n",
       "      <td>25.750000</td>\n",
       "      <td>25.750000</td>\n",
       "      <td>500</td>\n",
       "      <td>24.839272</td>\n",
       "    </tr>\n",
       "    <tr>\n",
       "      <th>1635</th>\n",
       "      <td>2010-08-18</td>\n",
       "      <td>25.799999</td>\n",
       "      <td>25.900000</td>\n",
       "      <td>25.799999</td>\n",
       "      <td>25.900000</td>\n",
       "      <td>600</td>\n",
       "      <td>24.983966</td>\n",
       "    </tr>\n",
       "    <tr>\n",
       "      <th>1636</th>\n",
       "      <td>2010-08-17</td>\n",
       "      <td>25.570000</td>\n",
       "      <td>25.750000</td>\n",
       "      <td>25.570000</td>\n",
       "      <td>25.750000</td>\n",
       "      <td>6500</td>\n",
       "      <td>24.839272</td>\n",
       "    </tr>\n",
       "    <tr>\n",
       "      <th>1637</th>\n",
       "      <td>2010-08-16</td>\n",
       "      <td>25.280001</td>\n",
       "      <td>25.280001</td>\n",
       "      <td>25.240000</td>\n",
       "      <td>25.240000</td>\n",
       "      <td>3000</td>\n",
       "      <td>24.347309</td>\n",
       "    </tr>\n",
       "    <tr>\n",
       "      <th>1638</th>\n",
       "      <td>2010-08-13</td>\n",
       "      <td>25.170000</td>\n",
       "      <td>25.170000</td>\n",
       "      <td>25.170000</td>\n",
       "      <td>25.170000</td>\n",
       "      <td>100</td>\n",
       "      <td>24.279785</td>\n",
       "    </tr>\n",
       "    <tr>\n",
       "      <th>1639</th>\n",
       "      <td>2010-08-12</td>\n",
       "      <td>25.040001</td>\n",
       "      <td>25.040001</td>\n",
       "      <td>25.040001</td>\n",
       "      <td>25.040001</td>\n",
       "      <td>1000</td>\n",
       "      <td>24.154384</td>\n",
       "    </tr>\n",
       "    <tr>\n",
       "      <th>1640</th>\n",
       "      <td>2010-08-11</td>\n",
       "      <td>25.170000</td>\n",
       "      <td>25.170000</td>\n",
       "      <td>25.170000</td>\n",
       "      <td>25.170000</td>\n",
       "      <td>100</td>\n",
       "      <td>24.279785</td>\n",
       "    </tr>\n",
       "    <tr>\n",
       "      <th>1641</th>\n",
       "      <td>2010-08-10</td>\n",
       "      <td>26.080000</td>\n",
       "      <td>26.080000</td>\n",
       "      <td>26.080000</td>\n",
       "      <td>26.080000</td>\n",
       "      <td>500</td>\n",
       "      <td>25.157600</td>\n",
       "    </tr>\n",
       "    <tr>\n",
       "      <th>1642</th>\n",
       "      <td>2010-08-09</td>\n",
       "      <td>26.000000</td>\n",
       "      <td>26.230000</td>\n",
       "      <td>26.000000</td>\n",
       "      <td>26.059999</td>\n",
       "      <td>5500</td>\n",
       "      <td>25.138307</td>\n",
       "    </tr>\n",
       "    <tr>\n",
       "      <th>1643</th>\n",
       "      <td>2010-08-06</td>\n",
       "      <td>25.309999</td>\n",
       "      <td>25.709999</td>\n",
       "      <td>25.309999</td>\n",
       "      <td>25.709999</td>\n",
       "      <td>700</td>\n",
       "      <td>24.800686</td>\n",
       "    </tr>\n",
       "    <tr>\n",
       "      <th>1644</th>\n",
       "      <td>2010-08-05</td>\n",
       "      <td>25.910000</td>\n",
       "      <td>25.910000</td>\n",
       "      <td>25.910000</td>\n",
       "      <td>25.910000</td>\n",
       "      <td>500</td>\n",
       "      <td>24.993613</td>\n",
       "    </tr>\n",
       "    <tr>\n",
       "      <th>1645</th>\n",
       "      <td>2010-08-04</td>\n",
       "      <td>25.860001</td>\n",
       "      <td>25.860001</td>\n",
       "      <td>25.860001</td>\n",
       "      <td>25.860001</td>\n",
       "      <td>500</td>\n",
       "      <td>24.945382</td>\n",
       "    </tr>\n",
       "    <tr>\n",
       "      <th>1646</th>\n",
       "      <td>2010-08-03</td>\n",
       "      <td>25.750000</td>\n",
       "      <td>25.860001</td>\n",
       "      <td>25.750000</td>\n",
       "      <td>25.830000</td>\n",
       "      <td>11200</td>\n",
       "      <td>24.916442</td>\n",
       "    </tr>\n",
       "    <tr>\n",
       "      <th>1647</th>\n",
       "      <td>2010-08-02</td>\n",
       "      <td>25.700001</td>\n",
       "      <td>25.709999</td>\n",
       "      <td>25.440001</td>\n",
       "      <td>25.620001</td>\n",
       "      <td>7000</td>\n",
       "      <td>24.713870</td>\n",
       "    </tr>\n",
       "    <tr>\n",
       "      <th>1648</th>\n",
       "      <td>2010-07-30</td>\n",
       "      <td>24.990000</td>\n",
       "      <td>25.100000</td>\n",
       "      <td>24.990000</td>\n",
       "      <td>25.100000</td>\n",
       "      <td>600</td>\n",
       "      <td>24.212261</td>\n",
       "    </tr>\n",
       "    <tr>\n",
       "      <th>1649</th>\n",
       "      <td>2010-07-29</td>\n",
       "      <td>25.299999</td>\n",
       "      <td>25.299999</td>\n",
       "      <td>25.020000</td>\n",
       "      <td>25.020000</td>\n",
       "      <td>1200</td>\n",
       "      <td>24.135091</td>\n",
       "    </tr>\n",
       "    <tr>\n",
       "      <th>1650</th>\n",
       "      <td>2010-07-28</td>\n",
       "      <td>25.250000</td>\n",
       "      <td>25.290001</td>\n",
       "      <td>25.120001</td>\n",
       "      <td>25.200001</td>\n",
       "      <td>4900</td>\n",
       "      <td>24.308725</td>\n",
       "    </tr>\n",
       "    <tr>\n",
       "      <th>1651</th>\n",
       "      <td>2010-07-27</td>\n",
       "      <td>25.250000</td>\n",
       "      <td>25.290001</td>\n",
       "      <td>25.200001</td>\n",
       "      <td>25.290001</td>\n",
       "      <td>8200</td>\n",
       "      <td>24.395542</td>\n",
       "    </tr>\n",
       "    <tr>\n",
       "      <th>1652</th>\n",
       "      <td>2010-07-26</td>\n",
       "      <td>25.400000</td>\n",
       "      <td>25.400000</td>\n",
       "      <td>25.219999</td>\n",
       "      <td>25.370001</td>\n",
       "      <td>18900</td>\n",
       "      <td>24.472712</td>\n",
       "    </tr>\n",
       "    <tr>\n",
       "      <th>1653</th>\n",
       "      <td>2010-07-23</td>\n",
       "      <td>25.540001</td>\n",
       "      <td>25.540001</td>\n",
       "      <td>25.080000</td>\n",
       "      <td>25.280001</td>\n",
       "      <td>8600</td>\n",
       "      <td>24.385895</td>\n",
       "    </tr>\n",
       "    <tr>\n",
       "      <th>1654</th>\n",
       "      <td>2010-07-22</td>\n",
       "      <td>25.420000</td>\n",
       "      <td>25.420000</td>\n",
       "      <td>25.129999</td>\n",
       "      <td>25.260000</td>\n",
       "      <td>17500</td>\n",
       "      <td>24.366602</td>\n",
       "    </tr>\n",
       "    <tr>\n",
       "      <th>1655</th>\n",
       "      <td>2010-07-21</td>\n",
       "      <td>25.100000</td>\n",
       "      <td>25.100000</td>\n",
       "      <td>24.700001</td>\n",
       "      <td>24.700001</td>\n",
       "      <td>42000</td>\n",
       "      <td>23.826409</td>\n",
       "    </tr>\n",
       "  </tbody>\n",
       "</table>\n",
       "<p>1656 rows × 7 columns</p>\n",
       "</div>"
      ],
      "text/plain": [
       "            Date       Open       High        Low      Close  Volume  \\\n",
       "0     2017-02-15  45.580002  45.799999  45.580002  45.779999    7800   \n",
       "1     2017-02-14  45.900002  45.900002  44.950001  45.450001   22000   \n",
       "2     2017-02-13  45.799999  45.799999  45.380001  45.619999   30300   \n",
       "3     2017-02-10  44.919998  45.270000  44.770000  45.070000    9200   \n",
       "4     2017-02-09  44.320000  44.570000  44.290001  44.330002    3400   \n",
       "5     2017-02-08  43.939999  44.369999  43.939999  44.369999    4500   \n",
       "6     2017-02-07  45.000000  45.000000  44.189999  44.220001    7400   \n",
       "7     2017-02-06  45.380001  45.380001  44.150002  44.619999    7400   \n",
       "8     2017-02-03  45.880001  45.880001  44.820000  44.959999    6200   \n",
       "9     2017-02-02  44.689999  45.080002  44.580002  45.000000   13300   \n",
       "10    2017-02-01  44.639999  44.810001  44.130001  44.459999   13300   \n",
       "11    2017-01-31  44.180000  44.360001  43.889999  44.220001    3200   \n",
       "12    2017-01-30  44.500000  44.540001  43.730000  43.939999    5000   \n",
       "13    2017-01-27  44.490002  44.500000  44.220001  44.330002    9700   \n",
       "14    2017-01-26  45.490002  45.490002  44.259998  44.470001   15400   \n",
       "15    2017-01-25  44.590000  44.849998  44.470001  44.849998   33400   \n",
       "16    2017-01-24  44.430000  44.430000  44.130001  44.130001    6500   \n",
       "17    2017-01-23  43.939999  44.509998  43.849998  44.470001   16500   \n",
       "18    2017-01-20  43.950001  43.950001  43.689999  43.709999    3300   \n",
       "19    2017-01-19  43.459999  43.509998  43.349998  43.430000    7600   \n",
       "20    2017-01-18  43.660000  43.660000  43.270000  43.450001    3900   \n",
       "21    2017-01-17  43.439999  43.770000  43.419998  43.770000    3500   \n",
       "22    2017-01-13  43.049999  43.450001  43.049999  43.419998    2300   \n",
       "23    2017-01-12  43.330002  43.389999  43.270000  43.369999    5500   \n",
       "24    2017-01-11  43.200001  43.400002  42.669998  43.400002    6700   \n",
       "25    2017-01-10  43.040001  43.040001  42.799999  42.820000    2800   \n",
       "26    2017-01-09  42.580002  42.599998  42.419998  42.419998    2100   \n",
       "27    2017-01-06  42.139999  42.400002  42.139999  42.270000    2100   \n",
       "28    2017-01-05  42.490002  42.950001  42.240002  42.410000    6200   \n",
       "29    2017-01-04  41.840000  41.959999  41.490002  41.959999    6800   \n",
       "...          ...        ...        ...        ...        ...     ...   \n",
       "1626  2010-08-31  25.299999  25.350000  25.280001  25.350000    1100   \n",
       "1627  2010-08-30  25.290001  25.290001  25.290001  25.290001     300   \n",
       "1628  2010-08-27  25.100000  25.260000  24.950001  25.260000   10300   \n",
       "1629  2010-08-26  25.120001  25.150000  25.000000  25.000000    7500   \n",
       "1630  2010-08-25  24.850000  24.870001  24.850000  24.870001     700   \n",
       "1631  2010-08-24  24.900000  24.959999  24.900000  24.959999    3800   \n",
       "1632  2010-08-23  25.330000  25.330000  25.330000  25.330000     200   \n",
       "1633  2010-08-20  25.309999  25.309999  25.290001  25.299999    1200   \n",
       "1634  2010-08-19  25.750000  25.750000  25.750000  25.750000     500   \n",
       "1635  2010-08-18  25.799999  25.900000  25.799999  25.900000     600   \n",
       "1636  2010-08-17  25.570000  25.750000  25.570000  25.750000    6500   \n",
       "1637  2010-08-16  25.280001  25.280001  25.240000  25.240000    3000   \n",
       "1638  2010-08-13  25.170000  25.170000  25.170000  25.170000     100   \n",
       "1639  2010-08-12  25.040001  25.040001  25.040001  25.040001    1000   \n",
       "1640  2010-08-11  25.170000  25.170000  25.170000  25.170000     100   \n",
       "1641  2010-08-10  26.080000  26.080000  26.080000  26.080000     500   \n",
       "1642  2010-08-09  26.000000  26.230000  26.000000  26.059999    5500   \n",
       "1643  2010-08-06  25.309999  25.709999  25.309999  25.709999     700   \n",
       "1644  2010-08-05  25.910000  25.910000  25.910000  25.910000     500   \n",
       "1645  2010-08-04  25.860001  25.860001  25.860001  25.860001     500   \n",
       "1646  2010-08-03  25.750000  25.860001  25.750000  25.830000   11200   \n",
       "1647  2010-08-02  25.700001  25.709999  25.440001  25.620001    7000   \n",
       "1648  2010-07-30  24.990000  25.100000  24.990000  25.100000     600   \n",
       "1649  2010-07-29  25.299999  25.299999  25.020000  25.020000    1200   \n",
       "1650  2010-07-28  25.250000  25.290001  25.120001  25.200001    4900   \n",
       "1651  2010-07-27  25.250000  25.290001  25.200001  25.290001    8200   \n",
       "1652  2010-07-26  25.400000  25.400000  25.219999  25.370001   18900   \n",
       "1653  2010-07-23  25.540001  25.540001  25.080000  25.280001    8600   \n",
       "1654  2010-07-22  25.420000  25.420000  25.129999  25.260000   17500   \n",
       "1655  2010-07-21  25.100000  25.100000  24.700001  24.700001   42000   \n",
       "\n",
       "      Adj Close  \n",
       "0     45.779999  \n",
       "1     45.450001  \n",
       "2     45.619999  \n",
       "3     45.070000  \n",
       "4     44.330002  \n",
       "5     44.369999  \n",
       "6     44.220001  \n",
       "7     44.619999  \n",
       "8     44.959999  \n",
       "9     45.000000  \n",
       "10    44.459999  \n",
       "11    44.220001  \n",
       "12    43.939999  \n",
       "13    44.330002  \n",
       "14    44.470001  \n",
       "15    44.849998  \n",
       "16    44.130001  \n",
       "17    44.470001  \n",
       "18    43.709999  \n",
       "19    43.430000  \n",
       "20    43.450001  \n",
       "21    43.770000  \n",
       "22    43.419998  \n",
       "23    43.369999  \n",
       "24    43.400002  \n",
       "25    42.820000  \n",
       "26    42.419998  \n",
       "27    42.270000  \n",
       "28    42.410000  \n",
       "29    41.959999  \n",
       "...         ...  \n",
       "1626  24.453419  \n",
       "1627  24.395542  \n",
       "1628  24.366602  \n",
       "1629  24.115798  \n",
       "1630  23.990397  \n",
       "1631  24.077212  \n",
       "1632  24.434126  \n",
       "1633  24.405187  \n",
       "1634  24.839272  \n",
       "1635  24.983966  \n",
       "1636  24.839272  \n",
       "1637  24.347309  \n",
       "1638  24.279785  \n",
       "1639  24.154384  \n",
       "1640  24.279785  \n",
       "1641  25.157600  \n",
       "1642  25.138307  \n",
       "1643  24.800686  \n",
       "1644  24.993613  \n",
       "1645  24.945382  \n",
       "1646  24.916442  \n",
       "1647  24.713870  \n",
       "1648  24.212261  \n",
       "1649  24.135091  \n",
       "1650  24.308725  \n",
       "1651  24.395542  \n",
       "1652  24.472712  \n",
       "1653  24.385895  \n",
       "1654  24.366602  \n",
       "1655  23.826409  \n",
       "\n",
       "[1656 rows x 7 columns]"
      ]
     },
     "execution_count": 3,
     "metadata": {},
     "output_type": "execute_result"
    }
   ],
   "source": [
    "df"
   ]
  },
  {
   "cell_type": "code",
   "execution_count": 4,
   "metadata": {
    "collapsed": true
   },
   "outputs": [],
   "source": [
    "def to_np_array(df):\n",
    "    return np.array(list(reversed(df))).reshape(len(list(reversed(df))), 1)"
   ]
  },
  {
   "cell_type": "code",
   "execution_count": 5,
   "metadata": {
    "collapsed": true
   },
   "outputs": [],
   "source": [
    "Open     = to_np_array(df['Open'])\n",
    "High     = to_np_array(df['High'])\n",
    "Low      = to_np_array(df['Low'])\n",
    "Close    = to_np_array(df['Close'])\n",
    "Volume    = to_np_array(df['Volume'])\n",
    "AdjClose = to_np_array(df['Adj Close'])"
   ]
  },
  {
   "cell_type": "code",
   "execution_count": 6,
   "metadata": {},
   "outputs": [
    {
     "data": {
      "text/plain": [
       "(1656, 1)"
      ]
     },
     "execution_count": 6,
     "metadata": {},
     "output_type": "execute_result"
    }
   ],
   "source": [
    "Open.shape"
   ]
  },
  {
   "cell_type": "code",
   "execution_count": 7,
   "metadata": {},
   "outputs": [
    {
     "data": {
      "text/plain": [
       "[<matplotlib.lines.Line2D at 0x7fb0045dc390>]"
      ]
     },
     "execution_count": 7,
     "metadata": {},
     "output_type": "execute_result"
    },
    {
     "data": {
      "image/png": "[encoded data removed]",
      "text/plain": [
       "<matplotlib.figure.Figure at 0x7fb004712cc0>"
      ]
     },
     "metadata": {},
     "output_type": "display_data"
    }
   ],
   "source": [
    "plt.plot(Open)\n",
    "plt.plot(High)\n",
    "plt.plot(Low)\n",
    "plt.plot(Close)\n",
    "plt.plot(AdjClose)"
   ]
  },
  {
   "cell_type": "code",
   "execution_count": 8,
   "metadata": {},
   "outputs": [
    {
     "data": {
      "text/plain": [
       "(1656, 1)"
      ]
     },
     "execution_count": 8,
     "metadata": {},
     "output_type": "execute_result"
    }
   ],
   "source": [
    "Open.shape"
   ]
  },
  {
   "cell_type": "code",
   "execution_count": 9,
   "metadata": {
    "collapsed": true,
    "scrolled": true
   },
   "outputs": [],
   "source": [
    "d = np.concatenate((Open, High, Low, Close, AdjClose), axis=1)"
   ]
  },
  {
   "cell_type": "code",
   "execution_count": 10,
   "metadata": {},
   "outputs": [
    {
     "data": {
      "text/plain": [
       "(1, 5)"
      ]
     },
     "execution_count": 10,
     "metadata": {},
     "output_type": "execute_result"
    }
   ],
   "source": [
    "d[:1].shape"
   ]
  },
  {
   "cell_type": "code",
   "execution_count": 11,
   "metadata": {
    "collapsed": true
   },
   "outputs": [],
   "source": [
    "d_change = []\n",
    "for i in range(len(d)-1):\n",
    "    d_change.append((d[i+1]-d[i])/d[i])\n",
    "d_change = np.array(d_change)"
   ]
  },
  {
   "cell_type": "code",
   "execution_count": 12,
   "metadata": {},
   "outputs": [
    {
     "data": {
      "text/plain": [
       "(1655, 5)"
      ]
     },
     "execution_count": 12,
     "metadata": {},
     "output_type": "execute_result"
    }
   ],
   "source": [
    "d_change.shape"
   ]
  },
  {
   "cell_type": "code",
   "execution_count": 13,
   "metadata": {
    "collapsed": true
   },
   "outputs": [],
   "source": [
    "data = np.concatenate((d[1:], d_change, Volume[1:]), axis=1)"
   ]
  },
  {
   "cell_type": "code",
   "execution_count": 14,
   "metadata": {},
   "outputs": [
    {
     "data": {
      "text/plain": [
       "(1655, 11)"
      ]
     },
     "execution_count": 14,
     "metadata": {},
     "output_type": "execute_result"
    }
   ],
   "source": [
    "data.shape"
   ]
  },
  {
   "cell_type": "code",
   "execution_count": 15,
   "metadata": {
    "collapsed": true
   },
   "outputs": [],
   "source": [
    "X = []\n",
    "Y = []\n",
    "for index in range(data.shape[0]-21):\n",
    "    X.append(data[index:index+20])\n",
    "    Y.append(data[index+21][9])\n",
    "x = np.array(X)\n",
    "y = np.array(Y)"
   ]
  },
  {
   "cell_type": "code",
   "execution_count": 16,
   "metadata": {},
   "outputs": [
    {
     "data": {
      "text/plain": [
       "(1634, 20, 11)"
      ]
     },
     "execution_count": 16,
     "metadata": {},
     "output_type": "execute_result"
    }
   ],
   "source": [
    "x.shape # 1634 筆資料 and 每一筆資料都是一個2維陣列"
   ]
  },
  {
   "cell_type": "code",
   "execution_count": 17,
   "metadata": {},
   "outputs": [
    {
     "data": {
      "text/plain": [
       "(1634,)"
      ]
     },
     "execution_count": 17,
     "metadata": {},
     "output_type": "execute_result"
    }
   ],
   "source": [
    "y.shape # 輸出為一維"
   ]
  },
  {
   "cell_type": "code",
   "execution_count": 18,
   "metadata": {
    "collapsed": true
   },
   "outputs": [],
   "source": [
    "y = y.reshape(y.shape[0],1)"
   ]
  },
  {
   "cell_type": "code",
   "execution_count": 19,
   "metadata": {},
   "outputs": [
    {
     "data": {
      "text/plain": [
       "(1634, 1)"
      ]
     },
     "execution_count": 19,
     "metadata": {},
     "output_type": "execute_result"
    }
   ],
   "source": [
    "y.shape"
   ]
  },
  {
   "cell_type": "code",
   "execution_count": 20,
   "metadata": {
    "collapsed": true
   },
   "outputs": [],
   "source": [
    "x_train = x[0:1300]\n",
    "y_train = y[0:1300]\n",
    "x_test  = x[1300:1635]\n",
    "y_test  = y[1300:1635]"
   ]
  },
  {
   "cell_type": "code",
   "execution_count": 21,
   "metadata": {},
   "outputs": [
    {
     "data": {
      "text/plain": [
       "(1300, 20, 11)"
      ]
     },
     "execution_count": 21,
     "metadata": {},
     "output_type": "execute_result"
    }
   ],
   "source": [
    "x_train.shape"
   ]
  },
  {
   "cell_type": "code",
   "execution_count": 22,
   "metadata": {},
   "outputs": [
    {
     "data": {
      "text/plain": [
       "(1300, 1)"
      ]
     },
     "execution_count": 22,
     "metadata": {},
     "output_type": "execute_result"
    }
   ],
   "source": [
    "y_train.shape"
   ]
  },
  {
   "cell_type": "code",
   "execution_count": 23,
   "metadata": {},
   "outputs": [
    {
     "data": {
      "text/plain": [
       "(334, 20, 11)"
      ]
     },
     "execution_count": 23,
     "metadata": {},
     "output_type": "execute_result"
    }
   ],
   "source": [
    "x_test.shape"
   ]
  },
  {
   "cell_type": "code",
   "execution_count": 24,
   "metadata": {},
   "outputs": [
    {
     "data": {
      "text/plain": [
       "(334, 1)"
      ]
     },
     "execution_count": 24,
     "metadata": {},
     "output_type": "execute_result"
    }
   ],
   "source": [
    "y_test.shape"
   ]
  },
  {
   "cell_type": "code",
   "execution_count": 25,
   "metadata": {},
   "outputs": [
    {
     "name": "stderr",
     "output_type": "stream",
     "text": [
      "Using TensorFlow backend.\n"
     ]
    }
   ],
   "source": [
    "from keras.utils import np_utils # one-hot embedding\n",
    "from keras.models import Sequential # Sequential\n",
    "from keras.layers import Dense, Activation, Flatten\n",
    "from keras.optimizers import SGD "
   ]
  },
  {
   "cell_type": "code",
   "execution_count": 26,
   "metadata": {
    "collapsed": true
   },
   "outputs": [],
   "source": [
    "import os\n",
    "os.environ['CUDA_VISIBLE_DEVICES'] = '0'"
   ]
  },
  {
   "cell_type": "code",
   "execution_count": 27,
   "metadata": {
    "collapsed": true
   },
   "outputs": [],
   "source": [
    "import tensorflow as tf\n",
    "from keras import backend as K\n",
    "config = tf.ConfigProto()\n",
    "config.gpu_options.allow_growth=True\n",
    "sess = tf.Session(config=config)\n",
    "K.set_session(sess)"
   ]
  },
  {
   "cell_type": "code",
   "execution_count": 28,
   "metadata": {},
   "outputs": [
    {
     "name": "stdout",
     "output_type": "stream",
     "text": [
      "_________________________________________________________________\n",
      "Layer (type)                 Output Shape              Param #   \n",
      "=================================================================\n",
      "dense_1 (Dense)              (None, 20, 2000)          24000     \n",
      "_________________________________________________________________\n",
      "activation_1 (Activation)    (None, 20, 2000)          0         \n",
      "_________________________________________________________________\n",
      "dense_2 (Dense)              (None, 20, 100)           200100    \n",
      "_________________________________________________________________\n",
      "activation_2 (Activation)    (None, 20, 100)           0         \n",
      "_________________________________________________________________\n",
      "flatten_1 (Flatten)          (None, 2000)              0         \n",
      "_________________________________________________________________\n",
      "dense_3 (Dense)              (None, 100)               200100    \n",
      "_________________________________________________________________\n",
      "activation_3 (Activation)    (None, 100)               0         \n",
      "_________________________________________________________________\n",
      "dense_4 (Dense)              (None, 1)                 101       \n",
      "_________________________________________________________________\n",
      "activation_4 (Activation)    (None, 1)                 0         \n",
      "=================================================================\n",
      "Total params: 424,301.0\n",
      "Trainable params: 424,301.0\n",
      "Non-trainable params: 0.0\n",
      "_________________________________________________________________\n"
     ]
    }
   ],
   "source": [
    "model_etf = Sequential()\n",
    "model_etf.add(Dense(2000, input_shape=(20,11) ) )\n",
    "model_etf.add(Activation('relu'))\n",
    "model_etf.add(Dense(100))\n",
    "model_etf.add(Activation('relu'))\n",
    "model_etf.add(Flatten())\n",
    "model_etf.add(Dense(100))\n",
    "model_etf.add(Activation('relu'))\n",
    "model_etf.add(Dense(1))\n",
    "model_etf.add(Activation('softmax'))\n",
    "model_etf.summary()\n",
    "model_etf.compile(loss='binary_crossentropy', optimizer='SGD')"
   ]
  },
  {
   "cell_type": "code",
   "execution_count": 29,
   "metadata": {},
   "outputs": [
    {
     "name": "stdout",
     "output_type": "stream",
     "text": [
      "Epoch 1/10\n",
      "1300/1300 [==============================] - 1s - loss: 15.9362     \n",
      "Epoch 2/10\n",
      "1300/1300 [==============================] - 0s - loss: 15.9362     \n",
      "Epoch 3/10\n",
      "1300/1300 [==============================] - 0s - loss: 15.9362     \n",
      "Epoch 4/10\n",
      "1300/1300 [==============================] - 0s - loss: 15.9362     \n",
      "Epoch 5/10\n",
      "1300/1300 [==============================] - 0s - loss: 15.9362     \n",
      "Epoch 6/10\n",
      "1300/1300 [==============================] - 0s - loss: 15.9362     \n",
      "Epoch 7/10\n",
      "1300/1300 [==============================] - 0s - loss: 15.9362     \n",
      "Epoch 8/10\n",
      "1300/1300 [==============================] - 0s - loss: 15.9362     \n",
      "Epoch 9/10\n",
      "1300/1300 [==============================] - 0s - loss: 15.9362     \n",
      "Epoch 10/10\n",
      "1300/1300 [==============================] - 0s - loss: 15.9362     \n"
     ]
    },
    {
     "data": {
      "text/plain": [
       "<keras.callbacks.History at 0x7faf8c31bd68>"
      ]
     },
     "execution_count": 29,
     "metadata": {},
     "output_type": "execute_result"
    }
   ],
   "source": [
    "model_etf.fit(x_train, y_train)"
   ]
  },
  {
   "cell_type": "markdown",
   "metadata": {},
   "source": [
    "# 作業二：盡量調整你的模型數值，看看能不能改進他"
   ]
  },
  {
   "cell_type": "code",
   "execution_count": null,
   "metadata": {
    "collapsed": true
   },
   "outputs": [],
   "source": []
  },
  {
   "cell_type": "code",
   "execution_count": null,
   "metadata": {
    "collapsed": true
   },
   "outputs": [],
   "source": []
  },
  {
   "cell_type": "code",
   "execution_count": null,
   "metadata": {
    "collapsed": true
   },
   "outputs": [],
   "source": []
  }
 ],
 "metadata": {
  "kernelspec": {
   "display_name": "Python 3",
   "language": "python",
   "name": "python3"
  },
  "language_info": {
   "codemirror_mode": {
    "name": "ipython",
    "version": 3
   },
   "file_extension": ".py",
   "mimetype": "text/x-python",
   "name": "python",
   "nbconvert_exporter": "python",
   "pygments_lexer": "ipython3",
   "version": "3.6.1"
  }
 },
 "nbformat": 4,
 "nbformat_minor": 2
}
