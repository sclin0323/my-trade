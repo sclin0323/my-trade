{
 "cells": [
  {
   "cell_type": "code",
   "execution_count": 1,
   "metadata": {},
   "outputs": [
    {
     "name": "stdout",
     "output_type": "stream",
     "text": [
      "Populating the interactive namespace from numpy and matplotlib\n"
     ]
    },
    {
     "name": "stderr",
     "output_type": "stream",
     "text": [
      "Using TensorFlow backend.\n"
     ]
    }
   ],
   "source": [
    "%pylab inline\n",
    "import random\n",
    "import pandas as pd\n",
    "import numpy as np\n",
    "import keras\n",
    "from keras.models import Sequential\n",
    "from keras.layers import Dense\n",
    "from keras.layers import Dropout\n",
    "from keras.utils import np_utils\n",
    "import matplotlib.pyplot as plt\n",
    "from sklearn.model_selection import train_test_split\n",
    "from sklearn.preprocessing import StandardScaler\n",
    "from sklearn.svm import SVC\n",
    "from sklearn.metrics import confusion_matrix\n",
    "from sklearn.metrics import auc\n",
    "from sklearn.metrics import roc_curve\n",
    "from sklearn.tree import DecisionTreeClassifier\n",
    "from sklearn.svm import SVC\n",
    "from sklearn.linear_model import LogisticRegression\n",
    "from sklearn.ensemble import RandomForestClassifier"
   ]
  },
  {
   "cell_type": "code",
   "execution_count": 2,
   "metadata": {
    "collapsed": true
   },
   "outputs": [],
   "source": [
    "df = pd.read_excel('data.xlsx', sheetname=\"Data\")"
   ]
  },
  {
   "cell_type": "code",
   "execution_count": 3,
   "metadata": {},
   "outputs": [
    {
     "data": {
      "text/plain": [
       "(4084, 41)"
      ]
     },
     "execution_count": 3,
     "metadata": {},
     "output_type": "execute_result"
    }
   ],
   "source": [
    "df.shape"
   ]
  },
  {
   "cell_type": "code",
   "execution_count": 4,
   "metadata": {
    "collapsed": true
   },
   "outputs": [],
   "source": [
    "# 去頭去尾\n",
    "df = df.iloc[50:-5:,:] "
   ]
  },
  {
   "cell_type": "code",
   "execution_count": 5,
   "metadata": {},
   "outputs": [
    {
     "data": {
      "text/plain": [
       "(4029, 41)"
      ]
     },
     "execution_count": 5,
     "metadata": {},
     "output_type": "execute_result"
    }
   ],
   "source": [
    "df.shape"
   ]
  },
  {
   "cell_type": "code",
   "execution_count": 6,
   "metadata": {
    "collapsed": true
   },
   "outputs": [],
   "source": [
    "df.B1[df.B1 == 0] = 1 \n",
    "df.B2[df.B2 == 0] = 1 \n",
    "df.B3[df.B3 == 0] = 1 \n",
    "df.C1[df.C1 == 0] = 1 \n",
    "df.C2[df.C2 == 0] = 1 \n",
    "df.C3[df.C3 == 0] = 1 \n",
    "df.D4[df.D4 == 0] = 1 \n",
    "df.D5[df.D5 == 0] = 1 \n",
    "df.D6[df.D6 == 0] = 1 \n",
    "df.D7[df.D7 == 0] = 1 \n",
    "df.D8[df.D8 == 0] = 1 \n",
    "df.D9[df.D9 == 0] = 1 \n",
    "df.D10[df.D10 == 0] = 1 \n",
    "df.D11[df.D11 == 0] = 1 \n",
    "df.D12[df.D12 == 0] = 1 \n",
    "df.D13[df.D13 == 0] = 1 \n",
    "df.D14[df.D14 == 0] = 1 \n",
    "df.D15[df.D15 == 0] = 1 \n",
    "df.D16[df.D16 == 0] = 1 \n",
    "df.D17[df.D17 == 0] = 1 \n",
    "df.D18[df.D18 == 0] = 1 \n",
    "df.D19[df.D19 == 0] = 1 "
   ]
  },
  {
   "cell_type": "code",
   "execution_count": 7,
   "metadata": {},
   "outputs": [
    {
     "data": {
      "text/html": [
       "<div>\n",
       "<style>\n",
       "    .dataframe thead tr:only-child th {\n",
       "        text-align: right;\n",
       "    }\n",
       "\n",
       "    .dataframe thead th {\n",
       "        text-align: left;\n",
       "    }\n",
       "\n",
       "    .dataframe tbody tr th {\n",
       "        vertical-align: top;\n",
       "    }\n",
       "</style>\n",
       "<table border=\"1\" class=\"dataframe\">\n",
       "  <thead>\n",
       "    <tr style=\"text-align: right;\">\n",
       "      <th></th>\n",
       "      <th>A0</th>\n",
       "      <th>A1</th>\n",
       "      <th>A2</th>\n",
       "      <th>A3</th>\n",
       "      <th>A4</th>\n",
       "      <th>A5</th>\n",
       "      <th>B0</th>\n",
       "      <th>B1</th>\n",
       "      <th>B2</th>\n",
       "      <th>B3</th>\n",
       "      <th>...</th>\n",
       "      <th>D15</th>\n",
       "      <th>D16</th>\n",
       "      <th>D17</th>\n",
       "      <th>D18</th>\n",
       "      <th>D19</th>\n",
       "      <th>D20</th>\n",
       "      <th>D21</th>\n",
       "      <th>D22</th>\n",
       "      <th>Y</th>\n",
       "      <th>Y002</th>\n",
       "    </tr>\n",
       "  </thead>\n",
       "  <tbody>\n",
       "    <tr>\n",
       "      <th>50</th>\n",
       "      <td>2001-09-13</td>\n",
       "      <td>-25.9342</td>\n",
       "      <td>-8.6923</td>\n",
       "      <td>-126.0995</td>\n",
       "      <td>-126.0995</td>\n",
       "      <td>-128.883193</td>\n",
       "      <td>2001-09-13</td>\n",
       "      <td>-1</td>\n",
       "      <td>-1</td>\n",
       "      <td>-1</td>\n",
       "      <td>...</td>\n",
       "      <td>-1</td>\n",
       "      <td>-1</td>\n",
       "      <td>-1</td>\n",
       "      <td>1</td>\n",
       "      <td>-1</td>\n",
       "      <td>3862</td>\n",
       "      <td>-352</td>\n",
       "      <td>-9.114448</td>\n",
       "      <td>0</td>\n",
       "      <td>1</td>\n",
       "    </tr>\n",
       "    <tr>\n",
       "      <th>51</th>\n",
       "      <td>2001-09-14</td>\n",
       "      <td>-23.1736</td>\n",
       "      <td>-28.2595</td>\n",
       "      <td>-186.3750</td>\n",
       "      <td>-186.3750</td>\n",
       "      <td>-110.080700</td>\n",
       "      <td>2001-09-14</td>\n",
       "      <td>-1</td>\n",
       "      <td>-1</td>\n",
       "      <td>-1</td>\n",
       "      <td>...</td>\n",
       "      <td>-1</td>\n",
       "      <td>-1</td>\n",
       "      <td>-1</td>\n",
       "      <td>-1</td>\n",
       "      <td>1</td>\n",
       "      <td>3705</td>\n",
       "      <td>-275</td>\n",
       "      <td>-7.422402</td>\n",
       "      <td>0</td>\n",
       "      <td>1</td>\n",
       "    </tr>\n",
       "    <tr>\n",
       "      <th>52</th>\n",
       "      <td>2001-09-19</td>\n",
       "      <td>-43.7900</td>\n",
       "      <td>-30.6478</td>\n",
       "      <td>-232.9197</td>\n",
       "      <td>-232.9197</td>\n",
       "      <td>-113.004687</td>\n",
       "      <td>2001-09-19</td>\n",
       "      <td>-1</td>\n",
       "      <td>-1</td>\n",
       "      <td>-1</td>\n",
       "      <td>...</td>\n",
       "      <td>-1</td>\n",
       "      <td>-1</td>\n",
       "      <td>-1</td>\n",
       "      <td>-1</td>\n",
       "      <td>1</td>\n",
       "      <td>3737</td>\n",
       "      <td>-112</td>\n",
       "      <td>-2.997056</td>\n",
       "      <td>0</td>\n",
       "      <td>1</td>\n",
       "    </tr>\n",
       "    <tr>\n",
       "      <th>53</th>\n",
       "      <td>2001-09-20</td>\n",
       "      <td>-49.2397</td>\n",
       "      <td>-36.7817</td>\n",
       "      <td>-269.4316</td>\n",
       "      <td>-269.4316</td>\n",
       "      <td>-98.204920</td>\n",
       "      <td>2001-09-20</td>\n",
       "      <td>-1</td>\n",
       "      <td>-1</td>\n",
       "      <td>-1</td>\n",
       "      <td>...</td>\n",
       "      <td>-1</td>\n",
       "      <td>-1</td>\n",
       "      <td>-1</td>\n",
       "      <td>-1</td>\n",
       "      <td>-1</td>\n",
       "      <td>3551</td>\n",
       "      <td>9</td>\n",
       "      <td>0.253450</td>\n",
       "      <td>0</td>\n",
       "      <td>0</td>\n",
       "    </tr>\n",
       "    <tr>\n",
       "      <th>54</th>\n",
       "      <td>2001-09-21</td>\n",
       "      <td>-58.1960</td>\n",
       "      <td>-44.3840</td>\n",
       "      <td>-281.9937</td>\n",
       "      <td>-281.9937</td>\n",
       "      <td>-121.947560</td>\n",
       "      <td>2001-09-21</td>\n",
       "      <td>-1</td>\n",
       "      <td>-1</td>\n",
       "      <td>-1</td>\n",
       "      <td>...</td>\n",
       "      <td>-1</td>\n",
       "      <td>-1</td>\n",
       "      <td>-1</td>\n",
       "      <td>-1</td>\n",
       "      <td>1</td>\n",
       "      <td>3427</td>\n",
       "      <td>189</td>\n",
       "      <td>5.515028</td>\n",
       "      <td>1</td>\n",
       "      <td>2</td>\n",
       "    </tr>\n",
       "  </tbody>\n",
       "</table>\n",
       "<p>5 rows × 41 columns</p>\n",
       "</div>"
      ],
      "text/plain": [
       "           A0       A1       A2        A3        A4          A5         B0  \\\n",
       "50 2001-09-13 -25.9342  -8.6923 -126.0995 -126.0995 -128.883193 2001-09-13   \n",
       "51 2001-09-14 -23.1736 -28.2595 -186.3750 -186.3750 -110.080700 2001-09-14   \n",
       "52 2001-09-19 -43.7900 -30.6478 -232.9197 -232.9197 -113.004687 2001-09-19   \n",
       "53 2001-09-20 -49.2397 -36.7817 -269.4316 -269.4316  -98.204920 2001-09-20   \n",
       "54 2001-09-21 -58.1960 -44.3840 -281.9937 -281.9937 -121.947560 2001-09-21   \n",
       "\n",
       "    B1  B2  B3  ...   D15 D16  D17  D18  D19   D20  D21       D22  Y  Y002  \n",
       "50  -1  -1  -1  ...    -1  -1   -1    1   -1  3862 -352 -9.114448  0     1  \n",
       "51  -1  -1  -1  ...    -1  -1   -1   -1    1  3705 -275 -7.422402  0     1  \n",
       "52  -1  -1  -1  ...    -1  -1   -1   -1    1  3737 -112 -2.997056  0     1  \n",
       "53  -1  -1  -1  ...    -1  -1   -1   -1   -1  3551    9  0.253450  0     0  \n",
       "54  -1  -1  -1  ...    -1  -1   -1   -1    1  3427  189  5.515028  1     2  \n",
       "\n",
       "[5 rows x 41 columns]"
      ]
     },
     "execution_count": 7,
     "metadata": {},
     "output_type": "execute_result"
    }
   ],
   "source": [
    "df.head()"
   ]
  },
  {
   "cell_type": "markdown",
   "metadata": {},
   "source": [
    "## 訓練資料 and 測試資料"
   ]
  },
  {
   "cell_type": "code",
   "execution_count": 8,
   "metadata": {
    "collapsed": true
   },
   "outputs": [],
   "source": [
    "pd.value_counts(df['Y'].values, sort=False)\n",
    "y = df['Y']"
   ]
  },
  {
   "cell_type": "code",
   "execution_count": 9,
   "metadata": {},
   "outputs": [
    {
     "data": {
      "text/html": [
       "<div>\n",
       "<style>\n",
       "    .dataframe thead tr:only-child th {\n",
       "        text-align: right;\n",
       "    }\n",
       "\n",
       "    .dataframe thead th {\n",
       "        text-align: left;\n",
       "    }\n",
       "\n",
       "    .dataframe tbody tr th {\n",
       "        vertical-align: top;\n",
       "    }\n",
       "</style>\n",
       "<table border=\"1\" class=\"dataframe\">\n",
       "  <thead>\n",
       "    <tr style=\"text-align: right;\">\n",
       "      <th></th>\n",
       "      <th>A1</th>\n",
       "      <th>A2</th>\n",
       "      <th>A3</th>\n",
       "      <th>A4</th>\n",
       "      <th>A5</th>\n",
       "      <th>B1</th>\n",
       "      <th>B2</th>\n",
       "      <th>B3</th>\n",
       "      <th>B4</th>\n",
       "      <th>C1</th>\n",
       "      <th>...</th>\n",
       "      <th>D10</th>\n",
       "      <th>D11</th>\n",
       "      <th>D12</th>\n",
       "      <th>D13</th>\n",
       "      <th>D14</th>\n",
       "      <th>D15</th>\n",
       "      <th>D16</th>\n",
       "      <th>D17</th>\n",
       "      <th>D18</th>\n",
       "      <th>D19</th>\n",
       "    </tr>\n",
       "  </thead>\n",
       "  <tbody>\n",
       "    <tr>\n",
       "      <th>50</th>\n",
       "      <td>-25.9342</td>\n",
       "      <td>-8.6923</td>\n",
       "      <td>-126.0995</td>\n",
       "      <td>-126.0995</td>\n",
       "      <td>-128.883193</td>\n",
       "      <td>-1</td>\n",
       "      <td>-1</td>\n",
       "      <td>-1</td>\n",
       "      <td>44462</td>\n",
       "      <td>-1</td>\n",
       "      <td>...</td>\n",
       "      <td>-1</td>\n",
       "      <td>1</td>\n",
       "      <td>-1</td>\n",
       "      <td>-1</td>\n",
       "      <td>-1</td>\n",
       "      <td>-1</td>\n",
       "      <td>-1</td>\n",
       "      <td>-1</td>\n",
       "      <td>1</td>\n",
       "      <td>-1</td>\n",
       "    </tr>\n",
       "    <tr>\n",
       "      <th>51</th>\n",
       "      <td>-23.1736</td>\n",
       "      <td>-28.2595</td>\n",
       "      <td>-186.3750</td>\n",
       "      <td>-186.3750</td>\n",
       "      <td>-110.080700</td>\n",
       "      <td>-1</td>\n",
       "      <td>-1</td>\n",
       "      <td>-1</td>\n",
       "      <td>39845</td>\n",
       "      <td>-1</td>\n",
       "      <td>...</td>\n",
       "      <td>-1</td>\n",
       "      <td>1</td>\n",
       "      <td>-1</td>\n",
       "      <td>-1</td>\n",
       "      <td>-1</td>\n",
       "      <td>-1</td>\n",
       "      <td>-1</td>\n",
       "      <td>-1</td>\n",
       "      <td>-1</td>\n",
       "      <td>1</td>\n",
       "    </tr>\n",
       "    <tr>\n",
       "      <th>52</th>\n",
       "      <td>-43.7900</td>\n",
       "      <td>-30.6478</td>\n",
       "      <td>-232.9197</td>\n",
       "      <td>-232.9197</td>\n",
       "      <td>-113.004687</td>\n",
       "      <td>-1</td>\n",
       "      <td>-1</td>\n",
       "      <td>-1</td>\n",
       "      <td>36702</td>\n",
       "      <td>-1</td>\n",
       "      <td>...</td>\n",
       "      <td>-1</td>\n",
       "      <td>-1</td>\n",
       "      <td>-1</td>\n",
       "      <td>-1</td>\n",
       "      <td>-1</td>\n",
       "      <td>-1</td>\n",
       "      <td>-1</td>\n",
       "      <td>-1</td>\n",
       "      <td>-1</td>\n",
       "      <td>1</td>\n",
       "    </tr>\n",
       "    <tr>\n",
       "      <th>53</th>\n",
       "      <td>-49.2397</td>\n",
       "      <td>-36.7817</td>\n",
       "      <td>-269.4316</td>\n",
       "      <td>-269.4316</td>\n",
       "      <td>-98.204920</td>\n",
       "      <td>-1</td>\n",
       "      <td>-1</td>\n",
       "      <td>-1</td>\n",
       "      <td>26122</td>\n",
       "      <td>-1</td>\n",
       "      <td>...</td>\n",
       "      <td>-1</td>\n",
       "      <td>-1</td>\n",
       "      <td>-1</td>\n",
       "      <td>-1</td>\n",
       "      <td>-1</td>\n",
       "      <td>-1</td>\n",
       "      <td>-1</td>\n",
       "      <td>-1</td>\n",
       "      <td>-1</td>\n",
       "      <td>-1</td>\n",
       "    </tr>\n",
       "    <tr>\n",
       "      <th>54</th>\n",
       "      <td>-58.1960</td>\n",
       "      <td>-44.3840</td>\n",
       "      <td>-281.9937</td>\n",
       "      <td>-281.9937</td>\n",
       "      <td>-121.947560</td>\n",
       "      <td>-1</td>\n",
       "      <td>-1</td>\n",
       "      <td>-1</td>\n",
       "      <td>13168</td>\n",
       "      <td>-1</td>\n",
       "      <td>...</td>\n",
       "      <td>-1</td>\n",
       "      <td>1</td>\n",
       "      <td>-1</td>\n",
       "      <td>-1</td>\n",
       "      <td>-1</td>\n",
       "      <td>-1</td>\n",
       "      <td>-1</td>\n",
       "      <td>-1</td>\n",
       "      <td>-1</td>\n",
       "      <td>1</td>\n",
       "    </tr>\n",
       "  </tbody>\n",
       "</table>\n",
       "<p>5 rows × 32 columns</p>\n",
       "</div>"
      ],
      "text/plain": [
       "         A1       A2        A3        A4          A5  B1  B2  B3     B4  C1  \\\n",
       "50 -25.9342  -8.6923 -126.0995 -126.0995 -128.883193  -1  -1  -1  44462  -1   \n",
       "51 -23.1736 -28.2595 -186.3750 -186.3750 -110.080700  -1  -1  -1  39845  -1   \n",
       "52 -43.7900 -30.6478 -232.9197 -232.9197 -113.004687  -1  -1  -1  36702  -1   \n",
       "53 -49.2397 -36.7817 -269.4316 -269.4316  -98.204920  -1  -1  -1  26122  -1   \n",
       "54 -58.1960 -44.3840 -281.9937 -281.9937 -121.947560  -1  -1  -1  13168  -1   \n",
       "\n",
       "   ...   D10  D11  D12  D13  D14  D15  D16  D17  D18  D19  \n",
       "50 ...    -1    1   -1   -1   -1   -1   -1   -1    1   -1  \n",
       "51 ...    -1    1   -1   -1   -1   -1   -1   -1   -1    1  \n",
       "52 ...    -1   -1   -1   -1   -1   -1   -1   -1   -1    1  \n",
       "53 ...    -1   -1   -1   -1   -1   -1   -1   -1   -1   -1  \n",
       "54 ...    -1    1   -1   -1   -1   -1   -1   -1   -1    1  \n",
       "\n",
       "[5 rows x 32 columns]"
      ]
     },
     "execution_count": 9,
     "metadata": {},
     "output_type": "execute_result"
    }
   ],
   "source": [
    "X = df.drop(['Y','Y002','A0','B0','C0','D0','D20','D21','D22'], 1)\n",
    "X.head()"
   ]
  },
  {
   "cell_type": "code",
   "execution_count": 10,
   "metadata": {},
   "outputs": [
    {
     "data": {
      "text/plain": [
       "Index(['A1', 'A2', 'A3', 'A4', 'A5', 'B1', 'B2', 'B3', 'B4', 'C1', 'C2', 'C3',\n",
       "       'C4', 'D1', 'D2', 'D3', 'D4', 'D5', 'D6', 'D7', 'D8', 'D9', 'D10',\n",
       "       'D11', 'D12', 'D13', 'D14', 'D15', 'D16', 'D17', 'D18', 'D19'],\n",
       "      dtype='object')"
      ]
     },
     "execution_count": 10,
     "metadata": {},
     "output_type": "execute_result"
    }
   ],
   "source": [
    "X.columns"
   ]
  },
  {
   "cell_type": "markdown",
   "metadata": {},
   "source": [
    "## 訓練資料 and 測試資料"
   ]
  },
  {
   "cell_type": "code",
   "execution_count": 11,
   "metadata": {},
   "outputs": [
    {
     "data": {
      "text/plain": [
       "(4029, 32)"
      ]
     },
     "execution_count": 11,
     "metadata": {},
     "output_type": "execute_result"
    }
   ],
   "source": [
    "X.shape"
   ]
  },
  {
   "cell_type": "code",
   "execution_count": 12,
   "metadata": {},
   "outputs": [
    {
     "data": {
      "text/plain": [
       "(4029,)"
      ]
     },
     "execution_count": 12,
     "metadata": {},
     "output_type": "execute_result"
    }
   ],
   "source": [
    "y.shape"
   ]
  },
  {
   "cell_type": "code",
   "execution_count": 13,
   "metadata": {
    "collapsed": true
   },
   "outputs": [],
   "source": [
    "X_train, X_test, y_train, y_test = train_test_split(X, y, test_size = 0.2, random_state = 0)"
   ]
  },
  {
   "cell_type": "code",
   "execution_count": 14,
   "metadata": {},
   "outputs": [
    {
     "data": {
      "text/plain": [
       "(3223, 32)"
      ]
     },
     "execution_count": 14,
     "metadata": {},
     "output_type": "execute_result"
    }
   ],
   "source": [
    "X_train.shape"
   ]
  },
  {
   "cell_type": "code",
   "execution_count": 15,
   "metadata": {},
   "outputs": [
    {
     "data": {
      "text/plain": [
       "(3223,)"
      ]
     },
     "execution_count": 15,
     "metadata": {},
     "output_type": "execute_result"
    }
   ],
   "source": [
    "y_train.shape"
   ]
  },
  {
   "cell_type": "markdown",
   "metadata": {},
   "source": [
    "## 尺度標準化"
   ]
  },
  {
   "cell_type": "code",
   "execution_count": 16,
   "metadata": {},
   "outputs": [
    {
     "data": {
      "text/plain": [
       "array([[ 1.57520645, -0.78105927,  1.27146583, ...,  0.96733435,\n",
       "         0.98003178,  0.96853691],\n",
       "       [ 1.21801473,  0.25451848, -0.2530957 , ...,  0.96733435,\n",
       "         0.98003178,  0.96853691],\n",
       "       [ 0.60929179,  0.19057718,  0.1807903 , ...,  0.96733435,\n",
       "        -1.02037508, -1.03248518],\n",
       "       ..., \n",
       "       [ 1.01242681,  1.26238433,  0.95004353, ...,  0.96733435,\n",
       "        -1.02037508, -1.03248518],\n",
       "       [ 0.31974615, -0.75995433,  0.19578981, ..., -1.03376873,\n",
       "        -1.02037508,  0.96853691],\n",
       "       [-0.21136057,  0.31275104,  0.5432438 , ..., -1.03376873,\n",
       "        -1.02037508, -1.03248518]])"
      ]
     },
     "execution_count": 16,
     "metadata": {},
     "output_type": "execute_result"
    }
   ],
   "source": [
    "sc = StandardScaler()\n",
    "X_train = sc.fit_transform(X_train)\n",
    "X_train"
   ]
  },
  {
   "cell_type": "code",
   "execution_count": 17,
   "metadata": {},
   "outputs": [
    {
     "data": {
      "text/plain": [
       "array([[ -8.65026326e-01,  -8.76814376e-02,  -1.07893863e+00, ...,\n",
       "         -9.92583334e-01,  -1.04831214e+00,  -1.00747208e+00],\n",
       "       [  6.18383501e-01,  -8.97247678e-01,   1.44981631e+00, ...,\n",
       "          1.00747208e+00,   9.53914360e-01,   9.92583334e-01],\n",
       "       [ -1.03168524e+00,   3.61346946e+00,  -1.12630162e+00, ...,\n",
       "          1.00747208e+00,   9.53914360e-01,  -1.00747208e+00],\n",
       "       ..., \n",
       "       [ -1.84219020e+00,  -5.75819668e-01,   1.66959316e-01, ...,\n",
       "         -9.92583334e-01,  -1.04831214e+00,  -1.00747208e+00],\n",
       "       [ -3.13001239e-01,   1.44573262e+00,  -2.15849832e+00, ...,\n",
       "         -9.92583334e-01,  -1.04831214e+00,  -1.00747208e+00],\n",
       "       [ -1.53748302e-02,  -3.03903324e-01,   2.50027577e-03, ...,\n",
       "          1.00747208e+00,   9.53914360e-01,   9.92583334e-01]])"
      ]
     },
     "execution_count": 17,
     "metadata": {},
     "output_type": "execute_result"
    }
   ],
   "source": [
    "X_test = sc.fit_transform(X_test)\n",
    "X_test"
   ]
  },
  {
   "cell_type": "markdown",
   "metadata": {},
   "source": [
    "## 訓練ANN"
   ]
  },
  {
   "cell_type": "code",
   "execution_count": 18,
   "metadata": {},
   "outputs": [
    {
     "data": {
      "text/plain": [
       "(3223, 32)"
      ]
     },
     "execution_count": 18,
     "metadata": {},
     "output_type": "execute_result"
    }
   ],
   "source": [
    "X_train.shape"
   ]
  },
  {
   "cell_type": "code",
   "execution_count": 19,
   "metadata": {
    "collapsed": true
   },
   "outputs": [],
   "source": [
    "model = Sequential()\n",
    "\n",
    "model.add(Dense(units = 28, kernel_initializer = 'uniform', activation = 'relu', input_dim = 32))\n",
    "model.add(Dense(units = 24, kernel_initializer = 'uniform', activation = 'relu', input_dim = 28))\n",
    "model.add(Dense(units = 20, kernel_initializer = 'uniform', activation = 'relu', input_dim = 24))\n",
    "model.add(Dense(units = 16, kernel_initializer = 'uniform', activation = 'relu', input_dim = 20))\n",
    "model.add(Dense(units = 12, kernel_initializer = 'uniform', activation = 'relu', input_dim = 16))\n",
    "model.add(Dense(units = 8, kernel_initializer = 'uniform', activation = 'relu', input_dim = 12))\n",
    "model.add(Dense(units = 4, kernel_initializer = 'uniform', activation = 'relu', input_dim = 8))\n",
    "model.add(Dense(units = 1, kernel_initializer = 'uniform', activation = 'sigmoid'))"
   ]
  },
  {
   "cell_type": "code",
   "execution_count": 20,
   "metadata": {},
   "outputs": [
    {
     "name": "stdout",
     "output_type": "stream",
     "text": [
      "_________________________________________________________________\n",
      "Layer (type)                 Output Shape              Param #   \n",
      "=================================================================\n",
      "dense_1 (Dense)              (None, 28)                924       \n",
      "_________________________________________________________________\n",
      "dense_2 (Dense)              (None, 24)                696       \n",
      "_________________________________________________________________\n",
      "dense_3 (Dense)              (None, 20)                500       \n",
      "_________________________________________________________________\n",
      "dense_4 (Dense)              (None, 16)                336       \n",
      "_________________________________________________________________\n",
      "dense_5 (Dense)              (None, 12)                204       \n",
      "_________________________________________________________________\n",
      "dense_6 (Dense)              (None, 8)                 104       \n",
      "_________________________________________________________________\n",
      "dense_7 (Dense)              (None, 4)                 36        \n",
      "_________________________________________________________________\n",
      "dense_8 (Dense)              (None, 1)                 5         \n",
      "=================================================================\n",
      "Total params: 2,805\n",
      "Trainable params: 2,805\n",
      "Non-trainable params: 0\n",
      "_________________________________________________________________\n"
     ]
    }
   ],
   "source": [
    "model.summary()"
   ]
  },
  {
   "cell_type": "code",
   "execution_count": 21,
   "metadata": {},
   "outputs": [
    {
     "name": "stdout",
     "output_type": "stream",
     "text": [
      "Train on 2578 samples, validate on 645 samples\n",
      "Epoch 1/250\n",
      "2578/2578 [==============================] - 1s - loss: 0.6921 - acc: 0.5372 - val_loss: 0.6894 - val_acc: 0.5736\n",
      "Epoch 2/250\n",
      "2578/2578 [==============================] - 0s - loss: 0.6907 - acc: 0.5427 - val_loss: 0.6873 - val_acc: 0.5736\n",
      "Epoch 3/250\n",
      "2578/2578 [==============================] - 0s - loss: 0.6900 - acc: 0.5427 - val_loss: 0.6861 - val_acc: 0.5736\n",
      "Epoch 4/250\n",
      "2578/2578 [==============================] - 0s - loss: 0.6897 - acc: 0.5427 - val_loss: 0.6853 - val_acc: 0.5736\n",
      "Epoch 5/250\n",
      "2578/2578 [==============================] - 0s - loss: 0.6896 - acc: 0.5427 - val_loss: 0.6849 - val_acc: 0.5736\n",
      "Epoch 6/250\n",
      "2578/2578 [==============================] - 0s - loss: 0.6896 - acc: 0.5427 - val_loss: 0.6847 - val_acc: 0.5736\n",
      "Epoch 7/250\n",
      "2578/2578 [==============================] - 0s - loss: 0.6896 - acc: 0.5427 - val_loss: 0.6846 - val_acc: 0.5736\n",
      "Epoch 8/250\n",
      "2578/2578 [==============================] - 0s - loss: 0.6896 - acc: 0.5427 - val_loss: 0.6845 - val_acc: 0.5736\n",
      "Epoch 9/250\n",
      "2578/2578 [==============================] - 0s - loss: 0.6896 - acc: 0.5427 - val_loss: 0.6843 - val_acc: 0.5736\n",
      "Epoch 10/250\n",
      "2578/2578 [==============================] - 0s - loss: 0.6896 - acc: 0.5427 - val_loss: 0.6843 - val_acc: 0.5736\n",
      "Epoch 11/250\n",
      "2578/2578 [==============================] - 0s - loss: 0.6896 - acc: 0.5427 - val_loss: 0.6843 - val_acc: 0.5736\n",
      "Epoch 12/250\n",
      "2578/2578 [==============================] - 0s - loss: 0.6895 - acc: 0.5427 - val_loss: 0.6843 - val_acc: 0.5736\n",
      "Epoch 13/250\n",
      "2578/2578 [==============================] - 0s - loss: 0.6896 - acc: 0.5427 - val_loss: 0.6842 - val_acc: 0.5736\n",
      "Epoch 14/250\n",
      "2578/2578 [==============================] - 0s - loss: 0.6896 - acc: 0.5427 - val_loss: 0.6843 - val_acc: 0.5736\n",
      "Epoch 15/250\n",
      "2578/2578 [==============================] - 0s - loss: 0.6896 - acc: 0.5427 - val_loss: 0.6842 - val_acc: 0.5736\n",
      "Epoch 16/250\n",
      "2578/2578 [==============================] - 0s - loss: 0.6896 - acc: 0.5427 - val_loss: 0.6843 - val_acc: 0.5736\n",
      "Epoch 17/250\n",
      "2578/2578 [==============================] - 0s - loss: 0.6896 - acc: 0.5427 - val_loss: 0.6842 - val_acc: 0.5736\n",
      "Epoch 18/250\n",
      "2578/2578 [==============================] - 0s - loss: 0.6896 - acc: 0.5427 - val_loss: 0.6843 - val_acc: 0.5736\n",
      "Epoch 19/250\n",
      "2578/2578 [==============================] - 0s - loss: 0.6896 - acc: 0.5427 - val_loss: 0.6843 - val_acc: 0.5736\n",
      "Epoch 20/250\n",
      "2578/2578 [==============================] - 0s - loss: 0.6896 - acc: 0.5427 - val_loss: 0.6843 - val_acc: 0.5736\n",
      "Epoch 21/250\n",
      "2578/2578 [==============================] - 1s - loss: 0.6896 - acc: 0.5427 - val_loss: 0.6842 - val_acc: 0.5736\n",
      "Epoch 22/250\n",
      "2578/2578 [==============================] - 0s - loss: 0.6896 - acc: 0.5427 - val_loss: 0.6842 - val_acc: 0.5736\n",
      "Epoch 23/250\n",
      "2578/2578 [==============================] - 0s - loss: 0.6896 - acc: 0.5427 - val_loss: 0.6841 - val_acc: 0.5736\n",
      "Epoch 24/250\n",
      "2578/2578 [==============================] - 0s - loss: 0.6896 - acc: 0.5427 - val_loss: 0.6841 - val_acc: 0.5736\n",
      "Epoch 25/250\n",
      "2578/2578 [==============================] - 0s - loss: 0.6896 - acc: 0.5427 - val_loss: 0.6842 - val_acc: 0.5736\n",
      "Epoch 26/250\n",
      "2578/2578 [==============================] - 0s - loss: 0.6896 - acc: 0.5427 - val_loss: 0.6842 - val_acc: 0.5736\n",
      "Epoch 27/250\n",
      "2578/2578 [==============================] - 0s - loss: 0.6896 - acc: 0.5427 - val_loss: 0.6842 - val_acc: 0.5736\n",
      "Epoch 28/250\n",
      "2578/2578 [==============================] - 0s - loss: 0.6896 - acc: 0.5427 - val_loss: 0.6841 - val_acc: 0.5736\n",
      "Epoch 29/250\n",
      "2578/2578 [==============================] - 0s - loss: 0.6896 - acc: 0.5427 - val_loss: 0.6842 - val_acc: 0.5736\n",
      "Epoch 30/250\n",
      "2578/2578 [==============================] - 0s - loss: 0.6896 - acc: 0.5427 - val_loss: 0.6842 - val_acc: 0.5736\n",
      "Epoch 31/250\n",
      "2578/2578 [==============================] - 0s - loss: 0.6896 - acc: 0.5427 - val_loss: 0.6841 - val_acc: 0.5736\n",
      "Epoch 32/250\n",
      "2578/2578 [==============================] - 0s - loss: 0.6896 - acc: 0.5427 - val_loss: 0.6842 - val_acc: 0.5736\n",
      "Epoch 33/250\n",
      "2578/2578 [==============================] - 0s - loss: 0.6896 - acc: 0.5427 - val_loss: 0.6843 - val_acc: 0.5736\n",
      "Epoch 34/250\n",
      "2578/2578 [==============================] - 0s - loss: 0.6896 - acc: 0.5427 - val_loss: 0.6843 - val_acc: 0.5736\n",
      "Epoch 35/250\n",
      "2578/2578 [==============================] - 0s - loss: 0.6896 - acc: 0.5427 - val_loss: 0.6843 - val_acc: 0.5736\n",
      "Epoch 36/250\n",
      "2578/2578 [==============================] - 0s - loss: 0.6896 - acc: 0.5427 - val_loss: 0.6842 - val_acc: 0.5736\n",
      "Epoch 37/250\n",
      "2578/2578 [==============================] - 0s - loss: 0.6896 - acc: 0.5427 - val_loss: 0.6843 - val_acc: 0.5736\n",
      "Epoch 38/250\n",
      "2578/2578 [==============================] - 0s - loss: 0.6896 - acc: 0.5427 - val_loss: 0.6841 - val_acc: 0.5736\n",
      "Epoch 39/250\n",
      "2578/2578 [==============================] - 0s - loss: 0.6896 - acc: 0.5427 - val_loss: 0.6844 - val_acc: 0.5736\n",
      "Epoch 40/250\n",
      "2578/2578 [==============================] - 0s - loss: 0.6895 - acc: 0.5427 - val_loss: 0.6843 - val_acc: 0.5736\n",
      "Epoch 41/250\n",
      "2578/2578 [==============================] - 0s - loss: 0.6896 - acc: 0.5427 - val_loss: 0.6841 - val_acc: 0.5736\n",
      "Epoch 42/250\n",
      "2578/2578 [==============================] - 0s - loss: 0.6896 - acc: 0.5427 - val_loss: 0.6841 - val_acc: 0.5736\n",
      "Epoch 43/250\n",
      "2578/2578 [==============================] - 0s - loss: 0.6896 - acc: 0.5427 - val_loss: 0.6842 - val_acc: 0.5736\n",
      "Epoch 44/250\n",
      "2578/2578 [==============================] - 0s - loss: 0.6895 - acc: 0.5427 - val_loss: 0.6841 - val_acc: 0.5736\n",
      "Epoch 45/250\n",
      "2578/2578 [==============================] - 0s - loss: 0.6896 - acc: 0.5427 - val_loss: 0.6841 - val_acc: 0.5736\n",
      "Epoch 46/250\n",
      "2578/2578 [==============================] - 0s - loss: 0.6896 - acc: 0.5427 - val_loss: 0.6841 - val_acc: 0.5736\n",
      "Epoch 47/250\n",
      "2578/2578 [==============================] - 0s - loss: 0.6895 - acc: 0.5427 - val_loss: 0.6842 - val_acc: 0.5736\n",
      "Epoch 48/250\n",
      "2578/2578 [==============================] - 0s - loss: 0.6895 - acc: 0.5427 - val_loss: 0.6842 - val_acc: 0.5736\n",
      "Epoch 49/250\n",
      "2578/2578 [==============================] - 0s - loss: 0.6896 - acc: 0.5427 - val_loss: 0.6841 - val_acc: 0.5736\n",
      "Epoch 50/250\n",
      "2578/2578 [==============================] - 0s - loss: 0.6896 - acc: 0.5427 - val_loss: 0.6842 - val_acc: 0.5736\n",
      "Epoch 51/250\n",
      "2578/2578 [==============================] - 0s - loss: 0.6896 - acc: 0.5427 - val_loss: 0.6843 - val_acc: 0.5736\n",
      "Epoch 52/250\n",
      "2578/2578 [==============================] - 0s - loss: 0.6895 - acc: 0.5427 - val_loss: 0.6842 - val_acc: 0.5736\n",
      "Epoch 53/250\n",
      "2578/2578 [==============================] - 0s - loss: 0.6896 - acc: 0.5427 - val_loss: 0.6842 - val_acc: 0.5736\n",
      "Epoch 54/250\n",
      "2578/2578 [==============================] - 0s - loss: 0.6896 - acc: 0.5427 - val_loss: 0.6842 - val_acc: 0.5736\n",
      "Epoch 55/250\n",
      "2578/2578 [==============================] - 0s - loss: 0.6896 - acc: 0.5427 - val_loss: 0.6843 - val_acc: 0.5736\n",
      "Epoch 56/250\n",
      "2578/2578 [==============================] - 0s - loss: 0.6896 - acc: 0.5427 - val_loss: 0.6841 - val_acc: 0.5736\n",
      "Epoch 57/250\n",
      "2578/2578 [==============================] - 0s - loss: 0.6896 - acc: 0.5427 - val_loss: 0.6842 - val_acc: 0.5736\n",
      "Epoch 58/250\n",
      "2578/2578 [==============================] - 0s - loss: 0.6896 - acc: 0.5427 - val_loss: 0.6843 - val_acc: 0.5736\n",
      "Epoch 59/250\n",
      "2578/2578 [==============================] - 0s - loss: 0.6896 - acc: 0.5427 - val_loss: 0.6843 - val_acc: 0.5736\n",
      "Epoch 60/250\n",
      "2578/2578 [==============================] - 0s - loss: 0.6896 - acc: 0.5427 - val_loss: 0.6842 - val_acc: 0.5736\n",
      "Epoch 61/250\n",
      "2578/2578 [==============================] - 0s - loss: 0.6896 - acc: 0.5427 - val_loss: 0.6842 - val_acc: 0.5736\n",
      "Epoch 62/250\n",
      "2578/2578 [==============================] - 0s - loss: 0.6896 - acc: 0.5427 - val_loss: 0.6841 - val_acc: 0.5736\n",
      "Epoch 63/250\n",
      "2578/2578 [==============================] - 0s - loss: 0.6896 - acc: 0.5427 - val_loss: 0.6842 - val_acc: 0.5736\n",
      "Epoch 64/250\n",
      "2578/2578 [==============================] - 0s - loss: 0.6896 - acc: 0.5427 - val_loss: 0.6842 - val_acc: 0.5736\n",
      "Epoch 65/250\n"
     ]
    },
    {
     "name": "stdout",
     "output_type": "stream",
     "text": [
      "2578/2578 [==============================] - 0s - loss: 0.6896 - acc: 0.5427 - val_loss: 0.6842 - val_acc: 0.5736\n",
      "Epoch 66/250\n",
      "2578/2578 [==============================] - 0s - loss: 0.6896 - acc: 0.5427 - val_loss: 0.6842 - val_acc: 0.5736\n",
      "Epoch 67/250\n",
      "2578/2578 [==============================] - 1s - loss: 0.6896 - acc: 0.5427 - val_loss: 0.6841 - val_acc: 0.5736\n",
      "Epoch 68/250\n",
      "2578/2578 [==============================] - 0s - loss: 0.6896 - acc: 0.5427 - val_loss: 0.6841 - val_acc: 0.5736\n",
      "Epoch 69/250\n",
      "2578/2578 [==============================] - 0s - loss: 0.6896 - acc: 0.5427 - val_loss: 0.6841 - val_acc: 0.5736\n",
      "Epoch 70/250\n",
      "2578/2578 [==============================] - 0s - loss: 0.6896 - acc: 0.5427 - val_loss: 0.6841 - val_acc: 0.5736\n",
      "Epoch 71/250\n",
      "2578/2578 [==============================] - 0s - loss: 0.6896 - acc: 0.5427 - val_loss: 0.6841 - val_acc: 0.5736\n",
      "Epoch 72/250\n",
      "2578/2578 [==============================] - 0s - loss: 0.6896 - acc: 0.5427 - val_loss: 0.6841 - val_acc: 0.5736\n",
      "Epoch 73/250\n",
      "2578/2578 [==============================] - 0s - loss: 0.6896 - acc: 0.5427 - val_loss: 0.6841 - val_acc: 0.5736\n",
      "Epoch 74/250\n",
      "2578/2578 [==============================] - 0s - loss: 0.6896 - acc: 0.5427 - val_loss: 0.6842 - val_acc: 0.5736\n",
      "Epoch 75/250\n",
      "2578/2578 [==============================] - 0s - loss: 0.6896 - acc: 0.5427 - val_loss: 0.6841 - val_acc: 0.5736\n",
      "Epoch 76/250\n",
      "2578/2578 [==============================] - 0s - loss: 0.6896 - acc: 0.5427 - val_loss: 0.6841 - val_acc: 0.5736\n",
      "Epoch 77/250\n",
      "2578/2578 [==============================] - 0s - loss: 0.6896 - acc: 0.5427 - val_loss: 0.6842 - val_acc: 0.5736\n",
      "Epoch 78/250\n",
      "2578/2578 [==============================] - 1s - loss: 0.6896 - acc: 0.5427 - val_loss: 0.6843 - val_acc: 0.5736\n",
      "Epoch 79/250\n",
      "2578/2578 [==============================] - 1s - loss: 0.6896 - acc: 0.5427 - val_loss: 0.6842 - val_acc: 0.5736\n",
      "Epoch 80/250\n",
      "2578/2578 [==============================] - 0s - loss: 0.6896 - acc: 0.5427 - val_loss: 0.6843 - val_acc: 0.5736\n",
      "Epoch 81/250\n",
      "2578/2578 [==============================] - 0s - loss: 0.6896 - acc: 0.5427 - val_loss: 0.6842 - val_acc: 0.5736\n",
      "Epoch 82/250\n",
      "2578/2578 [==============================] - 0s - loss: 0.6896 - acc: 0.5427 - val_loss: 0.6841 - val_acc: 0.5736\n",
      "Epoch 83/250\n",
      "2578/2578 [==============================] - 0s - loss: 0.6896 - acc: 0.5427 - val_loss: 0.6841 - val_acc: 0.5736\n",
      "Epoch 84/250\n",
      "2578/2578 [==============================] - 0s - loss: 0.6895 - acc: 0.5427 - val_loss: 0.6842 - val_acc: 0.5736\n",
      "Epoch 85/250\n",
      "2578/2578 [==============================] - 0s - loss: 0.6896 - acc: 0.5427 - val_loss: 0.6842 - val_acc: 0.5736\n",
      "Epoch 86/250\n",
      "2578/2578 [==============================] - 0s - loss: 0.6896 - acc: 0.5427 - val_loss: 0.6840 - val_acc: 0.5736\n",
      "Epoch 87/250\n",
      "2578/2578 [==============================] - 0s - loss: 0.6896 - acc: 0.5427 - val_loss: 0.6842 - val_acc: 0.5736\n",
      "Epoch 88/250\n",
      "2578/2578 [==============================] - 0s - loss: 0.6896 - acc: 0.5427 - val_loss: 0.6841 - val_acc: 0.5736\n",
      "Epoch 89/250\n",
      "2578/2578 [==============================] - 0s - loss: 0.6896 - acc: 0.5427 - val_loss: 0.6842 - val_acc: 0.5736\n",
      "Epoch 90/250\n",
      "2578/2578 [==============================] - 0s - loss: 0.6895 - acc: 0.5427 - val_loss: 0.6842 - val_acc: 0.5736\n",
      "Epoch 91/250\n",
      "2578/2578 [==============================] - 0s - loss: 0.6896 - acc: 0.5427 - val_loss: 0.6843 - val_acc: 0.5736\n",
      "Epoch 92/250\n",
      "2578/2578 [==============================] - 0s - loss: 0.6896 - acc: 0.5427 - val_loss: 0.6842 - val_acc: 0.5736\n",
      "Epoch 93/250\n",
      "2578/2578 [==============================] - 0s - loss: 0.6896 - acc: 0.5427 - val_loss: 0.6842 - val_acc: 0.5736\n",
      "Epoch 94/250\n",
      "2578/2578 [==============================] - 0s - loss: 0.6896 - acc: 0.5427 - val_loss: 0.6842 - val_acc: 0.5736\n",
      "Epoch 95/250\n",
      "2578/2578 [==============================] - 0s - loss: 0.6896 - acc: 0.5427 - val_loss: 0.6843 - val_acc: 0.5736\n",
      "Epoch 96/250\n",
      "2578/2578 [==============================] - 0s - loss: 0.6896 - acc: 0.5427 - val_loss: 0.6842 - val_acc: 0.5736\n",
      "Epoch 97/250\n",
      "2578/2578 [==============================] - 0s - loss: 0.6896 - acc: 0.5427 - val_loss: 0.6843 - val_acc: 0.5736\n",
      "Epoch 98/250\n",
      "2578/2578 [==============================] - 0s - loss: 0.6896 - acc: 0.5427 - val_loss: 0.6841 - val_acc: 0.5736\n",
      "Epoch 99/250\n",
      "2578/2578 [==============================] - 0s - loss: 0.6896 - acc: 0.5427 - val_loss: 0.6843 - val_acc: 0.5736\n",
      "Epoch 100/250\n",
      "2578/2578 [==============================] - 0s - loss: 0.6895 - acc: 0.5427 - val_loss: 0.6842 - val_acc: 0.5736\n",
      "Epoch 101/250\n",
      "2578/2578 [==============================] - 0s - loss: 0.6896 - acc: 0.5427 - val_loss: 0.6843 - val_acc: 0.5736\n",
      "Epoch 102/250\n",
      "2578/2578 [==============================] - 0s - loss: 0.6895 - acc: 0.5427 - val_loss: 0.6842 - val_acc: 0.5736\n",
      "Epoch 103/250\n",
      "2578/2578 [==============================] - 0s - loss: 0.6896 - acc: 0.5427 - val_loss: 0.6842 - val_acc: 0.5736\n",
      "Epoch 104/250\n",
      "2578/2578 [==============================] - 0s - loss: 0.6896 - acc: 0.5427 - val_loss: 0.6842 - val_acc: 0.5736\n",
      "Epoch 105/250\n",
      "2578/2578 [==============================] - 0s - loss: 0.6896 - acc: 0.5427 - val_loss: 0.6841 - val_acc: 0.5736\n",
      "Epoch 106/250\n",
      "2578/2578 [==============================] - 0s - loss: 0.6896 - acc: 0.5427 - val_loss: 0.6842 - val_acc: 0.5736\n",
      "Epoch 107/250\n",
      "2578/2578 [==============================] - 0s - loss: 0.6895 - acc: 0.5427 - val_loss: 0.6841 - val_acc: 0.5736\n",
      "Epoch 108/250\n",
      "2578/2578 [==============================] - 0s - loss: 0.6896 - acc: 0.5427 - val_loss: 0.6842 - val_acc: 0.5736\n",
      "Epoch 109/250\n",
      "2578/2578 [==============================] - 0s - loss: 0.6896 - acc: 0.5427 - val_loss: 0.6842 - val_acc: 0.5736\n",
      "Epoch 110/250\n",
      "2578/2578 [==============================] - 0s - loss: 0.6896 - acc: 0.5427 - val_loss: 0.6842 - val_acc: 0.5736\n",
      "Epoch 111/250\n",
      "2578/2578 [==============================] - 0s - loss: 0.6896 - acc: 0.5427 - val_loss: 0.6841 - val_acc: 0.5736\n",
      "Epoch 112/250\n",
      "2578/2578 [==============================] - 0s - loss: 0.6896 - acc: 0.5427 - val_loss: 0.6842 - val_acc: 0.5736\n",
      "Epoch 113/250\n",
      "2578/2578 [==============================] - 0s - loss: 0.6896 - acc: 0.5427 - val_loss: 0.6842 - val_acc: 0.5736\n",
      "Epoch 114/250\n",
      "2578/2578 [==============================] - 0s - loss: 0.6896 - acc: 0.5427 - val_loss: 0.6842 - val_acc: 0.5736\n",
      "Epoch 115/250\n",
      "2578/2578 [==============================] - 0s - loss: 0.6896 - acc: 0.5427 - val_loss: 0.6842 - val_acc: 0.5736\n",
      "Epoch 116/250\n",
      "2578/2578 [==============================] - 0s - loss: 0.6896 - acc: 0.5427 - val_loss: 0.6843 - val_acc: 0.5736\n",
      "Epoch 117/250\n",
      "2578/2578 [==============================] - 0s - loss: 0.6896 - acc: 0.5427 - val_loss: 0.6842 - val_acc: 0.5736\n",
      "Epoch 118/250\n",
      "2578/2578 [==============================] - 0s - loss: 0.6896 - acc: 0.5427 - val_loss: 0.6841 - val_acc: 0.5736\n",
      "Epoch 119/250\n",
      "2578/2578 [==============================] - 0s - loss: 0.6896 - acc: 0.5427 - val_loss: 0.6842 - val_acc: 0.5736\n",
      "Epoch 120/250\n",
      "2578/2578 [==============================] - 0s - loss: 0.6896 - acc: 0.5427 - val_loss: 0.6841 - val_acc: 0.5736\n",
      "Epoch 121/250\n",
      "2578/2578 [==============================] - 0s - loss: 0.6896 - acc: 0.5427 - val_loss: 0.6841 - val_acc: 0.5736\n",
      "Epoch 122/250\n",
      "2578/2578 [==============================] - 0s - loss: 0.6896 - acc: 0.5427 - val_loss: 0.6842 - val_acc: 0.5736\n",
      "Epoch 123/250\n",
      "2578/2578 [==============================] - 0s - loss: 0.6896 - acc: 0.5427 - val_loss: 0.6843 - val_acc: 0.5736\n",
      "Epoch 124/250\n",
      "2578/2578 [==============================] - 0s - loss: 0.6896 - acc: 0.5427 - val_loss: 0.6842 - val_acc: 0.5736\n",
      "Epoch 125/250\n",
      "2578/2578 [==============================] - 0s - loss: 0.6896 - acc: 0.5427 - val_loss: 0.6842 - val_acc: 0.5736\n",
      "Epoch 126/250\n",
      "2578/2578 [==============================] - 0s - loss: 0.6896 - acc: 0.5427 - val_loss: 0.6843 - val_acc: 0.5736\n",
      "Epoch 127/250\n",
      "2578/2578 [==============================] - 0s - loss: 0.6896 - acc: 0.5427 - val_loss: 0.6842 - val_acc: 0.5736\n",
      "Epoch 128/250\n",
      "2578/2578 [==============================] - 0s - loss: 0.6896 - acc: 0.5427 - val_loss: 0.6842 - val_acc: 0.5736\n",
      "Epoch 129/250\n"
     ]
    },
    {
     "name": "stdout",
     "output_type": "stream",
     "text": [
      "2578/2578 [==============================] - 0s - loss: 0.6896 - acc: 0.5427 - val_loss: 0.6841 - val_acc: 0.5736\n",
      "Epoch 130/250\n",
      "2578/2578 [==============================] - 0s - loss: 0.6896 - acc: 0.5427 - val_loss: 0.6842 - val_acc: 0.5736\n",
      "Epoch 131/250\n",
      "2578/2578 [==============================] - 0s - loss: 0.6896 - acc: 0.5427 - val_loss: 0.6845 - val_acc: 0.5736\n",
      "Epoch 132/250\n",
      "2578/2578 [==============================] - 0s - loss: 0.6896 - acc: 0.5427 - val_loss: 0.6843 - val_acc: 0.5736\n",
      "Epoch 133/250\n",
      "2578/2578 [==============================] - 0s - loss: 0.6896 - acc: 0.5427 - val_loss: 0.6842 - val_acc: 0.5736\n",
      "Epoch 134/250\n",
      "2578/2578 [==============================] - 0s - loss: 0.6896 - acc: 0.5427 - val_loss: 0.6843 - val_acc: 0.5736\n",
      "Epoch 135/250\n",
      "2578/2578 [==============================] - 0s - loss: 0.6896 - acc: 0.5427 - val_loss: 0.6843 - val_acc: 0.5736\n",
      "Epoch 136/250\n",
      "2578/2578 [==============================] - 0s - loss: 0.6896 - acc: 0.5427 - val_loss: 0.6842 - val_acc: 0.5736\n",
      "Epoch 137/250\n",
      "2578/2578 [==============================] - 0s - loss: 0.6896 - acc: 0.5427 - val_loss: 0.6843 - val_acc: 0.5736\n",
      "Epoch 138/250\n",
      "2578/2578 [==============================] - 0s - loss: 0.6895 - acc: 0.5427 - val_loss: 0.6843 - val_acc: 0.5736\n",
      "Epoch 139/250\n",
      "2578/2578 [==============================] - 0s - loss: 0.6896 - acc: 0.5427 - val_loss: 0.6844 - val_acc: 0.5736\n",
      "Epoch 140/250\n",
      "2578/2578 [==============================] - 0s - loss: 0.6896 - acc: 0.5427 - val_loss: 0.6843 - val_acc: 0.5736\n",
      "Epoch 141/250\n",
      "2578/2578 [==============================] - 0s - loss: 0.6896 - acc: 0.5427 - val_loss: 0.6843 - val_acc: 0.5736\n",
      "Epoch 142/250\n",
      "2578/2578 [==============================] - 0s - loss: 0.6895 - acc: 0.5427 - val_loss: 0.6842 - val_acc: 0.5736\n",
      "Epoch 143/250\n",
      "2578/2578 [==============================] - 0s - loss: 0.6896 - acc: 0.5427 - val_loss: 0.6842 - val_acc: 0.5736\n",
      "Epoch 144/250\n",
      "2578/2578 [==============================] - 0s - loss: 0.6896 - acc: 0.5427 - val_loss: 0.6842 - val_acc: 0.5736\n",
      "Epoch 145/250\n",
      "2578/2578 [==============================] - 0s - loss: 0.6896 - acc: 0.5427 - val_loss: 0.6842 - val_acc: 0.5736\n",
      "Epoch 146/250\n",
      "2578/2578 [==============================] - 0s - loss: 0.6896 - acc: 0.5427 - val_loss: 0.6841 - val_acc: 0.5736\n",
      "Epoch 147/250\n",
      "2578/2578 [==============================] - 0s - loss: 0.6896 - acc: 0.5427 - val_loss: 0.6842 - val_acc: 0.5736\n",
      "Epoch 148/250\n",
      "2578/2578 [==============================] - 0s - loss: 0.6896 - acc: 0.5427 - val_loss: 0.6841 - val_acc: 0.5736\n",
      "Epoch 149/250\n",
      "2578/2578 [==============================] - 0s - loss: 0.6896 - acc: 0.5427 - val_loss: 0.6841 - val_acc: 0.5736\n",
      "Epoch 150/250\n",
      "2578/2578 [==============================] - 0s - loss: 0.6896 - acc: 0.5427 - val_loss: 0.6842 - val_acc: 0.5736\n",
      "Epoch 151/250\n",
      "2578/2578 [==============================] - 0s - loss: 0.6896 - acc: 0.5427 - val_loss: 0.6843 - val_acc: 0.5736\n",
      "Epoch 152/250\n",
      "2578/2578 [==============================] - 0s - loss: 0.6896 - acc: 0.5427 - val_loss: 0.6842 - val_acc: 0.5736\n",
      "Epoch 153/250\n",
      "2578/2578 [==============================] - 0s - loss: 0.6896 - acc: 0.5427 - val_loss: 0.6844 - val_acc: 0.5736\n",
      "Epoch 154/250\n",
      "2578/2578 [==============================] - 0s - loss: 0.6896 - acc: 0.5427 - val_loss: 0.6842 - val_acc: 0.5736\n",
      "Epoch 155/250\n",
      "2578/2578 [==============================] - 0s - loss: 0.6896 - acc: 0.5427 - val_loss: 0.6841 - val_acc: 0.5736\n",
      "Epoch 156/250\n",
      "2578/2578 [==============================] - 0s - loss: 0.6896 - acc: 0.5427 - val_loss: 0.6842 - val_acc: 0.5736\n",
      "Epoch 157/250\n",
      "2578/2578 [==============================] - 0s - loss: 0.6895 - acc: 0.5427 - val_loss: 0.6841 - val_acc: 0.5736\n",
      "Epoch 158/250\n",
      "2578/2578 [==============================] - 0s - loss: 0.6896 - acc: 0.5427 - val_loss: 0.6842 - val_acc: 0.5736\n",
      "Epoch 159/250\n",
      "2578/2578 [==============================] - 0s - loss: 0.6896 - acc: 0.5427 - val_loss: 0.6841 - val_acc: 0.5736\n",
      "Epoch 160/250\n",
      "2578/2578 [==============================] - 0s - loss: 0.6896 - acc: 0.5427 - val_loss: 0.6841 - val_acc: 0.5736\n",
      "Epoch 161/250\n",
      "2578/2578 [==============================] - 0s - loss: 0.6895 - acc: 0.5427 - val_loss: 0.6842 - val_acc: 0.5736\n",
      "Epoch 162/250\n",
      "2578/2578 [==============================] - 0s - loss: 0.6896 - acc: 0.5427 - val_loss: 0.6842 - val_acc: 0.5736\n",
      "Epoch 163/250\n",
      "2578/2578 [==============================] - 0s - loss: 0.6896 - acc: 0.5427 - val_loss: 0.6843 - val_acc: 0.5736\n",
      "Epoch 164/250\n",
      "2578/2578 [==============================] - 0s - loss: 0.6897 - acc: 0.5427 - val_loss: 0.6843 - val_acc: 0.5736\n",
      "Epoch 165/250\n",
      "2578/2578 [==============================] - 0s - loss: 0.6895 - acc: 0.5427 - val_loss: 0.6842 - val_acc: 0.5736\n",
      "Epoch 166/250\n",
      "2578/2578 [==============================] - 0s - loss: 0.6896 - acc: 0.5427 - val_loss: 0.6842 - val_acc: 0.5736\n",
      "Epoch 167/250\n",
      "2578/2578 [==============================] - 0s - loss: 0.6896 - acc: 0.5427 - val_loss: 0.6842 - val_acc: 0.5736\n",
      "Epoch 168/250\n",
      "2578/2578 [==============================] - 0s - loss: 0.6896 - acc: 0.5427 - val_loss: 0.6842 - val_acc: 0.5736\n",
      "Epoch 169/250\n",
      "2578/2578 [==============================] - 0s - loss: 0.6896 - acc: 0.5427 - val_loss: 0.6842 - val_acc: 0.5736\n",
      "Epoch 170/250\n",
      "2578/2578 [==============================] - 0s - loss: 0.6896 - acc: 0.5427 - val_loss: 0.6842 - val_acc: 0.5736\n",
      "Epoch 171/250\n",
      "2578/2578 [==============================] - 0s - loss: 0.6896 - acc: 0.5427 - val_loss: 0.6842 - val_acc: 0.5736\n",
      "Epoch 172/250\n",
      "2578/2578 [==============================] - 0s - loss: 0.6896 - acc: 0.5427 - val_loss: 0.6843 - val_acc: 0.5736\n",
      "Epoch 173/250\n",
      "2578/2578 [==============================] - 0s - loss: 0.6896 - acc: 0.5427 - val_loss: 0.6842 - val_acc: 0.5736\n",
      "Epoch 174/250\n",
      "2578/2578 [==============================] - 0s - loss: 0.6896 - acc: 0.5427 - val_loss: 0.6843 - val_acc: 0.5736\n",
      "Epoch 175/250\n",
      "2578/2578 [==============================] - 0s - loss: 0.6896 - acc: 0.5427 - val_loss: 0.6843 - val_acc: 0.5736\n",
      "Epoch 176/250\n",
      "2578/2578 [==============================] - 0s - loss: 0.6896 - acc: 0.5427 - val_loss: 0.6844 - val_acc: 0.5736\n",
      "Epoch 177/250\n",
      "2578/2578 [==============================] - 0s - loss: 0.6896 - acc: 0.5427 - val_loss: 0.6845 - val_acc: 0.5736\n",
      "Epoch 178/250\n",
      "2578/2578 [==============================] - 0s - loss: 0.6896 - acc: 0.5427 - val_loss: 0.6844 - val_acc: 0.5736\n",
      "Epoch 179/250\n",
      "2578/2578 [==============================] - 0s - loss: 0.6896 - acc: 0.5427 - val_loss: 0.6842 - val_acc: 0.5736\n",
      "Epoch 180/250\n",
      "2578/2578 [==============================] - 0s - loss: 0.6896 - acc: 0.5427 - val_loss: 0.6843 - val_acc: 0.5736\n",
      "Epoch 181/250\n",
      "2578/2578 [==============================] - 0s - loss: 0.6896 - acc: 0.5427 - val_loss: 0.6843 - val_acc: 0.5736\n",
      "Epoch 182/250\n",
      "2578/2578 [==============================] - 0s - loss: 0.6896 - acc: 0.5427 - val_loss: 0.6842 - val_acc: 0.5736\n",
      "Epoch 183/250\n",
      "2578/2578 [==============================] - 0s - loss: 0.6896 - acc: 0.5427 - val_loss: 0.6842 - val_acc: 0.5736\n",
      "Epoch 184/250\n",
      "2578/2578 [==============================] - 0s - loss: 0.6896 - acc: 0.5427 - val_loss: 0.6843 - val_acc: 0.5736\n",
      "Epoch 185/250\n",
      "2578/2578 [==============================] - 0s - loss: 0.6896 - acc: 0.5427 - val_loss: 0.6842 - val_acc: 0.5736\n",
      "Epoch 186/250\n",
      "2578/2578 [==============================] - 0s - loss: 0.6895 - acc: 0.5427 - val_loss: 0.6842 - val_acc: 0.5736\n",
      "Epoch 187/250\n",
      "2578/2578 [==============================] - 0s - loss: 0.6896 - acc: 0.5427 - val_loss: 0.6843 - val_acc: 0.5736\n",
      "Epoch 188/250\n",
      "2578/2578 [==============================] - 0s - loss: 0.6896 - acc: 0.5427 - val_loss: 0.6843 - val_acc: 0.5736\n",
      "Epoch 189/250\n",
      "2578/2578 [==============================] - 0s - loss: 0.6895 - acc: 0.5427 - val_loss: 0.6843 - val_acc: 0.5736\n",
      "Epoch 190/250\n",
      "2578/2578 [==============================] - 0s - loss: 0.6896 - acc: 0.5427 - val_loss: 0.6842 - val_acc: 0.5736\n",
      "Epoch 191/250\n",
      "2578/2578 [==============================] - 0s - loss: 0.6895 - acc: 0.5427 - val_loss: 0.6843 - val_acc: 0.5736\n",
      "Epoch 192/250\n",
      "2578/2578 [==============================] - 0s - loss: 0.6896 - acc: 0.5427 - val_loss: 0.6844 - val_acc: 0.5736\n",
      "Epoch 193/250\n"
     ]
    },
    {
     "name": "stdout",
     "output_type": "stream",
     "text": [
      "2578/2578 [==============================] - 0s - loss: 0.6896 - acc: 0.5427 - val_loss: 0.6841 - val_acc: 0.5736\n",
      "Epoch 194/250\n",
      "2578/2578 [==============================] - 0s - loss: 0.6896 - acc: 0.5427 - val_loss: 0.6842 - val_acc: 0.5736\n",
      "Epoch 195/250\n",
      "2578/2578 [==============================] - 0s - loss: 0.6896 - acc: 0.5427 - val_loss: 0.6842 - val_acc: 0.5736\n",
      "Epoch 196/250\n",
      "2578/2578 [==============================] - 0s - loss: 0.6896 - acc: 0.5427 - val_loss: 0.6842 - val_acc: 0.5736\n",
      "Epoch 197/250\n",
      "2578/2578 [==============================] - 0s - loss: 0.6896 - acc: 0.5427 - val_loss: 0.6842 - val_acc: 0.5736\n",
      "Epoch 198/250\n",
      "2578/2578 [==============================] - 0s - loss: 0.6896 - acc: 0.5427 - val_loss: 0.6841 - val_acc: 0.5736\n",
      "Epoch 199/250\n",
      "2578/2578 [==============================] - 0s - loss: 0.6896 - acc: 0.5427 - val_loss: 0.6841 - val_acc: 0.5736\n",
      "Epoch 200/250\n",
      "2578/2578 [==============================] - 0s - loss: 0.6896 - acc: 0.5427 - val_loss: 0.6842 - val_acc: 0.5736\n",
      "Epoch 201/250\n",
      "2578/2578 [==============================] - 0s - loss: 0.6896 - acc: 0.5427 - val_loss: 0.6842 - val_acc: 0.5736\n",
      "Epoch 202/250\n",
      "2578/2578 [==============================] - 0s - loss: 0.6896 - acc: 0.5427 - val_loss: 0.6842 - val_acc: 0.5736\n",
      "Epoch 203/250\n",
      "2578/2578 [==============================] - 0s - loss: 0.6896 - acc: 0.5427 - val_loss: 0.6841 - val_acc: 0.5736\n",
      "Epoch 204/250\n",
      "2578/2578 [==============================] - 0s - loss: 0.6896 - acc: 0.5427 - val_loss: 0.6842 - val_acc: 0.5736\n",
      "Epoch 205/250\n",
      "2578/2578 [==============================] - 0s - loss: 0.6896 - acc: 0.5427 - val_loss: 0.6842 - val_acc: 0.5736\n",
      "Epoch 206/250\n",
      "2578/2578 [==============================] - 0s - loss: 0.6896 - acc: 0.5427 - val_loss: 0.6842 - val_acc: 0.5736\n",
      "Epoch 207/250\n",
      "2578/2578 [==============================] - 0s - loss: 0.6896 - acc: 0.5427 - val_loss: 0.6841 - val_acc: 0.5736\n",
      "Epoch 208/250\n",
      "2578/2578 [==============================] - 0s - loss: 0.6896 - acc: 0.5427 - val_loss: 0.6842 - val_acc: 0.5736\n",
      "Epoch 209/250\n",
      "2578/2578 [==============================] - 0s - loss: 0.6896 - acc: 0.5427 - val_loss: 0.6842 - val_acc: 0.5736\n",
      "Epoch 210/250\n",
      "2578/2578 [==============================] - 0s - loss: 0.6895 - acc: 0.5427 - val_loss: 0.6842 - val_acc: 0.5736\n",
      "Epoch 211/250\n",
      "2578/2578 [==============================] - 0s - loss: 0.6896 - acc: 0.5427 - val_loss: 0.6841 - val_acc: 0.5736\n",
      "Epoch 212/250\n",
      "2578/2578 [==============================] - 0s - loss: 0.6896 - acc: 0.5427 - val_loss: 0.6842 - val_acc: 0.5736\n",
      "Epoch 213/250\n",
      "2578/2578 [==============================] - 0s - loss: 0.6896 - acc: 0.5427 - val_loss: 0.6842 - val_acc: 0.5736\n",
      "Epoch 214/250\n",
      "2578/2578 [==============================] - 0s - loss: 0.6896 - acc: 0.5427 - val_loss: 0.6842 - val_acc: 0.5736\n",
      "Epoch 215/250\n",
      "2578/2578 [==============================] - 0s - loss: 0.6896 - acc: 0.5427 - val_loss: 0.6842 - val_acc: 0.5736\n",
      "Epoch 216/250\n",
      "2578/2578 [==============================] - 0s - loss: 0.6896 - acc: 0.5427 - val_loss: 0.6842 - val_acc: 0.5736\n",
      "Epoch 217/250\n",
      "2578/2578 [==============================] - 0s - loss: 0.6896 - acc: 0.5427 - val_loss: 0.6842 - val_acc: 0.5736\n",
      "Epoch 218/250\n",
      "2578/2578 [==============================] - 0s - loss: 0.6896 - acc: 0.5427 - val_loss: 0.6842 - val_acc: 0.5736\n",
      "Epoch 219/250\n",
      "2578/2578 [==============================] - 0s - loss: 0.6896 - acc: 0.5427 - val_loss: 0.6843 - val_acc: 0.5736\n",
      "Epoch 220/250\n",
      "2578/2578 [==============================] - 0s - loss: 0.6895 - acc: 0.5427 - val_loss: 0.6841 - val_acc: 0.5736\n",
      "Epoch 221/250\n",
      "2578/2578 [==============================] - 0s - loss: 0.6896 - acc: 0.5427 - val_loss: 0.6842 - val_acc: 0.5736\n",
      "Epoch 222/250\n",
      "2578/2578 [==============================] - 0s - loss: 0.6896 - acc: 0.5427 - val_loss: 0.6841 - val_acc: 0.5736\n",
      "Epoch 223/250\n",
      "2578/2578 [==============================] - 0s - loss: 0.6895 - acc: 0.5427 - val_loss: 0.6842 - val_acc: 0.5736\n",
      "Epoch 224/250\n",
      "2578/2578 [==============================] - 0s - loss: 0.6896 - acc: 0.5427 - val_loss: 0.6842 - val_acc: 0.5736\n",
      "Epoch 225/250\n",
      "2578/2578 [==============================] - 0s - loss: 0.6896 - acc: 0.5427 - val_loss: 0.6843 - val_acc: 0.5736\n",
      "Epoch 226/250\n",
      "2578/2578 [==============================] - 0s - loss: 0.6896 - acc: 0.5427 - val_loss: 0.6842 - val_acc: 0.5736\n",
      "Epoch 227/250\n",
      "2578/2578 [==============================] - 0s - loss: 0.6895 - acc: 0.5427 - val_loss: 0.6842 - val_acc: 0.5736\n",
      "Epoch 228/250\n",
      "2578/2578 [==============================] - 0s - loss: 0.6896 - acc: 0.5427 - val_loss: 0.6841 - val_acc: 0.5736\n",
      "Epoch 229/250\n",
      "2578/2578 [==============================] - 0s - loss: 0.6896 - acc: 0.5427 - val_loss: 0.6843 - val_acc: 0.5736\n",
      "Epoch 230/250\n",
      "2578/2578 [==============================] - 0s - loss: 0.6896 - acc: 0.5427 - val_loss: 0.6842 - val_acc: 0.5736\n",
      "Epoch 231/250\n",
      "2578/2578 [==============================] - 0s - loss: 0.6896 - acc: 0.5427 - val_loss: 0.6843 - val_acc: 0.5736\n",
      "Epoch 232/250\n",
      "2578/2578 [==============================] - 0s - loss: 0.6896 - acc: 0.5427 - val_loss: 0.6843 - val_acc: 0.5736\n",
      "Epoch 233/250\n",
      "2578/2578 [==============================] - 0s - loss: 0.6896 - acc: 0.5427 - val_loss: 0.6843 - val_acc: 0.5736\n",
      "Epoch 234/250\n",
      "2578/2578 [==============================] - 0s - loss: 0.6896 - acc: 0.5427 - val_loss: 0.6842 - val_acc: 0.5736\n",
      "Epoch 235/250\n",
      "2578/2578 [==============================] - 0s - loss: 0.6896 - acc: 0.5427 - val_loss: 0.6841 - val_acc: 0.5736\n",
      "Epoch 236/250\n",
      "2578/2578 [==============================] - 0s - loss: 0.6895 - acc: 0.5427 - val_loss: 0.6842 - val_acc: 0.5736\n",
      "Epoch 237/250\n",
      "2578/2578 [==============================] - 0s - loss: 0.6896 - acc: 0.5427 - val_loss: 0.6842 - val_acc: 0.5736\n",
      "Epoch 238/250\n",
      "2578/2578 [==============================] - 0s - loss: 0.6896 - acc: 0.5427 - val_loss: 0.6843 - val_acc: 0.5736\n",
      "Epoch 239/250\n",
      "2578/2578 [==============================] - 0s - loss: 0.6896 - acc: 0.5427 - val_loss: 0.6842 - val_acc: 0.5736\n",
      "Epoch 240/250\n",
      "2578/2578 [==============================] - 0s - loss: 0.6895 - acc: 0.5427 - val_loss: 0.6842 - val_acc: 0.5736\n",
      "Epoch 241/250\n",
      "2578/2578 [==============================] - 0s - loss: 0.6896 - acc: 0.5427 - val_loss: 0.6842 - val_acc: 0.5736\n",
      "Epoch 242/250\n",
      "2578/2578 [==============================] - 0s - loss: 0.6895 - acc: 0.5427 - val_loss: 0.6841 - val_acc: 0.5736\n",
      "Epoch 243/250\n",
      "2578/2578 [==============================] - 0s - loss: 0.6896 - acc: 0.5427 - val_loss: 0.6842 - val_acc: 0.5736\n",
      "Epoch 244/250\n",
      "2578/2578 [==============================] - 0s - loss: 0.6896 - acc: 0.5427 - val_loss: 0.6842 - val_acc: 0.5736\n",
      "Epoch 245/250\n",
      "2578/2578 [==============================] - 0s - loss: 0.6896 - acc: 0.5427 - val_loss: 0.6842 - val_acc: 0.5736\n",
      "Epoch 246/250\n",
      "2578/2578 [==============================] - 0s - loss: 0.6896 - acc: 0.5427 - val_loss: 0.6843 - val_acc: 0.5736\n",
      "Epoch 247/250\n",
      "2578/2578 [==============================] - 0s - loss: 0.6895 - acc: 0.5427 - val_loss: 0.6841 - val_acc: 0.5736\n",
      "Epoch 248/250\n",
      "2578/2578 [==============================] - 0s - loss: 0.6895 - acc: 0.5427 - val_loss: 0.6842 - val_acc: 0.5736\n",
      "Epoch 249/250\n",
      "2578/2578 [==============================] - 0s - loss: 0.6896 - acc: 0.5427 - val_loss: 0.6843 - val_acc: 0.5736\n",
      "Epoch 250/250\n",
      "2578/2578 [==============================] - 0s - loss: 0.6895 - acc: 0.5427 - val_loss: 0.6842 - val_acc: 0.5736\n"
     ]
    }
   ],
   "source": [
    "model.compile(optimizer = 'adam', loss = 'binary_crossentropy', metrics = ['accuracy'])\n",
    "train_history = model.fit(X_train, y_train, batch_size = 10, epochs = 250, validation_split=0.2)"
   ]
  },
  {
   "cell_type": "markdown",
   "metadata": {},
   "source": [
    "## 顯示訓練過程"
   ]
  },
  {
   "cell_type": "code",
   "execution_count": 22,
   "metadata": {
    "collapsed": true
   },
   "outputs": [],
   "source": [
    "def show_train_history(train_history, train, validation):\n",
    "    plt.plot(train_history.history[train])\n",
    "    plt.plot(train_history.history[validation])\n",
    "    plt.title('Train History')\n",
    "    plt.ylabel(train)\n",
    "    plt.xlabel('Epoch')\n",
    "    plt.legend(['train','validation'], loc='upper left')\n",
    "    plt.show()"
   ]
  },
  {
   "cell_type": "code",
   "execution_count": 23,
   "metadata": {},
   "outputs": [
    {
     "data": {
      "image/png": "[encoded data removed]",
      "text/plain": [
       "<matplotlib.figure.Figure at 0x125856748>"
      ]
     },
     "metadata": {},
     "output_type": "display_data"
    }
   ],
   "source": [
    "show_train_history(train_history,'acc','val_acc')"
   ]
  },
  {
   "cell_type": "code",
   "execution_count": 24,
   "metadata": {},
   "outputs": [
    {
     "data": {
      "image/png": "[encoded data removed]",
      "text/plain": [
       "<matplotlib.figure.Figure at 0x125856390>"
      ]
     },
     "metadata": {},
     "output_type": "display_data"
    }
   ],
   "source": [
    "show_train_history(train_history,'loss','val_loss')"
   ]
  },
  {
   "cell_type": "markdown",
   "metadata": {},
   "source": [
    "## 評估模型準確率"
   ]
  },
  {
   "cell_type": "code",
   "execution_count": 25,
   "metadata": {},
   "outputs": [
    {
     "name": "stdout",
     "output_type": "stream",
     "text": [
      "\r",
      " 32/806 [>.............................] - ETA: 0s"
     ]
    }
   ],
   "source": [
    "socres = model.evaluate(X_test, y_test)"
   ]
  },
  {
   "cell_type": "code",
   "execution_count": 26,
   "metadata": {},
   "outputs": [
    {
     "name": "stdout",
     "output_type": "stream",
     "text": [
      "accuracy= 0.502481389578\n"
     ]
    }
   ],
   "source": [
    "print('accuracy=',socres[1])"
   ]
  },
  {
   "cell_type": "markdown",
   "metadata": {},
   "source": [
    "## 預測"
   ]
  },
  {
   "cell_type": "code",
   "execution_count": 27,
   "metadata": {},
   "outputs": [
    {
     "name": "stdout",
     "output_type": "stream",
     "text": [
      "\r",
      " 32/806 [>.............................] - ETA: 0s"
     ]
    }
   ],
   "source": [
    "prediction = model.predict_classes(X_test)"
   ]
  },
  {
   "cell_type": "code",
   "execution_count": 28,
   "metadata": {},
   "outputs": [
    {
     "data": {
      "text/plain": [
       "(806, 1)"
      ]
     },
     "execution_count": 28,
     "metadata": {},
     "output_type": "execute_result"
    }
   ],
   "source": [
    "prediction.shape"
   ]
  },
  {
   "cell_type": "code",
   "execution_count": 29,
   "metadata": {},
   "outputs": [
    {
     "data": {
      "text/plain": [
       "array([[405,   0],\n",
       "       [401,   0]])"
      ]
     },
     "execution_count": 29,
     "metadata": {},
     "output_type": "execute_result"
    }
   ],
   "source": [
    "confusion_matrix(y_test, prediction)"
   ]
  },
  {
   "cell_type": "markdown",
   "metadata": {},
   "source": [
    "## 繪製ANN 的 ROC Curve"
   ]
  },
  {
   "cell_type": "code",
   "execution_count": 30,
   "metadata": {
    "collapsed": true
   },
   "outputs": [],
   "source": [
    "y_pred = model.predict(X_test)\n",
    "predicted = (y_pred > 0.5).flatten().astype(int)"
   ]
  },
  {
   "cell_type": "code",
   "execution_count": 31,
   "metadata": {},
   "outputs": [
    {
     "data": {
      "text/plain": [
       "array([0, 0, 0, 0, 0, 0, 0, 0, 0, 0, 0, 0, 0, 0, 0, 0, 0, 0, 0, 0, 0, 0, 0,\n",
       "       0, 0, 0, 0, 0, 0, 0, 0, 0, 0, 0, 0, 0, 0, 0, 0, 0, 0, 0, 0, 0, 0, 0,\n",
       "       0, 0, 0, 0, 0, 0, 0, 0, 0, 0, 0, 0, 0, 0, 0, 0, 0, 0, 0, 0, 0, 0, 0,\n",
       "       0, 0, 0, 0, 0, 0, 0, 0, 0, 0, 0, 0, 0, 0, 0, 0, 0, 0, 0, 0, 0, 0, 0,\n",
       "       0, 0, 0, 0, 0, 0, 0, 0, 0, 0, 0, 0, 0, 0, 0, 0, 0, 0, 0, 0, 0, 0, 0,\n",
       "       0, 0, 0, 0, 0, 0, 0, 0, 0, 0, 0, 0, 0, 0, 0, 0, 0, 0, 0, 0, 0, 0, 0,\n",
       "       0, 0, 0, 0, 0, 0, 0, 0, 0, 0, 0, 0, 0, 0, 0, 0, 0, 0, 0, 0, 0, 0, 0,\n",
       "       0, 0, 0, 0, 0, 0, 0, 0, 0, 0, 0, 0, 0, 0, 0, 0, 0, 0, 0, 0, 0, 0, 0,\n",
       "       0, 0, 0, 0, 0, 0, 0, 0, 0, 0, 0, 0, 0, 0, 0, 0, 0, 0, 0, 0, 0, 0, 0,\n",
       "       0, 0, 0, 0, 0, 0, 0, 0, 0, 0, 0, 0, 0, 0, 0, 0, 0, 0, 0, 0, 0, 0, 0,\n",
       "       0, 0, 0, 0, 0, 0, 0, 0, 0, 0, 0, 0, 0, 0, 0, 0, 0, 0, 0, 0, 0, 0, 0,\n",
       "       0, 0, 0, 0, 0, 0, 0, 0, 0, 0, 0, 0, 0, 0, 0, 0, 0, 0, 0, 0, 0, 0, 0,\n",
       "       0, 0, 0, 0, 0, 0, 0, 0, 0, 0, 0, 0, 0, 0, 0, 0, 0, 0, 0, 0, 0, 0, 0,\n",
       "       0, 0, 0, 0, 0, 0, 0, 0, 0, 0, 0, 0, 0, 0, 0, 0, 0, 0, 0, 0, 0, 0, 0,\n",
       "       0, 0, 0, 0, 0, 0, 0, 0, 0, 0, 0, 0, 0, 0, 0, 0, 0, 0, 0, 0, 0, 0, 0,\n",
       "       0, 0, 0, 0, 0, 0, 0, 0, 0, 0, 0, 0, 0, 0, 0, 0, 0, 0, 0, 0, 0, 0, 0,\n",
       "       0, 0, 0, 0, 0, 0, 0, 0, 0, 0, 0, 0, 0, 0, 0, 0, 0, 0, 0, 0, 0, 0, 0,\n",
       "       0, 0, 0, 0, 0, 0, 0, 0, 0, 0, 0, 0, 0, 0, 0, 0, 0, 0, 0, 0, 0, 0, 0,\n",
       "       0, 0, 0, 0, 0, 0, 0, 0, 0, 0, 0, 0, 0, 0, 0, 0, 0, 0, 0, 0, 0, 0, 0,\n",
       "       0, 0, 0, 0, 0, 0, 0, 0, 0, 0, 0, 0, 0, 0, 0, 0, 0, 0, 0, 0, 0, 0, 0,\n",
       "       0, 0, 0, 0, 0, 0, 0, 0, 0, 0, 0, 0, 0, 0, 0, 0, 0, 0, 0, 0, 0, 0, 0,\n",
       "       0, 0, 0, 0, 0, 0, 0, 0, 0, 0, 0, 0, 0, 0, 0, 0, 0, 0, 0, 0, 0, 0, 0,\n",
       "       0, 0, 0, 0, 0, 0, 0, 0, 0, 0, 0, 0, 0, 0, 0, 0, 0, 0, 0, 0, 0, 0, 0,\n",
       "       0, 0, 0, 0, 0, 0, 0, 0, 0, 0, 0, 0, 0, 0, 0, 0, 0, 0, 0, 0, 0, 0, 0,\n",
       "       0, 0, 0, 0, 0, 0, 0, 0, 0, 0, 0, 0, 0, 0, 0, 0, 0, 0, 0, 0, 0, 0, 0,\n",
       "       0, 0, 0, 0, 0, 0, 0, 0, 0, 0, 0, 0, 0, 0, 0, 0, 0, 0, 0, 0, 0, 0, 0,\n",
       "       0, 0, 0, 0, 0, 0, 0, 0, 0, 0, 0, 0, 0, 0, 0, 0, 0, 0, 0, 0, 0, 0, 0,\n",
       "       0, 0, 0, 0, 0, 0, 0, 0, 0, 0, 0, 0, 0, 0, 0, 0, 0, 0, 0, 0, 0, 0, 0,\n",
       "       0, 0, 0, 0, 0, 0, 0, 0, 0, 0, 0, 0, 0, 0, 0, 0, 0, 0, 0, 0, 0, 0, 0,\n",
       "       0, 0, 0, 0, 0, 0, 0, 0, 0, 0, 0, 0, 0, 0, 0, 0, 0, 0, 0, 0, 0, 0, 0,\n",
       "       0, 0, 0, 0, 0, 0, 0, 0, 0, 0, 0, 0, 0, 0, 0, 0, 0, 0, 0, 0, 0, 0, 0,\n",
       "       0, 0, 0, 0, 0, 0, 0, 0, 0, 0, 0, 0, 0, 0, 0, 0, 0, 0, 0, 0, 0, 0, 0,\n",
       "       0, 0, 0, 0, 0, 0, 0, 0, 0, 0, 0, 0, 0, 0, 0, 0, 0, 0, 0, 0, 0, 0, 0,\n",
       "       0, 0, 0, 0, 0, 0, 0, 0, 0, 0, 0, 0, 0, 0, 0, 0, 0, 0, 0, 0, 0, 0, 0,\n",
       "       0, 0, 0, 0, 0, 0, 0, 0, 0, 0, 0, 0, 0, 0, 0, 0, 0, 0, 0, 0, 0, 0, 0,\n",
       "       0])"
      ]
     },
     "execution_count": 31,
     "metadata": {},
     "output_type": "execute_result"
    }
   ],
   "source": [
    "predicted"
   ]
  },
  {
   "cell_type": "code",
   "execution_count": 32,
   "metadata": {
    "collapsed": true
   },
   "outputs": [],
   "source": [
    "fpr_ary, tpr_ary, thresholds = roc_curve(y_test, y_pred)"
   ]
  },
  {
   "cell_type": "code",
   "execution_count": 33,
   "metadata": {},
   "outputs": [
    {
     "data": {
      "image/png": "[encoded data removed]",
      "text/plain": [
       "<matplotlib.figure.Figure at 0x1257f7c18>"
      ]
     },
     "metadata": {},
     "output_type": "display_data"
    }
   ],
   "source": [
    "plt.plot(fpr_ary, tpr_ary, label='ROC curve')\n",
    "plt.plot([0, 1], [0, 1], 'k--')\n",
    "plt.xlim([0.0, 1.0])\n",
    "plt.ylim([0.0, 1.0])\n",
    "plt.xlabel('False Positive Rate')\n",
    "plt.ylabel('True Positive Rate')\n",
    "plt.title('Receiver operating characteristic example')\n",
    "plt.legend(loc=\"lower right\")\n",
    "plt.show()"
   ]
  },
  {
   "cell_type": "markdown",
   "metadata": {},
   "source": [
    "## 比較不同分類器準確度"
   ]
  },
  {
   "cell_type": "code",
   "execution_count": 34,
   "metadata": {},
   "outputs": [
    {
     "data": {
      "text/plain": [
       "<keras.models.Sequential at 0x1258a9128>"
      ]
     },
     "execution_count": 34,
     "metadata": {},
     "output_type": "execute_result"
    }
   ],
   "source": [
    "# ANN\n",
    "model"
   ]
  },
  {
   "cell_type": "code",
   "execution_count": 35,
   "metadata": {},
   "outputs": [
    {
     "data": {
      "text/plain": [
       "RandomForestClassifier(bootstrap=True, class_weight=None, criterion='gini',\n",
       "            max_depth=None, max_features='auto', max_leaf_nodes=None,\n",
       "            min_impurity_decrease=0.0, min_impurity_split=None,\n",
       "            min_samples_leaf=1, min_samples_split=2,\n",
       "            min_weight_fraction_leaf=0.0, n_estimators=10, n_jobs=1,\n",
       "            oob_score=False, random_state=None, verbose=0,\n",
       "            warm_start=False)"
      ]
     },
     "execution_count": 35,
     "metadata": {},
     "output_type": "execute_result"
    }
   ],
   "source": [
    "clf1 = DecisionTreeClassifier()\n",
    "clf1.fit(X_train, y_train)\n",
    "\n",
    "clf2 = SVC(probability = True)\n",
    "clf2.fit(X_train, y_train)\n",
    "\n",
    "clf3 = LogisticRegression()\n",
    "clf3.fit(X_train, y_train)\n",
    "\n",
    "clf4 = RandomForestClassifier()\n",
    "clf4.fit(X_train, y_train)"
   ]
  },
  {
   "cell_type": "code",
   "execution_count": 36,
   "metadata": {},
   "outputs": [
    {
     "data": {
      "image/png": "[encoded data removed]",
      "text/plain": [
       "<matplotlib.figure.Figure at 0x125588240>"
      ]
     },
     "metadata": {},
     "output_type": "display_data"
    }
   ],
   "source": [
    "from sklearn.metrics import auc\n",
    "plt.figure(figsize= [20,10])\n",
    "for clf, title in zip([model,clf1,clf2,clf3, clf4], ['ANN','Decision Tree', 'SVM', 'LogisticRegression', 'RandomForest']):\n",
    "    if title != 'ANN':\n",
    "        probas_ = clf.fit(X_train, y_train).predict_proba(X_test)\n",
    "        fpr, tpr, thresholds = roc_curve(y_test, probas_[:, 1])\n",
    "    else:\n",
    "        y_pred = clf.predict(X_test)\n",
    "        fpr, tpr, thresholds = roc_curve(y_test, y_pred)\n",
    "    plt.plot(fpr, tpr, label='%s - AUC:%.2f'%(title, auc(fpr, tpr)) )\n",
    "    \n",
    "plt.plot([0, 1], [0, 1], 'k--')\n",
    "plt.xlim([0.0, 1.0])\n",
    "plt.ylim([0.0, 1.0])\n",
    "plt.xlabel('False Positive Rate', fontsize = 20)\n",
    "plt.ylabel('True Positive Rate', fontsize = 20)\n",
    "plt.title('Receiver operating characteristic example', fontsize = 20)\n",
    "plt.legend(loc=\"lower right\", fontsize = 20)\n",
    "plt.show()"
   ]
  },
  {
   "cell_type": "markdown",
   "metadata": {},
   "source": [
    "## End"
   ]
  }
 ],
 "metadata": {
  "kernelspec": {
   "display_name": "Python 3",
   "language": "python",
   "name": "python3"
  },
  "language_info": {
   "codemirror_mode": {
    "name": "ipython",
    "version": 3
   },
   "file_extension": ".py",
   "mimetype": "text/x-python",
   "name": "python",
   "nbconvert_exporter": "python",
   "pygments_lexer": "ipython3",
   "version": "3.6.1"
  }
 },
 "nbformat": 4,
 "nbformat_minor": 2
}
